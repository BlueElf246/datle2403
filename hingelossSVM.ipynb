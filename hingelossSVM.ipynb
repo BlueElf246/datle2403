{
  "nbformat": 4,
  "nbformat_minor": 0,
  "metadata": {
    "colab": {
      "provenance": [],
      "authorship_tag": "ABX9TyPSqRAWcbpaa54y8k2xxe20",
      "include_colab_link": true
    },
    "kernelspec": {
      "name": "python3",
      "display_name": "Python 3"
    },
    "language_info": {
      "name": "python"
    }
  },
  "cells": [
    {
      "cell_type": "markdown",
      "metadata": {
        "id": "view-in-github",
        "colab_type": "text"
      },
      "source": [
        "<a href=\"https://colab.research.google.com/github/datle2403/datle2403/blob/main/hingelossSVM.ipynb\" target=\"_parent\"><img src=\"https://colab.research.google.com/assets/colab-badge.svg\" alt=\"Open In Colab\"/></a>"
      ]
    },
    {
      "cell_type": "code",
      "execution_count": 1,
      "metadata": {
        "colab": {
          "base_uri": "https://localhost:8080/",
          "height": 271
        },
        "id": "fJ3PJO_jkz9D",
        "outputId": "48b57c80-8b61-41b0-a00a-e8ad556e0208"
      },
      "outputs": [
        {
          "output_type": "display_data",
          "data": {
            "text/plain": [
              "<Figure size 432x288 with 1 Axes>"
            ],
            "image/png": "[encoded data removed]"
          },
          "metadata": {}
        }
      ],
      "source": [
        "# list of points \n",
        "import numpy as np \n",
        "import matplotlib.pyplot as plt\n",
        "from scipy.spatial.distance import cdist\n",
        "from matplotlib.backends.backend_pdf import PdfPages\n",
        "np.random.seed(22)\n",
        "\n",
        "means = [[2, 2], [4, 2]]\n",
        "cov = [[.7, 0], [0, .7]]\n",
        "N = 20\n",
        "X0 = np.random.multivariate_normal(means[0], cov, N) # each row is a data point \n",
        "X1 = np.random.multivariate_normal(means[1], cov, N)\n",
        "\n",
        "with PdfPages('data.pdf') as pdf:\n",
        "    plt.plot(X0[:, 0], X0[:, 1], 'bs', markersize = 8, alpha = 1)\n",
        "    plt.plot(X1[:, 0], X1[:, 1], 'ro', markersize = 8, alpha = 1)\n",
        "    plt.axis('equal')\n",
        "    plt.ylim(0, 4)\n",
        "    plt.xlim(0, 5)\n",
        "\n",
        "    # hide tikcs \n",
        "    cur_axes = plt.gca()\n",
        "    cur_axes.axes.get_xaxis().set_ticks([])\n",
        "    cur_axes.axes.get_yaxis().set_ticks([])\n",
        "\n",
        "    plt.xlabel('$x_1$', fontsize = 20)\n",
        "    plt.ylabel('$x_2$', fontsize = 20)\n",
        "    pdf.savefig()\n",
        "    # plt.savefig('logistic_2d.png', bbox_inches='tight', dpi = 300)\n",
        "    plt.show()"
      ]
    },
    {
      "cell_type": "code",
      "source": [
        "X = np.vstack((X0, X1))\n",
        "y = np.vstack((np.ones((N,1 )), -np.ones((N,1 )))).reshape((2*N,))"
      ],
      "metadata": {
        "id": "OmoPTiNklDgZ"
      },
      "execution_count": 2,
      "outputs": []
    },
    {
      "cell_type": "code",
      "source": [
        "X0_bar = np.vstack((X0.T, np.ones((1, N)))) # extended data\n",
        "X1_bar = np.vstack((X1.T, np.ones((1, N)))) # extended data \n",
        "C=100\n",
        "Z = np.hstack((X0_bar, - X1_bar)) # as in (22)\n",
        "lam = 1./C\n",
        "\n",
        "def cost(w):\n",
        "    u = w.T.dot(Z) # as in (23)\n",
        "    return (np.sum(np.maximum(0, 1 - u)) + \\\n",
        "            .5*lam*np.sum(w*w)) - .5*lam*w[-1]*w[-1]\n",
        "\n",
        "def grad(w):\n",
        "    u = w.T.dot(Z) # as in (23)\n",
        "    H = np.where(u < 1)[1]\n",
        "    ZS = Z[:, H]\n",
        "    g = (-np.sum(ZS, axis = 1, keepdims = True) + lam*w)\n",
        "    g[-1] -= lam*w[-1]\n",
        "    return g\n",
        "\n",
        "eps = 1e-6\n",
        "def num_grad(w):\n",
        "    g = np.zeros_like(w)\n",
        "    for i in range(len(w)):\n",
        "        wp = w.copy()\n",
        "        wm = w.copy()\n",
        "        wp[i] += eps \n",
        "        wm[i] -= eps \n",
        "        g[i] = (cost(wp) - cost(wm))/(2*eps)\n",
        "    return g \n",
        "\n",
        "w0 = np.random.randn(X0_bar.shape[0], 1) \n",
        "g1 = grad(w0)\n",
        "g2 = num_grad(w0)\n",
        "diff = np.linalg.norm(g1 - g2)\n",
        "print('Gradient difference: %f' %diff)"
      ],
      "metadata": {
        "colab": {
          "base_uri": "https://localhost:8080/"
        },
        "id": "gsS0yeSYlFXZ",
        "outputId": "bfbe8fe0-d09d-4256-c10d-fd16b9b47866"
      },
      "execution_count": 32,
      "outputs": [
        {
          "output_type": "stream",
          "name": "stdout",
          "text": [
            "Gradient difference: 0.000000\n"
          ]
        }
      ]
    },
    {
      "cell_type": "code",
      "source": [
        "def grad_descent(w0, eta):\n",
        "    w = w0\n",
        "    it = 0 \n",
        "    while it < 100000:\n",
        "        it = it + 1\n",
        "        g = grad(w)\n",
        "        w -= eta*g\n",
        "        if (it % 10000) == 1:\n",
        "            print('iter %d' %it + ' cost: %f' %cost(w))\n",
        "        if np.linalg.norm(g) < 1e-5:\n",
        "            break \n",
        "    return w \n",
        "w0 = np.random.randn(X0_bar.shape[0], 1) \n",
        "w = grad_descent(w0, 0.001)\n",
        "w_hinge = w[:-1].reshape(-1, 1)\n",
        "b_hinge = w[-1]"
      ],
      "metadata": {
        "colab": {
          "base_uri": "https://localhost:8080/"
        },
        "id": "Nugt1VM4leUQ",
        "outputId": "0af8f823-d9b8-4d85-b809-27975bda1e0d"
      },
      "execution_count": 33,
      "outputs": [
        {
          "output_type": "stream",
          "name": "stdout",
          "text": [
            "iter 1 cost: 43.230734\n",
            "iter 10001 cost: 15.754566\n",
            "iter 20001 cost: 15.736165\n",
            "iter 30001 cost: 15.718538\n",
            "iter 40001 cost: 15.710733\n",
            "iter 50001 cost: 15.694022\n",
            "iter 60001 cost: 15.672736\n",
            "iter 70001 cost: 15.663723\n",
            "iter 80001 cost: 15.673691\n",
            "iter 90001 cost: 15.676105\n"
          ]
        }
      ]
    },
    {
      "cell_type": "code",
      "source": [
        "w_hinge"
      ],
      "metadata": {
        "colab": {
          "base_uri": "https://localhost:8080/"
        },
        "id": "2F71uJporkRt",
        "outputId": "8db7322f-4dc6-497b-a5b9-1af007a072a0"
      },
      "execution_count": 34,
      "outputs": [
        {
          "output_type": "execute_result",
          "data": {
            "text/plain": [
              "array([[-1.86592227],\n",
              "       [-1.79583155]])"
            ]
          },
          "metadata": {},
          "execution_count": 34
        }
      ]
    },
    {
      "cell_type": "code",
      "source": [
        "def myplot(X0, X1, w, b, filename, tit):\n",
        "    with PdfPages(filename) as pdf:\n",
        "        fig, ax = plt.subplots()\n",
        "\n",
        "        w0 = w[0]\n",
        "        w1 = w[1]\n",
        "        x1 = np.arange(-10, 10, 0.1)\n",
        "        y1 = -w0/w1*x1 - b/w1\n",
        "        y2 = -w0/w1*x1 - (b-1)/w1\n",
        "        y3 = -w0/w1*x1 - (b+1)/w1\n",
        "        plt.plot(x1, y1, 'k', linewidth = 3)\n",
        "        plt.plot(x1, y2, 'k')\n",
        "        plt.plot(x1, y3, 'k')\n",
        "\n",
        "        # equal axis and lim\n",
        "        plt.axis('equal')\n",
        "        plt.ylim(0, 3)\n",
        "        plt.xlim(2, 4)\n",
        "\n",
        "        # hide tikcs \n",
        "        cur_axes = plt.gca()\n",
        "        cur_axes.axes.get_xaxis().set_ticks([])\n",
        "        cur_axes.axes.get_yaxis().set_ticks([])\n",
        "\n",
        "        # fill two regions\n",
        "        y4 = 10*x1\n",
        "        plt.plot(x1, y1, 'k')\n",
        "        plt.fill_between(x1, y1, color='blue', alpha=0.1)\n",
        "        plt.fill_between(x1, y1, y4, color = 'red', alpha = 0.1)\n",
        "\n",
        "        plt.xlabel('$x_1$', fontsize = 20)\n",
        "        plt.ylabel('$x_2$', fontsize = 20)\n",
        "        plt.title('Solution found by ' + tit, fontsize = 20)\n",
        "\n",
        "        plt.plot(X0[:, 0], X0[:, 1], 'bs', markersize = 8, alpha = .8)\n",
        "        plt.plot(X1[:, 0], X1[:, 1], 'ro', markersize = 8, alpha = .8)\n",
        "        pdf.savefig()\n",
        "        plt.show()\n",
        "\n",
        "myplot(X0, X1, w_hinge, b_hinge, 'svm_hinge.pdf', 'hinge')"
      ],
      "metadata": {
        "colab": {
          "base_uri": "https://localhost:8080/",
          "height": 292
        },
        "id": "HQ3kK9cGrnmY",
        "outputId": "de11ee53-7229-4849-a480-6caf02cd650e"
      },
      "execution_count": 36,
      "outputs": [
        {
          "output_type": "display_data",
          "data": {
            "text/plain": [
              "<Figure size 432x288 with 1 Axes>"
            ],
            "image/png": "[encoded data removed]"
          },
          "metadata": {}
        }
      ]
    },
    {
      "cell_type": "code",
      "source": [],
      "metadata": {
        "id": "3k0FAN8Qr8eb"
      },
      "execution_count": null,
      "outputs": []
    }
  ]
}