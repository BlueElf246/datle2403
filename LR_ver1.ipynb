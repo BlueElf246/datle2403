{
  "nbformat": 4,
  "nbformat_minor": 0,
  "metadata": {
    "colab": {
      "provenance": [],
      "authorship_tag": "ABX9TyNraXXGr+4SMCFO85ZIzyEc",
      "include_colab_link": true
    },
    "kernelspec": {
      "name": "python3",
      "display_name": "Python 3"
    },
    "language_info": {
      "name": "python"
    }
  },
  "cells": [
    {
      "cell_type": "markdown",
      "metadata": {
        "id": "view-in-github",
        "colab_type": "text"
      },
      "source": [
        "<a href=\"https://colab.research.google.com/github/datle2403/datle2403/blob/main/LR_ver1.ipynb\" target=\"_parent\"><img src=\"https://colab.research.google.com/assets/colab-badge.svg\" alt=\"Open In Colab\"/></a>"
      ]
    },
    {
      "cell_type": "code",
      "execution_count": 8,
      "metadata": {
        "id": "43O5_6KyBEtj"
      },
      "outputs": [],
      "source": [
        "import pandas as pd\n",
        "import numpy as np\n",
        "from sklearn.model_selection import train_test_split\n",
        "import matplotlib.pyplot as plt\n",
        "read_file = pd.read_csv (r'kc_house_price.txt')\n",
        "read_file.to_csv (r'data.csv', index=None)\n",
        "df=pd.read_csv (r'data.csv')\n",
        "df=df[['price','sqft_living','bedrooms']]"
      ]
    },
    {
      "cell_type": "code",
      "source": [
        "df.info()"
      ],
      "metadata": {
        "colab": {
          "base_uri": "https://localhost:8080/"
        },
        "id": "17MdWkOXBs39",
        "outputId": "a9d5021e-2fea-48cf-9d4e-96046bf0bf0f"
      },
      "execution_count": 9,
      "outputs": [
        {
          "output_type": "stream",
          "name": "stdout",
          "text": [
            "<class 'pandas.core.frame.DataFrame'>\n",
            "RangeIndex: 21597 entries, 0 to 21596\n",
            "Data columns (total 3 columns):\n",
            " #   Column       Non-Null Count  Dtype  \n",
            "---  ------       --------------  -----  \n",
            " 0   price        21597 non-null  float64\n",
            " 1   sqft_living  21597 non-null  int64  \n",
            " 2   bedrooms     21597 non-null  int64  \n",
            "dtypes: float64(1), int64(2)\n",
            "memory usage: 506.3 KB\n"
          ]
        }
      ]
    },
    {
      "cell_type": "code",
      "source": [
        "df1=df"
      ],
      "metadata": {
        "id": "A6s_rZKIQke8"
      },
      "execution_count": 60,
      "outputs": []
    },
    {
      "cell_type": "code",
      "source": [
        "df['sqft_living'].value_counts()"
      ],
      "metadata": {
        "colab": {
          "base_uri": "https://localhost:8080/"
        },
        "id": "kKJ3I9d8BdJw",
        "outputId": "0f99e841-f169-4c4c-e55a-5a76c9345919"
      },
      "execution_count": 10,
      "outputs": [
        {
          "output_type": "execute_result",
          "data": {
            "text/plain": [
              "1300    138\n",
              "1400    135\n",
              "1440    133\n",
              "1800    129\n",
              "1660    129\n",
              "       ... \n",
              "2507      1\n",
              "9890      1\n",
              "5584      1\n",
              "1961      1\n",
              "1425      1\n",
              "Name: sqft_living, Length: 1034, dtype: int64"
            ]
          },
          "metadata": {},
          "execution_count": 10
        }
      ]
    },
    {
      "cell_type": "code",
      "source": [
        "\n",
        "X=df[['sqft_living','bedrooms']].to_numpy()\n",
        "y=df['price'].to_numpy()\n",
        "X_train, X_test, y_train, y_test = train_test_split(X, y, test_size=0.30, random_state=42)\n",
        "y.shape"
      ],
      "metadata": {
        "colab": {
          "base_uri": "https://localhost:8080/"
        },
        "id": "apOVZBqoBgyg",
        "outputId": "592e9047-8b79-49a3-9100-726bcdfd77bb"
      },
      "execution_count": 16,
      "outputs": [
        {
          "output_type": "execute_result",
          "data": {
            "text/plain": [
              "(21597,)"
            ]
          },
          "metadata": {},
          "execution_count": 16
        }
      ]
    },
    {
      "cell_type": "code",
      "source": [
        "# dim of data:\n",
        "print(X.shape)\n",
        "print(y.shape)"
      ],
      "metadata": {
        "colab": {
          "base_uri": "https://localhost:8080/"
        },
        "id": "a1qMBy1vCj-V",
        "outputId": "68c66b40-34c9-43c5-d248-f9dea1920b45"
      },
      "execution_count": 17,
      "outputs": [
        {
          "output_type": "stream",
          "name": "stdout",
          "text": [
            "(21597, 2)\n",
            "(21597,)\n"
          ]
        }
      ]
    },
    {
      "cell_type": "code",
      "source": [
        "# show some value\n",
        "X[:10,:]\n",
        "y[:10]"
      ],
      "metadata": {
        "colab": {
          "base_uri": "https://localhost:8080/"
        },
        "id": "KBgDQGyHDAZv",
        "outputId": "0f4e939c-4797-46da-e021-63e5b647530e"
      },
      "execution_count": 21,
      "outputs": [
        {
          "output_type": "execute_result",
          "data": {
            "text/plain": [
              "array([ 221900.,  538000.,  180000.,  604000.,  510000., 1230000.,\n",
              "        257500.,  291850.,  229500.,  323000.])"
            ]
          },
          "metadata": {},
          "execution_count": 21
        }
      ]
    },
    {
      "cell_type": "code",
      "source": [
        "#Do Statistical summary of all attributes"
      ],
      "metadata": {
        "colab": {
          "base_uri": "https://localhost:8080/"
        },
        "id": "taZ2T0EiDHke",
        "outputId": "79986a0c-7989-4fd7-e070-ad38cb863afc"
      },
      "execution_count": 22,
      "outputs": [
        {
          "output_type": "stream",
          "name": "stdout",
          "text": [
            "1041.8475251192294\n"
          ]
        }
      ]
    },
    {
      "cell_type": "code",
      "source": [
        "df['sqft_living'].describe()"
      ],
      "metadata": {
        "colab": {
          "base_uri": "https://localhost:8080/"
        },
        "id": "UeZFz2qQDkSY",
        "outputId": "dd5542e5-391b-4b4e-93fd-5179e42196ef"
      },
      "execution_count": 23,
      "outputs": [
        {
          "output_type": "execute_result",
          "data": {
            "text/plain": [
              "count    21597.000000\n",
              "mean      2080.321850\n",
              "std        918.106125\n",
              "min        370.000000\n",
              "25%       1430.000000\n",
              "50%       1910.000000\n",
              "75%       2550.000000\n",
              "max      13540.000000\n",
              "Name: sqft_living, dtype: float64"
            ]
          },
          "metadata": {},
          "execution_count": 23
        }
      ]
    },
    {
      "cell_type": "code",
      "source": [
        "df['bedrooms'].describe()"
      ],
      "metadata": {
        "colab": {
          "base_uri": "https://localhost:8080/"
        },
        "id": "bCkzIYveDrPc",
        "outputId": "cf78ac90-3cb3-4d01-fd53-cc3f8a342c25"
      },
      "execution_count": 25,
      "outputs": [
        {
          "output_type": "execute_result",
          "data": {
            "text/plain": [
              "count    21597.000000\n",
              "mean         3.373200\n",
              "std          0.926299\n",
              "min          1.000000\n",
              "25%          3.000000\n",
              "50%          3.000000\n",
              "75%          4.000000\n",
              "max         33.000000\n",
              "Name: bedrooms, dtype: float64"
            ]
          },
          "metadata": {},
          "execution_count": 25
        }
      ]
    },
    {
      "cell_type": "code",
      "source": [
        "import matplotlib.pyplot as plt"
      ],
      "metadata": {
        "id": "kVC16foHE_pk"
      },
      "execution_count": 26,
      "outputs": []
    },
    {
      "cell_type": "code",
      "source": [
        "plt.boxplot(df['sqft_living'])"
      ],
      "metadata": {
        "colab": {
          "base_uri": "https://localhost:8080/",
          "height": 405
        },
        "id": "dP1SmOTgF5Xm",
        "outputId": "363aba01-0e88-4bf9-c360-3eef74b4e27a"
      },
      "execution_count": 27,
      "outputs": [
        {
          "output_type": "execute_result",
          "data": {
            "text/plain": [
              "{'whiskers': [<matplotlib.lines.Line2D at 0x7fab4b422090>,\n",
              "  <matplotlib.lines.Line2D at 0x7fab4b72f510>],\n",
              " 'caps': [<matplotlib.lines.Line2D at 0x7fab4b72fa50>,\n",
              "  <matplotlib.lines.Line2D at 0x7fab4b72ff90>],\n",
              " 'boxes': [<matplotlib.lines.Line2D at 0x7fab4b422c50>],\n",
              " 'medians': [<matplotlib.lines.Line2D at 0x7fab4b735550>],\n",
              " 'fliers': [<matplotlib.lines.Line2D at 0x7fab4b40eb50>],\n",
              " 'means': []}"
            ]
          },
          "metadata": {},
          "execution_count": 27
        },
        {
          "output_type": "display_data",
          "data": {
            "text/plain": [
              "<Figure size 432x288 with 1 Axes>"
            ],
            "image/png": "[encoded data removed]"
          },
          "metadata": {
            "needs_background": "light"
          }
        }
      ]
    },
    {
      "cell_type": "code",
      "source": [
        "plt.boxplot(df['bedrooms'])"
      ],
      "metadata": {
        "colab": {
          "base_uri": "https://localhost:8080/",
          "height": 404
        },
        "id": "J_LyNVXrLvIs",
        "outputId": "3d218f0b-b81b-4858-e679-9732d6d8e804"
      },
      "execution_count": 32,
      "outputs": [
        {
          "output_type": "execute_result",
          "data": {
            "text/plain": [
              "{'whiskers': [<matplotlib.lines.Line2D at 0x7fab4b6283d0>,\n",
              "  <matplotlib.lines.Line2D at 0x7fab4b58d2d0>],\n",
              " 'caps': [<matplotlib.lines.Line2D at 0x7fab4b58d810>,\n",
              "  <matplotlib.lines.Line2D at 0x7fab4b58dd50>],\n",
              " 'boxes': [<matplotlib.lines.Line2D at 0x7fab4b6282d0>],\n",
              " 'medians': [<matplotlib.lines.Line2D at 0x7fab4b594310>],\n",
              " 'fliers': [<matplotlib.lines.Line2D at 0x7fab4b594850>],\n",
              " 'means': []}"
            ]
          },
          "metadata": {},
          "execution_count": 32
        },
        {
          "output_type": "display_data",
          "data": {
            "text/plain": [
              "<Figure size 432x288 with 1 Axes>"
            ],
            "image/png": "[encoded data removed]"
          },
          "metadata": {
            "needs_background": "light"
          }
        }
      ]
    },
    {
      "cell_type": "code",
      "source": [
        "q75=2550.0\n",
        "q25=1430.0\n",
        "intr_qr = q75-q25\n",
        "max = q75+(1.5*intr_qr)\n",
        "min = q25-(1.5*intr_qr)\n",
        "l2=np.where(df['sqft_living']>max)\n",
        "l1=np.where(df['sqft_living']<min)\n",
        "sqrt_living_union=np.union1d(l2,l1)\n"
      ],
      "metadata": {
        "colab": {
          "base_uri": "https://localhost:8080/"
        },
        "id": "RiBK2VyOF4cS",
        "outputId": "f46d3fb8-8a76-402d-a421-fd1d1b561cc7"
      },
      "execution_count": 49,
      "outputs": [
        {
          "output_type": "execute_result",
          "data": {
            "text/plain": [
              "array([    5,    70,   115,   153,   239,   269,   270,   300,   313,\n",
              "         314,   384,   419,   436,   484,   486,   512,   518,   527,\n",
              "         532,   540,   551,   556,   577,   679,   691,   722,   779,\n",
              "         799,   814,   942,  1030,  1054,  1060,  1099,  1121,  1132,\n",
              "        1162,  1169,  1197,  1259,  1270,  1292,  1313,  1359,  1394,\n",
              "        1446,  1537,  1584,  1620,  1674,  1728,  1730,  1752,  1768,\n",
              "        1805,  1846,  1919,  1929,  1942,  2038,  2083,  2086,  2123,\n",
              "        2198,  2234,  2252,  2265,  2296,  2319,  2353,  2364,  2381,\n",
              "        2387,  2397,  2409,  2442,  2459,  2576,  2618,  2624,  2666,\n",
              "        2711,  2770,  2844,  2856,  2862,  2882,  2897,  2972,  3018,\n",
              "        3098,  3118,  3201,  3228,  3234,  3268,  3335,  3381,  3382,\n",
              "        3510,  3515,  3704,  3717,  3731,  3744,  3809,  3867,  3910,\n",
              "        3917,  3950,  4019,  4020,  4028,  4031,  4145,  4186,  4395,\n",
              "        4402,  4407,  4424,  4464,  4470,  4482,  4577,  4604,  4619,\n",
              "        4622,  4692,  4807,  4855,  4962,  5024,  5044,  5054,  5058,\n",
              "        5112,  5128,  5302,  5444,  5446,  5603,  5662,  5697,  5713,\n",
              "        5746,  5750,  5826,  5844,  5874,  5930,  5961,  6035,  6039,\n",
              "        6084,  6189,  6227,  6229,  6281,  6329,  6383,  6384,  6386,\n",
              "        6495,  6502,  6577,  6607,  6622,  6664,  6708,  6849,  6900,\n",
              "        6906,  6924,  6946,  6978,  6995,  7001,  7028,  7113,  7120,\n",
              "        7184,  7193,  7245,  7262,  7263,  7265,  7273,  7334,  7339,\n",
              "        7397,  7408,  7419,  7451,  7489,  7538,  7571,  7645,  7674,\n",
              "        7838,  7839,  7861,  7900,  7926,  7982,  8085,  8145,  8167,\n",
              "        8184,  8188,  8220,  8337,  8355,  8436,  8478,  8619,  8629,\n",
              "        8683,  8755,  8853,  8901,  9043,  9067,  9108,  9124,  9240,\n",
              "        9244,  9245,  9265,  9313,  9324,  9366,  9393,  9405,  9450,\n",
              "        9503,  9510,  9534,  9544,  9594,  9705,  9728,  9798,  9826,\n",
              "        9830,  9903,  9943, 10074, 10257, 10272, 10307, 10362, 10374,\n",
              "       10435, 10454, 10514, 10604, 10770, 10803, 10805, 10901, 10939,\n",
              "       10951, 10968, 10969, 11033, 11093, 11147, 11213, 11214, 11241,\n",
              "       11245, 11272, 11386, 11505, 11523, 11560, 11608, 11661, 11673,\n",
              "       11717, 11736, 11741, 11749, 11775, 11817, 11825, 11859, 11871,\n",
              "       11915, 11933, 11940, 11963, 11979, 12005, 12271, 12303, 12307,\n",
              "       12353, 12358, 12417, 12497, 12565, 12574, 12597, 12669, 12700,\n",
              "       12764, 12859, 12871, 13097, 13103, 13107, 13176, 13183, 13254,\n",
              "       13258, 13301, 13387, 13390, 13398, 13420, 13515, 13529, 13649,\n",
              "       13684, 13687, 13697, 13757, 13765, 13894, 13943, 13954, 14017,\n",
              "       14019, 14039, 14070, 14093, 14219, 14262, 14284, 14294, 14295,\n",
              "       14406, 14499, 14542, 14628, 14667, 14671, 14686, 14706, 14760,\n",
              "       14802, 14807, 14845, 14939, 14971, 14981, 15008, 15035, 15056,\n",
              "       15094, 15190, 15208, 15232, 15241, 15249, 15333, 15468, 15498,\n",
              "       15546, 15553, 15578, 15585, 15654, 15672, 15678, 15680, 15684,\n",
              "       15708, 15719, 15814, 15834, 15876, 15898, 16086, 16096, 16179,\n",
              "       16204, 16244, 16285, 16288, 16329, 16344, 16375, 16416, 16434,\n",
              "       16510, 16511, 16566, 16600, 16706, 16715, 16727, 16759, 16790,\n",
              "       16803, 16811, 16830, 16848, 16863, 16874, 16905, 16914, 16955,\n",
              "       16987, 17177, 17221, 17274, 17298, 17387, 17445, 17494, 17544,\n",
              "       17586, 17633, 17742, 17824, 17885, 17946, 17981, 18087, 18132,\n",
              "       18169, 18186, 18192, 18212, 18252, 18273, 18288, 18290, 18314,\n",
              "       18352, 18394, 18399, 18412, 18440, 18445, 18462, 18467, 18540,\n",
              "       18579, 18592, 18753, 18767, 18778, 18860, 18867, 18960, 19002,\n",
              "       19076, 19133, 19141, 19200, 19211, 19216, 19245, 19247, 19319,\n",
              "       19431, 19445, 19513, 19515, 19538, 19546, 19548, 19610, 19654,\n",
              "       19693, 19735, 19748, 19761, 19798, 19807, 19809, 19832, 19840,\n",
              "       19842, 19860, 19863, 19870, 19912, 19971, 19989, 19994, 20003,\n",
              "       20053, 20076, 20120, 20136, 20138, 20208, 20217, 20231, 20251,\n",
              "       20279, 20280, 20306, 20309, 20310, 20326, 20365, 20409, 20418,\n",
              "       20425, 20436, 20442, 20444, 20455, 20472, 20519, 20547, 20562,\n",
              "       20591, 20607, 20648, 20722, 20744, 20746, 20749, 20751, 20814,\n",
              "       20822, 20825, 20856, 20876, 20904, 20907, 20957, 20966, 20980,\n",
              "       21008, 21017, 21024, 21034, 21125, 21132, 21192, 21242, 21294,\n",
              "       21305, 21317, 21328, 21352, 21356, 21359, 21451, 21469, 21470,\n",
              "       21489, 21490, 21504, 21505, 21509, 21514, 21516, 21524, 21535,\n",
              "       21545, 21560, 21574, 21584])"
            ]
          },
          "metadata": {},
          "execution_count": 49
        }
      ]
    },
    {
      "cell_type": "code",
      "source": [
        "q75_b=4\n",
        "q25_b=3\n",
        "intr_qr = q75_b-q25_b\n",
        "max_b = q75_b+(1.5*intr_qr)\n",
        "min_b = q25_b-(1.5*intr_qr)\n",
        "l2b=np.where(df['bedrooms']>max_b)\n",
        "l1b=np.where(df['bedrooms']<min_b)\n",
        "print(len(l2b[0]))\n",
        "print(len(l1b[0]))\n",
        "bedrooms_union=np.union1d(l2b,l1b)"
      ],
      "metadata": {
        "colab": {
          "base_uri": "https://localhost:8080/"
        },
        "id": "BvPrF1m0Ko6o",
        "outputId": "e444564a-70df-41cf-cadd-bc7ccd0fe198"
      },
      "execution_count": 48,
      "outputs": [
        {
          "output_type": "stream",
          "name": "stdout",
          "text": [
            "334\n",
            "196\n"
          ]
        },
        {
          "output_type": "execute_result",
          "data": {
            "text/plain": [
              "530"
            ]
          },
          "metadata": {},
          "execution_count": 48
        }
      ]
    },
    {
      "cell_type": "code",
      "source": [
        "total=np.union1d(bedrooms_union,sqrt_living_union)\n",
        "len(total)"
      ],
      "metadata": {
        "colab": {
          "base_uri": "https://localhost:8080/"
        },
        "id": "v9nveDluQ1Qd",
        "outputId": "f51c8801-1437-4d77-8ff1-f6fab928aa17"
      },
      "execution_count": 54,
      "outputs": [
        {
          "output_type": "execute_result",
          "data": {
            "text/plain": [
              "1041"
            ]
          },
          "metadata": {},
          "execution_count": 54
        }
      ]
    },
    {
      "cell_type": "code",
      "source": [
        "df1=df1.drop(total,axis=0)"
      ],
      "metadata": {
        "colab": {
          "base_uri": "https://localhost:8080/",
          "height": 329
        },
        "id": "43JztSkBOBLU",
        "outputId": "31ddb4b7-5aaa-4b9d-fd3a-9818873d232f"
      },
      "execution_count": 64,
      "outputs": [
        {
          "output_type": "error",
          "ename": "KeyError",
          "evalue": "ignored",
          "traceback": [
            "\u001b[0;31m---------------------------------------------------------------------------\u001b[0m",
            "\u001b[0;31mKeyError\u001b[0m                                  Traceback (most recent call last)",
            "\u001b[0;32m<ipython-input-64-d8bd955b42dd>\u001b[0m in \u001b[0;36m<module>\u001b[0;34m\u001b[0m\n\u001b[0;32m----> 1\u001b[0;31m \u001b[0mdf1\u001b[0m\u001b[0;34m=\u001b[0m\u001b[0mdf1\u001b[0m\u001b[0;34m.\u001b[0m\u001b[0mdrop\u001b[0m\u001b[0;34m(\u001b[0m\u001b[0mtotal\u001b[0m\u001b[0;34m,\u001b[0m\u001b[0maxis\u001b[0m\u001b[0;34m=\u001b[0m\u001b[0;36m0\u001b[0m\u001b[0;34m)\u001b[0m\u001b[0;34m\u001b[0m\u001b[0;34m\u001b[0m\u001b[0m\n\u001b[0m\u001b[1;32m      2\u001b[0m \u001b[0mdf1\u001b[0m\u001b[0;34m\u001b[0m\u001b[0;34m\u001b[0m\u001b[0m\n",
            "\u001b[0;32m/usr/local/lib/python3.7/dist-packages/pandas/util/_decorators.py\u001b[0m in \u001b[0;36mwrapper\u001b[0;34m(*args, **kwargs)\u001b[0m\n\u001b[1;32m    309\u001b[0m                     \u001b[0mstacklevel\u001b[0m\u001b[0;34m=\u001b[0m\u001b[0mstacklevel\u001b[0m\u001b[0;34m,\u001b[0m\u001b[0;34m\u001b[0m\u001b[0;34m\u001b[0m\u001b[0m\n\u001b[1;32m    310\u001b[0m                 )\n\u001b[0;32m--> 311\u001b[0;31m             \u001b[0;32mreturn\u001b[0m \u001b[0mfunc\u001b[0m\u001b[0;34m(\u001b[0m\u001b[0;34m*\u001b[0m\u001b[0margs\u001b[0m\u001b[0;34m,\u001b[0m \u001b[0;34m**\u001b[0m\u001b[0mkwargs\u001b[0m\u001b[0;34m)\u001b[0m\u001b[0;34m\u001b[0m\u001b[0;34m\u001b[0m\u001b[0m\n\u001b[0m\u001b[1;32m    312\u001b[0m \u001b[0;34m\u001b[0m\u001b[0m\n\u001b[1;32m    313\u001b[0m         \u001b[0;32mreturn\u001b[0m \u001b[0mwrapper\u001b[0m\u001b[0;34m\u001b[0m\u001b[0;34m\u001b[0m\u001b[0m\n",
            "\u001b[0;32m/usr/local/lib/python3.7/dist-packages/pandas/core/frame.py\u001b[0m in \u001b[0;36mdrop\u001b[0;34m(self, labels, axis, index, columns, level, inplace, errors)\u001b[0m\n\u001b[1;32m   4911\u001b[0m             \u001b[0mlevel\u001b[0m\u001b[0;34m=\u001b[0m\u001b[0mlevel\u001b[0m\u001b[0;34m,\u001b[0m\u001b[0;34m\u001b[0m\u001b[0;34m\u001b[0m\u001b[0m\n\u001b[1;32m   4912\u001b[0m             \u001b[0minplace\u001b[0m\u001b[0;34m=\u001b[0m\u001b[0minplace\u001b[0m\u001b[0;34m,\u001b[0m\u001b[0;34m\u001b[0m\u001b[0;34m\u001b[0m\u001b[0m\n\u001b[0;32m-> 4913\u001b[0;31m             \u001b[0merrors\u001b[0m\u001b[0;34m=\u001b[0m\u001b[0merrors\u001b[0m\u001b[0;34m,\u001b[0m\u001b[0;34m\u001b[0m\u001b[0;34m\u001b[0m\u001b[0m\n\u001b[0m\u001b[1;32m   4914\u001b[0m         )\n\u001b[1;32m   4915\u001b[0m \u001b[0;34m\u001b[0m\u001b[0m\n",
            "\u001b[0;32m/usr/local/lib/python3.7/dist-packages/pandas/core/generic.py\u001b[0m in \u001b[0;36mdrop\u001b[0;34m(self, labels, axis, index, columns, level, inplace, errors)\u001b[0m\n\u001b[1;32m   4148\u001b[0m         \u001b[0;32mfor\u001b[0m \u001b[0maxis\u001b[0m\u001b[0;34m,\u001b[0m \u001b[0mlabels\u001b[0m \u001b[0;32min\u001b[0m \u001b[0maxes\u001b[0m\u001b[0;34m.\u001b[0m\u001b[0mitems\u001b[0m\u001b[0;34m(\u001b[0m\u001b[0;34m)\u001b[0m\u001b[0;34m:\u001b[0m\u001b[0;34m\u001b[0m\u001b[0;34m\u001b[0m\u001b[0m\n\u001b[1;32m   4149\u001b[0m             \u001b[0;32mif\u001b[0m \u001b[0mlabels\u001b[0m \u001b[0;32mis\u001b[0m \u001b[0;32mnot\u001b[0m \u001b[0;32mNone\u001b[0m\u001b[0;34m:\u001b[0m\u001b[0;34m\u001b[0m\u001b[0;34m\u001b[0m\u001b[0m\n\u001b[0;32m-> 4150\u001b[0;31m                 \u001b[0mobj\u001b[0m \u001b[0;34m=\u001b[0m \u001b[0mobj\u001b[0m\u001b[0;34m.\u001b[0m\u001b[0m_drop_axis\u001b[0m\u001b[0;34m(\u001b[0m\u001b[0mlabels\u001b[0m\u001b[0;34m,\u001b[0m \u001b[0maxis\u001b[0m\u001b[0;34m,\u001b[0m \u001b[0mlevel\u001b[0m\u001b[0;34m=\u001b[0m\u001b[0mlevel\u001b[0m\u001b[0;34m,\u001b[0m \u001b[0merrors\u001b[0m\u001b[0;34m=\u001b[0m\u001b[0merrors\u001b[0m\u001b[0;34m)\u001b[0m\u001b[0;34m\u001b[0m\u001b[0;34m\u001b[0m\u001b[0m\n\u001b[0m\u001b[1;32m   4151\u001b[0m \u001b[0;34m\u001b[0m\u001b[0m\n\u001b[1;32m   4152\u001b[0m         \u001b[0;32mif\u001b[0m \u001b[0minplace\u001b[0m\u001b[0;34m:\u001b[0m\u001b[0;34m\u001b[0m\u001b[0;34m\u001b[0m\u001b[0m\n",
            "\u001b[0;32m/usr/local/lib/python3.7/dist-packages/pandas/core/generic.py\u001b[0m in \u001b[0;36m_drop_axis\u001b[0;34m(self, labels, axis, level, errors)\u001b[0m\n\u001b[1;32m   4183\u001b[0m                 \u001b[0mnew_axis\u001b[0m \u001b[0;34m=\u001b[0m \u001b[0maxis\u001b[0m\u001b[0;34m.\u001b[0m\u001b[0mdrop\u001b[0m\u001b[0;34m(\u001b[0m\u001b[0mlabels\u001b[0m\u001b[0;34m,\u001b[0m \u001b[0mlevel\u001b[0m\u001b[0;34m=\u001b[0m\u001b[0mlevel\u001b[0m\u001b[0;34m,\u001b[0m \u001b[0merrors\u001b[0m\u001b[0;34m=\u001b[0m\u001b[0merrors\u001b[0m\u001b[0;34m)\u001b[0m\u001b[0;34m\u001b[0m\u001b[0;34m\u001b[0m\u001b[0m\n\u001b[1;32m   4184\u001b[0m             \u001b[0;32melse\u001b[0m\u001b[0;34m:\u001b[0m\u001b[0;34m\u001b[0m\u001b[0;34m\u001b[0m\u001b[0m\n\u001b[0;32m-> 4185\u001b[0;31m                 \u001b[0mnew_axis\u001b[0m \u001b[0;34m=\u001b[0m \u001b[0maxis\u001b[0m\u001b[0;34m.\u001b[0m\u001b[0mdrop\u001b[0m\u001b[0;34m(\u001b[0m\u001b[0mlabels\u001b[0m\u001b[0;34m,\u001b[0m \u001b[0merrors\u001b[0m\u001b[0;34m=\u001b[0m\u001b[0merrors\u001b[0m\u001b[0;34m)\u001b[0m\u001b[0;34m\u001b[0m\u001b[0;34m\u001b[0m\u001b[0m\n\u001b[0m\u001b[1;32m   4186\u001b[0m             \u001b[0mresult\u001b[0m \u001b[0;34m=\u001b[0m \u001b[0mself\u001b[0m\u001b[0;34m.\u001b[0m\u001b[0mreindex\u001b[0m\u001b[0;34m(\u001b[0m\u001b[0;34m**\u001b[0m\u001b[0;34m{\u001b[0m\u001b[0maxis_name\u001b[0m\u001b[0;34m:\u001b[0m \u001b[0mnew_axis\u001b[0m\u001b[0;34m}\u001b[0m\u001b[0;34m)\u001b[0m\u001b[0;34m\u001b[0m\u001b[0;34m\u001b[0m\u001b[0m\n\u001b[1;32m   4187\u001b[0m \u001b[0;34m\u001b[0m\u001b[0m\n",
            "\u001b[0;32m/usr/local/lib/python3.7/dist-packages/pandas/core/indexes/base.py\u001b[0m in \u001b[0;36mdrop\u001b[0;34m(self, labels, errors)\u001b[0m\n\u001b[1;32m   6015\u001b[0m         \u001b[0;32mif\u001b[0m \u001b[0mmask\u001b[0m\u001b[0;34m.\u001b[0m\u001b[0many\u001b[0m\u001b[0;34m(\u001b[0m\u001b[0;34m)\u001b[0m\u001b[0;34m:\u001b[0m\u001b[0;34m\u001b[0m\u001b[0;34m\u001b[0m\u001b[0m\n\u001b[1;32m   6016\u001b[0m             \u001b[0;32mif\u001b[0m \u001b[0merrors\u001b[0m \u001b[0;34m!=\u001b[0m \u001b[0;34m\"ignore\"\u001b[0m\u001b[0;34m:\u001b[0m\u001b[0;34m\u001b[0m\u001b[0;34m\u001b[0m\u001b[0m\n\u001b[0;32m-> 6017\u001b[0;31m                 \u001b[0;32mraise\u001b[0m \u001b[0mKeyError\u001b[0m\u001b[0;34m(\u001b[0m\u001b[0;34mf\"{labels[mask]} not found in axis\"\u001b[0m\u001b[0;34m)\u001b[0m\u001b[0;34m\u001b[0m\u001b[0;34m\u001b[0m\u001b[0m\n\u001b[0m\u001b[1;32m   6018\u001b[0m             \u001b[0mindexer\u001b[0m \u001b[0;34m=\u001b[0m \u001b[0mindexer\u001b[0m\u001b[0;34m[\u001b[0m\u001b[0;34m~\u001b[0m\u001b[0mmask\u001b[0m\u001b[0;34m]\u001b[0m\u001b[0;34m\u001b[0m\u001b[0;34m\u001b[0m\u001b[0m\n\u001b[1;32m   6019\u001b[0m         \u001b[0;32mreturn\u001b[0m \u001b[0mself\u001b[0m\u001b[0;34m.\u001b[0m\u001b[0mdelete\u001b[0m\u001b[0;34m(\u001b[0m\u001b[0mindexer\u001b[0m\u001b[0;34m)\u001b[0m\u001b[0;34m\u001b[0m\u001b[0;34m\u001b[0m\u001b[0m\n",
            "\u001b[0;31mKeyError\u001b[0m: '[    5    70   115 ... 21560 21574 21584] not found in axis'"
          ]
        }
      ]
    },
    {
      "cell_type": "code",
      "source": [
        "df1.info()"
      ],
      "metadata": {
        "colab": {
          "base_uri": "https://localhost:8080/"
        },
        "id": "tpDfVwmgSNq3",
        "outputId": "a923e4a9-1c5a-41a8-bfae-1e05069b217d"
      },
      "execution_count": 65,
      "outputs": [
        {
          "output_type": "stream",
          "name": "stdout",
          "text": [
            "<class 'pandas.core.frame.DataFrame'>\n",
            "Int64Index: 20556 entries, 0 to 21596\n",
            "Data columns (total 3 columns):\n",
            " #   Column       Non-Null Count  Dtype  \n",
            "---  ------       --------------  -----  \n",
            " 0   price        20556 non-null  float64\n",
            " 1   sqft_living  20556 non-null  int64  \n",
            " 2   bedrooms     20556 non-null  int64  \n",
            "dtypes: float64(1), int64(2)\n",
            "memory usage: 1.1 MB\n"
          ]
        }
      ]
    },
    {
      "cell_type": "code",
      "source": [
        "plt.boxplot(df1['bedrooms'])"
      ],
      "metadata": {
        "colab": {
          "base_uri": "https://localhost:8080/",
          "height": 404
        },
        "id": "7xBpiCzmRZ1T",
        "outputId": "3adfcfdb-bb8b-44b3-88a2-da326169653d"
      },
      "execution_count": 87,
      "outputs": [
        {
          "output_type": "execute_result",
          "data": {
            "text/plain": [
              "{'whiskers': [<matplotlib.lines.Line2D at 0x7fab461efed0>,\n",
              "  <matplotlib.lines.Line2D at 0x7fab461f5450>],\n",
              " 'caps': [<matplotlib.lines.Line2D at 0x7fab461f5990>,\n",
              "  <matplotlib.lines.Line2D at 0x7fab461f5ed0>],\n",
              " 'boxes': [<matplotlib.lines.Line2D at 0x7fab461ef950>],\n",
              " 'medians': [<matplotlib.lines.Line2D at 0x7fab461fc490>],\n",
              " 'fliers': [<matplotlib.lines.Line2D at 0x7fab461fc9d0>],\n",
              " 'means': []}"
            ]
          },
          "metadata": {},
          "execution_count": 87
        },
        {
          "output_type": "display_data",
          "data": {
            "text/plain": [
              "<Figure size 432x288 with 1 Axes>"
            ],
            "image/png": "[encoded data removed]"
          },
          "metadata": {
            "needs_background": "light"
          }
        }
      ]
    },
    {
      "cell_type": "code",
      "source": [
        "plt.boxplot(df1['sqft_living'])"
      ],
      "metadata": {
        "colab": {
          "base_uri": "https://localhost:8080/",
          "height": 404
        },
        "id": "UpmVjaAwSfgv",
        "outputId": "196e4aaa-feee-4d43-80dd-61af4a76bd50"
      },
      "execution_count": 68,
      "outputs": [
        {
          "output_type": "execute_result",
          "data": {
            "text/plain": [
              "{'whiskers': [<matplotlib.lines.Line2D at 0x7fab4a51cb50>,\n",
              "  <matplotlib.lines.Line2D at 0x7fab4a5210d0>],\n",
              " 'caps': [<matplotlib.lines.Line2D at 0x7fab4a521610>,\n",
              "  <matplotlib.lines.Line2D at 0x7fab4a521b50>],\n",
              " 'boxes': [<matplotlib.lines.Line2D at 0x7fab4a51c590>],\n",
              " 'medians': [<matplotlib.lines.Line2D at 0x7fab4a529110>],\n",
              " 'fliers': [<matplotlib.lines.Line2D at 0x7fab4a529650>],\n",
              " 'means': []}"
            ]
          },
          "metadata": {},
          "execution_count": 68
        },
        {
          "output_type": "display_data",
          "data": {
            "text/plain": [
              "<Figure size 432x288 with 1 Axes>"
            ],
            "image/png": "[encoded data removed]"
          },
          "metadata": {
            "needs_background": "light"
          }
        }
      ]
    },
    {
      "cell_type": "code",
      "source": [
        "df1.plot.scatter(x='bedrooms', y='price', c='DarkBlue')"
      ],
      "metadata": {
        "colab": {
          "base_uri": "https://localhost:8080/",
          "height": 307
        },
        "id": "0Y8gj9r4SpBP",
        "outputId": "04600458-dcd9-4164-e91a-8caadf74ea17"
      },
      "execution_count": 69,
      "outputs": [
        {
          "output_type": "execute_result",
          "data": {
            "text/plain": [
              "<matplotlib.axes._subplots.AxesSubplot at 0x7fab4a2b9f10>"
            ]
          },
          "metadata": {},
          "execution_count": 69
        },
        {
          "output_type": "display_data",
          "data": {
            "text/plain": [
              "<Figure size 432x288 with 1 Axes>"
            ],
            "image/png": "[encoded data removed]"
          },
          "metadata": {
            "needs_background": "light"
          }
        }
      ]
    },
    {
      "cell_type": "code",
      "source": [
        "df1.plot.scatter(x='sqft_living', y='price', c='DarkBlue')"
      ],
      "metadata": {
        "colab": {
          "base_uri": "https://localhost:8080/",
          "height": 308
        },
        "id": "_AY4uJe7T8Nh",
        "outputId": "b545a9a4-a2d3-4af3-91cf-28f99cf53382"
      },
      "execution_count": 70,
      "outputs": [
        {
          "output_type": "execute_result",
          "data": {
            "text/plain": [
              "<matplotlib.axes._subplots.AxesSubplot at 0x7fab4a146e50>"
            ]
          },
          "metadata": {},
          "execution_count": 70
        },
        {
          "output_type": "display_data",
          "data": {
            "text/plain": [
              "<Figure size 432x288 with 1 Axes>"
            ],
            "image/png": "[encoded data removed]"
          },
          "metadata": {
            "needs_background": "light"
          }
        }
      ]
    },
    {
      "cell_type": "code",
      "source": [
        "corr_matrix = df1.corr()\n",
        "print(corr_matrix)"
      ],
      "metadata": {
        "colab": {
          "base_uri": "https://localhost:8080/"
        },
        "id": "G40OvKWaUKPu",
        "outputId": "a3dbf81b-b6e0-481b-c33f-c5c61a92ad13"
      },
      "execution_count": 71,
      "outputs": [
        {
          "output_type": "stream",
          "name": "stdout",
          "text": [
            "                price  sqft_living  bedrooms\n",
            "price        1.000000     0.628670  0.281502\n",
            "sqft_living  0.628670     1.000000  0.590785\n",
            "bedrooms     0.281502     0.590785  1.000000\n"
          ]
        }
      ]
    },
    {
      "cell_type": "code",
      "source": [
        "import seaborn as sn\n",
        "sn.heatmap(corr_matrix, annot=True)\n",
        "plt.show()"
      ],
      "metadata": {
        "colab": {
          "base_uri": "https://localhost:8080/",
          "height": 270
        },
        "id": "fwQZScwdUZ02",
        "outputId": "09d8ebba-269a-4432-eea6-f5e92d94bd13"
      },
      "execution_count": 72,
      "outputs": [
        {
          "output_type": "display_data",
          "data": {
            "text/plain": [
              "<Figure size 432x288 with 2 Axes>"
            ],
            "image/png": "[encoded data removed]"
          },
          "metadata": {
            "needs_background": "light"
          }
        }
      ]
    },
    {
      "cell_type": "code",
      "source": [
        "fig, axs = plt.subplots(1, 1,\n",
        "                        figsize =(10, 7),\n",
        "                        tight_layout = True)\n",
        " \n",
        "axs.hist(df1['price'], bins = 20)"
      ],
      "metadata": {
        "colab": {
          "base_uri": "https://localhost:8080/",
          "height": 669
        },
        "id": "k2CQm8eqUm6Y",
        "outputId": "4d22350f-49b9-46ec-cd36-1818950a1487"
      },
      "execution_count": 73,
      "outputs": [
        {
          "output_type": "execute_result",
          "data": {
            "text/plain": [
              "(array([1.834e+03, 6.773e+03, 5.390e+03, 3.146e+03, 1.764e+03, 7.340e+02,\n",
              "        3.150e+02, 2.280e+02, 1.310e+02, 8.000e+01, 6.200e+01, 3.900e+01,\n",
              "        1.100e+01, 2.100e+01, 1.000e+01, 8.000e+00, 4.000e+00, 2.000e+00,\n",
              "        3.000e+00, 1.000e+00]),\n",
              " array([  78000.,  239100.,  400200.,  561300.,  722400.,  883500.,\n",
              "        1044600., 1205700., 1366800., 1527900., 1689000., 1850100.,\n",
              "        2011200., 2172300., 2333400., 2494500., 2655600., 2816700.,\n",
              "        2977800., 3138900., 3300000.]),\n",
              " <a list of 20 Patch objects>)"
            ]
          },
          "metadata": {},
          "execution_count": 73
        },
        {
          "output_type": "display_data",
          "data": {
            "text/plain": [
              "<Figure size 720x504 with 1 Axes>"
            ],
            "image/png": "[encoded data removed]"
          },
          "metadata": {
            "needs_background": "light"
          }
        }
      ]
    },
    {
      "cell_type": "code",
      "source": [
        "fig, axs = plt.subplots(1, 1,\n",
        "                        figsize =(10, 7),\n",
        "                        tight_layout = True)\n",
        "axs.hist(df1['sqft_living'], bins = 20)"
      ],
      "metadata": {
        "colab": {
          "base_uri": "https://localhost:8080/",
          "height": 635
        },
        "id": "y_ZWvogyVdB8",
        "outputId": "8f2a4dde-73bb-4f7d-ef22-2d6b0922672c"
      },
      "execution_count": 80,
      "outputs": [
        {
          "output_type": "execute_result",
          "data": {
            "text/plain": [
              "(array([  27.,  378.,  945., 1472., 1955., 2136., 2099., 1969., 1840.,\n",
              "        1576., 1384., 1103.,  869.,  750.,  619.,  454.,  341.,  268.,\n",
              "         212.,  159.]),\n",
              " array([ 440. ,  629.5,  819. , 1008.5, 1198. , 1387.5, 1577. , 1766.5,\n",
              "        1956. , 2145.5, 2335. , 2524.5, 2714. , 2903.5, 3093. , 3282.5,\n",
              "        3472. , 3661.5, 3851. , 4040.5, 4230. ]),\n",
              " <a list of 20 Patch objects>)"
            ]
          },
          "metadata": {},
          "execution_count": 80
        },
        {
          "output_type": "display_data",
          "data": {
            "text/plain": [
              "<Figure size 720x504 with 1 Axes>"
            ],
            "image/png": "[encoded data removed]"
          },
          "metadata": {
            "needs_background": "light"
          }
        }
      ]
    },
    {
      "cell_type": "code",
      "source": [
        "fig, axs = plt.subplots(1, 1,\n",
        "                        figsize =(10, 7),\n",
        "                        tight_layout = True)\n",
        "axs.hist(df1['bedrooms'], bins = 20)"
      ],
      "metadata": {
        "colab": {
          "base_uri": "https://localhost:8080/",
          "height": 617
        },
        "id": "8Q9q2IDNVlAL",
        "outputId": "2f308d7f-abe7-4ce8-8aa4-f18eba9a2376"
      },
      "execution_count": 77,
      "outputs": [
        {
          "output_type": "execute_result",
          "data": {
            "text/plain": [
              "(array([2759.,    0.,    0.,    0.,    0.,    0., 9782.,    0.,    0.,\n",
              "           0.,    0.,    0.,    0., 6602.,    0.,    0.,    0.,    0.,\n",
              "           0., 1413.]),\n",
              " array([2.  , 2.15, 2.3 , 2.45, 2.6 , 2.75, 2.9 , 3.05, 3.2 , 3.35, 3.5 ,\n",
              "        3.65, 3.8 , 3.95, 4.1 , 4.25, 4.4 , 4.55, 4.7 , 4.85, 5.  ]),\n",
              " <a list of 20 Patch objects>)"
            ]
          },
          "metadata": {},
          "execution_count": 77
        },
        {
          "output_type": "display_data",
          "data": {
            "text/plain": [
              "<Figure size 720x504 with 1 Axes>"
            ],
            "image/png": "[encoded data removed]"
          },
          "metadata": {
            "needs_background": "light"
          }
        }
      ]
    },
    {
      "cell_type": "code",
      "source": [
        "df1.info()"
      ],
      "metadata": {
        "colab": {
          "base_uri": "https://localhost:8080/"
        },
        "id": "Ip2kDDftVwfX",
        "outputId": "6972e9b5-2f03-4285-964d-efbfae2f205c"
      },
      "execution_count": 88,
      "outputs": [
        {
          "output_type": "stream",
          "name": "stdout",
          "text": [
            "<class 'pandas.core.frame.DataFrame'>\n",
            "Int64Index: 20556 entries, 0 to 21596\n",
            "Data columns (total 3 columns):\n",
            " #   Column       Non-Null Count  Dtype  \n",
            "---  ------       --------------  -----  \n",
            " 0   price        20556 non-null  float64\n",
            " 1   sqft_living  20556 non-null  int64  \n",
            " 2   bedrooms     20556 non-null  int64  \n",
            "dtypes: float64(1), int64(2)\n",
            "memory usage: 1.1 MB\n"
          ]
        }
      ]
    },
    {
      "cell_type": "code",
      "source": [
        "X=df1[['sqft_living','bedrooms']].to_numpy()\n",
        "y=df1['price'].to_numpy()\n",
        "X_train, X_test, y_train, y_test = train_test_split(X, y, test_size=0.30, random_state=42)"
      ],
      "metadata": {
        "id": "Eq2kmc4kYP9R"
      },
      "execution_count": 89,
      "outputs": []
    },
    {
      "cell_type": "code",
      "source": [
        "from sklearn import datasets, linear_model, metrics\n",
        "reg = linear_model.LinearRegression()\n",
        "  \n",
        "# train the model using the training sets\n",
        "reg.fit(X_train, y_train)\n",
        "  \n",
        "# regression coefficients\n",
        "print('Coefficients: ', reg.coef_)\n",
        "  \n",
        "# variance score: 1 means perfect prediction\n",
        "print('Variance score: {}'.format(reg.score(X_test, y_test)))\n",
        "  \n",
        "# plot for residual error\n",
        "  \n",
        "## setting plot style\n",
        "plt.style.use('fivethirtyeight')\n",
        "  \n",
        "## plotting residual errors in training data\n",
        "plt.scatter(reg.predict(X_train), reg.predict(X_train) - y_train,\n",
        "            color = \"green\", s = 10, label = 'Train data')\n",
        "  \n",
        "## plotting residual errors in test data\n",
        "plt.scatter(reg.predict(X_test), reg.predict(X_test) - y_test,\n",
        "            color = \"blue\", s = 10, label = 'Test data')"
      ],
      "metadata": {
        "colab": {
          "base_uri": "https://localhost:8080/",
          "height": 365
        },
        "id": "KYDQtCRmYxS4",
        "outputId": "5a3c8cba-4753-497e-f059-524aaea26a64"
      },
      "execution_count": 92,
      "outputs": [
        {
          "output_type": "stream",
          "name": "stdout",
          "text": [
            "Coefficients:  [   262.43994638 -48325.91702624]\n",
            "Variance score: 0.4156058479440147\n"
          ]
        },
        {
          "output_type": "execute_result",
          "data": {
            "text/plain": [
              "<matplotlib.collections.PathCollection at 0x7fab45783690>"
            ]
          },
          "metadata": {},
          "execution_count": 92
        },
        {
          "output_type": "display_data",
          "data": {
            "text/plain": [
              "<Figure size 432x288 with 1 Axes>"
            ],
            "image/png": "[encoded data removed]"
          },
          "metadata": {}
        }
      ]
    },
    {
      "cell_type": "code",
      "source": [],
      "metadata": {
        "id": "NpoXTT_CfVZ9"
      },
      "execution_count": null,
      "outputs": []
    }
  ]
}