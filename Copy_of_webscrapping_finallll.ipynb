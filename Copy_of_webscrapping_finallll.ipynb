{
  "cells": [
    {
      "cell_type": "markdown",
      "metadata": {
        "id": "view-in-github",
        "colab_type": "text"
      },
      "source": [
        "<a href=\"https://colab.research.google.com/github/datle2403/datle2403/blob/main/Copy_of_webscrapping_finallll.ipynb\" target=\"_parent\"><img src=\"https://colab.research.google.com/assets/colab-badge.svg\" alt=\"Open In Colab\"/></a>"
      ]
    },
    {
      "cell_type": "code",
      "execution_count": null,
      "metadata": {
        "id": "R5gDGL3N1dEl"
      },
      "outputs": [],
      "source": [
        "import requests\n",
        "from bs4 import BeautifulSoup\n",
        "import pandas as pd\n",
        "import dateutil.parser as dparser\n",
        "from datetime import date \n",
        "import matplotlib.pyplot as plt"
      ]
    },
    {
      "cell_type": "code",
      "execution_count": null,
      "metadata": {
        "id": "Acbnl13c1s90"
      },
      "outputs": [],
      "source": []
    },
    {
      "cell_type": "code",
      "execution_count": null,
      "metadata": {
        "id": "u_GNzXiE9h0w"
      },
      "outputs": [],
      "source": [
        "doc=\"\"\"An Giang\n",
        "Vũng Tàu\n",
        "Phan Rang\n",
        "Quy Nhơn\n",
        "Bạc Liêu\n",
        "Biên Hòa\n",
        "Bình Phước\n",
        "Bắc Kạn\n",
        "Bắc Giang\n",
        "Bắc Ninh\n",
        "Bến Tre\n",
        "Bình Dương\n",
        "Bình Định\n",
        "Bình Phước\n",
        "Bình Thuận\n",
        "Cà Mau\n",
        "Cao Bằng\n",
        "Cần Thơ\n",
        "Đà Nẵng\n",
        "Đà  Nẵng\n",
        "Đắk Lắk\n",
        "Đắk Nông\n",
        "Điện Biên\n",
        "Đồng Nai\n",
        "Đồng Tháp\n",
        "Gia Lai\n",
        "Hà Giang\n",
        "Hà Nam\n",
        "Hà Nội\n",
        "Hà Tây\n",
        "Hà Tĩnh\n",
        "Hạ Long\n",
        "Hải Dương\n",
        "Hải Phòng\n",
        "Hòa Bình\n",
        "Hồ Chí Minh\n",
        "Huế\n",
        "Hậu Giang\n",
        "Hưng Yên\n",
        "Khánh Hòa\n",
        "Kiên Giang\n",
        "Kon Tum\n",
        "Lai Châu\n",
        "Lào Cai\n",
        "Lạng Sơn\n",
        "Lâm Đồng\n",
        "Long An\n",
        "Long Xuyên\n",
        "Phú Qúy\n",
        "Nam Định\n",
        "Nha Trang\n",
        "Nghệ An\n",
        "Ninh Bình\n",
        "Ninh Thuận\n",
        "Nha Trang\n",
        "Miền Tây\n",
        "Phú Thọ\n",
        "Phú Yên\n",
        "Quảng Bình\n",
        "Quảng Nam\n",
        "Quảng Ngãi\n",
        "Quãng Ngãi\n",
        "Quảng Ninh\n",
        "Quảng Trị\n",
        "Sóc Trăng\n",
        "Sơn La\n",
        "Tây Ninh\n",
        "Thái Bình\n",
        "Thái Nguyên\n",
        "Thanh Hóa\n",
        "Huế\n",
        "Tiền Giang\n",
        "Trà Vinh\n",
        "Tuyên Quang\n",
        "Vĩnh Long\n",
        "HCM\n",
        "Vĩnh Phúc\n",
        "Yên Bái\"\"\"\n",
        "lst=doc.split('\\n')\n",
        "for x in range(0,len(lst)):\n",
        "    lst[x]=lst[x].lower()"
      ]
    },
    {
      "cell_type": "code",
      "execution_count": null,
      "metadata": {
        "id": "JxHYvJua9RUu"
      },
      "outputs": [],
      "source": [
        "def location(text):\n",
        "  text=text.lower()\n",
        "  for x in lst:\n",
        "    if str(x) in str(text):\n",
        "      remain=text.replace(x,'')\n",
        "      return str(x)\n",
        "  return False\n"
      ]
    },
    {
      "cell_type": "code",
      "source": [
        "  from datetime import date \n",
        "  today = date.today()\n",
        "  l=list(str(today).split('-'))\n",
        "  m=int(l[2])-1\n",
        "  l[2]=str(m)\n",
        "  dat=l[2]+'-'+l[1]+'-'+l[0]\n",
        "  d=l[0]+l[1]+l[2]\n",
        "  d"
      ],
      "metadata": {
        "colab": {
          "base_uri": "https://localhost:8080/",
          "height": 35
        },
        "id": "YhOTTF1aucf6",
        "outputId": "26bdaf0e-d1d8-4f9b-b5ca-152ee771fa55"
      },
      "execution_count": 34,
      "outputs": [
        {
          "output_type": "execute_result",
          "data": {
            "text/plain": [
              "'20221026'"
            ],
            "application/vnd.google.colaboratory.intrinsic+json": {
              "type": "string"
            }
          },
          "metadata": {},
          "execution_count": 34
        }
      ]
    },
    {
      "cell_type": "code",
      "execution_count": 35,
      "metadata": {
        "id": "IfpX7Fop1kK_"
      },
      "outputs": [],
      "source": [
        "def xu_ly(ngay):\n",
        "  \n",
        "  from datetime import date \n",
        "  today = date.today()\n",
        "  n=list(str(today).split('-'))\n",
        "  m=int(n[2])-1-ngay\n",
        "  n[2]=str(m)\n",
        "  dat=n[2]+'-'+n[1]+'-'+n[0]\n",
        "  d=n[2]+n[1]+n[0]\n",
        "    \n",
        "  html=f'https://tygiadola.net/LichSuGiaVang?date={dat}'\n",
        "  print(html)\n",
        "  page= requests.get(html).text # this is html text\n",
        "  soup=BeautifulSoup(page,'lxml')\n",
        "  data=soup.find('table',class_='table table-condensed table-hover table-bordered')\n",
        "  data=data.find_all('tr',class_='')\n",
        "  dct={}\n",
        "  loc=[]\n",
        "  p_in=[]\n",
        "  p_out=[]\n",
        "  dae=[]\n",
        "  for x in data:\n",
        "    y=x.find_all('td')\n",
        "    if len(y)==1:\n",
        "      continue\n",
        "    loca=str(y[0].text).strip().replace('\\r\\n','')\n",
        "    l=['DOJI HCM','DOJI HN','PNJ HCM','PNJ Hà Nội','Phú Qúy SJC']\n",
        "    if loca in l:\n",
        "      continue\n",
        "    loca=location(loca)\n",
        "    if loca ==False:\n",
        "      continue\n",
        "    g=y[1].find('span')\n",
        "    g.replaceWith('')\n",
        "    h=y[2].find('span')\n",
        "    h.replaceWith('')\n",
        "    price_in=float(str(y[1].text).strip().replace(',','').replace('\\r\\n',''))\n",
        "    price_out=float(str(y[2].text).strip().replace(',','').replace('\\r\\n',''))\n",
        "    loc.append(loca)\n",
        "    p_in.append(price_in)\n",
        "    p_out.append(price_out)\n",
        "    dae.append(d)\n",
        "  dct['location']=loc\n",
        "  dct['price_in']=p_in\n",
        "  dct['price_out']=p_out\n",
        "  dct['date']=dae\n",
        "  dataset=pd.DataFrame(dct)\n",
        "  return dataset"
      ]
    },
    {
      "cell_type": "code",
      "execution_count": 36,
      "metadata": {
        "colab": {
          "base_uri": "https://localhost:8080/"
        },
        "id": "20sJCF-53W5V",
        "outputId": "9ab7eacb-5222-4310-c109-a4b39509a593"
      },
      "outputs": [
        {
          "output_type": "stream",
          "name": "stdout",
          "text": [
            "https://tygiadola.net/LichSuGiaVang?date=17-10-2022\n",
            "https://tygiadola.net/LichSuGiaVang?date=18-10-2022\n",
            "https://tygiadola.net/LichSuGiaVang?date=19-10-2022\n",
            "https://tygiadola.net/LichSuGiaVang?date=20-10-2022\n",
            "https://tygiadola.net/LichSuGiaVang?date=21-10-2022\n",
            "https://tygiadola.net/LichSuGiaVang?date=22-10-2022\n",
            "https://tygiadola.net/LichSuGiaVang?date=23-10-2022\n",
            "https://tygiadola.net/LichSuGiaVang?date=24-10-2022\n",
            "https://tygiadola.net/LichSuGiaVang?date=25-10-2022\n",
            "https://tygiadola.net/LichSuGiaVang?date=26-10-2022\n"
          ]
        }
      ],
      "source": [
        "def run(chon_ngay_gan_nhat):\n",
        "  d=[]\n",
        "  for x in reversed(range(chon_ngay_gan_nhat)):\n",
        "    d.append(xu_ly(x))\n",
        "  result = pd.concat(d,ignore_index=True)\n",
        "  return result\n",
        "  \n",
        "\n",
        "dataset=run(10)"
      ]
    },
    {
      "cell_type": "code",
      "execution_count": 37,
      "metadata": {
        "id": "JATXCOo9LNwT",
        "outputId": "3d1de1f3-f8b3-456b-ed8f-9b61a0b092df",
        "colab": {
          "base_uri": "https://localhost:8080/",
          "height": 424
        }
      },
      "outputs": [
        {
          "output_type": "execute_result",
          "data": {
            "text/plain": [
              "       location  price_in  price_out      date\n",
              "0           hcm   66000.0    67000.0  17102022\n",
              "1        hà nội   66000.0    67020.0  17102022\n",
              "2       đà nẵng   66000.0    67020.0  17102022\n",
              "3     nha trang   66000.0    67020.0  17102022\n",
              "4        cà mau   66000.0    67020.0  17102022\n",
              "..          ...       ...        ...       ...\n",
              "105         huế   66370.0    67430.0  26102022\n",
              "106    biên hòa   66400.0    67400.0  26102022\n",
              "107    miền tây   66400.0    67400.0  26102022\n",
              "108  quãng ngãi   66400.0    67400.0  26102022\n",
              "109  long xuyên   66420.0    67450.0  26102022\n",
              "\n",
              "[110 rows x 4 columns]"
            ],
            "text/html": [
              "\n",
              "  <div id=\"df-2d8e31b4-4e6b-4f9e-937f-56f617d0285d\">\n",
              "    <div class=\"colab-df-container\">\n",
              "      <div>\n",
              "<style scoped>\n",
              "    .dataframe tbody tr th:only-of-type {\n",
              "        vertical-align: middle;\n",
              "    }\n",
              "\n",
              "    .dataframe tbody tr th {\n",
              "        vertical-align: top;\n",
              "    }\n",
              "\n",
              "    .dataframe thead th {\n",
              "        text-align: right;\n",
              "    }\n",
              "</style>\n",
              "<table border=\"1\" class=\"dataframe\">\n",
              "  <thead>\n",
              "    <tr style=\"text-align: right;\">\n",
              "      <th></th>\n",
              "      <th>location</th>\n",
              "      <th>price_in</th>\n",
              "      <th>price_out</th>\n",
              "      <th>date</th>\n",
              "    </tr>\n",
              "  </thead>\n",
              "  <tbody>\n",
              "    <tr>\n",
              "      <th>0</th>\n",
              "      <td>hcm</td>\n",
              "      <td>66000.0</td>\n",
              "      <td>67000.0</td>\n",
              "      <td>17102022</td>\n",
              "    </tr>\n",
              "    <tr>\n",
              "      <th>1</th>\n",
              "      <td>hà nội</td>\n",
              "      <td>66000.0</td>\n",
              "      <td>67020.0</td>\n",
              "      <td>17102022</td>\n",
              "    </tr>\n",
              "    <tr>\n",
              "      <th>2</th>\n",
              "      <td>đà nẵng</td>\n",
              "      <td>66000.0</td>\n",
              "      <td>67020.0</td>\n",
              "      <td>17102022</td>\n",
              "    </tr>\n",
              "    <tr>\n",
              "      <th>3</th>\n",
              "      <td>nha trang</td>\n",
              "      <td>66000.0</td>\n",
              "      <td>67020.0</td>\n",
              "      <td>17102022</td>\n",
              "    </tr>\n",
              "    <tr>\n",
              "      <th>4</th>\n",
              "      <td>cà mau</td>\n",
              "      <td>66000.0</td>\n",
              "      <td>67020.0</td>\n",
              "      <td>17102022</td>\n",
              "    </tr>\n",
              "    <tr>\n",
              "      <th>...</th>\n",
              "      <td>...</td>\n",
              "      <td>...</td>\n",
              "      <td>...</td>\n",
              "      <td>...</td>\n",
              "    </tr>\n",
              "    <tr>\n",
              "      <th>105</th>\n",
              "      <td>huế</td>\n",
              "      <td>66370.0</td>\n",
              "      <td>67430.0</td>\n",
              "      <td>26102022</td>\n",
              "    </tr>\n",
              "    <tr>\n",
              "      <th>106</th>\n",
              "      <td>biên hòa</td>\n",
              "      <td>66400.0</td>\n",
              "      <td>67400.0</td>\n",
              "      <td>26102022</td>\n",
              "    </tr>\n",
              "    <tr>\n",
              "      <th>107</th>\n",
              "      <td>miền tây</td>\n",
              "      <td>66400.0</td>\n",
              "      <td>67400.0</td>\n",
              "      <td>26102022</td>\n",
              "    </tr>\n",
              "    <tr>\n",
              "      <th>108</th>\n",
              "      <td>quãng ngãi</td>\n",
              "      <td>66400.0</td>\n",
              "      <td>67400.0</td>\n",
              "      <td>26102022</td>\n",
              "    </tr>\n",
              "    <tr>\n",
              "      <th>109</th>\n",
              "      <td>long xuyên</td>\n",
              "      <td>66420.0</td>\n",
              "      <td>67450.0</td>\n",
              "      <td>26102022</td>\n",
              "    </tr>\n",
              "  </tbody>\n",
              "</table>\n",
              "<p>110 rows × 4 columns</p>\n",
              "</div>\n",
              "      <button class=\"colab-df-convert\" onclick=\"convertToInteractive('df-2d8e31b4-4e6b-4f9e-937f-56f617d0285d')\"\n",
              "              title=\"Convert this dataframe to an interactive table.\"\n",
              "              style=\"display:none;\">\n",
              "        \n",
              "  <svg xmlns=\"http://www.w3.org/2000/svg\" height=\"24px\"viewBox=\"0 0 24 24\"\n",
              "       width=\"24px\">\n",
              "    <path d=\"M0 0h24v24H0V0z\" fill=\"none\"/>\n",
              "    <path d=\"M18.56 5.44l.94 2.06.94-2.06 2.06-.94-2.06-.94-.94-2.06-.94 2.06-2.06.94zm-11 1L8.5 8.5l.94-2.06 2.06-.94-2.06-.94L8.5 2.5l-.94 2.06-2.06.94zm10 10l.94 2.06.94-2.06 2.06-.94-2.06-.94-.94-2.06-.94 2.06-2.06.94z\"/><path d=\"M17.41 7.96l-1.37-1.37c-.4-.4-.92-.59-1.43-.59-.52 0-1.04.2-1.43.59L10.3 9.45l-7.72 7.72c-.78.78-.78 2.05 0 2.83L4 21.41c.39.39.9.59 1.41.59.51 0 1.02-.2 1.41-.59l7.78-7.78 2.81-2.81c.8-.78.8-2.07 0-2.86zM5.41 20L4 18.59l7.72-7.72 1.47 1.35L5.41 20z\"/>\n",
              "  </svg>\n",
              "      </button>\n",
              "      \n",
              "  <style>\n",
              "    .colab-df-container {\n",
              "      display:flex;\n",
              "      flex-wrap:wrap;\n",
              "      gap: 12px;\n",
              "    }\n",
              "\n",
              "    .colab-df-convert {\n",
              "      background-color: #E8F0FE;\n",
              "      border: none;\n",
              "      border-radius: 50%;\n",
              "      cursor: pointer;\n",
              "      display: none;\n",
              "      fill: #1967D2;\n",
              "      height: 32px;\n",
              "      padding: 0 0 0 0;\n",
              "      width: 32px;\n",
              "    }\n",
              "\n",
              "    .colab-df-convert:hover {\n",
              "      background-color: #E2EBFA;\n",
              "      box-shadow: 0px 1px 2px rgba(60, 64, 67, 0.3), 0px 1px 3px 1px rgba(60, 64, 67, 0.15);\n",
              "      fill: #174EA6;\n",
              "    }\n",
              "\n",
              "    [theme=dark] .colab-df-convert {\n",
              "      background-color: #3B4455;\n",
              "      fill: #D2E3FC;\n",
              "    }\n",
              "\n",
              "    [theme=dark] .colab-df-convert:hover {\n",
              "      background-color: #434B5C;\n",
              "      box-shadow: 0px 1px 3px 1px rgba(0, 0, 0, 0.15);\n",
              "      filter: drop-shadow(0px 1px 2px rgba(0, 0, 0, 0.3));\n",
              "      fill: #FFFFFF;\n",
              "    }\n",
              "  </style>\n",
              "\n",
              "      <script>\n",
              "        const buttonEl =\n",
              "          document.querySelector('#df-2d8e31b4-4e6b-4f9e-937f-56f617d0285d button.colab-df-convert');\n",
              "        buttonEl.style.display =\n",
              "          google.colab.kernel.accessAllowed ? 'block' : 'none';\n",
              "\n",
              "        async function convertToInteractive(key) {\n",
              "          const element = document.querySelector('#df-2d8e31b4-4e6b-4f9e-937f-56f617d0285d');\n",
              "          const dataTable =\n",
              "            await google.colab.kernel.invokeFunction('convertToInteractive',\n",
              "                                                     [key], {});\n",
              "          if (!dataTable) return;\n",
              "\n",
              "          const docLinkHtml = 'Like what you see? Visit the ' +\n",
              "            '<a target=\"_blank\" href=https://colab.research.google.com/notebooks/data_table.ipynb>data table notebook</a>'\n",
              "            + ' to learn more about interactive tables.';\n",
              "          element.innerHTML = '';\n",
              "          dataTable['output_type'] = 'display_data';\n",
              "          await google.colab.output.renderOutput(dataTable, element);\n",
              "          const docLink = document.createElement('div');\n",
              "          docLink.innerHTML = docLinkHtml;\n",
              "          element.appendChild(docLink);\n",
              "        }\n",
              "      </script>\n",
              "    </div>\n",
              "  </div>\n",
              "  "
            ]
          },
          "metadata": {},
          "execution_count": 37
        }
      ],
      "source": [
        "dataset"
      ]
    },
    {
      "cell_type": "code",
      "execution_count": 38,
      "metadata": {
        "id": "uO_O9mZUVyfU",
        "colab": {
          "base_uri": "https://localhost:8080/"
        },
        "outputId": "0d98012f-d6c4-42eb-b665-85fa158ecd24"
      },
      "outputs": [
        {
          "output_type": "stream",
          "name": "stdout",
          "text": [
            "<class 'pandas.core.frame.DataFrame'>\n",
            "RangeIndex: 110 entries, 0 to 109\n",
            "Data columns (total 4 columns):\n",
            " #   Column     Non-Null Count  Dtype  \n",
            "---  ------     --------------  -----  \n",
            " 0   location   110 non-null    object \n",
            " 1   price_in   110 non-null    float64\n",
            " 2   price_out  110 non-null    float64\n",
            " 3   date       110 non-null    object \n",
            "dtypes: float64(2), object(2)\n",
            "memory usage: 3.6+ KB\n"
          ]
        }
      ],
      "source": [
        "dataset.info()"
      ]
    },
    {
      "cell_type": "code",
      "source": [
        "dataset['date'] = pd.to_datetime(dataset['date'], format='%d%m%Y')\n",
        "dataset.info()"
      ],
      "metadata": {
        "colab": {
          "base_uri": "https://localhost:8080/"
        },
        "id": "GkDdPE_GxKVr",
        "outputId": "cbac2451-9364-4ca7-c0f2-6168db31bf59"
      },
      "execution_count": 39,
      "outputs": [
        {
          "output_type": "stream",
          "name": "stdout",
          "text": [
            "<class 'pandas.core.frame.DataFrame'>\n",
            "RangeIndex: 110 entries, 0 to 109\n",
            "Data columns (total 4 columns):\n",
            " #   Column     Non-Null Count  Dtype         \n",
            "---  ------     --------------  -----         \n",
            " 0   location   110 non-null    object        \n",
            " 1   price_in   110 non-null    float64       \n",
            " 2   price_out  110 non-null    float64       \n",
            " 3   date       110 non-null    datetime64[ns]\n",
            "dtypes: datetime64[ns](1), float64(2), object(1)\n",
            "memory usage: 3.6+ KB\n"
          ]
        }
      ]
    },
    {
      "cell_type": "code",
      "source": [
        "dataset.to_csv('dataset.csv')\n",
        "df=pd.read_csv(\"dataset.csv\", parse_dates=True, index_col = \"date\")\n",
        "dataFrame = df[df['location'].str.contains('nha trang')]\n",
        "dataFrame.drop(columns='Unnamed: 0',inplace=True)\n",
        "print(dataFrame)\n",
        "dataFrame.plot(figsize=(10, 5))"
      ],
      "metadata": {
        "colab": {
          "base_uri": "https://localhost:8080/",
          "height": 669
        },
        "id": "KNnaoU1Jzeyo",
        "outputId": "5d7b9879-456d-4249-97de-8b57d37ce8f9"
      },
      "execution_count": 41,
      "outputs": [
        {
          "output_type": "stream",
          "name": "stdout",
          "text": [
            "             location  price_in  price_out\n",
            "date                                      \n",
            "2022-10-17  nha trang   66000.0    67020.0\n",
            "2022-10-18  nha trang   66100.0    67120.0\n",
            "2022-10-19  nha trang   66000.0    67020.0\n",
            "2022-10-20  nha trang   66200.0    67220.0\n",
            "2022-10-21  nha trang   66300.0    67320.0\n",
            "2022-10-22  nha trang   66500.0    67520.0\n",
            "2022-10-23  nha trang   66500.0    67520.0\n",
            "2022-10-24  nha trang   66300.0    67320.0\n",
            "2022-10-25  nha trang   66200.0    67220.0\n",
            "2022-10-26  nha trang   66400.0    67420.0\n"
          ]
        },
        {
          "output_type": "stream",
          "name": "stderr",
          "text": [
            "/usr/local/lib/python3.7/dist-packages/pandas/core/frame.py:4913: SettingWithCopyWarning: \n",
            "A value is trying to be set on a copy of a slice from a DataFrame\n",
            "\n",
            "See the caveats in the documentation: https://pandas.pydata.org/pandas-docs/stable/user_guide/indexing.html#returning-a-view-versus-a-copy\n",
            "  errors=errors,\n"
          ]
        },
        {
          "output_type": "execute_result",
          "data": {
            "text/plain": [
              "<matplotlib.axes._subplots.AxesSubplot at 0x7f12ac01b2d0>"
            ]
          },
          "metadata": {},
          "execution_count": 41
        },
        {
          "output_type": "display_data",
          "data": {
            "text/plain": [
              "<Figure size 720x360 with 1 Axes>"
            ],
            "image/png": "[encoded data removed]"
          },
          "metadata": {
            "needs_background": "light"
          }
        }
      ]
    },
    {
      "cell_type": "code",
      "source": [],
      "metadata": {
        "id": "4aEmn8w0fQ2q"
      },
      "execution_count": null,
      "outputs": []
    }
  ],
  "metadata": {
    "colab": {
      "provenance": [],
      "include_colab_link": true
    },
    "kernelspec": {
      "display_name": "Python 3",
      "name": "python3"
    },
    "language_info": {
      "name": "python"
    }
  },
  "nbformat": 4,
  "nbformat_minor": 0
}