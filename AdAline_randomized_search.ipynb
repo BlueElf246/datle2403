{
  "nbformat": 4,
  "nbformat_minor": 0,
  "metadata": {
    "colab": {
      "provenance": [],
      "authorship_tag": "ABX9TyMMasIgGz14pyorPI+Ptvej",
      "include_colab_link": true
    },
    "kernelspec": {
      "name": "python3",
      "display_name": "Python 3"
    },
    "language_info": {
      "name": "python"
    }
  },
  "cells": [
    {
      "cell_type": "markdown",
      "metadata": {
        "id": "view-in-github",
        "colab_type": "text"
      },
      "source": [
        "<a href=\"https://colab.research.google.com/github/datle2403/datle2403/blob/main/AdAline_randomized_search.ipynb\" target=\"_parent\"><img src=\"https://colab.research.google.com/assets/colab-badge.svg\" alt=\"Open In Colab\"/></a>"
      ]
    },
    {
      "cell_type": "code",
      "execution_count": 67,
      "metadata": {
        "id": "l9ulkZz4gQHx"
      },
      "outputs": [],
      "source": [
        "import numpy as np\n",
        "from sklearn.base import BaseEstimator, TransformerMixin\n",
        "class adaline(BaseEstimator, TransformerMixin):\n",
        "  def __init__(self,iter=50,lr=0.001,random_state=1):\n",
        "    self.iter=iter\n",
        "    self.lr=lr\n",
        "    self.random_state=random_state\n",
        "  def net_input(self,X):\n",
        "    return self.w_[0] + np.dot(X,self.w_[1:])\n",
        "  def linear_activation_function(self,z):\n",
        "    return z\n",
        "  def fit(self,X,y):\n",
        "    self.error_=[]\n",
        "    rgen = np.random.RandomState(self.random_state)\n",
        "    self.w_ = rgen.normal(loc=0.0, scale=0.01, size=1 + X.shape[1])\n",
        "    for _ in range(self.iter):\n",
        "      Z=self.net_input(X)\n",
        "      A=self.linear_activation_function(Z)\n",
        "      update=self.lr*(y-A)\n",
        "      self.w_[0]+=np.sum(update)\n",
        "      self.w_[1:]+=np.dot(X.T,update)\n",
        "      error=self.cost_function(X,y)\n",
        "      self.error_.append(error)\n",
        "    return self\n",
        "  def predict(self,X):\n",
        "    return np.where(self.net_input(X)>0.0,1,-1)\n",
        "  def cost_function(self,X,y):\n",
        "    return 1/2*np.sum((y-self.net_input(X))**2)"
      ]
    },
    {
      "cell_type": "code",
      "source": [
        "import pandas as pd\n",
        "import matplotlib.pyplot as plt\n",
        "#load dataset\n",
        "df=pd.read_csv('Iris.csv')\n",
        "X=df.iloc[:100,[1,3]].values\n",
        "y=df.iloc[:100,5].values\n",
        "y=np.where(y=='Iris-setosa',-1,1)\n",
        "ada=adaline(iter=200,lr=0.0001)\n",
        "ada.fit(X,y)\n",
        "print(ada.error_)\n",
        "plt.plot(range(1, len(ada.error_) + 1), ada.error_, marker='o')"
      ],
      "metadata": {
        "colab": {
          "base_uri": "https://localhost:8080/",
          "height": 320
        },
        "id": "W6i7yxmlkg-c",
        "outputId": "ee137070-80ad-4e5d-dfc9-cab5c0c89b12"
      },
      "execution_count": 68,
      "outputs": [
        {
          "output_type": "stream",
          "name": "stdout",
          "text": [
            "[48.734405003475466, 47.268121538341724, 46.127493074312454, 45.11577153141929, 44.16300470536643, 43.244135928281686, 42.350009099392544, 41.47710358023412, 40.62389994660111, 39.78959323729818, 38.973637280057545, 38.17558324301583, 37.39502235241281, 36.63156549055842, 35.884835853049346, 35.15446623192374, 34.44009793908688, 33.74138031294905, 33.05797043399405, 32.38953291671958, 31.735739730967378, 31.096270035958685, 30.470810021078176, 29.859052751247802, 29.26069801607837, 28.675452182464248, 28.103028050456267, 27.54314471230968, 26.995527414626324, 26.45990742351922, 25.93602189273203, 25.42361373464812, 24.92243149412579, 24.43222922509762, 23.952766369873352, 23.483807641087196, 23.025122906231452, 22.57648707471985, 22.137679987425287, 21.708486308637532, 21.288695420388127, 20.878101319090366, 20.476502514443947, 20.083701930554284, 19.69950680921833, 19.323728615329287, 18.95618294435364, 18.59668943183545, 18.245071664883135, 17.901157095595575, 17.564776956384865, 17.235766177154314, 16.913963304290935, 16.599210421432687, 16.291353071971688, 15.990240183255178, 15.695723992447258, 15.407659974014825, 15.125906768802237, 14.850326114659861, 14.580782778592484, 14.317144490394208, 14.059281877737394, 13.807068402683692, 13.560380299586035, 13.319096514351136, 13.083098645032669, 12.852270883725962, 12.62649995973575, 12.405675083988985, 12.189687894665555, 11.978432404020143, 11.77180494636916, 11.569704127217198, 11.372030773498091, 11.178687884906108, 10.989580586293458, 10.804616081110654, 10.623703605866982, 10.44675438558868, 10.273681590252941, 10.10440029217645, 9.938827424337433, 9.776881739610841, 9.618483770896669, 9.463555792121745, 9.312021780096, 9.163807377204364, 9.018839854916056, 8.877048078093358, 8.738362470082308, 8.602714978568239, 8.470039042179364, 8.340269557822054, 8.213342848731733, 8.089196633223775, 7.967769994128988, 7.849003348898769, 7.732838420365197, 7.619218208141737, 7.508086960650518, 7.399390147762483, 7.29307443403692, 7.189087652547316, 7.087378779280642, 6.987897908097505, 6.89059622624092, 6.795425990381633, 6.702340503188276, 6.611294090410819, 6.522242078466123, 6.435140772514558, 6.349947435016914, 6.266620264761137, 6.185118376348542, 6.105401780129455, 6.027431362578467, 5.9511688670996055, 5.876576875252072, 5.803618788387285, 5.732258809688235, 5.662461926602333, 5.594193893659146, 5.527421215664569, 5.462111131263168, 5.398231596860693, 5.3357512708988075, 5.274639498474338, 5.2148662962954875, 5.156402337967678, 5.0992189396017205, 5.043288045737302, 4.988582215574906, 4.935074609509316, 4.882738975958197, 4.831549638479241, 4.781481483169538, 4.732509946341045, 4.684611002466038, 4.637761152386682, 4.591937411782912, 4.547117299892969, 4.503278828481053, 4.460400491046683, 4.418461252270462, 4.377440537691077, 4.337318223608476, 4.298074627208218, 4.259690496902228, 4.2221470028811465, 4.185425727873677, 4.149508658108384, 4.114378174473488, 4.080017043870393, 4.046408410756569, 4.013535788873786, 3.9813830531575407, 3.94993443182374, 3.9191744986287724, 3.88908816529912, 3.8596606741268644, 3.8308775907273924, 3.8027247969557734, 3.775188483978346, 3.74825514549608, 3.721911571116414, 3.6961448398703056, 3.670942313871319, 3.6462916321136305, 3.6221807044059178, 3.5985977054381335, 3.5755310689782984, 3.5529694821963993, 3.53090188011268, 3.509317440167532, 3.4882055769103717, 3.4675559368048745, 3.4473583931480105, 3.4276030411004133, 3.4082801928256083, 3.3893803727357565, 3.370894312841535, 3.35281294820392, 3.3351274124855905, 3.3178290335998235, 3.3009093294546825, 3.284360003790484, 3.268172942108424, 3.252340207688427, 3.2368540376942363, 3.221706839363823, 3.206891186283271, 3.1923998147423034, 3.1782256201696235, 3.1643616536463965, 3.1508011184960854, 3.1375373669490045, 3.1245638968799585, 3.1118743486173517, 3.099462501822197]\n"
          ]
        },
        {
          "output_type": "execute_result",
          "data": {
            "text/plain": [
              "[<matplotlib.lines.Line2D at 0x7f018b7638d0>]"
            ]
          },
          "metadata": {},
          "execution_count": 68
        },
        {
          "output_type": "display_data",
          "data": {
            "text/plain": [
              "<Figure size 432x288 with 1 Axes>"
            ],
            "image/png": "[encoded data removed]"
          },
          "metadata": {
            "needs_background": "light"
          }
        }
      ]
    },
    {
      "cell_type": "code",
      "source": [
        "from sklearn.model_selection import GridSearchCV\n",
        "param_grid = [\n",
        "    {'iter': [10, 20, 30,50]},\n",
        "    {'lr':[0.1,0.01,0.001,0.0001]}\n",
        "  ]\n",
        "grid_search = GridSearchCV(ada, param_grid, cv=5,\n",
        "                           scoring='neg_mean_squared_error',\n",
        "                           return_train_score=True)\n",
        "grid_search.fit(X,y)"
      ],
      "metadata": {
        "colab": {
          "base_uri": "https://localhost:8080/"
        },
        "id": "_yGyDk6Nks67",
        "outputId": "30320915-45bf-4381-bfe7-3ef690b8e0a3"
      },
      "execution_count": 69,
      "outputs": [
        {
          "output_type": "stream",
          "name": "stderr",
          "text": [
            "/usr/local/lib/python3.7/dist-packages/ipykernel_launcher.py:28: RuntimeWarning: overflow encountered in square\n",
            "/usr/local/lib/python3.7/dist-packages/numpy/core/fromnumeric.py:86: RuntimeWarning: overflow encountered in reduce\n",
            "  return ufunc.reduce(obj, axis, dtype, out, **passkwargs)\n",
            "/usr/local/lib/python3.7/dist-packages/ipykernel_launcher.py:20: RuntimeWarning: invalid value encountered in double_scalars\n",
            "/usr/local/lib/python3.7/dist-packages/ipykernel_launcher.py:21: RuntimeWarning: invalid value encountered in add\n",
            "/usr/local/lib/python3.7/dist-packages/ipykernel_launcher.py:28: RuntimeWarning: overflow encountered in square\n",
            "/usr/local/lib/python3.7/dist-packages/numpy/core/fromnumeric.py:86: RuntimeWarning: overflow encountered in reduce\n",
            "  return ufunc.reduce(obj, axis, dtype, out, **passkwargs)\n",
            "/usr/local/lib/python3.7/dist-packages/ipykernel_launcher.py:20: RuntimeWarning: invalid value encountered in double_scalars\n",
            "/usr/local/lib/python3.7/dist-packages/ipykernel_launcher.py:21: RuntimeWarning: invalid value encountered in add\n",
            "/usr/local/lib/python3.7/dist-packages/ipykernel_launcher.py:28: RuntimeWarning: overflow encountered in square\n",
            "/usr/local/lib/python3.7/dist-packages/numpy/core/fromnumeric.py:86: RuntimeWarning: overflow encountered in reduce\n",
            "  return ufunc.reduce(obj, axis, dtype, out, **passkwargs)\n",
            "/usr/local/lib/python3.7/dist-packages/ipykernel_launcher.py:20: RuntimeWarning: invalid value encountered in double_scalars\n",
            "/usr/local/lib/python3.7/dist-packages/ipykernel_launcher.py:21: RuntimeWarning: invalid value encountered in add\n",
            "/usr/local/lib/python3.7/dist-packages/ipykernel_launcher.py:28: RuntimeWarning: overflow encountered in square\n",
            "/usr/local/lib/python3.7/dist-packages/numpy/core/fromnumeric.py:86: RuntimeWarning: overflow encountered in reduce\n",
            "  return ufunc.reduce(obj, axis, dtype, out, **passkwargs)\n",
            "/usr/local/lib/python3.7/dist-packages/ipykernel_launcher.py:21: RuntimeWarning: invalid value encountered in add\n",
            "/usr/local/lib/python3.7/dist-packages/ipykernel_launcher.py:28: RuntimeWarning: overflow encountered in square\n",
            "/usr/local/lib/python3.7/dist-packages/ipykernel_launcher.py:20: RuntimeWarning: invalid value encountered in double_scalars\n",
            "/usr/local/lib/python3.7/dist-packages/ipykernel_launcher.py:21: RuntimeWarning: invalid value encountered in add\n",
            "/usr/local/lib/python3.7/dist-packages/ipykernel_launcher.py:28: RuntimeWarning: overflow encountered in square\n",
            "/usr/local/lib/python3.7/dist-packages/ipykernel_launcher.py:28: RuntimeWarning: overflow encountered in square\n",
            "/usr/local/lib/python3.7/dist-packages/numpy/core/fromnumeric.py:86: RuntimeWarning: overflow encountered in reduce\n",
            "  return ufunc.reduce(obj, axis, dtype, out, **passkwargs)\n",
            "/usr/local/lib/python3.7/dist-packages/ipykernel_launcher.py:28: RuntimeWarning: overflow encountered in square\n",
            "/usr/local/lib/python3.7/dist-packages/ipykernel_launcher.py:28: RuntimeWarning: overflow encountered in square\n",
            "/usr/local/lib/python3.7/dist-packages/ipykernel_launcher.py:28: RuntimeWarning: overflow encountered in square\n"
          ]
        },
        {
          "output_type": "execute_result",
          "data": {
            "text/plain": [
              "GridSearchCV(cv=5, estimator=adaline(iter=200, lr=0.0001),\n",
              "             param_grid=[{'iter': [10, 20, 30, 50]},\n",
              "                         {'lr': [0.1, 0.01, 0.001, 0.0001]}],\n",
              "             return_train_score=True, scoring='neg_mean_squared_error')"
            ]
          },
          "metadata": {},
          "execution_count": 69
        }
      ]
    },
    {
      "cell_type": "code",
      "source": [
        "grid_search.best_estimator_"
      ],
      "metadata": {
        "colab": {
          "base_uri": "https://localhost:8080/"
        },
        "id": "-eiu6tYPpgHj",
        "outputId": "3f34b74c-4176-432b-d5e7-c9a21af130c9"
      },
      "execution_count": 70,
      "outputs": [
        {
          "output_type": "execute_result",
          "data": {
            "text/plain": [
              "adaline(iter=200, lr=0.0001)"
            ]
          },
          "metadata": {},
          "execution_count": 70
        }
      ]
    },
    {
      "cell_type": "code",
      "source": [
        "b=grid_search.best_estimator_\n",
        "plt.plot(range(1, len(ada.error_) + 1), b.error_, marker='o')"
      ],
      "metadata": {
        "colab": {
          "base_uri": "https://localhost:8080/",
          "height": 282
        },
        "id": "RAMKnfAj2-J9",
        "outputId": "476d15ca-b3cd-45d8-dc07-6debeeef2955"
      },
      "execution_count": 81,
      "outputs": [
        {
          "output_type": "execute_result",
          "data": {
            "text/plain": [
              "[<matplotlib.lines.Line2D at 0x7f018b6fee50>]"
            ]
          },
          "metadata": {},
          "execution_count": 81
        },
        {
          "output_type": "display_data",
          "data": {
            "text/plain": [
              "<Figure size 432x288 with 1 Axes>"
            ],
            "image/png": "[encoded data removed]"
          },
          "metadata": {
            "needs_background": "light"
          }
        }
      ]
    },
    {
      "cell_type": "code",
      "source": [
        "b.predict(X)"
      ],
      "metadata": {
        "colab": {
          "base_uri": "https://localhost:8080/"
        },
        "id": "5B-14b1qtbL0",
        "outputId": "616e34a0-3f49-481d-eba3-27f598030a46"
      },
      "execution_count": 72,
      "outputs": [
        {
          "output_type": "execute_result",
          "data": {
            "text/plain": [
              "array([-1, -1, -1, -1, -1, -1, -1, -1, -1, -1, -1, -1, -1, -1, -1, -1, -1,\n",
              "       -1, -1, -1, -1, -1, -1, -1, -1, -1, -1, -1, -1, -1, -1, -1, -1, -1,\n",
              "       -1, -1, -1, -1, -1, -1, -1, -1, -1, -1, -1, -1, -1, -1, -1, -1,  1,\n",
              "        1,  1,  1,  1,  1,  1,  1,  1,  1,  1,  1,  1,  1,  1,  1,  1,  1,\n",
              "        1,  1,  1,  1,  1,  1,  1,  1,  1,  1,  1,  1,  1,  1,  1,  1,  1,\n",
              "        1,  1,  1,  1,  1,  1,  1,  1,  1,  1,  1,  1,  1,  1,  1])"
            ]
          },
          "metadata": {},
          "execution_count": 72
        }
      ]
    },
    {
      "cell_type": "code",
      "source": [
        "from sklearn.model_selection import RandomizedSearchCV\n",
        "from scipy.stats import expon, reciprocal,rv_discrete\n",
        "#'iter': [10, 20, 30,50]\n",
        "iter=[i for i in range(0,1000)]\n",
        "param_distribs = {\n",
        "        'lr': reciprocal(0.00000000000000000000000000001, 1),\n",
        "        'iter': iter\n",
        "    }\n",
        "\n",
        "rnd_search = RandomizedSearchCV(ada, param_distributions=param_distribs,\n",
        "                                n_iter=100, cv=2, scoring='neg_mean_absolute_error',\n",
        "                                verbose=2, random_state=42)\n",
        "rnd_search.fit(X,y)"
      ],
      "metadata": {
        "colab": {
          "base_uri": "https://localhost:8080/"
        },
        "id": "UgrzVXJttlI2",
        "outputId": "89c37cc9-9b43-4d8c-ec81-3eb112dbc211"
      },
      "execution_count": 77,
      "outputs": [
        {
          "output_type": "stream",
          "name": "stdout",
          "text": [
            "Fitting 2 folds for each of 100 candidates, totalling 200 fits\n",
            "[CV] END ................iter=102, lr=1.2581911293558351e-06; total time=   0.0s\n",
            "[CV] END ................iter=102, lr=1.2581911293558351e-06; total time=   0.0s\n",
            "[CV] END ................iter=270, lr=1.6897572268338767e-08; total time=   0.0s\n",
            "[CV] END ................iter=270, lr=1.6897572268338767e-08; total time=   0.0s\n",
            "[CV] END ................iter=700, lr=2.0354225443139367e-12; total time=   0.1s\n",
            "[CV] END ................iter=700, lr=2.0354225443139367e-12; total time=   0.0s\n",
            "[CV] END ................iter=121, lr=3.3407277896880635e-25; total time=   0.0s\n",
            "[CV] END ................iter=121, lr=3.3407277896880635e-25; total time=   0.0s\n",
            "[CV] END .................iter=330, lr=2.080740243922664e-16; total time=   0.0s\n",
            "[CV] END .................iter=330, lr=2.080740243922664e-16; total time=   0.0s\n",
            "[CV] END ................iter=372, lr=2.7060470322673302e-12; total time=   0.1s\n",
            "[CV] END ................iter=372, lr=2.7060470322673302e-12; total time=   0.1s\n",
            "[CV] END .................iter=663, lr=7.512175329107224e-11; total time=   0.1s\n",
            "[CV] END .................iter=663, lr=7.512175329107224e-11; total time=   0.1s\n",
            "[CV] END ...................iter=308, lr=0.13408670314489354; total time=   0.1s\n"
          ]
        },
        {
          "output_type": "stream",
          "name": "stderr",
          "text": [
            "/usr/local/lib/python3.7/dist-packages/numpy/core/fromnumeric.py:86: RuntimeWarning: overflow encountered in reduce\n",
            "  return ufunc.reduce(obj, axis, dtype, out, **passkwargs)\n",
            "/usr/local/lib/python3.7/dist-packages/ipykernel_launcher.py:28: RuntimeWarning: overflow encountered in square\n",
            "/usr/local/lib/python3.7/dist-packages/ipykernel_launcher.py:20: RuntimeWarning: invalid value encountered in double_scalars\n",
            "/usr/local/lib/python3.7/dist-packages/ipykernel_launcher.py:21: RuntimeWarning: invalid value encountered in add\n",
            "/usr/local/lib/python3.7/dist-packages/ipykernel_launcher.py:28: RuntimeWarning: overflow encountered in square\n",
            "/usr/local/lib/python3.7/dist-packages/ipykernel_launcher.py:21: RuntimeWarning: invalid value encountered in add\n",
            "/usr/local/lib/python3.7/dist-packages/ipykernel_launcher.py:28: RuntimeWarning: overflow encountered in square\n",
            "/usr/local/lib/python3.7/dist-packages/ipykernel_launcher.py:21: RuntimeWarning: invalid value encountered in add\n"
          ]
        },
        {
          "output_type": "stream",
          "name": "stdout",
          "text": [
            "[CV] END ...................iter=308, lr=0.13408670314489354; total time=   0.1s\n",
            "[CV] END ..................iter=491, lr=0.016520704433740527; total time=   0.1s\n",
            "[CV] END ..................iter=491, lr=0.016520704433740527; total time=   0.1s\n",
            "[CV] END .................iter=385, lr=1.874666630898681e-24; total time=   0.0s\n"
          ]
        },
        {
          "output_type": "stream",
          "name": "stderr",
          "text": [
            "/usr/local/lib/python3.7/dist-packages/numpy/core/fromnumeric.py:86: RuntimeWarning: overflow encountered in reduce\n",
            "  return ufunc.reduce(obj, axis, dtype, out, **passkwargs)\n",
            "/usr/local/lib/python3.7/dist-packages/ipykernel_launcher.py:28: RuntimeWarning: overflow encountered in square\n",
            "/usr/local/lib/python3.7/dist-packages/ipykernel_launcher.py:21: RuntimeWarning: invalid value encountered in add\n"
          ]
        },
        {
          "output_type": "stream",
          "name": "stdout",
          "text": [
            "[CV] END .................iter=385, lr=1.874666630898681e-24; total time=   0.1s\n",
            "[CV] END .................iter=276, lr=8.071677084717723e-12; total time=   0.0s\n",
            "[CV] END .................iter=276, lr=8.071677084717723e-12; total time=   0.0s\n",
            "[CV] END ................iter=313, lr=1.6517203416192084e-14; total time=   0.0s\n",
            "[CV] END ................iter=313, lr=1.6517203416192084e-14; total time=   0.0s\n",
            "[CV] END ................iter=747, lr=4.6645561596687334e-29; total time=   0.1s\n",
            "[CV] END ................iter=747, lr=4.6645561596687334e-29; total time=   0.0s\n",
            "[CV] END .................iter=474, lr=5.542860478685309e-12; total time=   0.0s\n",
            "[CV] END .................iter=474, lr=5.542860478685309e-12; total time=   0.0s\n",
            "[CV] END .................iter=681, lr=2.255818911403675e-28; total time=   0.0s\n",
            "[CV] END .................iter=681, lr=2.255818911403675e-28; total time=   0.0s\n",
            "[CV] END ................iter=699, lr=4.2120493947261234e-19; total time=   0.0s\n",
            "[CV] END ................iter=699, lr=4.2120493947261234e-19; total time=   0.0s\n",
            "[CV] END .................iter=189, lr=4.242155671204637e-27; total time=   0.0s\n",
            "[CV] END .................iter=189, lr=4.242155671204637e-27; total time=   0.0s\n",
            "[CV] END .................iter=957, lr=6.173616992217324e-24; total time=   0.0s\n",
            "[CV] END .................iter=957, lr=6.173616992217324e-24; total time=   0.0s\n",
            "[CV] END ....................iter=566, lr=0.3263590711368372; total time=   0.0s\n",
            "[CV] END ....................iter=566, lr=0.3263590711368372; total time=   0.0s\n",
            "[CV] END .................iter=504, lr=2.223627154304095e-28; total time=   0.0s\n",
            "[CV] END .................iter=504, lr=2.223627154304095e-28; total time=   0.0s\n",
            "[CV] END .................iter=818, lr=5.356962658204927e-10; total time=   0.0s\n",
            "[CV] END .................iter=818, lr=5.356962658204927e-10; total time=   0.0s\n"
          ]
        },
        {
          "output_type": "stream",
          "name": "stderr",
          "text": [
            "/usr/local/lib/python3.7/dist-packages/numpy/core/fromnumeric.py:86: RuntimeWarning: overflow encountered in reduce\n",
            "  return ufunc.reduce(obj, axis, dtype, out, **passkwargs)\n",
            "/usr/local/lib/python3.7/dist-packages/ipykernel_launcher.py:28: RuntimeWarning: overflow encountered in square\n",
            "/usr/local/lib/python3.7/dist-packages/ipykernel_launcher.py:21: RuntimeWarning: invalid value encountered in add\n",
            "/usr/local/lib/python3.7/dist-packages/ipykernel_launcher.py:28: RuntimeWarning: overflow encountered in square\n",
            "/usr/local/lib/python3.7/dist-packages/ipykernel_launcher.py:20: RuntimeWarning: invalid value encountered in double_scalars\n",
            "/usr/local/lib/python3.7/dist-packages/ipykernel_launcher.py:21: RuntimeWarning: invalid value encountered in add\n"
          ]
        },
        {
          "output_type": "stream",
          "name": "stdout",
          "text": [
            "[CV] END .................iter=840, lr=7.700097008025534e-28; total time=   0.0s\n",
            "[CV] END .................iter=840, lr=7.700097008025534e-28; total time=   0.1s\n",
            "[CV] END ..................iter=387, lr=0.021079044217192523; total time=   0.0s\n",
            "[CV] END ..................iter=387, lr=0.021079044217192523; total time=   0.0s\n",
            "[CV] END ..................iter=13, lr=2.776662502513545e-06; total time=   0.0s\n",
            "[CV] END ..................iter=13, lr=2.776662502513545e-06; total time=   0.0s\n",
            "[CV] END ..................iter=776, lr=2.90416518213159e-29; total time=   0.0s\n",
            "[CV] END ..................iter=776, lr=2.90416518213159e-29; total time=   0.0s\n"
          ]
        },
        {
          "output_type": "stream",
          "name": "stderr",
          "text": [
            "/usr/local/lib/python3.7/dist-packages/ipykernel_launcher.py:28: RuntimeWarning: overflow encountered in square\n",
            "/usr/local/lib/python3.7/dist-packages/ipykernel_launcher.py:20: RuntimeWarning: invalid value encountered in double_scalars\n",
            "/usr/local/lib/python3.7/dist-packages/ipykernel_launcher.py:21: RuntimeWarning: invalid value encountered in add\n",
            "/usr/local/lib/python3.7/dist-packages/numpy/core/fromnumeric.py:86: RuntimeWarning: overflow encountered in reduce\n",
            "  return ufunc.reduce(obj, axis, dtype, out, **passkwargs)\n",
            "/usr/local/lib/python3.7/dist-packages/ipykernel_launcher.py:28: RuntimeWarning: overflow encountered in square\n",
            "/usr/local/lib/python3.7/dist-packages/ipykernel_launcher.py:21: RuntimeWarning: invalid value encountered in add\n"
          ]
        },
        {
          "output_type": "stream",
          "name": "stdout",
          "text": [
            "[CV] END .................iter=897, lr=6.962380735564612e-10; total time=   0.0s\n",
            "[CV] END .................iter=897, lr=6.962380735564612e-10; total time=   0.0s\n",
            "[CV] END .................iter=366, lr=6.525924513754361e-10; total time=   0.0s\n",
            "[CV] END .................iter=366, lr=6.525924513754361e-10; total time=   0.0s\n",
            "[CV] END ................iter=427, lr=2.2915555695743363e-15; total time=   0.0s\n",
            "[CV] END ................iter=427, lr=2.2915555695743363e-15; total time=   0.0s\n",
            "[CV] END ................iter=942, lr=1.0655527437966116e-24; total time=   0.0s\n",
            "[CV] END ................iter=942, lr=1.0655527437966116e-24; total time=   0.0s\n",
            "[CV] END .................iter=80, lr=3.1960934302392857e-22; total time=   0.0s\n",
            "[CV] END .................iter=80, lr=3.1960934302392857e-22; total time=   0.0s\n",
            "[CV] END .................iter=871, lr=8.044163685850512e-08; total time=   0.0s\n",
            "[CV] END .................iter=871, lr=8.044163685850512e-08; total time=   0.0s\n",
            "[CV] END .................iter=389, lr=1.072280043223987e-23; total time=   0.0s\n",
            "[CV] END .................iter=389, lr=1.072280043223987e-23; total time=   0.0s\n",
            "[CV] END .................iter=771, lr=2.294981612186968e-24; total time=   0.0s\n",
            "[CV] END .................iter=771, lr=2.294981612186968e-24; total time=   0.0s\n",
            "[CV] END ................iter=702, lr=2.6684462741934967e-05; total time=   0.0s\n",
            "[CV] END ................iter=702, lr=2.6684462741934967e-05; total time=   0.0s\n",
            "[CV] END ..................iter=555, lr=0.017598242802752774; total time=   0.0s\n",
            "[CV] END ..................iter=555, lr=0.017598242802752774; total time=   0.0s\n",
            "[CV] END ..................iter=957, lr=0.007466328742845214; total time=   0.0s\n",
            "[CV] END ..................iter=957, lr=0.007466328742845214; total time=   0.0s\n",
            "[CV] END .................iter=862, lr=0.0054244138437872244; total time=   0.0s\n"
          ]
        },
        {
          "output_type": "stream",
          "name": "stderr",
          "text": [
            "/usr/local/lib/python3.7/dist-packages/numpy/core/fromnumeric.py:86: RuntimeWarning: overflow encountered in reduce\n",
            "  return ufunc.reduce(obj, axis, dtype, out, **passkwargs)\n",
            "/usr/local/lib/python3.7/dist-packages/ipykernel_launcher.py:28: RuntimeWarning: overflow encountered in square\n",
            "/usr/local/lib/python3.7/dist-packages/ipykernel_launcher.py:21: RuntimeWarning: invalid value encountered in add\n",
            "/usr/local/lib/python3.7/dist-packages/ipykernel_launcher.py:28: RuntimeWarning: overflow encountered in square\n",
            "/usr/local/lib/python3.7/dist-packages/ipykernel_launcher.py:20: RuntimeWarning: invalid value encountered in double_scalars\n",
            "/usr/local/lib/python3.7/dist-packages/ipykernel_launcher.py:21: RuntimeWarning: invalid value encountered in add\n",
            "/usr/local/lib/python3.7/dist-packages/numpy/core/fromnumeric.py:86: RuntimeWarning: overflow encountered in reduce\n",
            "  return ufunc.reduce(obj, axis, dtype, out, **passkwargs)\n",
            "/usr/local/lib/python3.7/dist-packages/ipykernel_launcher.py:28: RuntimeWarning: overflow encountered in square\n",
            "/usr/local/lib/python3.7/dist-packages/ipykernel_launcher.py:21: RuntimeWarning: invalid value encountered in add\n",
            "/usr/local/lib/python3.7/dist-packages/numpy/core/fromnumeric.py:86: RuntimeWarning: overflow encountered in reduce\n",
            "  return ufunc.reduce(obj, axis, dtype, out, **passkwargs)\n",
            "/usr/local/lib/python3.7/dist-packages/ipykernel_launcher.py:28: RuntimeWarning: overflow encountered in square\n",
            "/usr/local/lib/python3.7/dist-packages/ipykernel_launcher.py:21: RuntimeWarning: invalid value encountered in add\n",
            "/usr/local/lib/python3.7/dist-packages/ipykernel_launcher.py:28: RuntimeWarning: overflow encountered in square\n",
            "/usr/local/lib/python3.7/dist-packages/ipykernel_launcher.py:9: RuntimeWarning: overflow encountered in add\n",
            "  if __name__ == '__main__':\n",
            "/usr/local/lib/python3.7/dist-packages/ipykernel_launcher.py:20: RuntimeWarning: invalid value encountered in double_scalars\n",
            "/usr/local/lib/python3.7/dist-packages/ipykernel_launcher.py:21: RuntimeWarning: invalid value encountered in add\n",
            "/usr/local/lib/python3.7/dist-packages/numpy/core/fromnumeric.py:86: RuntimeWarning: overflow encountered in reduce\n",
            "  return ufunc.reduce(obj, axis, dtype, out, **passkwargs)\n",
            "/usr/local/lib/python3.7/dist-packages/ipykernel_launcher.py:28: RuntimeWarning: overflow encountered in square\n",
            "/usr/local/lib/python3.7/dist-packages/ipykernel_launcher.py:20: RuntimeWarning: invalid value encountered in double_scalars\n",
            "/usr/local/lib/python3.7/dist-packages/ipykernel_launcher.py:21: RuntimeWarning: invalid value encountered in add\n"
          ]
        },
        {
          "output_type": "stream",
          "name": "stdout",
          "text": [
            "[CV] END .................iter=862, lr=0.0054244138437872244; total time=   0.1s\n",
            "[CV] END ................iter=455, lr=3.4904004643570684e-13; total time=   0.0s\n",
            "[CV] END ................iter=455, lr=3.4904004643570684e-13; total time=   0.0s\n",
            "[CV] END ................iter=251, lr=2.0492331766921773e-28; total time=   0.0s\n",
            "[CV] END ................iter=251, lr=2.0492331766921773e-28; total time=   0.0s\n",
            "[CV] END ................iter=295, lr=3.1008560933263575e-05; total time=   0.0s\n",
            "[CV] END ................iter=295, lr=3.1008560933263575e-05; total time=   0.0s\n",
            "[CV] END ................iter=748, lr=7.3981293692076295e-22; total time=   0.0s\n",
            "[CV] END ................iter=748, lr=7.3981293692076295e-22; total time=   0.0s\n",
            "[CV] END ..................iter=52, lr=1.037012053259048e-12; total time=   0.0s\n",
            "[CV] END ..................iter=52, lr=1.037012053259048e-12; total time=   0.0s\n",
            "[CV] END ................iter=216, lr=1.4031392746217158e-21; total time=   0.0s\n",
            "[CV] END ................iter=216, lr=1.4031392746217158e-21; total time=   0.0s\n",
            "[CV] END ................iter=379, lr=1.0091977617674035e-21; total time=   0.0s\n",
            "[CV] END ................iter=379, lr=1.0091977617674035e-21; total time=   0.0s\n",
            "[CV] END ................iter=156, lr=1.8353227240876178e-06; total time=   0.0s\n",
            "[CV] END ................iter=156, lr=1.8353227240876178e-06; total time=   0.0s\n",
            "[CV] END ..................iter=64, lr=2.840899010397537e-29; total time=   0.0s\n",
            "[CV] END ..................iter=64, lr=2.840899010397537e-29; total time=   0.0s\n",
            "[CV] END .................iter=520, lr=2.483695266391295e-07; total time=   0.0s\n",
            "[CV] END .................iter=520, lr=2.483695266391295e-07; total time=   0.0s\n",
            "[CV] END ................iter=647, lr=1.4459104502723565e-29; total time=   0.0s\n",
            "[CV] END ................iter=647, lr=1.4459104502723565e-29; total time=   0.0s\n",
            "[CV] END .................iter=138, lr=5.840226876604681e-24; total time=   0.0s\n",
            "[CV] END .................iter=138, lr=5.840226876604681e-24; total time=   0.0s\n",
            "[CV] END .................iter=391, lr=1.384228775591182e-08; total time=   0.0s\n",
            "[CV] END .................iter=391, lr=1.384228775591182e-08; total time=   0.0s\n",
            "[CV] END .................iter=288, lr=3.739721564549214e-12; total time=   0.0s\n",
            "[CV] END .................iter=288, lr=3.739721564549214e-12; total time=   0.0s\n",
            "[CV] END .................iter=489, lr=2.486028641208153e-19; total time=   0.0s\n",
            "[CV] END .................iter=489, lr=2.486028641208153e-19; total time=   0.0s\n",
            "[CV] END ..................iter=40, lr=0.0034184606947186436; total time=   0.0s\n",
            "[CV] END ..................iter=40, lr=0.0034184606947186436; total time=   0.0s\n",
            "[CV] END ................iter=200, lr=1.1902705217745048e-11; total time=   0.0s\n",
            "[CV] END ................iter=200, lr=1.1902705217745048e-11; total time=   0.0s\n",
            "[CV] END .................iter=929, lr=5.846465324578096e-27; total time=   0.0s\n",
            "[CV] END .................iter=929, lr=5.846465324578096e-27; total time=   0.0s\n",
            "[CV] END ................iter=502, lr=1.0434876892417244e-20; total time=   0.0s\n",
            "[CV] END ................iter=502, lr=1.0434876892417244e-20; total time=   0.0s\n",
            "[CV] END ................iter=727, lr=2.0499739481326627e-10; total time=   0.0s\n",
            "[CV] END ................iter=727, lr=2.0499739481326627e-10; total time=   0.0s\n",
            "[CV] END .................iter=683, lr=3.084371413129153e-11; total time=   0.0s\n",
            "[CV] END .................iter=683, lr=3.084371413129153e-11; total time=   0.0s\n",
            "[CV] END ................iter=986, lr=1.8882493748397948e-13; total time=   0.0s\n",
            "[CV] END ................iter=986, lr=1.8882493748397948e-13; total time=   0.0s\n",
            "[CV] END ................iter=738, lr=2.9392270254676433e-26; total time=   0.0s\n",
            "[CV] END ................iter=738, lr=2.9392270254676433e-26; total time=   0.0s\n",
            "[CV] END ................iter=461, lr=4.1543291570866265e-05; total time=   0.0s\n",
            "[CV] END ................iter=461, lr=4.1543291570866265e-05; total time=   0.0s\n",
            "[CV] END ..................iter=4, lr=1.8925123815981375e-13; total time=   0.0s\n",
            "[CV] END ..................iter=4, lr=1.8925123815981375e-13; total time=   0.0s\n",
            "[CV] END .................iter=766, lr=2.666744205388915e-22; total time=   0.0s\n",
            "[CV] END .................iter=766, lr=2.666744205388915e-22; total time=   0.1s\n",
            "[CV] END ................iter=794, lr=1.4429525568899836e-14; total time=   0.1s\n",
            "[CV] END ................iter=794, lr=1.4429525568899836e-14; total time=   0.0s\n",
            "[CV] END .................iter=14, lr=1.6437425729931506e-26; total time=   0.0s\n",
            "[CV] END .................iter=14, lr=1.6437425729931506e-26; total time=   0.0s\n",
            "[CV] END ................iter=891, lr=1.3453998744082652e-26; total time=   0.0s\n",
            "[CV] END ................iter=891, lr=1.3453998744082652e-26; total time=   0.0s\n",
            "[CV] END .................iter=574, lr=0.0009487335844143611; total time=   0.0s\n",
            "[CV] END .................iter=574, lr=0.0009487335844143611; total time=   0.0s\n",
            "[CV] END ................iter=240, lr=1.3071440525224717e-20; total time=   0.0s\n",
            "[CV] END ................iter=240, lr=1.3071440525224717e-20; total time=   0.0s\n",
            "[CV] END ..................iter=95, lr=1.478994320826682e-09; total time=   0.0s\n",
            "[CV] END ..................iter=95, lr=1.478994320826682e-09; total time=   0.0s\n",
            "[CV] END ................iter=484, lr=1.6961905735344894e-22; total time=   0.0s\n",
            "[CV] END ................iter=484, lr=1.6961905735344894e-22; total time=   0.0s\n",
            "[CV] END ................iter=748, lr=4.5226361288068317e-14; total time=   0.0s\n",
            "[CV] END ................iter=748, lr=4.5226361288068317e-14; total time=   0.0s\n",
            "[CV] END .................iter=540, lr=4.316649626031558e-23; total time=   0.0s\n",
            "[CV] END .................iter=540, lr=4.316649626031558e-23; total time=   0.0s\n",
            "[CV] END ................iter=159, lr=2.3286194904585915e-12; total time=   0.0s\n",
            "[CV] END ................iter=159, lr=2.3286194904585915e-12; total time=   0.0s\n",
            "[CV] END .................iter=242, lr=4.736061468323315e-25; total time=   0.0s\n",
            "[CV] END .................iter=242, lr=4.736061468323315e-25; total time=   0.0s\n",
            "[CV] END ................iter=577, lr=1.2772249564330894e-11; total time=   0.0s\n",
            "[CV] END ................iter=577, lr=1.2772249564330894e-11; total time=   0.0s\n",
            "[CV] END ................iter=573, lr=2.3372702910419776e-11; total time=   0.0s\n",
            "[CV] END ................iter=573, lr=2.3372702910419776e-11; total time=   0.0s\n",
            "[CV] END ................iter=645, lr=1.7358114308546105e-16; total time=   0.0s\n",
            "[CV] END ................iter=645, lr=1.7358114308546105e-16; total time=   0.0s\n",
            "[CV] END ................iter=619, lr=2.5735446512024935e-24; total time=   0.0s\n",
            "[CV] END ................iter=619, lr=2.5735446512024935e-24; total time=   0.0s\n",
            "[CV] END .................iter=797, lr=0.0004122185284903826; total time=   0.0s\n",
            "[CV] END .................iter=797, lr=0.0004122185284903826; total time=   0.0s\n",
            "[CV] END ................iter=639, lr=2.6047407219707693e-06; total time=   0.0s\n",
            "[CV] END ................iter=639, lr=2.6047407219707693e-06; total time=   0.0s\n",
            "[CV] END .................iter=347, lr=2.150984615701558e-19; total time=   0.0s\n",
            "[CV] END .................iter=347, lr=2.150984615701558e-19; total time=   0.0s\n",
            "[CV] END ................iter=189, lr=1.5541960873595047e-26; total time=   0.0s\n",
            "[CV] END ................iter=189, lr=1.5541960873595047e-26; total time=   0.0s\n",
            "[CV] END .................iter=376, lr=6.067551842107791e-11; total time=   0.0s\n",
            "[CV] END .................iter=376, lr=6.067551842107791e-11; total time=   0.0s\n",
            "[CV] END .................iter=632, lr=5.277499632679964e-06; total time=   0.0s\n",
            "[CV] END .................iter=632, lr=5.277499632679964e-06; total time=   0.0s\n",
            "[CV] END .................iter=744, lr=6.896940615011448e-21; total time=   0.0s\n",
            "[CV] END .................iter=744, lr=6.896940615011448e-21; total time=   0.0s\n",
            "[CV] END .................iter=709, lr=6.481444025256128e-15; total time=   0.0s\n",
            "[CV] END .................iter=709, lr=6.481444025256128e-15; total time=   0.0s\n",
            "[CV] END .................iter=648, lr=1.148336500711661e-15; total time=   0.0s\n",
            "[CV] END .................iter=648, lr=1.148336500711661e-15; total time=   0.0s\n",
            "[CV] END .................iter=224, lr=2.992923750771452e-26; total time=   0.0s\n",
            "[CV] END .................iter=224, lr=2.992923750771452e-26; total time=   0.0s\n",
            "[CV] END ................iter=683, lr=1.2012686553237563e-22; total time=   0.0s\n",
            "[CV] END ................iter=683, lr=1.2012686553237563e-22; total time=   0.0s\n",
            "[CV] END .................iter=826, lr=2.359853423115682e-20; total time=   0.0s\n",
            "[CV] END .................iter=826, lr=2.359853423115682e-20; total time=   0.0s\n",
            "[CV] END .................iter=607, lr=1.530939605786272e-13; total time=   0.0s\n",
            "[CV] END .................iter=607, lr=1.530939605786272e-13; total time=   0.0s\n",
            "[CV] END ................iter=691, lr=3.5096068496129715e-19; total time=   0.0s\n",
            "[CV] END ................iter=691, lr=3.5096068496129715e-19; total time=   0.0s\n",
            "[CV] END ................iter=496, lr=2.3096544214399323e-22; total time=   0.0s\n",
            "[CV] END ................iter=496, lr=2.3096544214399323e-22; total time=   0.0s\n",
            "[CV] END .................iter=267, lr=2.003025964515898e-22; total time=   0.0s\n",
            "[CV] END .................iter=267, lr=2.003025964515898e-22; total time=   0.0s\n",
            "[CV] END ...................iter=385, lr=4.5273816660454e-09; total time=   0.0s\n",
            "[CV] END ...................iter=385, lr=4.5273816660454e-09; total time=   0.0s\n",
            "[CV] END ................iter=612, lr=1.8212700125951867e-21; total time=   0.0s\n",
            "[CV] END ................iter=612, lr=1.8212700125951867e-21; total time=   0.0s\n",
            "[CV] END ..................iter=80, lr=5.453174735769163e-22; total time=   0.0s\n",
            "[CV] END ..................iter=80, lr=5.453174735769163e-22; total time=   0.0s\n",
            "[CV] END ..................iter=1, lr=3.7817400562914495e-15; total time=   0.0s\n",
            "[CV] END ..................iter=1, lr=3.7817400562914495e-15; total time=   0.0s\n",
            "[CV] END .................iter=565, lr=9.088061433377194e-29; total time=   0.0s\n",
            "[CV] END .................iter=565, lr=9.088061433377194e-29; total time=   0.0s\n",
            "[CV] END ..................iter=735, lr=0.002186304723304366; total time=   0.0s\n",
            "[CV] END ..................iter=735, lr=0.002186304723304366; total time=   0.0s\n"
          ]
        },
        {
          "output_type": "stream",
          "name": "stderr",
          "text": [
            "/usr/local/lib/python3.7/dist-packages/numpy/core/fromnumeric.py:86: RuntimeWarning: overflow encountered in reduce\n",
            "  return ufunc.reduce(obj, axis, dtype, out, **passkwargs)\n",
            "/usr/local/lib/python3.7/dist-packages/ipykernel_launcher.py:28: RuntimeWarning: overflow encountered in square\n",
            "/usr/local/lib/python3.7/dist-packages/ipykernel_launcher.py:20: RuntimeWarning: invalid value encountered in double_scalars\n",
            "/usr/local/lib/python3.7/dist-packages/ipykernel_launcher.py:21: RuntimeWarning: invalid value encountered in add\n",
            "/usr/local/lib/python3.7/dist-packages/numpy/core/fromnumeric.py:86: RuntimeWarning: overflow encountered in reduce\n",
            "  return ufunc.reduce(obj, axis, dtype, out, **passkwargs)\n",
            "/usr/local/lib/python3.7/dist-packages/ipykernel_launcher.py:28: RuntimeWarning: overflow encountered in square\n"
          ]
        },
        {
          "output_type": "execute_result",
          "data": {
            "text/plain": [
              "RandomizedSearchCV(cv=2, estimator=adaline(iter=200, lr=0.0001), n_iter=100,\n",
              "                   param_distributions={'iter': [0, 1, 2, 3, 4, 5, 6, 7, 8, 9,\n",
              "                                                 10, 11, 12, 13, 14, 15, 16, 17,\n",
              "                                                 18, 19, 20, 21, 22, 23, 24, 25,\n",
              "                                                 26, 27, 28, 29, ...],\n",
              "                                        'lr': <scipy.stats._distn_infrastructure.rv_frozen object at 0x7f018b6e0710>},\n",
              "                   random_state=42, scoring='neg_mean_absolute_error',\n",
              "                   verbose=2)"
            ]
          },
          "metadata": {},
          "execution_count": 77
        }
      ]
    },
    {
      "cell_type": "code",
      "source": [
        "rnd_search.best_params_"
      ],
      "metadata": {
        "colab": {
          "base_uri": "https://localhost:8080/"
        },
        "id": "3c8V6SiUrW8F",
        "outputId": "25bff1e2-8f93-4b8c-d3fe-c665a5512827"
      },
      "execution_count": 78,
      "outputs": [
        {
          "output_type": "execute_result",
          "data": {
            "text/plain": [
              "{'iter': 40, 'lr': 0.0034184606947186436}"
            ]
          },
          "metadata": {},
          "execution_count": 78
        }
      ]
    },
    {
      "cell_type": "code",
      "source": [
        "best=rnd_search.best_estimator_\n",
        "print(best)"
      ],
      "metadata": {
        "colab": {
          "base_uri": "https://localhost:8080/"
        },
        "id": "-frpD1ckw7CG",
        "outputId": "01bb0789-3669-4f4f-b9d1-9e74caabb22c"
      },
      "execution_count": 79,
      "outputs": [
        {
          "output_type": "stream",
          "name": "stdout",
          "text": [
            "adaline(iter=40, lr=0.0034184606947186436)\n"
          ]
        }
      ]
    },
    {
      "cell_type": "code",
      "source": [
        "best.error_"
      ],
      "metadata": {
        "colab": {
          "base_uri": "https://localhost:8080/"
        },
        "id": "2S0zHh0e2Xzb",
        "outputId": "a3d92cee-0bc1-4d55-dbe0-7b733cfc462d"
      },
      "execution_count": 80,
      "outputs": [
        {
          "output_type": "execute_result",
          "data": {
            "text/plain": [
              "[359.94503036124314,\n",
              " 55995.063167072694,\n",
              " 9236910.853328574,\n",
              " 1523973791.0198958,\n",
              " 251436596973.03842,\n",
              " 41483890876662.3,\n",
              " 6844322676190948.0,\n",
              " 1.129227560527073e+18,\n",
              " 1.863084111872386e+20,\n",
              " 3.0738555533405257e+22,\n",
              " 5.071476860648349e+24,\n",
              " 8.367301944341683e+26,\n",
              " 1.38050007426897e+29,\n",
              " 2.2776523038533344e+31,\n",
              " 3.7578411721531364e+33,\n",
              " 6.199967506558713e+35,\n",
              " 1.0229170239347575e+38,\n",
              " 1.687685035040323e+40,\n",
              " 2.7844690340012598e+42,\n",
              " 4.594025330755309e+44,\n",
              " 7.579566690060699e+46,\n",
              " 1.2505336186213905e+49,\n",
              " 2.0632239219598267e+51,\n",
              " 3.4040611853683406e+53,\n",
              " 5.616274816513554e+55,\n",
              " 9.266150370675923e+57,\n",
              " 1.5287988123287435e+60,\n",
              " 2.5223266567897143e+62,\n",
              " 4.1615232247995124e+64,\n",
              " 6.865992358256853e+66,\n",
              " 1.1328027867947943e+69,\n",
              " 1.8689827876473836e+71,\n",
              " 3.083587629940175e+73,\n",
              " 5.087533568722203e+75,\n",
              " 8.39379350259536e+77,\n",
              " 1.3848708497447405e+80,\n",
              " 2.2848635362303315e+82,\n",
              " 3.7697388028329387e+84,\n",
              " 6.219597107768692e+86,\n",
              " 1.0261556624001195e+89]"
            ]
          },
          "metadata": {},
          "execution_count": 80
        }
      ]
    },
    {
      "cell_type": "code",
      "source": [
        "best.predict(X)"
      ],
      "metadata": {
        "colab": {
          "base_uri": "https://localhost:8080/"
        },
        "id": "vkIgF2nT0TOU",
        "outputId": "e68a0230-d75f-401a-c7c3-f1402d07c53c"
      },
      "execution_count": 82,
      "outputs": [
        {
          "output_type": "execute_result",
          "data": {
            "text/plain": [
              "array([-1, -1, -1, -1, -1, -1, -1, -1, -1, -1, -1, -1, -1, -1, -1, -1, -1,\n",
              "       -1, -1, -1, -1, -1, -1, -1, -1, -1, -1, -1, -1, -1, -1, -1, -1, -1,\n",
              "       -1, -1, -1, -1, -1, -1, -1, -1, -1, -1, -1, -1, -1, -1, -1, -1, -1,\n",
              "       -1, -1, -1, -1, -1, -1, -1, -1, -1, -1, -1, -1, -1, -1, -1, -1, -1,\n",
              "       -1, -1, -1, -1, -1, -1, -1, -1, -1, -1, -1, -1, -1, -1, -1, -1, -1,\n",
              "       -1, -1, -1, -1, -1, -1, -1, -1, -1, -1, -1, -1, -1, -1, -1])"
            ]
          },
          "metadata": {},
          "execution_count": 82
        }
      ]
    },
    {
      "cell_type": "code",
      "source": [],
      "metadata": {
        "id": "JDUiq5Yf1Ck1"
      },
      "execution_count": null,
      "outputs": []
    }
  ]
}