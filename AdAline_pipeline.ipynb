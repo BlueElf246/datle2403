{
  "nbformat": 4,
  "nbformat_minor": 0,
  "metadata": {
    "colab": {
      "provenance": [],
      "authorship_tag": "ABX9TyPAbVPqJuO6Amnt4QxcN8lD",
      "include_colab_link": true
    },
    "kernelspec": {
      "name": "python3",
      "display_name": "Python 3"
    },
    "language_info": {
      "name": "python"
    }
  },
  "cells": [
    {
      "cell_type": "markdown",
      "metadata": {
        "id": "view-in-github",
        "colab_type": "text"
      },
      "source": [
        "<a href=\"https://colab.research.google.com/github/datle2403/datle2403/blob/main/AdAline_pipeline.ipynb\" target=\"_parent\"><img src=\"https://colab.research.google.com/assets/colab-badge.svg\" alt=\"Open In Colab\"/></a>"
      ]
    },
    {
      "cell_type": "code",
      "execution_count": 85,
      "metadata": {
        "id": "l9ulkZz4gQHx"
      },
      "outputs": [],
      "source": [
        "import numpy as np\n",
        "from sklearn.base import BaseEstimator, TransformerMixin\n",
        "class adaline(BaseEstimator, TransformerMixin):\n",
        "  def __init__(self,iter=50,lr=0.001,random_state=1):\n",
        "    self.iter=iter\n",
        "    self.lr=lr\n",
        "    self.random_state=random_state\n",
        "  def net_input(self,X):\n",
        "    return self.w_[0] + np.dot(X,self.w_[1:])\n",
        "  def linear_activation_function(self,z):\n",
        "    return z\n",
        "  def fit(self,X,y):\n",
        "    self.error_=[]\n",
        "    rgen = np.random.RandomState(self.random_state)\n",
        "    self.w_ = rgen.normal(loc=0.0, scale=0.01, size=1 + X.shape[1])\n",
        "    for _ in range(self.iter):\n",
        "      Z=self.net_input(X)\n",
        "      A=self.linear_activation_function(Z)\n",
        "      update=self.lr*(y-A)\n",
        "      self.w_[0]+=np.sum(update)\n",
        "      self.w_[1:]+=np.dot(X.T,update)\n",
        "      error=self.cost_function(X,y)\n",
        "      self.error_.append(error)\n",
        "    return self\n",
        "  def predict(self,X):\n",
        "    return np.where(self.net_input(X)>0.0,1,-1)\n",
        "  def cost_function(self,X,y):\n",
        "    return 1/2*np.sum((y-self.net_input(X))**2)"
      ]
    },
    {
      "cell_type": "code",
      "source": [
        "import pandas as pd\n",
        "import matplotlib.pyplot as plt\n",
        "#load dataset\n",
        "df=pd.read_csv('Iris.csv')\n",
        "X=df.iloc[:100,[1,3]].values\n",
        "y=df.iloc[:100,5].values\n",
        "y=np.where(y=='Iris-setosa',-1,1)\n",
        "ada=adaline(iter=200,lr=0.0001)\n",
        "ada.fit(X,y)\n",
        "print(ada.error_)\n",
        "plt.plot(range(1, len(ada.error_) + 1), ada.error_, marker='o')"
      ],
      "metadata": {
        "colab": {
          "base_uri": "https://localhost:8080/",
          "height": 320
        },
        "id": "W6i7yxmlkg-c",
        "outputId": "0967b768-b50f-4af2-a030-bb2002dbd970"
      },
      "execution_count": 86,
      "outputs": [
        {
          "output_type": "stream",
          "name": "stdout",
          "text": [
            "[48.734405003475466, 47.268121538341724, 46.127493074312454, 45.11577153141929, 44.16300470536643, 43.244135928281686, 42.350009099392544, 41.47710358023412, 40.62389994660111, 39.78959323729818, 38.973637280057545, 38.17558324301583, 37.39502235241281, 36.63156549055842, 35.884835853049346, 35.15446623192374, 34.44009793908688, 33.74138031294905, 33.05797043399405, 32.38953291671958, 31.735739730967378, 31.096270035958685, 30.470810021078176, 29.859052751247802, 29.26069801607837, 28.675452182464248, 28.103028050456267, 27.54314471230968, 26.995527414626324, 26.45990742351922, 25.93602189273203, 25.42361373464812, 24.92243149412579, 24.43222922509762, 23.952766369873352, 23.483807641087196, 23.025122906231452, 22.57648707471985, 22.137679987425287, 21.708486308637532, 21.288695420388127, 20.878101319090366, 20.476502514443947, 20.083701930554284, 19.69950680921833, 19.323728615329287, 18.95618294435364, 18.59668943183545, 18.245071664883135, 17.901157095595575, 17.564776956384865, 17.235766177154314, 16.913963304290935, 16.599210421432687, 16.291353071971688, 15.990240183255178, 15.695723992447258, 15.407659974014825, 15.125906768802237, 14.850326114659861, 14.580782778592484, 14.317144490394208, 14.059281877737394, 13.807068402683692, 13.560380299586035, 13.319096514351136, 13.083098645032669, 12.852270883725962, 12.62649995973575, 12.405675083988985, 12.189687894665555, 11.978432404020143, 11.77180494636916, 11.569704127217198, 11.372030773498091, 11.178687884906108, 10.989580586293458, 10.804616081110654, 10.623703605866982, 10.44675438558868, 10.273681590252941, 10.10440029217645, 9.938827424337433, 9.776881739610841, 9.618483770896669, 9.463555792121745, 9.312021780096, 9.163807377204364, 9.018839854916056, 8.877048078093358, 8.738362470082308, 8.602714978568239, 8.470039042179364, 8.340269557822054, 8.213342848731733, 8.089196633223775, 7.967769994128988, 7.849003348898769, 7.732838420365197, 7.619218208141737, 7.508086960650518, 7.399390147762483, 7.29307443403692, 7.189087652547316, 7.087378779280642, 6.987897908097505, 6.89059622624092, 6.795425990381633, 6.702340503188276, 6.611294090410819, 6.522242078466123, 6.435140772514558, 6.349947435016914, 6.266620264761137, 6.185118376348542, 6.105401780129455, 6.027431362578467, 5.9511688670996055, 5.876576875252072, 5.803618788387285, 5.732258809688235, 5.662461926602333, 5.594193893659146, 5.527421215664569, 5.462111131263168, 5.398231596860693, 5.3357512708988075, 5.274639498474338, 5.2148662962954875, 5.156402337967678, 5.0992189396017205, 5.043288045737302, 4.988582215574906, 4.935074609509316, 4.882738975958197, 4.831549638479241, 4.781481483169538, 4.732509946341045, 4.684611002466038, 4.637761152386682, 4.591937411782912, 4.547117299892969, 4.503278828481053, 4.460400491046683, 4.418461252270462, 4.377440537691077, 4.337318223608476, 4.298074627208218, 4.259690496902228, 4.2221470028811465, 4.185425727873677, 4.149508658108384, 4.114378174473488, 4.080017043870393, 4.046408410756569, 4.013535788873786, 3.9813830531575407, 3.94993443182374, 3.9191744986287724, 3.88908816529912, 3.8596606741268644, 3.8308775907273924, 3.8027247969557734, 3.775188483978346, 3.74825514549608, 3.721911571116414, 3.6961448398703056, 3.670942313871319, 3.6462916321136305, 3.6221807044059178, 3.5985977054381335, 3.5755310689782984, 3.5529694821963993, 3.53090188011268, 3.509317440167532, 3.4882055769103717, 3.4675559368048745, 3.4473583931480105, 3.4276030411004133, 3.4082801928256083, 3.3893803727357565, 3.370894312841535, 3.35281294820392, 3.3351274124855905, 3.3178290335998235, 3.3009093294546825, 3.284360003790484, 3.268172942108424, 3.252340207688427, 3.2368540376942363, 3.221706839363823, 3.206891186283271, 3.1923998147423034, 3.1782256201696235, 3.1643616536463965, 3.1508011184960854, 3.1375373669490045, 3.1245638968799585, 3.1118743486173517, 3.099462501822197]\n"
          ]
        },
        {
          "output_type": "execute_result",
          "data": {
            "text/plain": [
              "[<matplotlib.lines.Line2D at 0x7f018b63c890>]"
            ]
          },
          "metadata": {},
          "execution_count": 86
        },
        {
          "output_type": "display_data",
          "data": {
            "text/plain": [
              "<Figure size 432x288 with 1 Axes>"
            ],
            "image/png": "[encoded data removed]"
          },
          "metadata": {
            "needs_background": "light"
          }
        }
      ]
    },
    {
      "cell_type": "code",
      "source": [
        "from sklearn.model_selection import GridSearchCV\n",
        "iter=[x for x in range(0,100)]\n",
        "param_grid = [\n",
        "    {'iter': iter},\n",
        "    {'lr':[0.1,0.01,0.001,0.0001]}\n",
        "  ]\n",
        "grid_search = GridSearchCV(ada, param_grid, cv=5,\n",
        "                           scoring='neg_mean_squared_error',\n",
        "                           return_train_score=True,refit=True)\n",
        "grid_search.fit(X,y)"
      ],
      "metadata": {
        "colab": {
          "base_uri": "https://localhost:8080/"
        },
        "id": "_yGyDk6Nks67",
        "outputId": "bf660df0-6384-4301-e226-bc4c54dcfec1"
      },
      "execution_count": 107,
      "outputs": [
        {
          "output_type": "stream",
          "name": "stderr",
          "text": [
            "/usr/local/lib/python3.7/dist-packages/ipykernel_launcher.py:28: RuntimeWarning: overflow encountered in square\n",
            "/usr/local/lib/python3.7/dist-packages/numpy/core/fromnumeric.py:86: RuntimeWarning: overflow encountered in reduce\n",
            "  return ufunc.reduce(obj, axis, dtype, out, **passkwargs)\n",
            "/usr/local/lib/python3.7/dist-packages/ipykernel_launcher.py:20: RuntimeWarning: invalid value encountered in double_scalars\n",
            "/usr/local/lib/python3.7/dist-packages/ipykernel_launcher.py:21: RuntimeWarning: invalid value encountered in add\n",
            "/usr/local/lib/python3.7/dist-packages/ipykernel_launcher.py:28: RuntimeWarning: overflow encountered in square\n",
            "/usr/local/lib/python3.7/dist-packages/numpy/core/fromnumeric.py:86: RuntimeWarning: overflow encountered in reduce\n",
            "  return ufunc.reduce(obj, axis, dtype, out, **passkwargs)\n",
            "/usr/local/lib/python3.7/dist-packages/ipykernel_launcher.py:20: RuntimeWarning: invalid value encountered in double_scalars\n",
            "/usr/local/lib/python3.7/dist-packages/ipykernel_launcher.py:21: RuntimeWarning: invalid value encountered in add\n",
            "/usr/local/lib/python3.7/dist-packages/ipykernel_launcher.py:28: RuntimeWarning: overflow encountered in square\n",
            "/usr/local/lib/python3.7/dist-packages/numpy/core/fromnumeric.py:86: RuntimeWarning: overflow encountered in reduce\n",
            "  return ufunc.reduce(obj, axis, dtype, out, **passkwargs)\n",
            "/usr/local/lib/python3.7/dist-packages/ipykernel_launcher.py:20: RuntimeWarning: invalid value encountered in double_scalars\n",
            "/usr/local/lib/python3.7/dist-packages/ipykernel_launcher.py:21: RuntimeWarning: invalid value encountered in add\n",
            "/usr/local/lib/python3.7/dist-packages/ipykernel_launcher.py:28: RuntimeWarning: overflow encountered in square\n",
            "/usr/local/lib/python3.7/dist-packages/numpy/core/fromnumeric.py:86: RuntimeWarning: overflow encountered in reduce\n",
            "  return ufunc.reduce(obj, axis, dtype, out, **passkwargs)\n",
            "/usr/local/lib/python3.7/dist-packages/ipykernel_launcher.py:21: RuntimeWarning: invalid value encountered in add\n",
            "/usr/local/lib/python3.7/dist-packages/ipykernel_launcher.py:28: RuntimeWarning: overflow encountered in square\n",
            "/usr/local/lib/python3.7/dist-packages/ipykernel_launcher.py:20: RuntimeWarning: invalid value encountered in double_scalars\n",
            "/usr/local/lib/python3.7/dist-packages/ipykernel_launcher.py:21: RuntimeWarning: invalid value encountered in add\n",
            "/usr/local/lib/python3.7/dist-packages/ipykernel_launcher.py:28: RuntimeWarning: overflow encountered in square\n",
            "/usr/local/lib/python3.7/dist-packages/ipykernel_launcher.py:28: RuntimeWarning: overflow encountered in square\n",
            "/usr/local/lib/python3.7/dist-packages/numpy/core/fromnumeric.py:86: RuntimeWarning: overflow encountered in reduce\n",
            "  return ufunc.reduce(obj, axis, dtype, out, **passkwargs)\n",
            "/usr/local/lib/python3.7/dist-packages/ipykernel_launcher.py:28: RuntimeWarning: overflow encountered in square\n",
            "/usr/local/lib/python3.7/dist-packages/ipykernel_launcher.py:28: RuntimeWarning: overflow encountered in square\n",
            "/usr/local/lib/python3.7/dist-packages/ipykernel_launcher.py:28: RuntimeWarning: overflow encountered in square\n"
          ]
        },
        {
          "output_type": "execute_result",
          "data": {
            "text/plain": [
              "GridSearchCV(cv=5, estimator=adaline(iter=200, lr=0.0001),\n",
              "             param_grid=[{'iter': [0, 1, 2, 3, 4, 5, 6, 7, 8, 9, 10, 11, 12, 13,\n",
              "                                   14, 15, 16, 17, 18, 19, 20, 21, 22, 23, 24,\n",
              "                                   25, 26, 27, 28, 29, ...]},\n",
              "                         {'lr': [0.1, 0.01, 0.001, 0.0001]}],\n",
              "             return_train_score=True, scoring='neg_mean_squared_error')"
            ]
          },
          "metadata": {},
          "execution_count": 107
        }
      ]
    },
    {
      "cell_type": "code",
      "source": [
        "grid_search.best_estimator_"
      ],
      "metadata": {
        "colab": {
          "base_uri": "https://localhost:8080/"
        },
        "id": "-eiu6tYPpgHj",
        "outputId": "390ca1b0-3e68-4ed9-9691-a72f57b25eb5"
      },
      "execution_count": 108,
      "outputs": [
        {
          "output_type": "execute_result",
          "data": {
            "text/plain": [
              "adaline(iter=66, lr=0.0001)"
            ]
          },
          "metadata": {},
          "execution_count": 108
        }
      ]
    },
    {
      "cell_type": "code",
      "source": [
        "b=grid_search.best_estimator_\n",
        "plt.plot(range(1, len(b.error_) + 1), b.error_, marker='o')"
      ],
      "metadata": {
        "colab": {
          "base_uri": "https://localhost:8080/",
          "height": 284
        },
        "id": "RAMKnfAj2-J9",
        "outputId": "3b959a0f-44da-4bdd-8dae-a12fbee99c97"
      },
      "execution_count": 103,
      "outputs": [
        {
          "output_type": "execute_result",
          "data": {
            "text/plain": [
              "[<matplotlib.lines.Line2D at 0x7f018b2c9f50>]"
            ]
          },
          "metadata": {},
          "execution_count": 103
        },
        {
          "output_type": "display_data",
          "data": {
            "text/plain": [
              "<Figure size 432x288 with 1 Axes>"
            ],
            "image/png": "[encoded data removed]"
          },
          "metadata": {
            "needs_background": "light"
          }
        }
      ]
    },
    {
      "cell_type": "code",
      "source": [],
      "metadata": {
        "colab": {
          "base_uri": "https://localhost:8080/"
        },
        "id": "OYrYxic67p68",
        "outputId": "4b61239c-588b-44db-b623-9df620325c43"
      },
      "execution_count": 98,
      "outputs": [
        {
          "output_type": "execute_result",
          "data": {
            "text/plain": [
              "200"
            ]
          },
          "metadata": {},
          "execution_count": 98
        }
      ]
    },
    {
      "cell_type": "code",
      "source": [
        "b.predict(X)"
      ],
      "metadata": {
        "colab": {
          "base_uri": "https://localhost:8080/"
        },
        "id": "5B-14b1qtbL0",
        "outputId": "95ca75ff-273e-45ea-c3b5-2a0601502019"
      },
      "execution_count": 90,
      "outputs": [
        {
          "output_type": "execute_result",
          "data": {
            "text/plain": [
              "array([-1, -1, -1, -1, -1, -1, -1, -1, -1, -1, -1, -1, -1, -1, -1, -1, -1,\n",
              "       -1, -1, -1, -1, -1, -1, -1, -1, -1, -1, -1, -1, -1, -1, -1, -1, -1,\n",
              "       -1, -1, -1, -1, -1, -1, -1, -1, -1, -1, -1, -1, -1, -1, -1, -1,  1,\n",
              "        1,  1,  1,  1,  1,  1,  1,  1,  1,  1,  1,  1,  1,  1,  1,  1,  1,\n",
              "        1,  1,  1,  1,  1,  1,  1,  1,  1,  1,  1,  1,  1,  1,  1,  1,  1,\n",
              "        1,  1,  1,  1,  1,  1,  1,  1,  1,  1,  1,  1,  1,  1,  1])"
            ]
          },
          "metadata": {},
          "execution_count": 90
        }
      ]
    },
    {
      "cell_type": "code",
      "source": [
        "grid_search.best_params_"
      ],
      "metadata": {
        "colab": {
          "base_uri": "https://localhost:8080/"
        },
        "id": "oO-3MXNb6c_a",
        "outputId": "f4e888cb-1ff5-4215-a6a8-4b6da4ea5f23"
      },
      "execution_count": 104,
      "outputs": [
        {
          "output_type": "execute_result",
          "data": {
            "text/plain": [
              "{'iter': 66}"
            ]
          },
          "metadata": {},
          "execution_count": 104
        }
      ]
    },
    {
      "cell_type": "code",
      "source": [
        "#building pipeline \n",
        "from sklearn.pipeline import Pipeline\n",
        "from sklearn.preprocessing import StandardScaler\n",
        "num_pipeline = Pipeline([\n",
        "        ('std_scaler', StandardScaler()),\n",
        "        ('ada',adaline(**grid_search.best_params_))\n",
        "    ])\n",
        "num_pipeline.fit(X,y)\n",
        "num_pipeline.predict(X)"
      ],
      "metadata": {
        "colab": {
          "base_uri": "https://localhost:8080/"
        },
        "id": "JDUiq5Yf1Ck1",
        "outputId": "e1ec3af1-225f-4223-8b46-0870e97d44f0"
      },
      "execution_count": 115,
      "outputs": [
        {
          "output_type": "execute_result",
          "data": {
            "text/plain": [
              "array([-1, -1, -1, -1, -1, -1, -1, -1, -1, -1, -1, -1, -1, -1, -1, -1, -1,\n",
              "       -1, -1, -1, -1, -1, -1, -1, -1, -1, -1, -1, -1, -1, -1, -1, -1, -1,\n",
              "       -1, -1, -1, -1, -1, -1, -1, -1, -1, -1, -1, -1, -1, -1, -1, -1,  1,\n",
              "        1,  1,  1,  1,  1,  1,  1,  1,  1,  1,  1,  1,  1,  1,  1,  1,  1,\n",
              "        1,  1,  1,  1,  1,  1,  1,  1,  1,  1,  1,  1,  1,  1,  1,  1,  1,\n",
              "        1,  1,  1,  1,  1,  1,  1,  1,  1,  1,  1,  1,  1,  1,  1])"
            ]
          },
          "metadata": {},
          "execution_count": 115
        }
      ]
    },
    {
      "cell_type": "code",
      "source": [],
      "metadata": {
        "id": "qHujBUnN5xuI"
      },
      "execution_count": null,
      "outputs": []
    }
  ]
}