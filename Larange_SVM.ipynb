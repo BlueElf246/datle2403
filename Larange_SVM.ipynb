{
  "nbformat": 4,
  "nbformat_minor": 0,
  "metadata": {
    "colab": {
      "provenance": [],
      "authorship_tag": "ABX9TyOHDpWJjXSK1vXgE1cV3aTP",
      "include_colab_link": true
    },
    "kernelspec": {
      "name": "python3",
      "display_name": "Python 3"
    },
    "language_info": {
      "name": "python"
    }
  },
  "cells": [
    {
      "cell_type": "markdown",
      "metadata": {
        "id": "view-in-github",
        "colab_type": "text"
      },
      "source": [
        "<a href=\"https://colab.research.google.com/github/datle2403/datle2403/blob/main/Larange_SVM.ipynb\" target=\"_parent\"><img src=\"https://colab.research.google.com/assets/colab-badge.svg\" alt=\"Open In Colab\"/></a>"
      ]
    },
    {
      "cell_type": "code",
      "execution_count": 7,
      "metadata": {
        "colab": {
          "base_uri": "https://localhost:8080/",
          "height": 271
        },
        "id": "aCTj6HHH3IKP",
        "outputId": "ba5c6783-5f18-45b4-97a0-4cf4e515775a"
      },
      "outputs": [
        {
          "output_type": "display_data",
          "data": {
            "text/plain": [
              "<Figure size 432x288 with 1 Axes>"
            ],
            "image/png": "[encoded data removed]"
          },
          "metadata": {}
        }
      ],
      "source": [
        "import numpy as np \n",
        "import matplotlib.pyplot as plt\n",
        "from scipy.spatial.distance import cdist\n",
        "from matplotlib.backends.backend_pdf import PdfPages\n",
        "np.random.seed(22)\n",
        "\n",
        "means = [[2, 2], [4, 2]]\n",
        "cov = [[.7, 0], [0, .7]]\n",
        "N = 20\n",
        "X0 = np.random.multivariate_normal(means[0], cov, N) # each row is a data point \n",
        "X1 = np.random.multivariate_normal(means[1], cov, N)\n",
        "\n",
        "with PdfPages('data.pdf') as pdf:\n",
        "    plt.plot(X0[:, 0], X0[:, 1], 'bs', markersize = 8, alpha = 1)\n",
        "    plt.plot(X1[:, 0], X1[:, 1], 'ro', markersize = 8, alpha = 1)\n",
        "    plt.axis('equal')\n",
        "    plt.ylim(0, 4)\n",
        "    plt.xlim(0, 5)\n",
        "\n",
        "    # hide tikcs \n",
        "    cur_axes = plt.gca()\n",
        "    cur_axes.axes.get_xaxis().set_ticks([])\n",
        "    cur_axes.axes.get_yaxis().set_ticks([])\n",
        "\n",
        "    plt.xlabel('$x_1$', fontsize = 20)\n",
        "    plt.ylabel('$x_2$', fontsize = 20)\n",
        "    pdf.savefig()\n",
        "    # plt.savefig('logistic_2d.png', bbox_inches='tight', dpi = 300)\n",
        "    plt.show()"
      ]
    },
    {
      "cell_type": "code",
      "source": [
        "X = np.vstack((X0, X1))\n",
        "y = np.vstack((np.ones((N,1 )), -np.ones((N,1 )))).reshape((2*N,))"
      ],
      "metadata": {
        "id": "aEqVWh_p4Ifk"
      },
      "execution_count": 8,
      "outputs": []
    },
    {
      "cell_type": "code",
      "source": [
        "from cvxopt import matrix, solvers\n",
        "C=100\n",
        "# build K\n",
        "V = np.concatenate((X0.T, -X1.T), axis = 1)\n",
        "K = matrix(V.T.dot(V))\n",
        "\n",
        "p = matrix(-np.ones((2*N, 1)))\n",
        "# build A, b, G, h \n",
        "G = matrix(np.vstack((-np.eye(2*N), np.eye(2*N))))\n",
        "\n",
        "h = matrix(np.vstack((np.zeros((2*N, 1)), C*np.ones((2*N, 1)))))\n",
        "A = matrix(y.reshape((-1, 2*N))) \n",
        "b = matrix(np.zeros((1, 1))) \n",
        "solvers.options['show_progress'] = False\n",
        "sol = solvers.qp(K, p, G, h, A, b)\n",
        "\n",
        "l = np.array(sol['x'])\n",
        "print('lambda = \\n', l.T)"
      ],
      "metadata": {
        "colab": {
          "base_uri": "https://localhost:8080/"
        },
        "id": "yBqj61Yp32V2",
        "outputId": "14b9c573-8211-4f7b-fb9d-45bded64e70f"
      },
      "execution_count": 9,
      "outputs": [
        {
          "output_type": "stream",
          "name": "stdout",
          "text": [
            "lambda = \n",
            " [[1.11381472e-06 9.99999967e+01 1.10533113e-06 6.70163542e-06\n",
            "  3.40838760e+01 4.73972852e-06 9.99999978e+01 3.13320448e-06\n",
            "  9.99999985e+01 5.06729333e+01 9.99999929e+01 3.23564236e-06\n",
            "  9.99999984e+01 9.99999948e+01 1.37977626e-06 9.99997155e+01\n",
            "  3.45005661e-06 1.46190315e-06 5.50601998e-06 1.45062544e-06\n",
            "  1.85373848e-06 1.14181647e-06 8.47565685e+01 9.99999966e+01\n",
            "  9.99999971e+01 8.00764711e-07 2.65537194e-06 1.45230729e-06\n",
            "  4.15737086e-06 9.99999887e+01 9.99999761e+01 8.98414773e-07\n",
            "  9.99999979e+01 1.75651608e-06 8.27947899e-07 1.04289117e-06\n",
            "  9.99999969e+01 9.07920762e-07 8.83138298e-07 9.99999971e+01]]\n"
          ]
        }
      ]
    },
    {
      "cell_type": "code",
      "source": [
        "S = np.where(l > 1e-5)[0] # for computing w\n",
        "S2 = np.where(l < .99*C)[0]\n",
        "\n",
        "M = [val for val in S if val in S2]# for computing b # intersection of two lists"
      ],
      "metadata": {
        "id": "QrD0q1WC3-7y"
      },
      "execution_count": 10,
      "outputs": []
    },
    {
      "cell_type": "markdown",
      "source": [
        "lamda value=0 mean that datapoint is in right place (epxilon=0)\n",
        "\n",
        "lamda value ~= C mean that datapoint is in opposite side (epxilon >1) or in margin right side (0< epxilon < 1)\n",
        "\n",
        "lamda value 0<lamda<C mean that datapoint on margine line"
      ],
      "metadata": {
        "id": "zKZO-0lp4LKv"
      }
    },
    {
      "cell_type": "markdown",
      "source": [
        "w take all value of lamda that !=0"
      ],
      "metadata": {
        "id": "bVhwXFM56uhN"
      }
    },
    {
      "cell_type": "code",
      "source": [
        "XT = X.T # we need each col is one data point in this alg\n",
        "VS = V[:, S]\n",
        "# XS = XT[:, S]\n",
        "# yS = y[ S]\n",
        "lS = l[S]\n",
        "# lM = l[M]\n",
        "yM = y[M]\n",
        "XM = XT[:, M]\n",
        "w_dual = VS.dot(lS).reshape(-1, 1)\n",
        "b_dual = np.mean(yM.T - w_dual.T.dot(XM))\n"
      ],
      "metadata": {
        "id": "UykZsUbi4vhP"
      },
      "execution_count": 12,
      "outputs": []
    },
    {
      "cell_type": "code",
      "source": [
        "print(w_dual,b_dual)"
      ],
      "metadata": {
        "colab": {
          "base_uri": "https://localhost:8080/"
        },
        "id": "OFIkoxQX7VKX",
        "outputId": "ffd60c1f-715c-4e88-eb9d-28d52fea69ee"
      },
      "execution_count": 13,
      "outputs": [
        {
          "output_type": "stream",
          "name": "stdout",
          "text": [
            "[[-1.8745606 ]\n",
            " [-1.80692506]] 8.496650465370108\n"
          ]
        }
      ]
    },
    {
      "cell_type": "code",
      "source": [
        "def myplot(X0, X1, w, b, filename, tit):\n",
        "    with PdfPages(filename) as pdf:\n",
        "        fig, ax = plt.subplots()\n",
        "\n",
        "        w0 = w[0]\n",
        "        w1 = w[1]\n",
        "        x1 = np.arange(-10, 10, 0.1)\n",
        "        y1 = -w0/w1*x1 - b/w1\n",
        "        y2 = -w0/w1*x1 - (b-1)/w1\n",
        "        y3 = -w0/w1*x1 - (b+1)/w1\n",
        "        plt.plot(x1, y1, 'k', linewidth = 3)\n",
        "        plt.plot(x1, y2, 'k')\n",
        "        plt.plot(x1, y3, 'k')\n",
        "\n",
        "        # equal axis and lim\n",
        "        plt.axis('equal')\n",
        "        plt.ylim(0, 3)\n",
        "        plt.xlim(2, 4)\n",
        "\n",
        "        # hide tikcs \n",
        "        cur_axes = plt.gca()\n",
        "        cur_axes.axes.get_xaxis().set_ticks([])\n",
        "        cur_axes.axes.get_yaxis().set_ticks([])\n",
        "\n",
        "        # fill two regions\n",
        "        y4 = 10*x1\n",
        "        plt.plot(x1, y1, 'k')\n",
        "        plt.fill_between(x1, y1, color='blue', alpha=0.1)\n",
        "        plt.fill_between(x1, y1, y4, color = 'red', alpha = 0.1)\n",
        "\n",
        "        plt.xlabel('$x_1$', fontsize = 20)\n",
        "        plt.ylabel('$x_2$', fontsize = 20)\n",
        "        plt.title('Solution found by ' + tit, fontsize = 20)\n",
        "\n",
        "        plt.plot(X0[:, 0], X0[:, 1], 'bs', markersize = 8, alpha = .8)\n",
        "        plt.plot(X1[:, 0], X1[:, 1], 'ro', markersize = 8, alpha = .8)\n",
        "        pdf.savefig()\n",
        "        plt.show()\n",
        "\n",
        "myplot(X0, X1, w_dual, b_dual, 'svm_dual.pdf', 'dual')"
      ],
      "metadata": {
        "colab": {
          "base_uri": "https://localhost:8080/",
          "height": 292
        },
        "id": "BugN05SN8KGV",
        "outputId": "9fdbb627-181d-4b5b-987e-5c806173f0cc"
      },
      "execution_count": 14,
      "outputs": [
        {
          "output_type": "display_data",
          "data": {
            "text/plain": [
              "<Figure size 432x288 with 1 Axes>"
            ],
            "image/png": "[encoded data removed]"
          },
          "metadata": {}
        }
      ]
    },
    {
      "cell_type": "code",
      "source": [],
      "metadata": {
        "id": "A8TQ-4rf8l2Q"
      },
      "execution_count": null,
      "outputs": []
    }
  ]
}