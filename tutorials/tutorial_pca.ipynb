{
  "cells": [
    {
      "cell_type": "markdown",
      "metadata": {
        "id": "view-in-github",
        "colab_type": "text"
      },
      "source": [
        "<a href=\"https://colab.research.google.com/github/datle2403/datle2403/blob/main/tutorials/tutorial_pca.ipynb\" target=\"_parent\"><img src=\"https://colab.research.google.com/assets/colab-badge.svg\" alt=\"Open In Colab\"/></a>"
      ]
    },
    {
      "cell_type": "markdown",
      "metadata": {
        "id": "FI7DzWpPWJLr"
      },
      "source": [
        "# Principal Component Analysis (PCA)\n",
        "by Marc Deisenroth and Yicheng Luo\n",
        "\n",
        "We will implement the PCA algorithm using the projection perspective. We will first implement PCA, then apply it to the MNIST digit dataset."
      ]
    },
    {
      "cell_type": "code",
      "source": [
        "print('oke')"
      ],
      "metadata": {
        "id": "Af-A1uESWK-7",
        "outputId": "5dc06562-ea10-40f7-8f21-55d7f79d0d51",
        "colab": {
          "base_uri": "https://localhost:8080/"
        }
      },
      "execution_count": 2,
      "outputs": [
        {
          "output_type": "stream",
          "name": "stdout",
          "text": [
            "oke\n"
          ]
        }
      ]
    },
    {
      "cell_type": "markdown",
      "metadata": {
        "id": "3MiHXfgvWJLw"
      },
      "source": [
        "## Learning objectives\n",
        "1. Write code that implements PCA.\n",
        "2. Write code that implements PCA for high-dimensional datasets"
      ]
    },
    {
      "cell_type": "markdown",
      "metadata": {
        "id": "IHnd1_mlWJLx"
      },
      "source": [
        "Let's first import the packages we need for this week."
      ]
    },
    {
      "cell_type": "code",
      "execution_count": 7,
      "metadata": {
        "id": "IHRCKyvcWJLy",
        "outputId": "4f2453fc-5b5d-4e54-dd0f-f35b6e327001",
        "colab": {
          "base_uri": "https://localhost:8080/"
        }
      },
      "outputs": [
        {
          "output_type": "stream",
          "name": "stdout",
          "text": [
            "Looking in indexes: https://pypi.org/simple, https://us-python.pkg.dev/colab-wheels/public/simple/\n",
            "Requirement already satisfied: sklearn in /usr/local/lib/python3.7/dist-packages (0.0)\n",
            "Requirement already satisfied: scikit-learn in /usr/local/lib/python3.7/dist-packages (from sklearn) (1.0.2)\n",
            "Requirement already satisfied: joblib>=0.11 in /usr/local/lib/python3.7/dist-packages (from scikit-learn->sklearn) (1.2.0)\n",
            "Requirement already satisfied: scipy>=1.1.0 in /usr/local/lib/python3.7/dist-packages (from scikit-learn->sklearn) (1.7.3)\n",
            "Requirement already satisfied: threadpoolctl>=2.0.0 in /usr/local/lib/python3.7/dist-packages (from scikit-learn->sklearn) (3.1.0)\n",
            "Requirement already satisfied: numpy>=1.14.6 in /usr/local/lib/python3.7/dist-packages (from scikit-learn->sklearn) (1.21.6)\n"
          ]
        }
      ],
      "source": [
        "# PACKAGE: DO NOT EDIT THIS CELL\n",
        "import numpy as np\n",
        "import timeit\n",
        "import matplotlib as mpl\n",
        "mpl.use('Agg')\n",
        "import matplotlib.pyplot as plt\n",
        "plt.style.use('fivethirtyeight')\n",
        "from ipywidgets import interact\n",
        "from sklearn.datasets import fetch_openml"
      ]
    },
    {
      "cell_type": "code",
      "execution_count": 21,
      "metadata": {
        "id": "3hIFCPyFWJLz"
      },
      "outputs": [],
      "source": [
        "# PACKAGE: DO NOT EDIT THIS CELL\n",
        "from sklearn.datasets import fetch_openml\n",
        "images, labels = fetch_openml('mnist_784', version=1, return_X_y=True)"
      ]
    },
    {
      "cell_type": "code",
      "execution_count": 22,
      "metadata": {
        "id": "6CfbUmQ0WJLz"
      },
      "outputs": [],
      "source": [
        "%matplotlib inline"
      ]
    },
    {
      "cell_type": "code",
      "source": [
        "print(images.shape)"
      ],
      "metadata": {
        "id": "d91MCW5lXDhr",
        "outputId": "169b50f0-799a-4d73-c469-ea5cad8062bd",
        "colab": {
          "base_uri": "https://localhost:8080/"
        }
      },
      "execution_count": 23,
      "outputs": [
        {
          "output_type": "stream",
          "name": "stdout",
          "text": [
            "(70000, 784)\n"
          ]
        }
      ]
    },
    {
      "cell_type": "markdown",
      "metadata": {
        "id": "hh9vAy02WJL0"
      },
      "source": [
        "Now, let's plot a digit from the dataset:"
      ]
    },
    {
      "cell_type": "code",
      "source": [
        "images=np.array(images)"
      ],
      "metadata": {
        "id": "G-5DTFfeYa6t"
      },
      "execution_count": 27,
      "outputs": []
    },
    {
      "cell_type": "code",
      "source": [],
      "metadata": {
        "id": "EAXzjKxGXHpb"
      },
      "execution_count": 27,
      "outputs": []
    },
    {
      "cell_type": "code",
      "execution_count": 28,
      "metadata": {
        "id": "741m7VKJWJL0",
        "outputId": "40477f7a-93da-43e4-8f45-429f82488729",
        "colab": {
          "base_uri": "https://localhost:8080/",
          "height": 262
        }
      },
      "outputs": [
        {
          "output_type": "display_data",
          "data": {
            "text/plain": [
              "<Figure size 288x288 with 1 Axes>"
            ],
            "image/png": "[encoded data removed]"
          },
          "metadata": {
            "needs_background": "light"
          }
        }
      ],
      "source": [
        "plt.figure(figsize=(4,4))\n",
        "plt.imshow(images[0].reshape(28,28), cmap='gray');"
      ]
    },
    {
      "cell_type": "markdown",
      "metadata": {
        "id": "fUlKbgq7WJL1"
      },
      "source": [
        "Before we implement PCA, we will need to do some data preprocessing. In this assessment, some of them \n",
        "will be implemented by you, others we will take care of. However, when you are working on real world problems, you will need to do all these steps by yourself.\n",
        "\n",
        "The preprocessing steps we will do are\n",
        "1. Convert unsigned interger 8 (uint8) encoding of pixels to a floating point number between 0 and 1.\n",
        "2. Subtract from each image the mean $\\boldsymbol \\mu$.\n",
        "3. Scale each dimension of each image by $\\frac{1}{\\sigma}$ where $\\sigma$ is the stardard deviation.\n",
        "\n",
        "The steps above ensure that our images will have zero mean and one variance. These preprocessing\n",
        "steps are also known as [Data Normalization or Feature Scaling](https://en.wikipedia.org/wiki/Feature_scaling)."
      ]
    },
    {
      "cell_type": "markdown",
      "metadata": {
        "id": "u502WKCfWJL2"
      },
      "source": [
        "## 1. PCA\n",
        "\n",
        "Now we will implement PCA. Before we do that, let's pause for a moment and\n",
        "think about the steps for performing PCA. Assume that we are performing PCA on\n",
        "some dataset $\\boldsymbol X$ for $M$ principal components. \n",
        "We then need to perform the following steps, which we break into parts:\n",
        "\n",
        "1. Data normalization (`normalize`).\n",
        "2. Find eigenvalues and corresponding eigenvectors for the covariance matrix $S$.\n",
        "   Sort by the largest eigenvalues and the corresponding eigenvectors (`eig`).\n",
        "\n",
        "After these steps, we can then compute the projection and reconstruction of the data onto the spaced spanned by the top $n$ eigenvectors."
      ]
    },
    {
      "cell_type": "code",
      "execution_count": 75,
      "metadata": {
        "scrolled": true,
        "id": "_LTzQyrsWJL3"
      },
      "outputs": [],
      "source": [
        "from scipy.sparse.linalg import eigen\n",
        "def normalize(X):\n",
        "    \"\"\"Normalize the given dataset X\n",
        "    Args:\n",
        "        X: ndarray, dataset\n",
        "    \n",
        "    Returns:\n",
        "        (Xbar, mean, std): tuple of ndarray, Xbar is the normalized dataset\n",
        "        with mean 0 and standard deviation 1; mean and std are the \n",
        "        mean and standard deviation respectively.\n",
        "    \n",
        "    Note:\n",
        "        You will encounter dimensions where the standard deviation is\n",
        "        zero, for those when you do normalization the normalized data\n",
        "        will be NaN. Handle this by setting using `std = 1` for those \n",
        "        dimensions when doing normalization.\n",
        "    \"\"\"\n",
        "    mu=np.mean(X,axis=0)\n",
        "    std = np.std(X, axis=0)\n",
        "    std_filled = std.copy()\n",
        "    std_filled[std==0] = 1.\n",
        "    Xbar = (X-mu)/std_filled             # <-- EDIT THIS, compute the normalized data Xbar\n",
        "    return Xbar, mu, std\n",
        "\n",
        "def eign(S):\n",
        "    \"\"\"Compute the eigenvalues and corresponding eigenvectors \n",
        "        for the covariance matrix S.\n",
        "    Args:\n",
        "        S: ndarray, covariance matrix\n",
        "    \n",
        "    Returns:\n",
        "        (eigvals, eigvecs): ndarray, the eigenvalues and eigenvectors\n",
        "\n",
        "    Note:\n",
        "        the eigenvals and eigenvecs should be sorted in descending\n",
        "        order of the eigen values\n",
        "    \"\"\"\n",
        "    eigvals, eigvecs = np.linalg.eig(S)\n",
        "    k = np.argsort(eigvals)[::-1]\n",
        "    return eigvals[k], eigvecs[:,k]\n",
        "\n",
        "def projection_matrix(B):\n",
        "    \"\"\"Compute the projection matrix onto the space spanned by `B`\n",
        "    Args:\n",
        "        B: ndarray of dimension (D, M), the basis for the subspace\n",
        "    \n",
        "    Returns:\n",
        "        P: the projection matrix\n",
        "    \"\"\"\n",
        "    return (B @ np.linalg.inv(B.T @ B) @ B.T)\n",
        "\n",
        "def PCA(X, num_components):\n",
        "    \"\"\"\n",
        "    Args:\n",
        "        X: ndarray of size (N, D), where D is the dimension of the data,\n",
        "           and N is the number of datapoints\n",
        "        num_components: the number of principal components to use.\n",
        "    Returns:\n",
        "        X_reconstruct: ndarray of the reconstruction\n",
        "        of X from the first `num_components` principal components.\n",
        "    \"\"\"\n",
        "    S= 1.0/len(X)*np.dot(X.T,X)\n",
        "    eigen_value,eigen_vector=eign(S)\n",
        "    eigen_value=eigen_value[:num_components]\n",
        "    eigen_vector=eigen_vector[:,:num_components]\n",
        "    B=np.real(eigen_vector)\n",
        "    reconst = (projection_matrix(B) @ X.T)\n",
        "    return reconst.T\n",
        "  \n",
        "\n",
        "    # your solution should take advantage of the functions you have implemented above.\n",
        "    # return X # <-- EDIT THIS to return the reconstruction of X\n"
      ]
    },
    {
      "cell_type": "code",
      "execution_count": 76,
      "metadata": {
        "id": "1ZRj1HY2WJL4"
      },
      "outputs": [],
      "source": [
        "## Some preprocessing of the data\n",
        "NUM_DATAPOINTS = 1000\n",
        "X = (images.reshape(-1, 28 * 28)[:NUM_DATAPOINTS]) / 255.\n",
        "Xbar, mu, std = normalize(X)"
      ]
    },
    {
      "cell_type": "code",
      "execution_count": 77,
      "metadata": {
        "id": "d-MV82Y3WJL5",
        "outputId": "cdacbe86-37f1-4b18-80f7-2ac14eef375a",
        "colab": {
          "base_uri": "https://localhost:8080/"
        }
      },
      "outputs": [
        {
          "output_type": "stream",
          "name": "stdout",
          "text": [
            "4.657795835289056e-24\n",
            "1.1436040200226123e-24\n",
            "1.50242676630567e-24\n",
            "1.1184364859366197e-23\n",
            "1.3799064287483554e-24\n",
            "1.6234230494906182e-24\n",
            "2.8779136658833622e-24\n",
            "1.7173469022346725e-24\n",
            "2.4403853298037242e-23\n",
            "2.802006248945554e-23\n",
            "3.1157357902163384e-23\n",
            "7.592795666972445e-23\n",
            "2.356168533109121e-21\n",
            "1.0421481405831131e-22\n",
            "1.0871251255482506e-22\n",
            "2.1688200711218646e-23\n",
            "1.3772806964384767e-23\n",
            "6.946786827677895e-24\n",
            "1.9152868892748172e-23\n"
          ]
        }
      ],
      "source": [
        "for num_component in range(1, 20):\n",
        "    from sklearn.decomposition import PCA as SKPCA\n",
        "    # We can compute a standard solution given by scikit-learn's implementation of PCA\n",
        "    pca = SKPCA(n_components=num_component, svd_solver='full')\n",
        "    sklearn_reconst = pca.inverse_transform(pca.fit_transform(Xbar))\n",
        "    reconst = PCA(Xbar, num_component)\n",
        "    np.testing.assert_almost_equal(reconst, sklearn_reconst)\n",
        "    print(np.square(reconst - sklearn_reconst).sum())"
      ]
    },
    {
      "cell_type": "markdown",
      "metadata": {
        "id": "4735_KQTWJL6"
      },
      "source": [
        "The greater number of of principal components we use, the smaller will our reconstruction\n",
        "error be. Now, let's answer the following question: \n",
        "\n",
        "\n",
        "> How many principal components do we need\n",
        "> in order to reach a Mean Squared Error (MSE) of less than $100$ for our dataset?\n",
        "\n"
      ]
    },
    {
      "cell_type": "markdown",
      "metadata": {
        "id": "oiInq9cFWJL6"
      },
      "source": [
        "We have provided a function in the next cell that computes the mean squared error (MSE), which will be useful for answering the question above."
      ]
    },
    {
      "cell_type": "code",
      "execution_count": 78,
      "metadata": {
        "id": "pJ5sKB_yWJL8"
      },
      "outputs": [],
      "source": [
        "def mse(predict, actual):\n",
        "    \"\"\"Helper function for computing the mean squared error (MSE)\"\"\"\n",
        "    return np.square(predict - actual).sum(axis=1).mean()"
      ]
    },
    {
      "cell_type": "code",
      "execution_count": 79,
      "metadata": {
        "id": "0HItVRloWJL8"
      },
      "outputs": [],
      "source": [
        "loss = []\n",
        "reconstructions = []\n",
        "# iterate over different numbers of principal components, and compute the MSE\n",
        "for num_component in range(1, 100):\n",
        "    reconst = PCA(Xbar, num_component)\n",
        "    error = mse(reconst, Xbar)\n",
        "    reconstructions.append(reconst)\n",
        "    # print('n = {:d}, reconstruction_error = {:f}'.format(num_component, error))\n",
        "    loss.append((num_component, error))\n",
        "\n",
        "reconstructions = np.asarray(reconstructions)\n",
        "reconstructions = reconstructions * std + mu # \"unnormalize\" the reconstructed image\n",
        "loss = np.asarray(loss)"
      ]
    },
    {
      "cell_type": "code",
      "execution_count": 82,
      "metadata": {
        "id": "cdJGW4_wWJL-",
        "outputId": "2546b403-b073-4c6f-b91c-56f02982297a",
        "colab": {
          "base_uri": "https://localhost:8080/",
          "height": 424
        }
      },
      "outputs": [
        {
          "output_type": "execute_result",
          "data": {
            "text/plain": [
              "       0           1\n",
              "0    1.0  569.447737\n",
              "1    2.0  536.059608\n",
              "2    3.0  508.250286\n",
              "3    4.0  487.018907\n",
              "4    5.0  467.571610\n",
              "..   ...         ...\n",
              "94  95.0   99.014701\n",
              "95  96.0   97.680056\n",
              "96  97.0   96.367284\n",
              "97  98.0   95.067511\n",
              "98  99.0   93.776217\n",
              "\n",
              "[99 rows x 2 columns]"
            ],
            "text/html": [
              "\n",
              "  <div id=\"df-e902d2dd-7728-48cb-a7f8-360c9bdb46e4\">\n",
              "    <div class=\"colab-df-container\">\n",
              "      <div>\n",
              "<style scoped>\n",
              "    .dataframe tbody tr th:only-of-type {\n",
              "        vertical-align: middle;\n",
              "    }\n",
              "\n",
              "    .dataframe tbody tr th {\n",
              "        vertical-align: top;\n",
              "    }\n",
              "\n",
              "    .dataframe thead th {\n",
              "        text-align: right;\n",
              "    }\n",
              "</style>\n",
              "<table border=\"1\" class=\"dataframe\">\n",
              "  <thead>\n",
              "    <tr style=\"text-align: right;\">\n",
              "      <th></th>\n",
              "      <th>0</th>\n",
              "      <th>1</th>\n",
              "    </tr>\n",
              "  </thead>\n",
              "  <tbody>\n",
              "    <tr>\n",
              "      <th>0</th>\n",
              "      <td>1.0</td>\n",
              "      <td>569.447737</td>\n",
              "    </tr>\n",
              "    <tr>\n",
              "      <th>1</th>\n",
              "      <td>2.0</td>\n",
              "      <td>536.059608</td>\n",
              "    </tr>\n",
              "    <tr>\n",
              "      <th>2</th>\n",
              "      <td>3.0</td>\n",
              "      <td>508.250286</td>\n",
              "    </tr>\n",
              "    <tr>\n",
              "      <th>3</th>\n",
              "      <td>4.0</td>\n",
              "      <td>487.018907</td>\n",
              "    </tr>\n",
              "    <tr>\n",
              "      <th>4</th>\n",
              "      <td>5.0</td>\n",
              "      <td>467.571610</td>\n",
              "    </tr>\n",
              "    <tr>\n",
              "      <th>...</th>\n",
              "      <td>...</td>\n",
              "      <td>...</td>\n",
              "    </tr>\n",
              "    <tr>\n",
              "      <th>94</th>\n",
              "      <td>95.0</td>\n",
              "      <td>99.014701</td>\n",
              "    </tr>\n",
              "    <tr>\n",
              "      <th>95</th>\n",
              "      <td>96.0</td>\n",
              "      <td>97.680056</td>\n",
              "    </tr>\n",
              "    <tr>\n",
              "      <th>96</th>\n",
              "      <td>97.0</td>\n",
              "      <td>96.367284</td>\n",
              "    </tr>\n",
              "    <tr>\n",
              "      <th>97</th>\n",
              "      <td>98.0</td>\n",
              "      <td>95.067511</td>\n",
              "    </tr>\n",
              "    <tr>\n",
              "      <th>98</th>\n",
              "      <td>99.0</td>\n",
              "      <td>93.776217</td>\n",
              "    </tr>\n",
              "  </tbody>\n",
              "</table>\n",
              "<p>99 rows × 2 columns</p>\n",
              "</div>\n",
              "      <button class=\"colab-df-convert\" onclick=\"convertToInteractive('df-e902d2dd-7728-48cb-a7f8-360c9bdb46e4')\"\n",
              "              title=\"Convert this dataframe to an interactive table.\"\n",
              "              style=\"display:none;\">\n",
              "        \n",
              "  <svg xmlns=\"http://www.w3.org/2000/svg\" height=\"24px\"viewBox=\"0 0 24 24\"\n",
              "       width=\"24px\">\n",
              "    <path d=\"M0 0h24v24H0V0z\" fill=\"none\"/>\n",
              "    <path d=\"M18.56 5.44l.94 2.06.94-2.06 2.06-.94-2.06-.94-.94-2.06-.94 2.06-2.06.94zm-11 1L8.5 8.5l.94-2.06 2.06-.94-2.06-.94L8.5 2.5l-.94 2.06-2.06.94zm10 10l.94 2.06.94-2.06 2.06-.94-2.06-.94-.94-2.06-.94 2.06-2.06.94z\"/><path d=\"M17.41 7.96l-1.37-1.37c-.4-.4-.92-.59-1.43-.59-.52 0-1.04.2-1.43.59L10.3 9.45l-7.72 7.72c-.78.78-.78 2.05 0 2.83L4 21.41c.39.39.9.59 1.41.59.51 0 1.02-.2 1.41-.59l7.78-7.78 2.81-2.81c.8-.78.8-2.07 0-2.86zM5.41 20L4 18.59l7.72-7.72 1.47 1.35L5.41 20z\"/>\n",
              "  </svg>\n",
              "      </button>\n",
              "      \n",
              "  <style>\n",
              "    .colab-df-container {\n",
              "      display:flex;\n",
              "      flex-wrap:wrap;\n",
              "      gap: 12px;\n",
              "    }\n",
              "\n",
              "    .colab-df-convert {\n",
              "      background-color: #E8F0FE;\n",
              "      border: none;\n",
              "      border-radius: 50%;\n",
              "      cursor: pointer;\n",
              "      display: none;\n",
              "      fill: #1967D2;\n",
              "      height: 32px;\n",
              "      padding: 0 0 0 0;\n",
              "      width: 32px;\n",
              "    }\n",
              "\n",
              "    .colab-df-convert:hover {\n",
              "      background-color: #E2EBFA;\n",
              "      box-shadow: 0px 1px 2px rgba(60, 64, 67, 0.3), 0px 1px 3px 1px rgba(60, 64, 67, 0.15);\n",
              "      fill: #174EA6;\n",
              "    }\n",
              "\n",
              "    [theme=dark] .colab-df-convert {\n",
              "      background-color: #3B4455;\n",
              "      fill: #D2E3FC;\n",
              "    }\n",
              "\n",
              "    [theme=dark] .colab-df-convert:hover {\n",
              "      background-color: #434B5C;\n",
              "      box-shadow: 0px 1px 3px 1px rgba(0, 0, 0, 0.15);\n",
              "      filter: drop-shadow(0px 1px 2px rgba(0, 0, 0, 0.3));\n",
              "      fill: #FFFFFF;\n",
              "    }\n",
              "  </style>\n",
              "\n",
              "      <script>\n",
              "        const buttonEl =\n",
              "          document.querySelector('#df-e902d2dd-7728-48cb-a7f8-360c9bdb46e4 button.colab-df-convert');\n",
              "        buttonEl.style.display =\n",
              "          google.colab.kernel.accessAllowed ? 'block' : 'none';\n",
              "\n",
              "        async function convertToInteractive(key) {\n",
              "          const element = document.querySelector('#df-e902d2dd-7728-48cb-a7f8-360c9bdb46e4');\n",
              "          const dataTable =\n",
              "            await google.colab.kernel.invokeFunction('convertToInteractive',\n",
              "                                                     [key], {});\n",
              "          if (!dataTable) return;\n",
              "\n",
              "          const docLinkHtml = 'Like what you see? Visit the ' +\n",
              "            '<a target=\"_blank\" href=https://colab.research.google.com/notebooks/data_table.ipynb>data table notebook</a>'\n",
              "            + ' to learn more about interactive tables.';\n",
              "          element.innerHTML = '';\n",
              "          dataTable['output_type'] = 'display_data';\n",
              "          await google.colab.output.renderOutput(dataTable, element);\n",
              "          const docLink = document.createElement('div');\n",
              "          docLink.innerHTML = docLinkHtml;\n",
              "          element.appendChild(docLink);\n",
              "        }\n",
              "      </script>\n",
              "    </div>\n",
              "  </div>\n",
              "  "
            ]
          },
          "metadata": {},
          "execution_count": 82
        }
      ],
      "source": [
        "import pandas as pd\n",
        "# create a table showing the number of principal components and MSE\n",
        "pd.DataFrame(loss)"
      ]
    },
    {
      "cell_type": "markdown",
      "metadata": {
        "id": "d-CUzHg6WJL_"
      },
      "source": [
        "We can also put these numbers into perspective by plotting them."
      ]
    },
    {
      "cell_type": "code",
      "execution_count": 83,
      "metadata": {
        "id": "MTt7ygfBWJL_",
        "outputId": "981b3779-ea83-4ceb-9539-d09f2a84d0d0",
        "colab": {
          "base_uri": "https://localhost:8080/",
          "height": 296
        }
      },
      "outputs": [
        {
          "output_type": "display_data",
          "data": {
            "text/plain": [
              "<Figure size 432x288 with 1 Axes>"
            ],
            "image/png": "[encoded data removed]"
          },
          "metadata": {
            "needs_background": "light"
          }
        }
      ],
      "source": [
        "fig, ax = plt.subplots()\n",
        "ax.plot(loss[:,0], loss[:,1]);\n",
        "ax.axhline(100, linestyle='--', color='r', linewidth=2)\n",
        "ax.xaxis.set_ticks(np.arange(1, 100, 5));\n",
        "ax.set(xlabel='num_components', ylabel='MSE', title='MSE vs number of principal components');"
      ]
    },
    {
      "cell_type": "markdown",
      "metadata": {
        "id": "U-pHXIRaWJL_"
      },
      "source": [
        "But _numbers dont't tell us everything_! Just what does it mean _qualitatively_ for the loss to decrease from around\n",
        "$450.0$ to less than $100.0$?\n",
        "\n",
        "Let's find out! In the next cell, we draw the the leftmost image is the original dight. Then we show the reconstruction of the image on the right, in descending number of principal components used."
      ]
    },
    {
      "cell_type": "code",
      "execution_count": 85,
      "metadata": {
        "scrolled": true,
        "id": "DQ9zXIDzWJMA",
        "outputId": "c85799c2-2af1-4166-cf92-08d2054da801",
        "colab": {
          "base_uri": "https://localhost:8080/",
          "height": 171,
          "referenced_widgets": [
            "999ff423a6734a93bdd408053a080472",
            "2665dc9a6b3640fabceaa28f22fa4a55",
            "c00713c5d8b843619b7629fb65cac46d",
            "101e40b5ae13430aadf8a8de342c7b08",
            "280791e26ef2444695ded2ecc5b7c612",
            "bc592a8681d042be8189e5065b0a701b",
            "c807c28931bf46f9bdb58a7a4556050d"
          ]
        }
      },
      "outputs": [
        {
          "output_type": "display_data",
          "data": {
            "text/plain": [
              "<Figure size 1440x1440 with 1 Axes>"
            ],
            "image/png": "[encoded data removed]"
          },
          "metadata": {
            "needs_background": "light"
          }
        }
      ],
      "source": [
        "@interact(image_idx=(0, 1000))\n",
        "def show_num_components_reconst(image_idx):\n",
        "    fig, ax = plt.subplots(figsize=(20., 20.))\n",
        "    actual = X[image_idx]\n",
        "    # concatenate the actual and reconstructed images as large image before plotting it\n",
        "    x = np.concatenate([actual[np.newaxis, :], reconstructions[:, image_idx]])\n",
        "    ax.imshow(np.hstack(x.reshape(-1, 28, 28)[np.arange(10)]),\n",
        "              cmap='gray');\n",
        "    ax.axvline(28, color='orange', linewidth=2)"
      ]
    },
    {
      "cell_type": "markdown",
      "metadata": {
        "id": "Yhm5IUk2WJMA"
      },
      "source": [
        "We can also browse throught the reconstructions for other digits. Once again, `interact` becomes handy for visualing the reconstruction."
      ]
    },
    {
      "cell_type": "code",
      "execution_count": 86,
      "metadata": {
        "scrolled": true,
        "id": "AVVfIBNpWJMA",
        "outputId": "c2a691fc-b50d-46e9-ad4c-954f91020bcf",
        "colab": {
          "base_uri": "https://localhost:8080/",
          "height": 203,
          "referenced_widgets": [
            "07ab936139ad40ab9a81926a06adb0dc",
            "baae1f90723148378b0473e177d17cf9",
            "48229515f6ce444db6126b59a1894c1c",
            "f9e9962d056b4b81ba2778e9a120c71c",
            "6275604410334dc1a4a085f979ee7330",
            "498e281d6ba9498691bbad4d64746de4",
            "85e828e7f8e34ab287cc6d840da9ffa2"
          ]
        }
      },
      "outputs": [
        {
          "output_type": "display_data",
          "data": {
            "text/plain": [
              "interactive(children=(IntSlider(value=1, description='i', max=10), Output()), _dom_classes=('widget-interact',…"
            ],
            "application/vnd.jupyter.widget-view+json": {
              "version_major": 2,
              "version_minor": 0,
              "model_id": "07ab936139ad40ab9a81926a06adb0dc"
            }
          },
          "metadata": {}
        }
      ],
      "source": [
        "@interact(i=(0, 10))\n",
        "def show_pca_digits(i=1):\n",
        "    \"\"\"Show the i th digit and its reconstruction\"\"\"\n",
        "    plt.figure(figsize=(4,4))\n",
        "    actual_sample = X[i].reshape(28,28)\n",
        "    reconst_sample = (reconst[i, :] * std + mu).reshape(28, 28)\n",
        "    plt.imshow(np.hstack([actual_sample, reconst_sample]), cmap='gray')\n",
        "    plt.show()"
      ]
    },
    {
      "cell_type": "markdown",
      "metadata": {
        "id": "j5ongI6BWJMB"
      },
      "source": [
        "## 2. PCA for high-dimensional datasets\n",
        "\n",
        "Sometimes, the dimensionality of our dataset may be larger than the number of samples we\n",
        "have. Then it might be inefficient to perform PCA with our implementation above. Instead,\n",
        "we can implement PCA in a more efficient manner, which we call \"PCA for high dimensional data\" (PCA_high_dim).\n",
        "\n",
        "Below are the steps for performing PCA for high dimensional dataset\n",
        "1. Compute the matrix $\\boldsymbol X\\boldsymbol X^T$ (a $N$ by $N$ matrix with $N \\ll D$)\n",
        "2. Compute eigenvalues $\\lambda$s and eigenvectors $V$ for $\\boldsymbol X\\boldsymbol X^T$\n",
        "3. Compute the eigenvectors for the original covariance matrix as $\\boldsymbol X^T\\boldsymbol V$. Choose the eigenvectors associated with the M largest eigenvalues to be the basis of the principal subspace $U$.\n",
        "4. Compute the orthogonal projection of the data onto the subspace spanned by columns of $\\boldsymbol U$."
      ]
    },
    {
      "cell_type": "code",
      "execution_count": null,
      "metadata": {
        "id": "ExMFg55NWJMB"
      },
      "outputs": [],
      "source": [
        "### PCA for high-dimensional datasets\n",
        "\n",
        "def PCA_high_dim(X, n_components):\n",
        "    \"\"\"Compute PCA for small sample size but high-dimensional features. \n",
        "    Args:\n",
        "        X: ndarray of size (N, D), where D is the dimension of the sample,\n",
        "           and N is the number of samples\n",
        "        num_components: the number of principal components to use.\n",
        "    Returns:\n",
        "        X_reconstruct: (N, D) ndarray. the reconstruction\n",
        "        of X from the first `num_components` pricipal components.\n",
        "    \"\"\"\n",
        "    return X # <-- EDIT THIS to return the reconstruction of X"
      ]
    },
    {
      "cell_type": "markdown",
      "metadata": {
        "id": "pZSgcTwrWJMB"
      },
      "source": [
        "Given the same dataset, `PCA_high_dim` and `PCA` should give the same output. \n",
        "Assuming we have implemented `PCA`, correctly, we can then use `PCA` to test the correctness\n",
        "of `PCA_high_dim`. Given the same dataset, `PCA` and `PCA_high_dim` should give identical results.\n",
        "\n",
        "We can use this __invariant__\n",
        "to test our implementation of PCA_high_dim, assuming that we have correctly implemented `PCA`."
      ]
    },
    {
      "cell_type": "code",
      "execution_count": null,
      "metadata": {
        "id": "X7s5PegdWJMB"
      },
      "outputs": [],
      "source": [
        "np.testing.assert_almost_equal(PCA(Xbar, 2), PCA_high_dim(Xbar, 2))"
      ]
    },
    {
      "cell_type": "markdown",
      "metadata": {
        "id": "VGNoplbHWJMB"
      },
      "source": [
        "Now let's compare the running time between `PCA` and `PCA_high_dim`.\n",
        "\n",
        "__Tips__ for running benchmarks or computationally expensive code:\n",
        "\n",
        "When you have some computation that takes up a non-negligible amount of time. Try separating\n",
        "the code that produces output from the code that analyzes the result (e.g. plot the results, compute statistics of the results). In this way, you don't have to recompute when you want to produce more analysis."
      ]
    },
    {
      "cell_type": "markdown",
      "metadata": {
        "id": "xBmxlXULWJMC"
      },
      "source": [
        "The next cell includes a function that records the time taken for executing a function `f` by repeating it for `repeat` number of times. You do not need to modify the function but you can use it to compare the running time for functions which you are interested in knowing the running time."
      ]
    },
    {
      "cell_type": "code",
      "execution_count": null,
      "metadata": {
        "id": "VHm-aVU-WJMC"
      },
      "outputs": [],
      "source": [
        "def time(f, repeat=10):\n",
        "    times = []\n",
        "    for _ in range(repeat):\n",
        "        start = timeit.default_timer()\n",
        "        f()\n",
        "        stop = timeit.default_timer()\n",
        "        times.append(stop-start)\n",
        "    return np.mean(times), np.std(times)"
      ]
    },
    {
      "cell_type": "markdown",
      "metadata": {
        "id": "_09I1b2BWJMC"
      },
      "source": [
        "We first benchmark the time taken to compute $\\boldsymbol X^T\\boldsymbol X$ and $\\boldsymbol X\\boldsymbol X^T$. Jupyter's magic command `%time` is quite handy."
      ]
    },
    {
      "cell_type": "markdown",
      "metadata": {
        "id": "KFGXboFwWJMC"
      },
      "source": [
        "The next cell finds the running time for computing $\\boldsymbol X^T\\boldsymbol X$ and $\\boldsymbol X\\boldsymbol X^T$ for different dimensions of $\\boldsymbol X$."
      ]
    },
    {
      "cell_type": "code",
      "execution_count": null,
      "metadata": {
        "id": "d4KSXmqsWJMC"
      },
      "outputs": [],
      "source": [
        "times_mm0 = []\n",
        "times_mm1 = []\n",
        "\n",
        "# iterate over datasets of different size\n",
        "for datasetsize in np.arange(4, 784, step=20):\n",
        "    XX = Xbar[:datasetsize] # select the first `datasetsize` samples in the dataset\n",
        "    # record the running time for computing X.T @ X\n",
        "    mu, sigma = time(lambda : XX.T @ XX)\n",
        "    times_mm0.append((datasetsize, mu, sigma))\n",
        "    \n",
        "    # record the running time for computing X @ X.T\n",
        "    mu, sigma = time(lambda : XX @ XX.T)\n",
        "    times_mm1.append((datasetsize, mu, sigma))\n",
        "    \n",
        "times_mm0 = np.asarray(times_mm0)\n",
        "times_mm1 = np.asarray(times_mm1)"
      ]
    },
    {
      "cell_type": "markdown",
      "metadata": {
        "id": "UdHGVMRUWJMD"
      },
      "source": [
        "Having recorded the running time for computing `X @ X.T` and `X @ X.T`, we can plot them."
      ]
    },
    {
      "cell_type": "code",
      "execution_count": null,
      "metadata": {
        "id": "29TBGUCUWJMD"
      },
      "outputs": [],
      "source": [
        "fig, ax = plt.subplots()\n",
        "ax.set(xlabel='size of dataset', ylabel='running time')\n",
        "bar = ax.errorbar(times_mm0[:, 0], times_mm0[:, 1], times_mm0[:, 2], label=\"$X^T X$ (PCA)\", linewidth=2)\n",
        "ax.errorbar(times_mm1[:, 0], times_mm1[:, 1], times_mm1[:, 2], label=\"$X X^T$ (PCA_high_dim)\", linewidth=2)\n",
        "ax.legend();"
      ]
    },
    {
      "cell_type": "markdown",
      "metadata": {
        "id": "6-3ePRRWWJMD"
      },
      "source": [
        "Alternatively, use the `time` magic command for benchmarking functions."
      ]
    },
    {
      "cell_type": "code",
      "execution_count": null,
      "metadata": {
        "id": "BvDsQQJNWJMD"
      },
      "outputs": [],
      "source": [
        "%time Xbar.T @ Xbar\n",
        "%time Xbar @ Xbar.T\n",
        "pass # Put this here so that our output does not show result of computing `Xbar @ Xbar.T`"
      ]
    },
    {
      "cell_type": "markdown",
      "metadata": {
        "id": "jkJPvGsyWJME"
      },
      "source": [
        "Next we benchmark PCA, PCA_high_dim."
      ]
    },
    {
      "cell_type": "code",
      "execution_count": null,
      "metadata": {
        "id": "yDImoRcdWJME"
      },
      "outputs": [],
      "source": [
        "times0 = []\n",
        "times1 = []\n",
        "\n",
        "# iterate over datasets of different size\n",
        "for datasetsize in np.arange(4, 784, step=100):\n",
        "    XX = Xbar[:datasetsize]\n",
        "    npc = 2\n",
        "    mu, sigma = time(lambda : PCA(XX, npc), repeat=10)\n",
        "    times0.append((datasetsize, mu, sigma))\n",
        "    \n",
        "    mu, sigma = time(lambda : PCA_high_dim(XX, npc), repeat=10)\n",
        "    times1.append((datasetsize, mu, sigma))\n",
        "    \n",
        "times0 = np.asarray(times0)\n",
        "times1 = np.asarray(times1)"
      ]
    },
    {
      "cell_type": "markdown",
      "metadata": {
        "id": "-7UgbiQjWJME"
      },
      "source": [
        "Let's plot the running time. Spend some time and think about what this plot means. We mentioned in lectures that PCA_high_dim are advantageous when\n",
        "we have dataset size $N$ < data dimension $M$. Although our plot does not for the two running time does not intersect exactly at $N = M$, it does show the trend."
      ]
    },
    {
      "cell_type": "code",
      "execution_count": null,
      "metadata": {
        "scrolled": true,
        "id": "10tkpyG7WJME"
      },
      "outputs": [],
      "source": [
        "fig, ax = plt.subplots()\n",
        "ax.set(xlabel='number of datapoints', ylabel='run time')\n",
        "ax.errorbar(times0[:, 0], times0[:, 1], times0[:, 2], label=\"PCA\", linewidth=2)\n",
        "ax.errorbar(times1[:, 0], times1[:, 1], times1[:, 2], label=\"PCA_high_dim\", linewidth=2)\n",
        "ax.legend();"
      ]
    },
    {
      "cell_type": "markdown",
      "metadata": {
        "id": "TSwGFaw0WJME"
      },
      "source": [
        "Again, with the magic command `time`."
      ]
    },
    {
      "cell_type": "code",
      "execution_count": null,
      "metadata": {
        "id": "yTh9cmESWJMF"
      },
      "outputs": [],
      "source": [
        "%time PCA(Xbar, 2)\n",
        "%time PCA_high_dim(Xbar, 2)\n",
        "pass"
      ]
    }
  ],
  "metadata": {
    "coursera": {
      "course_slug": "mathematics-machine-learning-pca",
      "graded_item_id": "CXC11",
      "launcher_item_id": "ub5A7"
    },
    "kernelspec": {
      "display_name": "Python 3",
      "language": "python",
      "name": "python3"
    },
    "language_info": {
      "codemirror_mode": {
        "name": "ipython",
        "version": 3
      },
      "file_extension": ".py",
      "mimetype": "text/x-python",
      "name": "python",
      "nbconvert_exporter": "python",
      "pygments_lexer": "ipython3",
      "version": "3.7.3"
    },
    "colab": {
      "provenance": [],
      "include_colab_link": true
    },
    "widgets": {
      "application/vnd.jupyter.widget-state+json": {
        "999ff423a6734a93bdd408053a080472": {
          "model_module": "@jupyter-widgets/controls",
          "model_name": "VBoxModel",
          "model_module_version": "1.5.0",
          "state": {
            "_dom_classes": [
              "widget-interact"
            ],
            "_model_module": "@jupyter-widgets/controls",
            "_model_module_version": "1.5.0",
            "_model_name": "VBoxModel",
            "_view_count": null,
            "_view_module": "@jupyter-widgets/controls",
            "_view_module_version": "1.5.0",
            "_view_name": "VBoxView",
            "box_style": "",
            "children": [
              "IPY_MODEL_2665dc9a6b3640fabceaa28f22fa4a55",
              "IPY_MODEL_c00713c5d8b843619b7629fb65cac46d"
            ],
            "layout": "IPY_MODEL_101e40b5ae13430aadf8a8de342c7b08"
          }
        },
        "2665dc9a6b3640fabceaa28f22fa4a55": {
          "model_module": "@jupyter-widgets/controls",
          "model_name": "IntSliderModel",
          "model_module_version": "1.5.0",
          "state": {
            "_dom_classes": [],
            "_model_module": "@jupyter-widgets/controls",
            "_model_module_version": "1.5.0",
            "_model_name": "IntSliderModel",
            "_view_count": null,
            "_view_module": "@jupyter-widgets/controls",
            "_view_module_version": "1.5.0",
            "_view_name": "IntSliderView",
            "continuous_update": true,
            "description": "image_idx",
            "description_tooltip": null,
            "disabled": false,
            "layout": "IPY_MODEL_280791e26ef2444695ded2ecc5b7c612",
            "max": 1000,
            "min": 0,
            "orientation": "horizontal",
            "readout": true,
            "readout_format": "d",
            "step": 1,
            "style": "IPY_MODEL_bc592a8681d042be8189e5065b0a701b",
            "value": 593
          }
        },
        "c00713c5d8b843619b7629fb65cac46d": {
          "model_module": "@jupyter-widgets/output",
          "model_name": "OutputModel",
          "model_module_version": "1.0.0",
          "state": {
            "_dom_classes": [],
            "_model_module": "@jupyter-widgets/output",
            "_model_module_version": "1.0.0",
            "_model_name": "OutputModel",
            "_view_count": null,
            "_view_module": "@jupyter-widgets/output",
            "_view_module_version": "1.0.0",
            "_view_name": "OutputView",
            "layout": "IPY_MODEL_c807c28931bf46f9bdb58a7a4556050d",
            "msg_id": "",
            "outputs": [
              {
                "output_type": "display_data",
                "data": {
                  "text/plain": "<Figure size 1440x1440 with 1 Axes>",
                  "image/png": "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\n"
                },
                "metadata": {
                  "needs_background": "light"
                }
              }
            ]
          }
        },
        "101e40b5ae13430aadf8a8de342c7b08": {
          "model_module": "@jupyter-widgets/base",
          "model_name": "LayoutModel",
          "model_module_version": "1.2.0",
          "state": {
            "_model_module": "@jupyter-widgets/base",
            "_model_module_version": "1.2.0",
            "_model_name": "LayoutModel",
            "_view_count": null,
            "_view_module": "@jupyter-widgets/base",
            "_view_module_version": "1.2.0",
            "_view_name": "LayoutView",
            "align_content": null,
            "align_items": null,
            "align_self": null,
            "border": null,
            "bottom": null,
            "display": null,
            "flex": null,
            "flex_flow": null,
            "grid_area": null,
            "grid_auto_columns": null,
            "grid_auto_flow": null,
            "grid_auto_rows": null,
            "grid_column": null,
            "grid_gap": null,
            "grid_row": null,
            "grid_template_areas": null,
            "grid_template_columns": null,
            "grid_template_rows": null,
            "height": null,
            "justify_content": null,
            "justify_items": null,
            "left": null,
            "margin": null,
            "max_height": null,
            "max_width": null,
            "min_height": null,
            "min_width": null,
            "object_fit": null,
            "object_position": null,
            "order": null,
            "overflow": null,
            "overflow_x": null,
            "overflow_y": null,
            "padding": null,
            "right": null,
            "top": null,
            "visibility": null,
            "width": null
          }
        },
        "280791e26ef2444695ded2ecc5b7c612": {
          "model_module": "@jupyter-widgets/base",
          "model_name": "LayoutModel",
          "model_module_version": "1.2.0",
          "state": {
            "_model_module": "@jupyter-widgets/base",
            "_model_module_version": "1.2.0",
            "_model_name": "LayoutModel",
            "_view_count": null,
            "_view_module": "@jupyter-widgets/base",
            "_view_module_version": "1.2.0",
            "_view_name": "LayoutView",
            "align_content": null,
            "align_items": null,
            "align_self": null,
            "border": null,
            "bottom": null,
            "display": null,
            "flex": null,
            "flex_flow": null,
            "grid_area": null,
            "grid_auto_columns": null,
            "grid_auto_flow": null,
            "grid_auto_rows": null,
            "grid_column": null,
            "grid_gap": null,
            "grid_row": null,
            "grid_template_areas": null,
            "grid_template_columns": null,
            "grid_template_rows": null,
            "height": null,
            "justify_content": null,
            "justify_items": null,
            "left": null,
            "margin": null,
            "max_height": null,
            "max_width": null,
            "min_height": null,
            "min_width": null,
            "object_fit": null,
            "object_position": null,
            "order": null,
            "overflow": null,
            "overflow_x": null,
            "overflow_y": null,
            "padding": null,
            "right": null,
            "top": null,
            "visibility": null,
            "width": null
          }
        },
        "bc592a8681d042be8189e5065b0a701b": {
          "model_module": "@jupyter-widgets/controls",
          "model_name": "SliderStyleModel",
          "model_module_version": "1.5.0",
          "state": {
            "_model_module": "@jupyter-widgets/controls",
            "_model_module_version": "1.5.0",
            "_model_name": "SliderStyleModel",
            "_view_count": null,
            "_view_module": "@jupyter-widgets/base",
            "_view_module_version": "1.2.0",
            "_view_name": "StyleView",
            "description_width": "",
            "handle_color": null
          }
        },
        "c807c28931bf46f9bdb58a7a4556050d": {
          "model_module": "@jupyter-widgets/base",
          "model_name": "LayoutModel",
          "model_module_version": "1.2.0",
          "state": {
            "_model_module": "@jupyter-widgets/base",
            "_model_module_version": "1.2.0",
            "_model_name": "LayoutModel",
            "_view_count": null,
            "_view_module": "@jupyter-widgets/base",
            "_view_module_version": "1.2.0",
            "_view_name": "LayoutView",
            "align_content": null,
            "align_items": null,
            "align_self": null,
            "border": null,
            "bottom": null,
            "display": null,
            "flex": null,
            "flex_flow": null,
            "grid_area": null,
            "grid_auto_columns": null,
            "grid_auto_flow": null,
            "grid_auto_rows": null,
            "grid_column": null,
            "grid_gap": null,
            "grid_row": null,
            "grid_template_areas": null,
            "grid_template_columns": null,
            "grid_template_rows": null,
            "height": null,
            "justify_content": null,
            "justify_items": null,
            "left": null,
            "margin": null,
            "max_height": null,
            "max_width": null,
            "min_height": null,
            "min_width": null,
            "object_fit": null,
            "object_position": null,
            "order": null,
            "overflow": null,
            "overflow_x": null,
            "overflow_y": null,
            "padding": null,
            "right": null,
            "top": null,
            "visibility": null,
            "width": null
          }
        },
        "07ab936139ad40ab9a81926a06adb0dc": {
          "model_module": "@jupyter-widgets/controls",
          "model_name": "VBoxModel",
          "model_module_version": "1.5.0",
          "state": {
            "_dom_classes": [
              "widget-interact"
            ],
            "_model_module": "@jupyter-widgets/controls",
            "_model_module_version": "1.5.0",
            "_model_name": "VBoxModel",
            "_view_count": null,
            "_view_module": "@jupyter-widgets/controls",
            "_view_module_version": "1.5.0",
            "_view_name": "VBoxView",
            "box_style": "",
            "children": [
              "IPY_MODEL_baae1f90723148378b0473e177d17cf9",
              "IPY_MODEL_48229515f6ce444db6126b59a1894c1c"
            ],
            "layout": "IPY_MODEL_f9e9962d056b4b81ba2778e9a120c71c"
          }
        },
        "baae1f90723148378b0473e177d17cf9": {
          "model_module": "@jupyter-widgets/controls",
          "model_name": "IntSliderModel",
          "model_module_version": "1.5.0",
          "state": {
            "_dom_classes": [],
            "_model_module": "@jupyter-widgets/controls",
            "_model_module_version": "1.5.0",
            "_model_name": "IntSliderModel",
            "_view_count": null,
            "_view_module": "@jupyter-widgets/controls",
            "_view_module_version": "1.5.0",
            "_view_name": "IntSliderView",
            "continuous_update": true,
            "description": "i",
            "description_tooltip": null,
            "disabled": false,
            "layout": "IPY_MODEL_6275604410334dc1a4a085f979ee7330",
            "max": 10,
            "min": 0,
            "orientation": "horizontal",
            "readout": true,
            "readout_format": "d",
            "step": 1,
            "style": "IPY_MODEL_498e281d6ba9498691bbad4d64746de4",
            "value": 10
          }
        },
        "48229515f6ce444db6126b59a1894c1c": {
          "model_module": "@jupyter-widgets/output",
          "model_name": "OutputModel",
          "model_module_version": "1.0.0",
          "state": {
            "_dom_classes": [],
            "_model_module": "@jupyter-widgets/output",
            "_model_module_version": "1.0.0",
            "_model_name": "OutputModel",
            "_view_count": null,
            "_view_module": "@jupyter-widgets/output",
            "_view_module_version": "1.0.0",
            "_view_name": "OutputView",
            "layout": "IPY_MODEL_85e828e7f8e34ab287cc6d840da9ffa2",
            "msg_id": "",
            "outputs": [
              {
                "output_type": "display_data",
                "data": {
                  "text/plain": "<Figure size 288x288 with 1 Axes>",
                  "image/png": "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\n"
                },
                "metadata": {
                  "needs_background": "light"
                }
              }
            ]
          }
        },
        "f9e9962d056b4b81ba2778e9a120c71c": {
          "model_module": "@jupyter-widgets/base",
          "model_name": "LayoutModel",
          "model_module_version": "1.2.0",
          "state": {
            "_model_module": "@jupyter-widgets/base",
            "_model_module_version": "1.2.0",
            "_model_name": "LayoutModel",
            "_view_count": null,
            "_view_module": "@jupyter-widgets/base",
            "_view_module_version": "1.2.0",
            "_view_name": "LayoutView",
            "align_content": null,
            "align_items": null,
            "align_self": null,
            "border": null,
            "bottom": null,
            "display": null,
            "flex": null,
            "flex_flow": null,
            "grid_area": null,
            "grid_auto_columns": null,
            "grid_auto_flow": null,
            "grid_auto_rows": null,
            "grid_column": null,
            "grid_gap": null,
            "grid_row": null,
            "grid_template_areas": null,
            "grid_template_columns": null,
            "grid_template_rows": null,
            "height": null,
            "justify_content": null,
            "justify_items": null,
            "left": null,
            "margin": null,
            "max_height": null,
            "max_width": null,
            "min_height": null,
            "min_width": null,
            "object_fit": null,
            "object_position": null,
            "order": null,
            "overflow": null,
            "overflow_x": null,
            "overflow_y": null,
            "padding": null,
            "right": null,
            "top": null,
            "visibility": null,
            "width": null
          }
        },
        "6275604410334dc1a4a085f979ee7330": {
          "model_module": "@jupyter-widgets/base",
          "model_name": "LayoutModel",
          "model_module_version": "1.2.0",
          "state": {
            "_model_module": "@jupyter-widgets/base",
            "_model_module_version": "1.2.0",
            "_model_name": "LayoutModel",
            "_view_count": null,
            "_view_module": "@jupyter-widgets/base",
            "_view_module_version": "1.2.0",
            "_view_name": "LayoutView",
            "align_content": null,
            "align_items": null,
            "align_self": null,
            "border": null,
            "bottom": null,
            "display": null,
            "flex": null,
            "flex_flow": null,
            "grid_area": null,
            "grid_auto_columns": null,
            "grid_auto_flow": null,
            "grid_auto_rows": null,
            "grid_column": null,
            "grid_gap": null,
            "grid_row": null,
            "grid_template_areas": null,
            "grid_template_columns": null,
            "grid_template_rows": null,
            "height": null,
            "justify_content": null,
            "justify_items": null,
            "left": null,
            "margin": null,
            "max_height": null,
            "max_width": null,
            "min_height": null,
            "min_width": null,
            "object_fit": null,
            "object_position": null,
            "order": null,
            "overflow": null,
            "overflow_x": null,
            "overflow_y": null,
            "padding": null,
            "right": null,
            "top": null,
            "visibility": null,
            "width": null
          }
        },
        "498e281d6ba9498691bbad4d64746de4": {
          "model_module": "@jupyter-widgets/controls",
          "model_name": "SliderStyleModel",
          "model_module_version": "1.5.0",
          "state": {
            "_model_module": "@jupyter-widgets/controls",
            "_model_module_version": "1.5.0",
            "_model_name": "SliderStyleModel",
            "_view_count": null,
            "_view_module": "@jupyter-widgets/base",
            "_view_module_version": "1.2.0",
            "_view_name": "StyleView",
            "description_width": "",
            "handle_color": null
          }
        },
        "85e828e7f8e34ab287cc6d840da9ffa2": {
          "model_module": "@jupyter-widgets/base",
          "model_name": "LayoutModel",
          "model_module_version": "1.2.0",
          "state": {
            "_model_module": "@jupyter-widgets/base",
            "_model_module_version": "1.2.0",
            "_model_name": "LayoutModel",
            "_view_count": null,
            "_view_module": "@jupyter-widgets/base",
            "_view_module_version": "1.2.0",
            "_view_name": "LayoutView",
            "align_content": null,
            "align_items": null,
            "align_self": null,
            "border": null,
            "bottom": null,
            "display": null,
            "flex": null,
            "flex_flow": null,
            "grid_area": null,
            "grid_auto_columns": null,
            "grid_auto_flow": null,
            "grid_auto_rows": null,
            "grid_column": null,
            "grid_gap": null,
            "grid_row": null,
            "grid_template_areas": null,
            "grid_template_columns": null,
            "grid_template_rows": null,
            "height": null,
            "justify_content": null,
            "justify_items": null,
            "left": null,
            "margin": null,
            "max_height": null,
            "max_width": null,
            "min_height": null,
            "min_width": null,
            "object_fit": null,
            "object_position": null,
            "order": null,
            "overflow": null,
            "overflow_x": null,
            "overflow_y": null,
            "padding": null,
            "right": null,
            "top": null,
            "visibility": null,
            "width": null
          }
        }
      }
    }
  },
  "nbformat": 4,
  "nbformat_minor": 0
}