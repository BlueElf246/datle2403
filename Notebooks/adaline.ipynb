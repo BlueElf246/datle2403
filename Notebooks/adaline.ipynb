{
  "cells": [
    {
      "cell_type": "code",
      "execution_count": 26,
      "metadata": {
        "id": "7saPfZriB7Mn"
      },
      "outputs": [],
      "source": [
        "import numpy as np\n",
        "import pandas as pd"
      ]
    },
    {
      "cell_type": "code",
      "execution_count": 33,
      "metadata": {
        "id": "y9lPNmR5B7Mp"
      },
      "outputs": [],
      "source": [
        "class AdalineGD:\n",
        "\n",
        "    def __init__(self,lr=0.01,random_state=1,n_iter=50):\n",
        "        self.lr = lr\n",
        "        self.random_state = random_state\n",
        "        self.n_iter = n_iter\n",
        "    \n",
        "    def net_input(self,X):\n",
        "        return np.dot(X,self.w[1:])+self.w[0]\n",
        "    \n",
        "    def activation(self,X):\n",
        "        return X\n",
        "    \n",
        "    def fit(self,X,y):\n",
        "        rgen = np.random.RandomState(self.random_state)\n",
        "        self.w = rgen.normal(loc=0.0, size=X.shape[1]+1,scale=0.01)\n",
        "        self.cost = []\n",
        "        print(self.w[1:].shape)\n",
        "        for _ in range(self.n_iter):\n",
        "            inp = self.net_input(X)\n",
        "            output = self.activation(inp)\n",
        "            errors = y-output\n",
        "            self.w[1:] += self.lr*X.T.dot(errors)\n",
        "            self.w[0] += self.lr*errors.sum()\n",
        "            c = (errors**2).sum()/2\n",
        "            self.cost.append(c)\n",
        "        print(self.cost)\n",
        "        return self\n",
        "    \n",
        "    def predict(self,X):\n",
        "        inp = self.net_input(X)\n",
        "        output = self.activation(inp)\n",
        "        return np.where(output>0.0,1,-1)"
      ]
    },
    {
      "cell_type": "code",
      "execution_count": 34,
      "metadata": {
        "id": "wW14k5nzB7Mq"
      },
      "outputs": [],
      "source": [
        "df = pd.read_csv('https://archive.ics.uci.edu/ml/machine-learning-databases/iris/iris.data',header=None)"
      ]
    },
    {
      "cell_type": "code",
      "execution_count": 35,
      "metadata": {
        "id": "DNiHFcG8B7Mr"
      },
      "outputs": [],
      "source": [
        "X = df.iloc[:100,[0,1,2]].values\n",
        "y = df.iloc[:100,4].values\n",
        "y = np.where(y=='Iris-setosa',-1,1)"
      ]
    },
    {
      "cell_type": "code",
      "source": [
        "X"
      ],
      "metadata": {
        "id": "gdzIsKCACEgF",
        "outputId": "f2de14a8-4f14-4e00-a886-7f2b30275616",
        "colab": {
          "base_uri": "https://localhost:8080/"
        }
      },
      "execution_count": 43,
      "outputs": [
        {
          "output_type": "execute_result",
          "data": {
            "text/plain": [
              "array([[5.1, 3.5, 1.4],\n",
              "       [4.9, 3. , 1.4],\n",
              "       [4.7, 3.2, 1.3],\n",
              "       [4.6, 3.1, 1.5],\n",
              "       [5. , 3.6, 1.4],\n",
              "       [5.4, 3.9, 1.7],\n",
              "       [4.6, 3.4, 1.4],\n",
              "       [5. , 3.4, 1.5],\n",
              "       [4.4, 2.9, 1.4],\n",
              "       [4.9, 3.1, 1.5],\n",
              "       [5.4, 3.7, 1.5],\n",
              "       [4.8, 3.4, 1.6],\n",
              "       [4.8, 3. , 1.4],\n",
              "       [4.3, 3. , 1.1],\n",
              "       [5.8, 4. , 1.2],\n",
              "       [5.7, 4.4, 1.5],\n",
              "       [5.4, 3.9, 1.3],\n",
              "       [5.1, 3.5, 1.4],\n",
              "       [5.7, 3.8, 1.7],\n",
              "       [5.1, 3.8, 1.5],\n",
              "       [5.4, 3.4, 1.7],\n",
              "       [5.1, 3.7, 1.5],\n",
              "       [4.6, 3.6, 1. ],\n",
              "       [5.1, 3.3, 1.7],\n",
              "       [4.8, 3.4, 1.9],\n",
              "       [5. , 3. , 1.6],\n",
              "       [5. , 3.4, 1.6],\n",
              "       [5.2, 3.5, 1.5],\n",
              "       [5.2, 3.4, 1.4],\n",
              "       [4.7, 3.2, 1.6],\n",
              "       [4.8, 3.1, 1.6],\n",
              "       [5.4, 3.4, 1.5],\n",
              "       [5.2, 4.1, 1.5],\n",
              "       [5.5, 4.2, 1.4],\n",
              "       [4.9, 3.1, 1.5],\n",
              "       [5. , 3.2, 1.2],\n",
              "       [5.5, 3.5, 1.3],\n",
              "       [4.9, 3.1, 1.5],\n",
              "       [4.4, 3. , 1.3],\n",
              "       [5.1, 3.4, 1.5],\n",
              "       [5. , 3.5, 1.3],\n",
              "       [4.5, 2.3, 1.3],\n",
              "       [4.4, 3.2, 1.3],\n",
              "       [5. , 3.5, 1.6],\n",
              "       [5.1, 3.8, 1.9],\n",
              "       [4.8, 3. , 1.4],\n",
              "       [5.1, 3.8, 1.6],\n",
              "       [4.6, 3.2, 1.4],\n",
              "       [5.3, 3.7, 1.5],\n",
              "       [5. , 3.3, 1.4],\n",
              "       [7. , 3.2, 4.7],\n",
              "       [6.4, 3.2, 4.5],\n",
              "       [6.9, 3.1, 4.9],\n",
              "       [5.5, 2.3, 4. ],\n",
              "       [6.5, 2.8, 4.6],\n",
              "       [5.7, 2.8, 4.5],\n",
              "       [6.3, 3.3, 4.7],\n",
              "       [4.9, 2.4, 3.3],\n",
              "       [6.6, 2.9, 4.6],\n",
              "       [5.2, 2.7, 3.9],\n",
              "       [5. , 2. , 3.5],\n",
              "       [5.9, 3. , 4.2],\n",
              "       [6. , 2.2, 4. ],\n",
              "       [6.1, 2.9, 4.7],\n",
              "       [5.6, 2.9, 3.6],\n",
              "       [6.7, 3.1, 4.4],\n",
              "       [5.6, 3. , 4.5],\n",
              "       [5.8, 2.7, 4.1],\n",
              "       [6.2, 2.2, 4.5],\n",
              "       [5.6, 2.5, 3.9],\n",
              "       [5.9, 3.2, 4.8],\n",
              "       [6.1, 2.8, 4. ],\n",
              "       [6.3, 2.5, 4.9],\n",
              "       [6.1, 2.8, 4.7],\n",
              "       [6.4, 2.9, 4.3],\n",
              "       [6.6, 3. , 4.4],\n",
              "       [6.8, 2.8, 4.8],\n",
              "       [6.7, 3. , 5. ],\n",
              "       [6. , 2.9, 4.5],\n",
              "       [5.7, 2.6, 3.5],\n",
              "       [5.5, 2.4, 3.8],\n",
              "       [5.5, 2.4, 3.7],\n",
              "       [5.8, 2.7, 3.9],\n",
              "       [6. , 2.7, 5.1],\n",
              "       [5.4, 3. , 4.5],\n",
              "       [6. , 3.4, 4.5],\n",
              "       [6.7, 3.1, 4.7],\n",
              "       [6.3, 2.3, 4.4],\n",
              "       [5.6, 3. , 4.1],\n",
              "       [5.5, 2.5, 4. ],\n",
              "       [5.5, 2.6, 4.4],\n",
              "       [6.1, 3. , 4.6],\n",
              "       [5.8, 2.6, 4. ],\n",
              "       [5. , 2.3, 3.3],\n",
              "       [5.6, 2.7, 4.2],\n",
              "       [5.7, 3. , 4.2],\n",
              "       [5.7, 2.9, 4.2],\n",
              "       [6.2, 2.9, 4.3],\n",
              "       [5.1, 2.5, 3. ],\n",
              "       [5.7, 2.8, 4.1]])"
            ]
          },
          "metadata": {},
          "execution_count": 43
        }
      ]
    },
    {
      "cell_type": "code",
      "execution_count": 37,
      "metadata": {
        "id": "JHKnVFg8B7Mr"
      },
      "outputs": [],
      "source": [
        "import matplotlib.pyplot as plt"
      ]
    },
    {
      "cell_type": "code",
      "execution_count": 45,
      "metadata": {
        "id": "s4Zy3t27B7Ms",
        "outputId": "cedf2900-72aa-434c-817b-133bc63acfc3",
        "colab": {
          "base_uri": "https://localhost:8080/",
          "height": 437
        }
      },
      "outputs": [
        {
          "output_type": "stream",
          "name": "stdout",
          "text": [
            "(3,)\n",
            "[51.835360489443026, 3975.4499706055276, 9350599.37290381, 22134501892.228485, 52396306780790.87, 1.2403138677209896e+17, 2.9360437499864547e+20, 6.950138288523664e+23, 1.6452214729370263e+27, 3.894532141155487e+30]\n",
            "(3,)\n",
            "[51.835360489443026, 48.97481202816251, 47.09851256513984, 45.510397640407746, 44.03273089921082, 42.619203181117385, 41.2568611645341, 39.9412472640262, 38.67009683112954, 37.441739222303326]\n",
            "(3,)\n",
            "[51.835360489443026, 48.97481202816251, 47.09851256513984, 45.510397640407746, 44.03273089921082, 42.619203181117385, 41.2568611645341, 39.9412472640262, 38.67009683112954, 37.441739222303326, 36.25469122637011, 35.10755276893788, 33.9989792782858, 32.92767352331619, 31.892382426110125, 30.891895173028022, 29.925041691299914, 28.990691253377204, 28.08775114760709, 27.21516539851535, 26.371913531358203, 25.55700937852443, 24.769499926144867, 24.008464199497734, 23.273012185890476, 22.56228379375419, 21.875447846732378, 21.211701111587367, 20.570267358787124, 19.95039645467421, 19.35136348415472, 18.772467902881484, 18.21303271793964, 17.672403696076742, 17.149948598551003, 16.645056441703165, 16.15713678238686, 15.685619027422081, 15.22995176626385, 14.789602126105777, 14.364055148664265, 13.952813187914439, 13.555395328073415, 13.171336821150314, 12.800188543405113, 12.441516470080645, 12.094901167793525, 11.759937303990247, 11.43623317289469, 11.123410237392774, 10.821102686318369, 10.528957006622624, 10.246631569926548, 9.973796232973095, 9.710131951511611, 9.455330407162956, 9.20909364682901, 8.97113373422474, 8.741172413125362, 8.518940781934708, 8.304178979194177, 8.096635879664525, 7.89606880062497, 7.7022432180461955, 7.5149324923052285, 7.333917603121475, 7.158986893403863, 6.989935821709526, 6.826566723024517, 6.6686885775868, 6.5161167874810895, 6.3686729607443375, 6.22618470272929, 6.088485414482155, 5.9554140978985775, 5.826815167430014, 5.702538268120303, 5.582438099759633, 5.466374246950228, 5.354211014885017, 5.24581727064722, 5.141066289845252, 5.039835608403555, 4.942006879336055, 4.847465734334717, 4.756101650011311, 4.66780781863597, 4.582481023221363, 4.500021516806377, 4.420332905798125, 4.343322037235868, 4.268898889844978, 4.196976468753522, 4.1274707037483545, 4.0603003509517155, 3.995386897803331, 3.932654471236905, 3.872029748943599, 3.813441873618728, 3.756822370091374, 3.702105065239995, 3.6492260106003878, 3.598123407575448, 3.5487375351593125, 3.5010106800913143, 3.4548870693580738, 3.4103128049647875, 3.367235800899433, 3.3256057222161424, 3.2853739261665336, 3.2464934053101304, 3.2089187325373287, 3.172606007940637, 3.137512807472029, 3.103598133326379, 3.0708223659929432, 3.0391472179188095, 3.0085356887301233, 2.978952021958728, 2.9503616632235947, 2.922731219818138, 2.896028421656163, 2.8702220835307632, 2.845282068642018, 2.8211792533508513, 2.7978854931178185, 2.775373589586993, 2.753617258776445, 2.732591100338127, 2.7122705678511836, 2.692631940113996, 2.673652293401328, 2.6553094746541506, 2.6375820755708057, 2.6204494075691898, 2.603891477590669, 2.587888964717445, 2.572423197576011, 2.5574761325002813, 2.543030332428845, 2.5290689465116674, 2.515575690402392, 2.5025348272131906, 2.489931149109881, 2.477749959525807, 2.4659770559736525, 2.4545987134351086, 2.443601668308961, 2.432973102898814, 2.422700630422329, 2.4127722805244227, 2.4031764852775064, 2.3939020656523664, 2.384938218443887, 2.3762745036363135, 2.3679008321932655, 2.359807454258259, 2.3519849477518937, 2.344424207352389, 2.3371164338465995, 2.330053123839008, 2.323226059806712, 2.3166273004887428, 2.3102491715984756, 2.3040842568482924, 2.2981253892759677, 2.2923656428626624, 2.286798324432707, 2.2814169658257026, 2.2762153163317875, 2.27118733538122, 2.266327185479725, 2.2616292253813617, 2.257088003490881, 2.2526982514879186, 2.2484548781655174, 2.2443529634757926, 2.2403877527757796, 2.236554651266724, 2.23284921862032, 2.2292671637856065, 2.2258043399704492, 2.2224567397917303, 2.219220490588606, 2.216091849893299, 2.213067201054172, 2.2101430490059517, 2.2073160161821406, 2.204582838564859, 2.2019403618674764, 2.1993855378455907, 2.1969154207320147, 2.1945271637916246, 2.192218015992024, 2.189985318786134, 2.1878265030029604, 2.1857390858428722, 2.183720667973914, 2.181768930725715, 2.179881633377761]\n",
            "-1 -1\n"
          ]
        },
        {
          "output_type": "display_data",
          "data": {
            "text/plain": [
              "<Figure size 720x288 with 2 Axes>"
            ],
            "image/png": "[encoded data removed]"
          },
          "metadata": {
            "needs_background": "light"
          }
        }
      ],
      "source": [
        "fig,ax = plt.subplots(nrows=1,ncols=2,figsize=(10,4))\n",
        "ada1 = AdalineGD(n_iter=10,lr=0.01).fit(X,y)\n",
        "ax[0].plot(range(1,len(ada1.cost)+1),np.log10(ada1.cost),marker='o')\n",
        "ax[0].set_xlabel('Cost')\n",
        "ax[0].set_ylabel('Sum of squared error')\n",
        "ax[0].set_title('LR-0.01')\n",
        "ada2 = AdalineGD(n_iter=10,lr=0.0001).fit(X,y)\n",
        "ax[1].plot(range(1,len(ada2.cost)+1),np.log10(ada2.cost),marker='o')\n",
        "ax[1].set_xlabel('Cost')\n",
        "ax[1].set_ylabel('Sum of squared error')\n",
        "ax[1].set_title('LR-0.0001')\n",
        "ada2 = AdalineGD(n_iter=200,lr=0.0001).fit(X,y)\n",
        "print(ada2.predict(X[0]),y[0])"
      ]
    },
    {
      "cell_type": "code",
      "execution_count": null,
      "metadata": {
        "id": "gToTUQaiB7Mt"
      },
      "outputs": [],
      "source": []
    }
  ],
  "metadata": {
    "interpreter": {
      "hash": "80a5502423a202e903e925bbae66f5e7b32a70a6145b6d0df40c09d22f8809ce"
    },
    "kernelspec": {
      "display_name": "Python 3.9.6 64-bit ('new_environment': conda)",
      "language": "python",
      "name": "python3"
    },
    "language_info": {
      "codemirror_mode": {
        "name": "ipython",
        "version": 3
      },
      "file_extension": ".py",
      "mimetype": "text/x-python",
      "name": "python",
      "nbconvert_exporter": "python",
      "pygments_lexer": "ipython3",
      "version": "3.9.6"
    },
    "orig_nbformat": 4,
    "colab": {
      "provenance": []
    }
  },
  "nbformat": 4,
  "nbformat_minor": 0
}