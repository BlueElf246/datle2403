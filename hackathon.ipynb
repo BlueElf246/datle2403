{
  "nbformat": 4,
  "nbformat_minor": 0,
  "metadata": {
    "colab": {
      "provenance": [],
      "authorship_tag": "ABX9TyMU4z0I2ySVb9zCssyqMhUF",
      "include_colab_link": true
    },
    "kernelspec": {
      "name": "python3",
      "display_name": "Python 3"
    },
    "language_info": {
      "name": "python"
    }
  },
  "cells": [
    {
      "cell_type": "markdown",
      "metadata": {
        "id": "view-in-github",
        "colab_type": "text"
      },
      "source": [
        "<a href=\"https://colab.research.google.com/github/datle2403/datle2403/blob/main/hackathon.ipynb\" target=\"_parent\"><img src=\"https://colab.research.google.com/assets/colab-badge.svg\" alt=\"Open In Colab\"/></a>"
      ]
    },
    {
      "cell_type": "code",
      "execution_count": 239,
      "metadata": {
        "id": "qDkje_cTZ7_A"
      },
      "outputs": [],
      "source": [
        "import numpy as np\n",
        "import pandas as pd\n",
        "work_train= pd.read_csv('work_train.csv')\n",
        "work_test=pd.read_csv('work_test.csv')\n",
        "\n",
        "info_train=pd.read_csv('info_train.csv')\n",
        "info_test= pd.read_csv('info_test.csv')\n",
        "\n",
        "label_train= pd.read_csv('label_train.csv')\n",
        "label_test= pd.read_csv('label_test.csv')\n"
      ]
    },
    {
      "cell_type": "code",
      "source": [
        "work_train.head()"
      ],
      "metadata": {
        "colab": {
          "base_uri": "https://localhost:8080/",
          "height": 206
        },
        "id": "Ew1TIR1ZbZQX",
        "outputId": "73fa856c-ab75-4c65-d93b-8342d4502870"
      },
      "execution_count": 240,
      "outputs": [
        {
          "output_type": "execute_result",
          "data": {
            "text/plain": [
              "   id      id_bh  id_management id_office  company_type          job/role  \\\n",
              "0   1  113039360            106   TF2212F            -1          Giám đốc   \n",
              "1   1  113039360            106   TF2212F            -1          Giám đốc   \n",
              "2   2  116074930            102   TB16010            -1  Nhân viên lễ tân   \n",
              "3   2  116074930            102   TB16010            -1  Nhân viên lễ tân   \n",
              "4   2  116074930            102       NaN            -1               NaN   \n",
              "\n",
              "   from_date   to_date  employee_lv address  \n",
              "0   20130100  20151200          7.0  Hà Nội  \n",
              "1   20160100  20220400         10.0  Hà Nội  \n",
              "2   20160600  20161200          7.0  Hà Nội  \n",
              "3   20170100  20170300          8.0  Hà Nội  \n",
              "4   20170400  20170700         -1.0     NaN  "
            ],
            "text/html": [
              "\n",
              "  <div id=\"df-558532ff-a7ba-4161-86dd-77e3799ed713\">\n",
              "    <div class=\"colab-df-container\">\n",
              "      <div>\n",
              "<style scoped>\n",
              "    .dataframe tbody tr th:only-of-type {\n",
              "        vertical-align: middle;\n",
              "    }\n",
              "\n",
              "    .dataframe tbody tr th {\n",
              "        vertical-align: top;\n",
              "    }\n",
              "\n",
              "    .dataframe thead th {\n",
              "        text-align: right;\n",
              "    }\n",
              "</style>\n",
              "<table border=\"1\" class=\"dataframe\">\n",
              "  <thead>\n",
              "    <tr style=\"text-align: right;\">\n",
              "      <th></th>\n",
              "      <th>id</th>\n",
              "      <th>id_bh</th>\n",
              "      <th>id_management</th>\n",
              "      <th>id_office</th>\n",
              "      <th>company_type</th>\n",
              "      <th>job/role</th>\n",
              "      <th>from_date</th>\n",
              "      <th>to_date</th>\n",
              "      <th>employee_lv</th>\n",
              "      <th>address</th>\n",
              "    </tr>\n",
              "  </thead>\n",
              "  <tbody>\n",
              "    <tr>\n",
              "      <th>0</th>\n",
              "      <td>1</td>\n",
              "      <td>113039360</td>\n",
              "      <td>106</td>\n",
              "      <td>TF2212F</td>\n",
              "      <td>-1</td>\n",
              "      <td>Giám đốc</td>\n",
              "      <td>20130100</td>\n",
              "      <td>20151200</td>\n",
              "      <td>7.0</td>\n",
              "      <td>Hà Nội</td>\n",
              "    </tr>\n",
              "    <tr>\n",
              "      <th>1</th>\n",
              "      <td>1</td>\n",
              "      <td>113039360</td>\n",
              "      <td>106</td>\n",
              "      <td>TF2212F</td>\n",
              "      <td>-1</td>\n",
              "      <td>Giám đốc</td>\n",
              "      <td>20160100</td>\n",
              "      <td>20220400</td>\n",
              "      <td>10.0</td>\n",
              "      <td>Hà Nội</td>\n",
              "    </tr>\n",
              "    <tr>\n",
              "      <th>2</th>\n",
              "      <td>2</td>\n",
              "      <td>116074930</td>\n",
              "      <td>102</td>\n",
              "      <td>TB16010</td>\n",
              "      <td>-1</td>\n",
              "      <td>Nhân viên lễ tân</td>\n",
              "      <td>20160600</td>\n",
              "      <td>20161200</td>\n",
              "      <td>7.0</td>\n",
              "      <td>Hà Nội</td>\n",
              "    </tr>\n",
              "    <tr>\n",
              "      <th>3</th>\n",
              "      <td>2</td>\n",
              "      <td>116074930</td>\n",
              "      <td>102</td>\n",
              "      <td>TB16010</td>\n",
              "      <td>-1</td>\n",
              "      <td>Nhân viên lễ tân</td>\n",
              "      <td>20170100</td>\n",
              "      <td>20170300</td>\n",
              "      <td>8.0</td>\n",
              "      <td>Hà Nội</td>\n",
              "    </tr>\n",
              "    <tr>\n",
              "      <th>4</th>\n",
              "      <td>2</td>\n",
              "      <td>116074930</td>\n",
              "      <td>102</td>\n",
              "      <td>NaN</td>\n",
              "      <td>-1</td>\n",
              "      <td>NaN</td>\n",
              "      <td>20170400</td>\n",
              "      <td>20170700</td>\n",
              "      <td>-1.0</td>\n",
              "      <td>NaN</td>\n",
              "    </tr>\n",
              "  </tbody>\n",
              "</table>\n",
              "</div>\n",
              "      <button class=\"colab-df-convert\" onclick=\"convertToInteractive('df-558532ff-a7ba-4161-86dd-77e3799ed713')\"\n",
              "              title=\"Convert this dataframe to an interactive table.\"\n",
              "              style=\"display:none;\">\n",
              "        \n",
              "  <svg xmlns=\"http://www.w3.org/2000/svg\" height=\"24px\"viewBox=\"0 0 24 24\"\n",
              "       width=\"24px\">\n",
              "    <path d=\"M0 0h24v24H0V0z\" fill=\"none\"/>\n",
              "    <path d=\"M18.56 5.44l.94 2.06.94-2.06 2.06-.94-2.06-.94-.94-2.06-.94 2.06-2.06.94zm-11 1L8.5 8.5l.94-2.06 2.06-.94-2.06-.94L8.5 2.5l-.94 2.06-2.06.94zm10 10l.94 2.06.94-2.06 2.06-.94-2.06-.94-.94-2.06-.94 2.06-2.06.94z\"/><path d=\"M17.41 7.96l-1.37-1.37c-.4-.4-.92-.59-1.43-.59-.52 0-1.04.2-1.43.59L10.3 9.45l-7.72 7.72c-.78.78-.78 2.05 0 2.83L4 21.41c.39.39.9.59 1.41.59.51 0 1.02-.2 1.41-.59l7.78-7.78 2.81-2.81c.8-.78.8-2.07 0-2.86zM5.41 20L4 18.59l7.72-7.72 1.47 1.35L5.41 20z\"/>\n",
              "  </svg>\n",
              "      </button>\n",
              "      \n",
              "  <style>\n",
              "    .colab-df-container {\n",
              "      display:flex;\n",
              "      flex-wrap:wrap;\n",
              "      gap: 12px;\n",
              "    }\n",
              "\n",
              "    .colab-df-convert {\n",
              "      background-color: #E8F0FE;\n",
              "      border: none;\n",
              "      border-radius: 50%;\n",
              "      cursor: pointer;\n",
              "      display: none;\n",
              "      fill: #1967D2;\n",
              "      height: 32px;\n",
              "      padding: 0 0 0 0;\n",
              "      width: 32px;\n",
              "    }\n",
              "\n",
              "    .colab-df-convert:hover {\n",
              "      background-color: #E2EBFA;\n",
              "      box-shadow: 0px 1px 2px rgba(60, 64, 67, 0.3), 0px 1px 3px 1px rgba(60, 64, 67, 0.15);\n",
              "      fill: #174EA6;\n",
              "    }\n",
              "\n",
              "    [theme=dark] .colab-df-convert {\n",
              "      background-color: #3B4455;\n",
              "      fill: #D2E3FC;\n",
              "    }\n",
              "\n",
              "    [theme=dark] .colab-df-convert:hover {\n",
              "      background-color: #434B5C;\n",
              "      box-shadow: 0px 1px 3px 1px rgba(0, 0, 0, 0.15);\n",
              "      filter: drop-shadow(0px 1px 2px rgba(0, 0, 0, 0.3));\n",
              "      fill: #FFFFFF;\n",
              "    }\n",
              "  </style>\n",
              "\n",
              "      <script>\n",
              "        const buttonEl =\n",
              "          document.querySelector('#df-558532ff-a7ba-4161-86dd-77e3799ed713 button.colab-df-convert');\n",
              "        buttonEl.style.display =\n",
              "          google.colab.kernel.accessAllowed ? 'block' : 'none';\n",
              "\n",
              "        async function convertToInteractive(key) {\n",
              "          const element = document.querySelector('#df-558532ff-a7ba-4161-86dd-77e3799ed713');\n",
              "          const dataTable =\n",
              "            await google.colab.kernel.invokeFunction('convertToInteractive',\n",
              "                                                     [key], {});\n",
              "          if (!dataTable) return;\n",
              "\n",
              "          const docLinkHtml = 'Like what you see? Visit the ' +\n",
              "            '<a target=\"_blank\" href=https://colab.research.google.com/notebooks/data_table.ipynb>data table notebook</a>'\n",
              "            + ' to learn more about interactive tables.';\n",
              "          element.innerHTML = '';\n",
              "          dataTable['output_type'] = 'display_data';\n",
              "          await google.colab.output.renderOutput(dataTable, element);\n",
              "          const docLink = document.createElement('div');\n",
              "          docLink.innerHTML = docLinkHtml;\n",
              "          element.appendChild(docLink);\n",
              "        }\n",
              "      </script>\n",
              "    </div>\n",
              "  </div>\n",
              "  "
            ]
          },
          "metadata": {},
          "execution_count": 240
        }
      ]
    },
    {
      "cell_type": "code",
      "source": [
        "info_train.head()"
      ],
      "metadata": {
        "colab": {
          "base_uri": "https://localhost:8080/",
          "height": 206
        },
        "id": "Fa4JAIqMbpvi",
        "outputId": "e1ca1bd9-6503-4c58-ef28-a5f26110a7ef"
      },
      "execution_count": 241,
      "outputs": [
        {
          "output_type": "execute_result",
          "data": {
            "text/plain": [
              "   bithYear  gender           address      id_bh\n",
              "0      1971    MALE            hà Nội  113039360\n",
              "1      1993  FEMALE  Thành phố Hà Nội  116074930\n",
              "2      1977    MALE               NaN  203060233\n",
              "3      1996  FEMALE               NaN  131373210\n",
              "4      1971    MALE               NaN  198079441"
            ],
            "text/html": [
              "\n",
              "  <div id=\"df-9180bc3b-f41c-4f68-baed-3b55131ac092\">\n",
              "    <div class=\"colab-df-container\">\n",
              "      <div>\n",
              "<style scoped>\n",
              "    .dataframe tbody tr th:only-of-type {\n",
              "        vertical-align: middle;\n",
              "    }\n",
              "\n",
              "    .dataframe tbody tr th {\n",
              "        vertical-align: top;\n",
              "    }\n",
              "\n",
              "    .dataframe thead th {\n",
              "        text-align: right;\n",
              "    }\n",
              "</style>\n",
              "<table border=\"1\" class=\"dataframe\">\n",
              "  <thead>\n",
              "    <tr style=\"text-align: right;\">\n",
              "      <th></th>\n",
              "      <th>bithYear</th>\n",
              "      <th>gender</th>\n",
              "      <th>address</th>\n",
              "      <th>id_bh</th>\n",
              "    </tr>\n",
              "  </thead>\n",
              "  <tbody>\n",
              "    <tr>\n",
              "      <th>0</th>\n",
              "      <td>1971</td>\n",
              "      <td>MALE</td>\n",
              "      <td>hà Nội</td>\n",
              "      <td>113039360</td>\n",
              "    </tr>\n",
              "    <tr>\n",
              "      <th>1</th>\n",
              "      <td>1993</td>\n",
              "      <td>FEMALE</td>\n",
              "      <td>Thành phố Hà Nội</td>\n",
              "      <td>116074930</td>\n",
              "    </tr>\n",
              "    <tr>\n",
              "      <th>2</th>\n",
              "      <td>1977</td>\n",
              "      <td>MALE</td>\n",
              "      <td>NaN</td>\n",
              "      <td>203060233</td>\n",
              "    </tr>\n",
              "    <tr>\n",
              "      <th>3</th>\n",
              "      <td>1996</td>\n",
              "      <td>FEMALE</td>\n",
              "      <td>NaN</td>\n",
              "      <td>131373210</td>\n",
              "    </tr>\n",
              "    <tr>\n",
              "      <th>4</th>\n",
              "      <td>1971</td>\n",
              "      <td>MALE</td>\n",
              "      <td>NaN</td>\n",
              "      <td>198079441</td>\n",
              "    </tr>\n",
              "  </tbody>\n",
              "</table>\n",
              "</div>\n",
              "      <button class=\"colab-df-convert\" onclick=\"convertToInteractive('df-9180bc3b-f41c-4f68-baed-3b55131ac092')\"\n",
              "              title=\"Convert this dataframe to an interactive table.\"\n",
              "              style=\"display:none;\">\n",
              "        \n",
              "  <svg xmlns=\"http://www.w3.org/2000/svg\" height=\"24px\"viewBox=\"0 0 24 24\"\n",
              "       width=\"24px\">\n",
              "    <path d=\"M0 0h24v24H0V0z\" fill=\"none\"/>\n",
              "    <path d=\"M18.56 5.44l.94 2.06.94-2.06 2.06-.94-2.06-.94-.94-2.06-.94 2.06-2.06.94zm-11 1L8.5 8.5l.94-2.06 2.06-.94-2.06-.94L8.5 2.5l-.94 2.06-2.06.94zm10 10l.94 2.06.94-2.06 2.06-.94-2.06-.94-.94-2.06-.94 2.06-2.06.94z\"/><path d=\"M17.41 7.96l-1.37-1.37c-.4-.4-.92-.59-1.43-.59-.52 0-1.04.2-1.43.59L10.3 9.45l-7.72 7.72c-.78.78-.78 2.05 0 2.83L4 21.41c.39.39.9.59 1.41.59.51 0 1.02-.2 1.41-.59l7.78-7.78 2.81-2.81c.8-.78.8-2.07 0-2.86zM5.41 20L4 18.59l7.72-7.72 1.47 1.35L5.41 20z\"/>\n",
              "  </svg>\n",
              "      </button>\n",
              "      \n",
              "  <style>\n",
              "    .colab-df-container {\n",
              "      display:flex;\n",
              "      flex-wrap:wrap;\n",
              "      gap: 12px;\n",
              "    }\n",
              "\n",
              "    .colab-df-convert {\n",
              "      background-color: #E8F0FE;\n",
              "      border: none;\n",
              "      border-radius: 50%;\n",
              "      cursor: pointer;\n",
              "      display: none;\n",
              "      fill: #1967D2;\n",
              "      height: 32px;\n",
              "      padding: 0 0 0 0;\n",
              "      width: 32px;\n",
              "    }\n",
              "\n",
              "    .colab-df-convert:hover {\n",
              "      background-color: #E2EBFA;\n",
              "      box-shadow: 0px 1px 2px rgba(60, 64, 67, 0.3), 0px 1px 3px 1px rgba(60, 64, 67, 0.15);\n",
              "      fill: #174EA6;\n",
              "    }\n",
              "\n",
              "    [theme=dark] .colab-df-convert {\n",
              "      background-color: #3B4455;\n",
              "      fill: #D2E3FC;\n",
              "    }\n",
              "\n",
              "    [theme=dark] .colab-df-convert:hover {\n",
              "      background-color: #434B5C;\n",
              "      box-shadow: 0px 1px 3px 1px rgba(0, 0, 0, 0.15);\n",
              "      filter: drop-shadow(0px 1px 2px rgba(0, 0, 0, 0.3));\n",
              "      fill: #FFFFFF;\n",
              "    }\n",
              "  </style>\n",
              "\n",
              "      <script>\n",
              "        const buttonEl =\n",
              "          document.querySelector('#df-9180bc3b-f41c-4f68-baed-3b55131ac092 button.colab-df-convert');\n",
              "        buttonEl.style.display =\n",
              "          google.colab.kernel.accessAllowed ? 'block' : 'none';\n",
              "\n",
              "        async function convertToInteractive(key) {\n",
              "          const element = document.querySelector('#df-9180bc3b-f41c-4f68-baed-3b55131ac092');\n",
              "          const dataTable =\n",
              "            await google.colab.kernel.invokeFunction('convertToInteractive',\n",
              "                                                     [key], {});\n",
              "          if (!dataTable) return;\n",
              "\n",
              "          const docLinkHtml = 'Like what you see? Visit the ' +\n",
              "            '<a target=\"_blank\" href=https://colab.research.google.com/notebooks/data_table.ipynb>data table notebook</a>'\n",
              "            + ' to learn more about interactive tables.';\n",
              "          element.innerHTML = '';\n",
              "          dataTable['output_type'] = 'display_data';\n",
              "          await google.colab.output.renderOutput(dataTable, element);\n",
              "          const docLink = document.createElement('div');\n",
              "          docLink.innerHTML = docLinkHtml;\n",
              "          element.appendChild(docLink);\n",
              "        }\n",
              "      </script>\n",
              "    </div>\n",
              "  </div>\n",
              "  "
            ]
          },
          "metadata": {},
          "execution_count": 241
        }
      ]
    },
    {
      "cell_type": "code",
      "source": [
        "work_train.info(),info_train.info()"
      ],
      "metadata": {
        "colab": {
          "base_uri": "https://localhost:8080/"
        },
        "id": "LQn6jYhBbq3R",
        "outputId": "38311dea-6b8b-47cc-8137-9fdc643856fd"
      },
      "execution_count": 242,
      "outputs": [
        {
          "output_type": "stream",
          "name": "stdout",
          "text": [
            "<class 'pandas.core.frame.DataFrame'>\n",
            "RangeIndex: 247559 entries, 0 to 247558\n",
            "Data columns (total 10 columns):\n",
            " #   Column         Non-Null Count   Dtype  \n",
            "---  ------         --------------   -----  \n",
            " 0   id             247559 non-null  int64  \n",
            " 1   id_bh          247559 non-null  int64  \n",
            " 2   id_management  247559 non-null  int64  \n",
            " 3   id_office      235391 non-null  object \n",
            " 4   company_type   247559 non-null  int64  \n",
            " 5   job/role       214102 non-null  object \n",
            " 6   from_date      247559 non-null  int64  \n",
            " 7   to_date        247559 non-null  int64  \n",
            " 8   employee_lv    247554 non-null  float64\n",
            " 9   address        183528 non-null  object \n",
            "dtypes: float64(1), int64(6), object(3)\n",
            "memory usage: 18.9+ MB\n",
            "<class 'pandas.core.frame.DataFrame'>\n",
            "RangeIndex: 27502 entries, 0 to 27501\n",
            "Data columns (total 4 columns):\n",
            " #   Column    Non-Null Count  Dtype \n",
            "---  ------    --------------  ----- \n",
            " 0   bithYear  27502 non-null  int64 \n",
            " 1   gender    27502 non-null  object\n",
            " 2   address   13214 non-null  object\n",
            " 3   id_bh     27502 non-null  int64 \n",
            "dtypes: int64(2), object(2)\n",
            "memory usage: 859.6+ KB\n"
          ]
        },
        {
          "output_type": "execute_result",
          "data": {
            "text/plain": [
              "(None, None)"
            ]
          },
          "metadata": {},
          "execution_count": 242
        }
      ]
    },
    {
      "cell_type": "code",
      "source": [
        "label_train.info()"
      ],
      "metadata": {
        "colab": {
          "base_uri": "https://localhost:8080/"
        },
        "id": "kfhYMHghby6A",
        "outputId": "ec8132c1-2d4e-4384-ed21-00b89eb32e23"
      },
      "execution_count": 243,
      "outputs": [
        {
          "output_type": "stream",
          "name": "stdout",
          "text": [
            "<class 'pandas.core.frame.DataFrame'>\n",
            "RangeIndex: 27502 entries, 0 to 27501\n",
            "Data columns (total 2 columns):\n",
            " #   Column  Non-Null Count  Dtype\n",
            "---  ------  --------------  -----\n",
            " 0   id_bh   27502 non-null  int64\n",
            " 1   label   27502 non-null  int64\n",
            "dtypes: int64(2)\n",
            "memory usage: 429.8 KB\n"
          ]
        }
      ]
    },
    {
      "cell_type": "code",
      "source": [
        "work_train=work_train.drop_duplicates(subset=['id_bh'])\n",
        "work_train.info()"
      ],
      "metadata": {
        "colab": {
          "base_uri": "https://localhost:8080/"
        },
        "id": "_t8_-yCHb_Xt",
        "outputId": "2a4c98cb-7d44-4439-ca46-3581975604a4"
      },
      "execution_count": 244,
      "outputs": [
        {
          "output_type": "stream",
          "name": "stdout",
          "text": [
            "<class 'pandas.core.frame.DataFrame'>\n",
            "Int64Index: 27502 entries, 0 to 247550\n",
            "Data columns (total 10 columns):\n",
            " #   Column         Non-Null Count  Dtype  \n",
            "---  ------         --------------  -----  \n",
            " 0   id             27502 non-null  int64  \n",
            " 1   id_bh          27502 non-null  int64  \n",
            " 2   id_management  27502 non-null  int64  \n",
            " 3   id_office      27489 non-null  object \n",
            " 4   company_type   27502 non-null  int64  \n",
            " 5   job/role       27366 non-null  object \n",
            " 6   from_date      27502 non-null  int64  \n",
            " 7   to_date        27502 non-null  int64  \n",
            " 8   employee_lv    27499 non-null  float64\n",
            " 9   address        22252 non-null  object \n",
            "dtypes: float64(1), int64(6), object(3)\n",
            "memory usage: 2.3+ MB\n"
          ]
        }
      ]
    },
    {
      "cell_type": "code",
      "source": [
        "train_ds= work_train.merge(info_train, right_on='id_bh',left_on='id_bh')\n",
        "train_ds.info()"
      ],
      "metadata": {
        "colab": {
          "base_uri": "https://localhost:8080/"
        },
        "id": "42_ZgccNcgaj",
        "outputId": "532c42ab-7fa1-474e-a17e-7093dbf36414"
      },
      "execution_count": 245,
      "outputs": [
        {
          "output_type": "stream",
          "name": "stdout",
          "text": [
            "<class 'pandas.core.frame.DataFrame'>\n",
            "Int64Index: 27502 entries, 0 to 27501\n",
            "Data columns (total 13 columns):\n",
            " #   Column         Non-Null Count  Dtype  \n",
            "---  ------         --------------  -----  \n",
            " 0   id             27502 non-null  int64  \n",
            " 1   id_bh          27502 non-null  int64  \n",
            " 2   id_management  27502 non-null  int64  \n",
            " 3   id_office      27489 non-null  object \n",
            " 4   company_type   27502 non-null  int64  \n",
            " 5   job/role       27366 non-null  object \n",
            " 6   from_date      27502 non-null  int64  \n",
            " 7   to_date        27502 non-null  int64  \n",
            " 8   employee_lv    27499 non-null  float64\n",
            " 9   address_x      22252 non-null  object \n",
            " 10  bithYear       27502 non-null  int64  \n",
            " 11  gender         27502 non-null  object \n",
            " 12  address_y      13214 non-null  object \n",
            "dtypes: float64(1), int64(7), object(5)\n",
            "memory usage: 2.9+ MB\n"
          ]
        }
      ]
    },
    {
      "cell_type": "code",
      "source": [
        "train_ds.head()"
      ],
      "metadata": {
        "colab": {
          "base_uri": "https://localhost:8080/",
          "height": 322
        },
        "id": "tviGmm5zdwpi",
        "outputId": "ebf0e8dd-99ba-4261-f2e2-5966ae2c010a"
      },
      "execution_count": 246,
      "outputs": [
        {
          "output_type": "execute_result",
          "data": {
            "text/plain": [
              "   id      id_bh  id_management id_office  company_type          job/role  \\\n",
              "0   1  113039360            106   TF2212F            -1          Giám đốc   \n",
              "1   2  116074930            102   TB16010            -1  Nhân viên lễ tân   \n",
              "2   4  203060233            102   CB16291            -1           Kế toán   \n",
              "3   5  131373210            105   TE0785E            -1     Nhân viên bếp   \n",
              "4   6  198079441            102   TZ0000B            -1         Công nhân   \n",
              "\n",
              "   from_date   to_date  employee_lv address_x  bithYear  gender  \\\n",
              "0   20130100  20151200          7.0    Hà Nội      1971    MALE   \n",
              "1   20160600  20161200          7.0    Hà Nội      1993  FEMALE   \n",
              "2   20030300  20050900          1.0       NaN      1977    MALE   \n",
              "3   20181200  20181200          8.0  Cầu Giấy      1996  FEMALE   \n",
              "4   19920600  20081100         -1.0       NaN      1971    MALE   \n",
              "\n",
              "          address_y  \n",
              "0            hà Nội  \n",
              "1  Thành phố Hà Nội  \n",
              "2               NaN  \n",
              "3               NaN  \n",
              "4               NaN  "
            ],
            "text/html": [
              "\n",
              "  <div id=\"df-162428fb-08f7-4e00-9089-4ef7ec85fc91\">\n",
              "    <div class=\"colab-df-container\">\n",
              "      <div>\n",
              "<style scoped>\n",
              "    .dataframe tbody tr th:only-of-type {\n",
              "        vertical-align: middle;\n",
              "    }\n",
              "\n",
              "    .dataframe tbody tr th {\n",
              "        vertical-align: top;\n",
              "    }\n",
              "\n",
              "    .dataframe thead th {\n",
              "        text-align: right;\n",
              "    }\n",
              "</style>\n",
              "<table border=\"1\" class=\"dataframe\">\n",
              "  <thead>\n",
              "    <tr style=\"text-align: right;\">\n",
              "      <th></th>\n",
              "      <th>id</th>\n",
              "      <th>id_bh</th>\n",
              "      <th>id_management</th>\n",
              "      <th>id_office</th>\n",
              "      <th>company_type</th>\n",
              "      <th>job/role</th>\n",
              "      <th>from_date</th>\n",
              "      <th>to_date</th>\n",
              "      <th>employee_lv</th>\n",
              "      <th>address_x</th>\n",
              "      <th>bithYear</th>\n",
              "      <th>gender</th>\n",
              "      <th>address_y</th>\n",
              "    </tr>\n",
              "  </thead>\n",
              "  <tbody>\n",
              "    <tr>\n",
              "      <th>0</th>\n",
              "      <td>1</td>\n",
              "      <td>113039360</td>\n",
              "      <td>106</td>\n",
              "      <td>TF2212F</td>\n",
              "      <td>-1</td>\n",
              "      <td>Giám đốc</td>\n",
              "      <td>20130100</td>\n",
              "      <td>20151200</td>\n",
              "      <td>7.0</td>\n",
              "      <td>Hà Nội</td>\n",
              "      <td>1971</td>\n",
              "      <td>MALE</td>\n",
              "      <td>hà Nội</td>\n",
              "    </tr>\n",
              "    <tr>\n",
              "      <th>1</th>\n",
              "      <td>2</td>\n",
              "      <td>116074930</td>\n",
              "      <td>102</td>\n",
              "      <td>TB16010</td>\n",
              "      <td>-1</td>\n",
              "      <td>Nhân viên lễ tân</td>\n",
              "      <td>20160600</td>\n",
              "      <td>20161200</td>\n",
              "      <td>7.0</td>\n",
              "      <td>Hà Nội</td>\n",
              "      <td>1993</td>\n",
              "      <td>FEMALE</td>\n",
              "      <td>Thành phố Hà Nội</td>\n",
              "    </tr>\n",
              "    <tr>\n",
              "      <th>2</th>\n",
              "      <td>4</td>\n",
              "      <td>203060233</td>\n",
              "      <td>102</td>\n",
              "      <td>CB16291</td>\n",
              "      <td>-1</td>\n",
              "      <td>Kế toán</td>\n",
              "      <td>20030300</td>\n",
              "      <td>20050900</td>\n",
              "      <td>1.0</td>\n",
              "      <td>NaN</td>\n",
              "      <td>1977</td>\n",
              "      <td>MALE</td>\n",
              "      <td>NaN</td>\n",
              "    </tr>\n",
              "    <tr>\n",
              "      <th>3</th>\n",
              "      <td>5</td>\n",
              "      <td>131373210</td>\n",
              "      <td>105</td>\n",
              "      <td>TE0785E</td>\n",
              "      <td>-1</td>\n",
              "      <td>Nhân viên bếp</td>\n",
              "      <td>20181200</td>\n",
              "      <td>20181200</td>\n",
              "      <td>8.0</td>\n",
              "      <td>Cầu Giấy</td>\n",
              "      <td>1996</td>\n",
              "      <td>FEMALE</td>\n",
              "      <td>NaN</td>\n",
              "    </tr>\n",
              "    <tr>\n",
              "      <th>4</th>\n",
              "      <td>6</td>\n",
              "      <td>198079441</td>\n",
              "      <td>102</td>\n",
              "      <td>TZ0000B</td>\n",
              "      <td>-1</td>\n",
              "      <td>Công nhân</td>\n",
              "      <td>19920600</td>\n",
              "      <td>20081100</td>\n",
              "      <td>-1.0</td>\n",
              "      <td>NaN</td>\n",
              "      <td>1971</td>\n",
              "      <td>MALE</td>\n",
              "      <td>NaN</td>\n",
              "    </tr>\n",
              "  </tbody>\n",
              "</table>\n",
              "</div>\n",
              "      <button class=\"colab-df-convert\" onclick=\"convertToInteractive('df-162428fb-08f7-4e00-9089-4ef7ec85fc91')\"\n",
              "              title=\"Convert this dataframe to an interactive table.\"\n",
              "              style=\"display:none;\">\n",
              "        \n",
              "  <svg xmlns=\"http://www.w3.org/2000/svg\" height=\"24px\"viewBox=\"0 0 24 24\"\n",
              "       width=\"24px\">\n",
              "    <path d=\"M0 0h24v24H0V0z\" fill=\"none\"/>\n",
              "    <path d=\"M18.56 5.44l.94 2.06.94-2.06 2.06-.94-2.06-.94-.94-2.06-.94 2.06-2.06.94zm-11 1L8.5 8.5l.94-2.06 2.06-.94-2.06-.94L8.5 2.5l-.94 2.06-2.06.94zm10 10l.94 2.06.94-2.06 2.06-.94-2.06-.94-.94-2.06-.94 2.06-2.06.94z\"/><path d=\"M17.41 7.96l-1.37-1.37c-.4-.4-.92-.59-1.43-.59-.52 0-1.04.2-1.43.59L10.3 9.45l-7.72 7.72c-.78.78-.78 2.05 0 2.83L4 21.41c.39.39.9.59 1.41.59.51 0 1.02-.2 1.41-.59l7.78-7.78 2.81-2.81c.8-.78.8-2.07 0-2.86zM5.41 20L4 18.59l7.72-7.72 1.47 1.35L5.41 20z\"/>\n",
              "  </svg>\n",
              "      </button>\n",
              "      \n",
              "  <style>\n",
              "    .colab-df-container {\n",
              "      display:flex;\n",
              "      flex-wrap:wrap;\n",
              "      gap: 12px;\n",
              "    }\n",
              "\n",
              "    .colab-df-convert {\n",
              "      background-color: #E8F0FE;\n",
              "      border: none;\n",
              "      border-radius: 50%;\n",
              "      cursor: pointer;\n",
              "      display: none;\n",
              "      fill: #1967D2;\n",
              "      height: 32px;\n",
              "      padding: 0 0 0 0;\n",
              "      width: 32px;\n",
              "    }\n",
              "\n",
              "    .colab-df-convert:hover {\n",
              "      background-color: #E2EBFA;\n",
              "      box-shadow: 0px 1px 2px rgba(60, 64, 67, 0.3), 0px 1px 3px 1px rgba(60, 64, 67, 0.15);\n",
              "      fill: #174EA6;\n",
              "    }\n",
              "\n",
              "    [theme=dark] .colab-df-convert {\n",
              "      background-color: #3B4455;\n",
              "      fill: #D2E3FC;\n",
              "    }\n",
              "\n",
              "    [theme=dark] .colab-df-convert:hover {\n",
              "      background-color: #434B5C;\n",
              "      box-shadow: 0px 1px 3px 1px rgba(0, 0, 0, 0.15);\n",
              "      filter: drop-shadow(0px 1px 2px rgba(0, 0, 0, 0.3));\n",
              "      fill: #FFFFFF;\n",
              "    }\n",
              "  </style>\n",
              "\n",
              "      <script>\n",
              "        const buttonEl =\n",
              "          document.querySelector('#df-162428fb-08f7-4e00-9089-4ef7ec85fc91 button.colab-df-convert');\n",
              "        buttonEl.style.display =\n",
              "          google.colab.kernel.accessAllowed ? 'block' : 'none';\n",
              "\n",
              "        async function convertToInteractive(key) {\n",
              "          const element = document.querySelector('#df-162428fb-08f7-4e00-9089-4ef7ec85fc91');\n",
              "          const dataTable =\n",
              "            await google.colab.kernel.invokeFunction('convertToInteractive',\n",
              "                                                     [key], {});\n",
              "          if (!dataTable) return;\n",
              "\n",
              "          const docLinkHtml = 'Like what you see? Visit the ' +\n",
              "            '<a target=\"_blank\" href=https://colab.research.google.com/notebooks/data_table.ipynb>data table notebook</a>'\n",
              "            + ' to learn more about interactive tables.';\n",
              "          element.innerHTML = '';\n",
              "          dataTable['output_type'] = 'display_data';\n",
              "          await google.colab.output.renderOutput(dataTable, element);\n",
              "          const docLink = document.createElement('div');\n",
              "          docLink.innerHTML = docLinkHtml;\n",
              "          element.appendChild(docLink);\n",
              "        }\n",
              "      </script>\n",
              "    </div>\n",
              "  </div>\n",
              "  "
            ]
          },
          "metadata": {},
          "execution_count": 246
        }
      ]
    },
    {
      "cell_type": "code",
      "source": [
        "train_ds=train_ds.drop(['id','address_y'],axis=1)"
      ],
      "metadata": {
        "id": "UwDIGg-HeH7Z"
      },
      "execution_count": 247,
      "outputs": []
    },
    {
      "cell_type": "code",
      "source": [
        "train_ds['address_x']=train_ds['address_x'].str.strip().str.lower()"
      ],
      "metadata": {
        "id": "dEfPy-pQfwE7"
      },
      "execution_count": 248,
      "outputs": []
    },
    {
      "cell_type": "code",
      "source": [
        "train_exp=train_ds.copy()"
      ],
      "metadata": {
        "id": "EdOGmghlvTGE"
      },
      "execution_count": 249,
      "outputs": []
    },
    {
      "cell_type": "code",
      "source": [
        "from difflib import SequenceMatcher\n",
        "\n",
        "def similar(a, b):\n",
        "    return SequenceMatcher(None, a, b).ratio()"
      ],
      "metadata": {
        "id": "8qzq_F0MzYNm"
      },
      "execution_count": 250,
      "outputs": []
    },
    {
      "cell_type": "code",
      "source": [
        "doc=\"\"\"An Giang, Vũng Tàu, Bạc Liêu, Bắc Kạn, Bắc Giang, Bắc Ninh, Bến Tre, Bình Dương, Bình Định, Bình Phước, Bình Thuận, Cà Mau, Cao Bằng, Cần Thơ, Đà Nẵng, Đắk Lắk, Đắk Nông, Điện Biên, Đồng Nai, Đồng Tháp, Đà Lạt, Gia Lai, Hà Giang, Hà Nam, Hà Nội, Hà Tây, Hà Tĩnh, Hải Dương, Hải Phòng, Hòa Bình, Hồ Chí Minh, Hậu Giang, Hưng Yên, Khánh Hòa, Kiên Giang, Kon Tum, Lai Châu, Lào Cai, Lạng Sơn, Lâm Đồng, Long An, Nam Định, Nghệ An, Ninh Bình, Ninh Thuận, Phú Thọ, Phú Yên, Quảng Bình, Quảng Nam, Quảng Ngãi, Quảng Ninh, Quảng Trị, Sóc Trăng, Sơn La, Tây Ninh, Thái Bình, Thái Nguyên, Thanh Hóa, Huế, Tiền Giang, Trà Vinh, Tuyên Quang, Vĩnh Long, Vĩnh Phúc, Yên Bái\"\"\"\n",
        "doc1= doc\n",
        "doc1=doc1.lower()\n",
        "lst=doc.split(', ')\n",
        "for x in range(0,len(lst)):\n",
        "    lst[x]=lst[x].lower()"
      ],
      "metadata": {
        "id": "E6RXoyN4g925"
      },
      "execution_count": 251,
      "outputs": []
    },
    {
      "cell_type": "code",
      "source": [
        "quan_tp='Quận 1, Quận 3, Quận 4, Quận 5, Quận 6, Quận 8, Quận 10, Quận 11, Quận Phú Nhuận, Quận Bình Thạnh, Quận Tân Phú, Quận Tân Bình, Quận Gò Vấp, Quận 9, Quận 2, Thủ Đức, Quận Bình Tân, Bình Chánh, Quận 7, Nhà Bè, Bình Chánh, Cần Giờ, Quận 12, Hóc Môn, Củ Chi'\n",
        "quan_hn='Hoàn Kiếm, Đống Đa, Ba Đình, Hai Bà Trưng, Hoàng Mai, Thanh Xuân, Long Biên, Nam Từ Liêm, Bắc Từ Liêm, Tây Hồ, Cầu Giấy, Hà Đông'\n",
        "\n",
        "l1= quan_tp.split(', ')\n",
        "l2= quan_hn.split(', ')\n",
        "for x,y in enumerate(l1):\n",
        "  l1[x]=l1[x].lower()\n",
        "for x,y in enumerate(l2):\n",
        "  l2[x]=l2[x].lower()\n"
      ],
      "metadata": {
        "id": "75Vx1ZR7wFjA"
      },
      "execution_count": 252,
      "outputs": []
    },
    {
      "cell_type": "code",
      "source": [
        "import re\n",
        "def abbreviate(text):\n",
        "  l=text.split(' ')\n",
        "  m=''\n",
        "  for x in l:\n",
        "    m+=x[0]\n",
        "  return m\n",
        "def process(item):\n",
        "  if type(item)== type(np.nan):\n",
        "    return np.nan\n",
        "  k=[]\n",
        "  best=0\n",
        "  h= item.split(' ')\n",
        "  if len(h) > 3:\n",
        "    item=h[-2]+' '+h[-1]\n",
        "  for x in lst:\n",
        "    b1=similar(x,item)\n",
        "    b2=similar(abbreviate(x),item)\n",
        "    b= max([b1,b2])\n",
        "    if best < b:\n",
        "      best_word=x\n",
        "      best=b\n",
        "  if best <0.4:\n",
        "    return item\n",
        "  else:\n",
        "    return best_word\n",
        "def process1(item):\n",
        "  if type(item)== type(np.nan):\n",
        "    return np.nan\n",
        "  l=item.split(' ')\n",
        "  for x in lst:\n",
        "    if x in item:\n",
        "      return x\n",
        "  return item\n",
        "def process_hcm(item):\n",
        "  if type(item)== type(np.nan):\n",
        "    return np.nan\n",
        "  k=[]\n",
        "  best=0\n",
        "  h= item.split(' ')\n",
        "  if len(h) >=2:\n",
        "    item=h[-2]+' '+h[-1]\n",
        "  for x in l1:\n",
        "    b1=similar(x,item)\n",
        "    b2=similar(abbreviate(x),item)\n",
        "    b= max([b1,b2])\n",
        "    if best < b:\n",
        "      best_word=x\n",
        "      best=b\n",
        "  if best <0.5:\n",
        "    return item\n",
        "  else:\n",
        "    return 'hồ chí minh'\n",
        "def process_hn(item):\n",
        "  if type(item)== type(np.nan):\n",
        "    return np.nan\n",
        "  k=[]\n",
        "  best=0\n",
        "  for x in l1:\n",
        "    b1=similar(x,item)\n",
        "    b2=similar(abbreviate(x),item)\n",
        "    b= max([b1,b2])\n",
        "    if best< b:\n",
        "      best_word=x\n",
        "      best=b\n",
        "  if best < 0.5:\n",
        "    return item\n",
        "  else:\n",
        "    return 'hà nội'"
      ],
      "metadata": {
        "id": "6Uc4eu6Zkln5"
      },
      "execution_count": 253,
      "outputs": []
    },
    {
      "cell_type": "code",
      "source": [
        "!pip install jellyfish"
      ],
      "metadata": {
        "colab": {
          "base_uri": "https://localhost:8080/"
        },
        "id": "jOyDpH2v0w83",
        "outputId": "5cad864e-cec4-496b-94b2-de619221bc05"
      },
      "execution_count": 254,
      "outputs": [
        {
          "output_type": "stream",
          "name": "stdout",
          "text": [
            "Looking in indexes: https://pypi.org/simple, https://us-python.pkg.dev/colab-wheels/public/simple/\n",
            "Requirement already satisfied: jellyfish in /usr/local/lib/python3.8/dist-packages (0.9.0)\n"
          ]
        }
      ]
    },
    {
      "cell_type": "code",
      "source": [
        "def isin(item):\n",
        "  if type(item)== type(np.nan):\n",
        "    return np.nan\n",
        "  if item in doc1:\n",
        "    return item"
      ],
      "metadata": {
        "id": "NaZiNjS7atGh"
      },
      "execution_count": 255,
      "outputs": []
    },
    {
      "cell_type": "code",
      "source": [
        "train_exp['address_x']=train_exp['address_x'].map(process_hcm).map(process_hn).map(process).map(isin)"
      ],
      "metadata": {
        "id": "f-c9-YSSjkyT"
      },
      "execution_count": 256,
      "outputs": []
    },
    {
      "cell_type": "code",
      "source": [
        "train_exp= train_exp.dropna(subset=['address_x'])"
      ],
      "metadata": {
        "id": "7GeYfPhldycL"
      },
      "execution_count": 258,
      "outputs": []
    },
    {
      "cell_type": "markdown",
      "source": [
        "# From date to date"
      ],
      "metadata": {
        "id": "brTb9PoqjsJ3"
      }
    },
    {
      "cell_type": "code",
      "source": [
        "train_exp_date=train_exp.copy()"
      ],
      "metadata": {
        "id": "EWOU6d13mbSg"
      },
      "execution_count": 344,
      "outputs": []
    },
    {
      "cell_type": "code",
      "source": [
        "train_exp_date['duration']=train_exp_date.to_date - train_exp_date.from_date"
      ],
      "metadata": {
        "id": "mVSJnK_EpzYh"
      },
      "execution_count": 347,
      "outputs": []
    },
    {
      "cell_type": "code",
      "source": [
        "train_exp_date=train_exp_date.drop(['from_date','to_date'],axis=1)"
      ],
      "metadata": {
        "id": "W_1VLKxbm6ow"
      },
      "execution_count": 285,
      "outputs": []
    },
    {
      "cell_type": "code",
      "source": [
        "lst='Công nhân, Nhân viên, Giáo viên, Giám đốc, Kế toán, Chuyên viên, Lái xe, Bảo vệ, Lao động, Kỹ sư, Phó giám đốc, Cán bộ, Kỹ thuật viên, Thủ quỹ, Thủ kho, Y sỹ, Quản lý, Kỹ thuật, Giảng viên, '"
      ],
      "metadata": {
        "id": "6H1qqk_er6gE"
      },
      "execution_count": 351,
      "outputs": []
    },
    {
      "cell_type": "code",
      "source": [
        "l='Kỹ sư, Kế toán, Điều dưỡng, Trưởng phòng, Giao dịch viên, Chuyên gia, Bán hàng, Phóng viên, Tạp vụ, '\n",
        "l1='Cán sự, Tài xế, Cán bộ, '"
      ],
      "metadata": {
        "id": "M7kg2UqRtYo5"
      },
      "execution_count": 352,
      "outputs": []
    },
    {
      "cell_type": "code",
      "source": [
        "l2='Bác sỹ, Văn thư, Thợ may, Bí thư, Tổ trưởng, '"
      ],
      "metadata": {
        "id": "uvl2M4OcuSzr"
      },
      "execution_count": 353,
      "outputs": []
    },
    {
      "cell_type": "code",
      "source": [
        "l3='Lập trình viên, '"
      ],
      "metadata": {
        "id": "zpERNgN2uwd_"
      },
      "execution_count": 354,
      "outputs": []
    },
    {
      "cell_type": "code",
      "source": [
        "l4='Dược sỹ, Bộ đội, Kiến trúc sư, Phiên dịch, Thợ hàn, Thư ký, công an, địa chất'"
      ],
      "metadata": {
        "id": "k8Nb6XDqvBp3"
      },
      "execution_count": 355,
      "outputs": []
    },
    {
      "cell_type": "code",
      "source": [
        "doc=lst+l+l1+l2+l3+l4"
      ],
      "metadata": {
        "id": "KA_UDX73vhOe"
      },
      "execution_count": 356,
      "outputs": []
    },
    {
      "cell_type": "code",
      "source": [
        "doc=doc.split(', ')"
      ],
      "metadata": {
        "id": "9CrGeoqCv9jy"
      },
      "execution_count": 333,
      "outputs": []
    },
    {
      "cell_type": "code",
      "source": [
        "doc1=list(map(lambda x: x.lower(), doc))"
      ],
      "metadata": {
        "id": "l2_-t9VLwset"
      },
      "execution_count": 334,
      "outputs": []
    },
    {
      "cell_type": "code",
      "source": [
        "def abbreviate(text):\n",
        "  l=text.split(' ')\n",
        "  m=''\n",
        "  for x in l:\n",
        "    m+=x[0]\n",
        "  return m\n",
        "def process_job(item):\n",
        "  if type(item)== type(np.nan):\n",
        "    return np.nan\n",
        "  k=[]\n",
        "  best=0\n",
        "  h= item.split(' ')\n",
        "  if len(h) > 3:\n",
        "    item=h[-2]+' '+h[-1]\n",
        "  for x in doc1:\n",
        "    b1=similar(x,item)\n",
        "    b2=similar(abbreviate(x),item)\n",
        "    b= max([b1,b2])\n",
        "    if best < b:\n",
        "      best_word=x\n",
        "      best=b\n",
        "  if best <0.4:\n",
        "    return item\n",
        "  else:\n",
        "    return best_word"
      ],
      "metadata": {
        "id": "Hxovi3NkxUsP"
      },
      "execution_count": 336,
      "outputs": []
    },
    {
      "cell_type": "code",
      "source": [
        "train_exp_date['job/role']=train_exp_date['job/role'].str.strip().str.lower()"
      ],
      "metadata": {
        "id": "N5-ypC7Hza_w"
      },
      "execution_count": 337,
      "outputs": []
    },
    {
      "cell_type": "code",
      "source": [
        "def isin(item):\n",
        "  if type(item)== type(np.nan):\n",
        "    return np.nan\n",
        "  if item in doc1:\n",
        "    return item"
      ],
      "metadata": {
        "id": "zsAsaArzxoIo"
      },
      "execution_count": 339,
      "outputs": []
    },
    {
      "cell_type": "code",
      "source": [
        "train_exp_date['job/role']=train_exp_date['job/role'].map(process_job).map(isin)"
      ],
      "metadata": {
        "id": "TWY7wTPuxTog"
      },
      "execution_count": 340,
      "outputs": []
    },
    {
      "cell_type": "code",
      "source": [
        "train_exp_date= train_exp_date.dropna(subset=['job/role'])"
      ],
      "metadata": {
        "id": "8wrR2TLF0n7_"
      },
      "execution_count": 342,
      "outputs": []
    },
    {
      "cell_type": "code",
      "source": [
        "train_exp_date.value_counts()"
      ],
      "metadata": {
        "colab": {
          "base_uri": "https://localhost:8080/"
        },
        "id": "Cnam0ROh2pQL",
        "outputId": "eaca8035-22a0-41dd-8e4e-bfeb899f8b63"
      },
      "execution_count": 343,
      "outputs": [
        {
          "output_type": "execute_result",
          "data": {
            "text/plain": [
              "id_bh       id_management  id_office  company_type  job/role    employee_lv  address_x    bithYear  gender  duration\n",
              "100008102   100            HW0001Z    -1            giáo viên   5.0          hà nội       1970      MALE    49900       1\n",
              "4010020067  4008           TH06970    -1            lái xe      1.0          nghệ an      1979      MALE    10100       1\n",
              "4010020004  4008           TH06921    -1            thủ quỹ     1.0          nghệ an      1973      FEMALE  20800       1\n",
              "4010019890  4013           FM11593     6            điều dưỡng  6.0          nghệ an      1986      FEMALE  31100       1\n",
              "4010019832  4013           KC11594    -1            chuyên gia  2.0          nghệ an      1983      FEMALE  31100       1\n",
              "                                                                                                                       ..\n",
              "2416011638  2400           YN0008Z    -1            công nhân   7.0          hà nội       1997      FEMALE  200         1\n",
              "2416010579  2400           YN0006Z    -1            bán hàng    5.0          hà nội       1972      FEMALE  600         1\n",
              "2416010546  2400           YN0006Z    -1            bán hàng    5.0          hà nội       1967      FEMALE  600         1\n",
              "2416010200  2409           TI0113I    -1            công nhân   5.0          hà nội       1983      MALE    800         1\n",
              "9820174207  1900           HZ0000Z     6            quản lý     6.0          thái nguyên  1995      MALE    100         1\n",
              "Length: 21278, dtype: int64"
            ]
          },
          "metadata": {},
          "execution_count": 343
        }
      ]
    },
    {
      "cell_type": "code",
      "source": [
        "train_exp_date['employee_lv'].unique()"
      ],
      "metadata": {
        "colab": {
          "base_uri": "https://localhost:8080/"
        },
        "id": "D1pJ4YSG2q3V",
        "outputId": "5dff4ab1-99a9-403a-cd29-fde352e30def"
      },
      "execution_count": 349,
      "outputs": [
        {
          "output_type": "execute_result",
          "data": {
            "text/plain": [
              "array([ 7.,  8.,  9., 59., 10.,  2.,  6., 12., 30.,  4., 14., 55., 19.,\n",
              "        1.,  3.,  5.,  0., 50., 11., 52., 16., 38., 41., -1., 32., 48.,\n",
              "       31., 17., 43., 45., 53., 20., 40., 13., 22., 18., 15., 26., 44.,\n",
              "       33., 28., 49., 47., 37., 46., 29., 36., 21., 24., 23., 35., 27.,\n",
              "       54., 58., 56., 34., nan])"
            ]
          },
          "metadata": {},
          "execution_count": 349
        }
      ]
    },
    {
      "cell_type": "markdown",
      "source": [
        "start from here"
      ],
      "metadata": {
        "id": "zxzqOWQF463G"
      }
    },
    {
      "cell_type": "code",
      "source": [
        "from algo import isin, isin_job, process, process_hcm, process_hn, process_job"
      ],
      "metadata": {
        "id": "PIxi3nXk6tc_"
      },
      "execution_count": 388,
      "outputs": []
    },
    {
      "cell_type": "code",
      "source": [
        "work_train_exp=work_train.copy()\n",
        "work_train_exp=work_train_exp.drop_duplicates(subset=['id_bh'])\n",
        "\n",
        "work_train_exp= work_train_exp.merge(info_train, right_on='id_bh',left_on='id_bh')\n",
        "\n",
        "work_train_exp=work_train_exp.drop(['id','address_y'],axis=1)\n",
        "work_train_exp['address_x']=work_train_exp['address_x'].str.strip().str.lower()\n",
        "\n",
        "work_train_exp['address_x']=work_train_exp['address_x'].map(process_hcm).map(process_hn).map(process).map(isin)\n",
        "work_train_exp= work_train_exp.dropna(subset=['address_x'])\n",
        "\n",
        "\n"
      ],
      "metadata": {
        "id": "jQF1SlHk3WFb"
      },
      "execution_count": 380,
      "outputs": []
    },
    {
      "cell_type": "code",
      "source": [
        "### for duration\n",
        "work_train_exp['duration']=work_train_exp.to_date - work_train_exp.from_date\n",
        "work_train_exp=work_train_exp.drop(['from_date','to_date'],axis=1)"
      ],
      "metadata": {
        "colab": {
          "base_uri": "https://localhost:8080/"
        },
        "id": "9wpYu-a35_JB",
        "outputId": "552ab61c-a649-4aec-b20d-aa947daa9e00"
      },
      "execution_count": 381,
      "outputs": [
        {
          "output_type": "stream",
          "name": "stderr",
          "text": [
            "<ipython-input-381-ee74b2b55062>:2: SettingWithCopyWarning: \n",
            "A value is trying to be set on a copy of a slice from a DataFrame.\n",
            "Try using .loc[row_indexer,col_indexer] = value instead\n",
            "\n",
            "See the caveats in the documentation: https://pandas.pydata.org/pandas-docs/stable/user_guide/indexing.html#returning-a-view-versus-a-copy\n",
            "  work_train_exp['duration']=work_train_exp.to_date - work_train_exp.from_date\n"
          ]
        }
      ]
    },
    {
      "cell_type": "code",
      "source": [
        "doc_job='Công nhân, Nhân viên, Giáo viên, Giám đốc, Kế toán, Chuyên viên, Lái xe, Bảo vệ, Lao động, Kỹ sư, Phó giám đốc, Cán bộ, Kỹ thuật viên, Thủ quỹ, Thủ kho, Y sỹ, Quản lý, Kỹ thuật, Giảng viên, Kỹ sư, Kế toán, Điều dưỡng, Trưởng phòng, Giao dịch viên, Chuyên gia, Bán hàng, Phóng viên, Tạp vụ, Cán sự, Tài xế, Cán bộ, Bác sỹ, Văn thư, Thợ may, Bí thư, Tổ trưởng, Lập trình viên, Dược sỹ, Bộ đội, Kiến trúc sư, Phiên dịch, Thợ hàn, Thư ký, công an, địa chất'\n",
        "doc_job=doc_job.split(', ')\n",
        "doc_job=list(map(lambda x: x.lower(), doc_job))"
      ],
      "metadata": {
        "id": "esJVPOtvEYzg"
      },
      "execution_count": 393,
      "outputs": []
    },
    {
      "cell_type": "code",
      "source": [
        "def isin_1(item):\n",
        "  if type(item)== type(np.nan):\n",
        "    return np.nan\n",
        "  if item in doc_job:\n",
        "    return item"
      ],
      "metadata": {
        "id": "rMTLe5PhD_II"
      },
      "execution_count": 394,
      "outputs": []
    },
    {
      "cell_type": "code",
      "source": [
        "work_train_exp['job/role']=work_train_exp['job/role'].str.strip().str.lower()\n",
        "m=work_train_exp['job/role'].map(process_job).map(isin_1).unique()\n",
        "len(m),m"
      ],
      "metadata": {
        "colab": {
          "base_uri": "https://localhost:8080/"
        },
        "id": "RoCoUA1I_veu",
        "outputId": "df4a010d-bcf6-43c6-fbde-feef9eeff744"
      },
      "execution_count": 395,
      "outputs": [
        {
          "output_type": "execute_result",
          "data": {
            "text/plain": [
              "(44, array(['giám đốc', 'kế toán', 'nhân viên', 'lao động', 'kỹ thuật',\n",
              "        'bán hàng', 'chuyên viên', None, 'phó giám đốc', 'tổ trưởng',\n",
              "        'phóng viên', 'bác sỹ', 'quản lý', 'bí thư', 'công nhân', 'kỹ sư',\n",
              "        'giáo viên', 'điều dưỡng', 'trưởng phòng', 'giảng viên',\n",
              "        'lập trình viên', 'bộ đội', 'thư ký', 'thủ quỹ', 'bảo vệ',\n",
              "        'lái xe', 'tài xế', 'kiến trúc sư', 'công an', 'thợ may', 'tạp vụ',\n",
              "        'văn thư', 'thủ kho', 'chuyên gia', 'giao dịch viên', 'cán bộ',\n",
              "        'kỹ thuật viên', 'địa chất', nan, 'cán sự', 'phiên dịch',\n",
              "        'thợ hàn', 'y sỹ', 'dược sỹ'], dtype=object))"
            ]
          },
          "metadata": {},
          "execution_count": 395
        }
      ]
    },
    {
      "cell_type": "code",
      "source": [
        "### for job/role\n",
        "work_train_exp['job/role']=work_train_exp['job/role'].str.strip().str.lower()\n",
        "work_train_exp['job/role']=work_train_exp['job/role'].map(process_job).map(isin_job)\n",
        "work_train_exp= work_train_exp.dropna(subset=['job/role'])"
      ],
      "metadata": {
        "id": "akVu-RZb6KVY"
      },
      "execution_count": 376,
      "outputs": []
    },
    {
      "cell_type": "code",
      "source": [
        "work_train_exp.info()"
      ],
      "metadata": {
        "colab": {
          "base_uri": "https://localhost:8080/"
        },
        "id": "LG_oXPjO7SaN",
        "outputId": "da3a3314-6eb7-4966-cca9-45875989d1f2"
      },
      "execution_count": 377,
      "outputs": [
        {
          "output_type": "stream",
          "name": "stdout",
          "text": [
            "<class 'pandas.core.frame.DataFrame'>\n",
            "Int64Index: 1 entries, 26603 to 26603\n",
            "Data columns (total 10 columns):\n",
            " #   Column         Non-Null Count  Dtype  \n",
            "---  ------         --------------  -----  \n",
            " 0   id_bh          1 non-null      int64  \n",
            " 1   id_management  1 non-null      int64  \n",
            " 2   id_office      1 non-null      object \n",
            " 3   company_type   1 non-null      int64  \n",
            " 4   job/role       1 non-null      object \n",
            " 5   employee_lv    1 non-null      float64\n",
            " 6   address_x      1 non-null      object \n",
            " 7   bithYear       1 non-null      int64  \n",
            " 8   gender         1 non-null      object \n",
            " 9   duration       1 non-null      int64  \n",
            "dtypes: float64(1), int64(5), object(4)\n",
            "memory usage: 88.0+ bytes\n"
          ]
        }
      ]
    },
    {
      "cell_type": "code",
      "source": [],
      "metadata": {
        "id": "ZKbmutu6-iYO"
      },
      "execution_count": null,
      "outputs": []
    }
  ]
}