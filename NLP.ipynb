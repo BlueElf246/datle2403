{
  "nbformat": 4,
  "nbformat_minor": 0,
  "metadata": {
    "colab": {
      "provenance": [],
      "toc_visible": true,
      "authorship_tag": "ABX9TyPULu4jrG4+71zqUQkSbNfz",
      "include_colab_link": true
    },
    "kernelspec": {
      "name": "python3",
      "display_name": "Python 3"
    },
    "language_info": {
      "name": "python"
    }
  },
  "cells": [
    {
      "cell_type": "markdown",
      "metadata": {
        "id": "view-in-github",
        "colab_type": "text"
      },
      "source": [
        "<a href=\"https://colab.research.google.com/github/datle2403/datle2403/blob/main/NLP.ipynb\" target=\"_parent\"><img src=\"https://colab.research.google.com/assets/colab-badge.svg\" alt=\"Open In Colab\"/></a>"
      ]
    },
    {
      "cell_type": "code",
      "execution_count": null,
      "metadata": {
        "id": "7afO2tYVjr-v"
      },
      "outputs": [],
      "source": [
        "import pandas as pd\n",
        "df=pd.read_csv('movie_data.csv',encoding='utf-8')"
      ]
    },
    {
      "cell_type": "code",
      "source": [
        "df.head()"
      ],
      "metadata": {
        "colab": {
          "base_uri": "https://localhost:8080/",
          "height": 206
        },
        "id": "RVjthOvRkEqV",
        "outputId": "6d8c5c7b-5bb9-476f-ef05-50e2576650fa"
      },
      "execution_count": null,
      "outputs": [
        {
          "output_type": "execute_result",
          "data": {
            "text/plain": [
              "                                              review  sentiment\n",
              "0  In 1974, the teenager Martha Moxley (Maggie Gr...          1\n",
              "1  OK... so... I really like Kris Kristofferson a...          0\n",
              "2  ***SPOILER*** Do not read this, if you think a...          0\n",
              "3  hi for all the people who have seen this wonde...          1\n",
              "4  I recently bought the DVD, forgetting just how...          0"
            ],
            "text/html": [
              "\n",
              "  <div id=\"df-ad9dd81a-4560-4cbf-9fbf-0dcb2aa3757d\">\n",
              "    <div class=\"colab-df-container\">\n",
              "      <div>\n",
              "<style scoped>\n",
              "    .dataframe tbody tr th:only-of-type {\n",
              "        vertical-align: middle;\n",
              "    }\n",
              "\n",
              "    .dataframe tbody tr th {\n",
              "        vertical-align: top;\n",
              "    }\n",
              "\n",
              "    .dataframe thead th {\n",
              "        text-align: right;\n",
              "    }\n",
              "</style>\n",
              "<table border=\"1\" class=\"dataframe\">\n",
              "  <thead>\n",
              "    <tr style=\"text-align: right;\">\n",
              "      <th></th>\n",
              "      <th>review</th>\n",
              "      <th>sentiment</th>\n",
              "    </tr>\n",
              "  </thead>\n",
              "  <tbody>\n",
              "    <tr>\n",
              "      <th>0</th>\n",
              "      <td>In 1974, the teenager Martha Moxley (Maggie Gr...</td>\n",
              "      <td>1</td>\n",
              "    </tr>\n",
              "    <tr>\n",
              "      <th>1</th>\n",
              "      <td>OK... so... I really like Kris Kristofferson a...</td>\n",
              "      <td>0</td>\n",
              "    </tr>\n",
              "    <tr>\n",
              "      <th>2</th>\n",
              "      <td>***SPOILER*** Do not read this, if you think a...</td>\n",
              "      <td>0</td>\n",
              "    </tr>\n",
              "    <tr>\n",
              "      <th>3</th>\n",
              "      <td>hi for all the people who have seen this wonde...</td>\n",
              "      <td>1</td>\n",
              "    </tr>\n",
              "    <tr>\n",
              "      <th>4</th>\n",
              "      <td>I recently bought the DVD, forgetting just how...</td>\n",
              "      <td>0</td>\n",
              "    </tr>\n",
              "  </tbody>\n",
              "</table>\n",
              "</div>\n",
              "      <button class=\"colab-df-convert\" onclick=\"convertToInteractive('df-ad9dd81a-4560-4cbf-9fbf-0dcb2aa3757d')\"\n",
              "              title=\"Convert this dataframe to an interactive table.\"\n",
              "              style=\"display:none;\">\n",
              "        \n",
              "  <svg xmlns=\"http://www.w3.org/2000/svg\" height=\"24px\"viewBox=\"0 0 24 24\"\n",
              "       width=\"24px\">\n",
              "    <path d=\"M0 0h24v24H0V0z\" fill=\"none\"/>\n",
              "    <path d=\"M18.56 5.44l.94 2.06.94-2.06 2.06-.94-2.06-.94-.94-2.06-.94 2.06-2.06.94zm-11 1L8.5 8.5l.94-2.06 2.06-.94-2.06-.94L8.5 2.5l-.94 2.06-2.06.94zm10 10l.94 2.06.94-2.06 2.06-.94-2.06-.94-.94-2.06-.94 2.06-2.06.94z\"/><path d=\"M17.41 7.96l-1.37-1.37c-.4-.4-.92-.59-1.43-.59-.52 0-1.04.2-1.43.59L10.3 9.45l-7.72 7.72c-.78.78-.78 2.05 0 2.83L4 21.41c.39.39.9.59 1.41.59.51 0 1.02-.2 1.41-.59l7.78-7.78 2.81-2.81c.8-.78.8-2.07 0-2.86zM5.41 20L4 18.59l7.72-7.72 1.47 1.35L5.41 20z\"/>\n",
              "  </svg>\n",
              "      </button>\n",
              "      \n",
              "  <style>\n",
              "    .colab-df-container {\n",
              "      display:flex;\n",
              "      flex-wrap:wrap;\n",
              "      gap: 12px;\n",
              "    }\n",
              "\n",
              "    .colab-df-convert {\n",
              "      background-color: #E8F0FE;\n",
              "      border: none;\n",
              "      border-radius: 50%;\n",
              "      cursor: pointer;\n",
              "      display: none;\n",
              "      fill: #1967D2;\n",
              "      height: 32px;\n",
              "      padding: 0 0 0 0;\n",
              "      width: 32px;\n",
              "    }\n",
              "\n",
              "    .colab-df-convert:hover {\n",
              "      background-color: #E2EBFA;\n",
              "      box-shadow: 0px 1px 2px rgba(60, 64, 67, 0.3), 0px 1px 3px 1px rgba(60, 64, 67, 0.15);\n",
              "      fill: #174EA6;\n",
              "    }\n",
              "\n",
              "    [theme=dark] .colab-df-convert {\n",
              "      background-color: #3B4455;\n",
              "      fill: #D2E3FC;\n",
              "    }\n",
              "\n",
              "    [theme=dark] .colab-df-convert:hover {\n",
              "      background-color: #434B5C;\n",
              "      box-shadow: 0px 1px 3px 1px rgba(0, 0, 0, 0.15);\n",
              "      filter: drop-shadow(0px 1px 2px rgba(0, 0, 0, 0.3));\n",
              "      fill: #FFFFFF;\n",
              "    }\n",
              "  </style>\n",
              "\n",
              "      <script>\n",
              "        const buttonEl =\n",
              "          document.querySelector('#df-ad9dd81a-4560-4cbf-9fbf-0dcb2aa3757d button.colab-df-convert');\n",
              "        buttonEl.style.display =\n",
              "          google.colab.kernel.accessAllowed ? 'block' : 'none';\n",
              "\n",
              "        async function convertToInteractive(key) {\n",
              "          const element = document.querySelector('#df-ad9dd81a-4560-4cbf-9fbf-0dcb2aa3757d');\n",
              "          const dataTable =\n",
              "            await google.colab.kernel.invokeFunction('convertToInteractive',\n",
              "                                                     [key], {});\n",
              "          if (!dataTable) return;\n",
              "\n",
              "          const docLinkHtml = 'Like what you see? Visit the ' +\n",
              "            '<a target=\"_blank\" href=https://colab.research.google.com/notebooks/data_table.ipynb>data table notebook</a>'\n",
              "            + ' to learn more about interactive tables.';\n",
              "          element.innerHTML = '';\n",
              "          dataTable['output_type'] = 'display_data';\n",
              "          await google.colab.output.renderOutput(dataTable, element);\n",
              "          const docLink = document.createElement('div');\n",
              "          docLink.innerHTML = docLinkHtml;\n",
              "          element.appendChild(docLink);\n",
              "        }\n",
              "      </script>\n",
              "    </div>\n",
              "  </div>\n",
              "  "
            ]
          },
          "metadata": {},
          "execution_count": 2
        }
      ]
    },
    {
      "cell_type": "markdown",
      "source": [
        "# bagging model"
      ],
      "metadata": {
        "id": "On6pB0tybbHk"
      }
    },
    {
      "cell_type": "code",
      "source": [
        "from sklearn.feature_extraction.text import CountVectorizer\n",
        "import numpy as np\n",
        "count=CountVectorizer()\n",
        "docs = np.array([\n",
        "        'The sun is shining',\n",
        "        'The weather is sweet',\n",
        "        'The sun is shining, the weather is sweet, and one and one is two'])\n",
        "bag=count.fit_transform(docs)\n"
      ],
      "metadata": {
        "id": "iJFkNoIZwWec"
      },
      "execution_count": null,
      "outputs": []
    },
    {
      "cell_type": "code",
      "source": [
        "count.vocabulary_"
      ],
      "metadata": {
        "colab": {
          "base_uri": "https://localhost:8080/"
        },
        "id": "KLIF5GoLY4cF",
        "outputId": "a843c822-0ef4-46b0-c133-edac3f56bea9"
      },
      "execution_count": null,
      "outputs": [
        {
          "output_type": "execute_result",
          "data": {
            "text/plain": [
              "{'the': 6,\n",
              " 'sun': 4,\n",
              " 'is': 1,\n",
              " 'shining': 3,\n",
              " 'weather': 8,\n",
              " 'sweet': 5,\n",
              " 'and': 0,\n",
              " 'one': 2,\n",
              " 'two': 7}"
            ]
          },
          "metadata": {},
          "execution_count": 4
        }
      ]
    },
    {
      "cell_type": "code",
      "source": [
        "bag.toarray()"
      ],
      "metadata": {
        "colab": {
          "base_uri": "https://localhost:8080/"
        },
        "id": "DnQ-mt9bZAZG",
        "outputId": "11026f31-9012-43b9-8144-d8eecc1d7485"
      },
      "execution_count": null,
      "outputs": [
        {
          "output_type": "execute_result",
          "data": {
            "text/plain": [
              "array([[0, 1, 0, 1, 1, 0, 1, 0, 0],\n",
              "       [0, 1, 0, 0, 0, 1, 1, 0, 1],\n",
              "       [2, 3, 2, 1, 1, 1, 2, 1, 1]])"
            ]
          },
          "metadata": {},
          "execution_count": 5
        }
      ]
    },
    {
      "cell_type": "markdown",
      "source": [
        "These value in these feature vector are call raw term frequency. tf(t,d), t: number of time the term (t) occur in document d\n",
        "\n",
        "* N-gram model:\n",
        "1-gram model: each item or token represent 1 word.\n"
      ],
      "metadata": {
        "id": "sqmBL4I2aMyr"
      }
    },
    {
      "cell_type": "markdown",
      "source": [
        "#accessing word relevancy vie term frequency inverse document frequency\n"
      ],
      "metadata": {
        "id": "fS-ZG3deb5EZ"
      }
    },
    {
      "cell_type": "markdown",
      "source": [
        "Word that appear commonly in many sentence. which not valuable to discriminated. the method called term frequency, inverse document frequency (tf-idf) use to **downweight** that word in feature vector.\n",
        "![Screen Shot 2022-11-28 at 20.37.58.png](data:image/png;base64,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)"
      ],
      "metadata": {
        "id": "-EH87va7cLIX"
      }
    },
    {
      "cell_type": "code",
      "source": [
        "from sklearn.feature_extraction.text import TfidfTransformer\n",
        "tfidf= TfidfTransformer(use_idf=True,norm='l2',smooth_idf=True)\n",
        "np.set_printoptions(precision=2)\n",
        "u=tfidf.fit_transform(count.fit_transform(docs)).toarray()\n",
        "u"
      ],
      "metadata": {
        "colab": {
          "base_uri": "https://localhost:8080/"
        },
        "id": "O_ZvGCa2ZsRa",
        "outputId": "eb8be4a9-d627-436f-9d91-69df5fdf4e60"
      },
      "execution_count": null,
      "outputs": [
        {
          "output_type": "execute_result",
          "data": {
            "text/plain": [
              "array([[0.  , 0.43, 0.  , 0.56, 0.56, 0.  , 0.43, 0.  , 0.  ],\n",
              "       [0.  , 0.43, 0.  , 0.  , 0.  , 0.56, 0.43, 0.  , 0.56],\n",
              "       [0.5 , 0.45, 0.5 , 0.19, 0.19, 0.19, 0.3 , 0.25, 0.19]])"
            ]
          },
          "metadata": {},
          "execution_count": 16
        }
      ]
    },
    {
      "cell_type": "code",
      "source": [
        "count.vocabulary_"
      ],
      "metadata": {
        "colab": {
          "base_uri": "https://localhost:8080/"
        },
        "id": "y1uU5pbdeIz6",
        "outputId": "8cfb08e3-6ce0-465c-ec30-fdc0d739b05c"
      },
      "execution_count": null,
      "outputs": [
        {
          "output_type": "execute_result",
          "data": {
            "text/plain": [
              "{'the': 6,\n",
              " 'sun': 4,\n",
              " 'is': 1,\n",
              " 'shining': 3,\n",
              " 'weather': 8,\n",
              " 'sweet': 5,\n",
              " 'and': 0,\n",
              " 'one': 2,\n",
              " 'two': 7}"
            ]
          },
          "metadata": {},
          "execution_count": 17
        }
      ]
    },
    {
      "cell_type": "markdown",
      "source": [
        "#Cleaning text data"
      ],
      "metadata": {
        "id": "AlE40BUNijeA"
      }
    },
    {
      "cell_type": "code",
      "source": [
        "df.loc[0,'review'][-50:]"
      ],
      "metadata": {
        "colab": {
          "base_uri": "https://localhost:8080/",
          "height": 35
        },
        "id": "zg07uX_jiZzg",
        "outputId": "4ca18f37-958b-424c-ca29-0018e73adde9"
      },
      "execution_count": null,
      "outputs": [
        {
          "output_type": "execute_result",
          "data": {
            "text/plain": [
              "'is seven.<br /><br />Title (Brazil): Not Available'"
            ],
            "application/vnd.google.colaboratory.intrinsic+json": {
              "type": "string"
            }
          },
          "metadata": {},
          "execution_count": 20
        }
      ]
    },
    {
      "cell_type": "markdown",
      "source": [
        "contain HTML markup."
      ],
      "metadata": {
        "id": "NPNTbifkiyR9"
      }
    },
    {
      "cell_type": "code",
      "source": [
        "import re\n",
        "def processor(text):\n",
        "  text=re.sub('<[^>]*>','',text)\n",
        "  emoticons=re.findall('(?::|;|=)(?:-)?(?:\\)|\\(|D|P)',text)\n",
        "  text = (re.sub('[\\W]+', ' ', text.lower()) +\n",
        "            ' '.join(emoticons).replace('-', ''))\n",
        "  return text"
      ],
      "metadata": {
        "id": "IQueDZRAiscw"
      },
      "execution_count": null,
      "outputs": []
    },
    {
      "cell_type": "code",
      "source": [
        "processor(df.loc[0,'review'][-50:])"
      ],
      "metadata": {
        "colab": {
          "base_uri": "https://localhost:8080/",
          "height": 35
        },
        "id": "emQTC-c-jn79",
        "outputId": "5ac0c633-e9dc-4425-e57f-9ebf96fbcbf5"
      },
      "execution_count": null,
      "outputs": [
        {
          "output_type": "execute_result",
          "data": {
            "text/plain": [
              "'is seven title brazil not available'"
            ],
            "application/vnd.google.colaboratory.intrinsic+json": {
              "type": "string"
            }
          },
          "metadata": {},
          "execution_count": 22
        }
      ]
    },
    {
      "cell_type": "code",
      "source": [
        "df.info()"
      ],
      "metadata": {
        "colab": {
          "base_uri": "https://localhost:8080/"
        },
        "id": "9iYswU9bkWDb",
        "outputId": "48a48b88-6a0c-4b14-f5dd-1d515a580517"
      },
      "execution_count": null,
      "outputs": [
        {
          "output_type": "stream",
          "name": "stdout",
          "text": [
            "<class 'pandas.core.frame.DataFrame'>\n",
            "RangeIndex: 50000 entries, 0 to 49999\n",
            "Data columns (total 2 columns):\n",
            " #   Column     Non-Null Count  Dtype \n",
            "---  ------     --------------  ----- \n",
            " 0   review     50000 non-null  object\n",
            " 1   sentiment  50000 non-null  int64 \n",
            "dtypes: int64(1), object(1)\n",
            "memory usage: 781.4+ KB\n"
          ]
        }
      ]
    },
    {
      "cell_type": "code",
      "source": [
        "df['review']=df['review'].apply(processor)"
      ],
      "metadata": {
        "id": "nz6SnjTckfHo"
      },
      "execution_count": null,
      "outputs": []
    },
    {
      "cell_type": "code",
      "source": [
        "!pip install nltk"
      ],
      "metadata": {
        "colab": {
          "base_uri": "https://localhost:8080/"
        },
        "id": "hPdFf06rlAQt",
        "outputId": "097a595e-1918-4801-9b0c-7c2e7fb737c9"
      },
      "execution_count": null,
      "outputs": [
        {
          "output_type": "stream",
          "name": "stdout",
          "text": [
            "Looking in indexes: https://pypi.org/simple, https://us-python.pkg.dev/colab-wheels/public/simple/\n",
            "Requirement already satisfied: nltk in /usr/local/lib/python3.7/dist-packages (3.7)\n",
            "Requirement already satisfied: tqdm in /usr/local/lib/python3.7/dist-packages (from nltk) (4.64.1)\n",
            "Requirement already satisfied: click in /usr/local/lib/python3.7/dist-packages (from nltk) (7.1.2)\n",
            "Requirement already satisfied: regex>=2021.8.3 in /usr/local/lib/python3.7/dist-packages (from nltk) (2022.6.2)\n",
            "Requirement already satisfied: joblib in /usr/local/lib/python3.7/dist-packages (from nltk) (1.2.0)\n"
          ]
        }
      ]
    },
    {
      "cell_type": "code",
      "source": [
        "from nltk.stem.porter import PorterStemmer\n",
        "porter=PorterStemmer()\n",
        "def tokenizer_porter(text):\n",
        "  return [porter.stem(word) for word in text.split()]\n",
        "tokenizer_porter('runners like running and thus they run')"
      ],
      "metadata": {
        "colab": {
          "base_uri": "https://localhost:8080/"
        },
        "id": "OCy5fmRclOsJ",
        "outputId": "fbaa21c2-fe3d-4c77-e4b0-2ea5f04ce8d5"
      },
      "execution_count": null,
      "outputs": [
        {
          "output_type": "execute_result",
          "data": {
            "text/plain": [
              "['runner', 'like', 'run', 'and', 'thu', 'they', 'run']"
            ]
          },
          "metadata": {},
          "execution_count": 26
        }
      ]
    },
    {
      "cell_type": "code",
      "source": [
        "def tokenizer(text):\n",
        "    return text.split()"
      ],
      "metadata": {
        "id": "MDz3mqnHoLMU"
      },
      "execution_count": null,
      "outputs": []
    },
    {
      "cell_type": "code",
      "source": [
        "import nltk\n",
        "nltk.download('stopwords')"
      ],
      "metadata": {
        "colab": {
          "base_uri": "https://localhost:8080/"
        },
        "id": "kSzC6u6JlvhD",
        "outputId": "ac66a2f2-634f-4a14-90cb-ba9521861afb"
      },
      "execution_count": null,
      "outputs": [
        {
          "output_type": "stream",
          "name": "stderr",
          "text": [
            "[nltk_data] Downloading package stopwords to /root/nltk_data...\n",
            "[nltk_data]   Unzipping corpora/stopwords.zip.\n"
          ]
        },
        {
          "output_type": "execute_result",
          "data": {
            "text/plain": [
              "True"
            ]
          },
          "metadata": {},
          "execution_count": 27
        }
      ]
    },
    {
      "cell_type": "code",
      "source": [
        "from nltk.corpus import stopwords\n",
        "stop=stopwords.words('english')\n"
      ],
      "metadata": {
        "id": "RrpapqN9mQ2g"
      },
      "execution_count": null,
      "outputs": []
    },
    {
      "cell_type": "code",
      "source": [
        "from sklearn.model_selection import GridSearchCV\n",
        "from sklearn.linear_model import LogisticRegression\n",
        "from sklearn.feature_extraction.text import TfidfVectorizer\n",
        "from sklearn.pipeline import Pipeline\n",
        "tfidf=TfidfVectorizer(strip_accents=None,lowercase=False,preprocessor=None)"
      ],
      "metadata": {
        "id": "3EAKXVJymjMl"
      },
      "execution_count": null,
      "outputs": []
    },
    {
      "cell_type": "code",
      "source": [
        "X_train = df.loc[:25000, 'review'].values\n",
        "y_train = df.loc[:25000, 'sentiment'].values\n",
        "X_test = df.loc[25000:, 'review'].values\n",
        "y_test = df.loc[25000:, 'sentiment'].values"
      ],
      "metadata": {
        "id": "Yroh6BxCoQWh"
      },
      "execution_count": null,
      "outputs": []
    },
    {
      "cell_type": "code",
      "source": [
        "param_grid = [{'vect__ngram_range': [(1, 1)],\n",
        "               'vect__stop_words': [stop, None],\n",
        "               'vect__tokenizer': [tokenizer, tokenizer_porter],\n",
        "               'clf__penalty': ['l1', 'l2'],\n",
        "               'clf__C': [1.0, 10.0, 100.0]},\n",
        "              {'vect__ngram_range': [(1, 1)],\n",
        "               'vect__stop_words': [stop, None],\n",
        "               'vect__tokenizer': [tokenizer, tokenizer_porter],\n",
        "               'vect__use_idf':[False],\n",
        "               'vect__norm':[None],\n",
        "               'clf__penalty': ['l1', 'l2'],\n",
        "               'clf__C': [1.0, 10.0, 100.0]},\n",
        "              ]\n",
        "pipeline=Pipeline([('vect',tfidf),('clf',LogisticRegression(random_state=0,solver='liblinear'))])\n",
        "\n",
        "gs=GridSearchCV(estimator=pipeline,cv=5,n_jobs=1,scoring='accuracy',verbose=2,param_grid=param_grid)\n",
        "gs.fit(X_train,y_train)"
      ],
      "metadata": {
        "id": "oFvSYhutoQoW"
      },
      "execution_count": null,
      "outputs": []
    },
    {
      "cell_type": "markdown",
      "source": [
        "# Working with bigger data – online algorithms and out-of-core learning"
      ],
      "metadata": {
        "id": "_p00sQmXvEEr"
      }
    },
    {
      "cell_type": "markdown",
      "source": [
        "ưe will use partial-fit to fit 1 example at a time"
      ],
      "metadata": {
        "id": "dvcmhGxOvSja"
      }
    },
    {
      "cell_type": "code",
      "source": [
        "import numpy as np\n",
        "import re\n",
        "import nltk\n",
        "nltk.download('stopwords')\n",
        "from nltk.corpus import stopwords\n",
        "# The `stop` is defined as earlier in this chapter\n",
        "# Added it here for convenience, so that this section\n",
        "# can be run as standalone without executing prior code\n",
        "# in the directory\n",
        "stop = stopwords.words('english')\n",
        "\n",
        "\n",
        "def tokenizer(text):\n",
        "    text = re.sub('<[^>]*>', '', text)\n",
        "    emoticons = re.findall('(?::|;|=)(?:-)?(?:\\)|\\(|D|P)', text)\n",
        "    text = re.sub('[\\W]+', ' ', text.lower()) +\\\n",
        "        ' '.join(emoticons).replace('-', '')\n",
        "    tokenized = [w for w in text.split() if w not in stop]\n",
        "    return tokenized\n",
        "\n",
        "\n",
        "def stream_docs(path):\n",
        "    with open(path, 'r', encoding='utf-8') as csv:\n",
        "        next(csv)  # skip header\n",
        "        for line in csv:\n",
        "            text, label = line[:-3], int(line[-2])\n",
        "            yield text, label"
      ],
      "metadata": {
        "id": "3Wo8HlFMpHkc",
        "colab": {
          "base_uri": "https://localhost:8080/"
        },
        "outputId": "7e5caff4-d7fc-41d4-fb36-9629f1ac2d35"
      },
      "execution_count": null,
      "outputs": [
        {
          "output_type": "stream",
          "name": "stderr",
          "text": [
            "[nltk_data] Downloading package stopwords to /root/nltk_data...\n",
            "[nltk_data]   Package stopwords is already up-to-date!\n"
          ]
        }
      ]
    },
    {
      "cell_type": "code",
      "source": [
        "next(stream_docs(path='movie_data.csv'))"
      ],
      "metadata": {
        "colab": {
          "base_uri": "https://localhost:8080/"
        },
        "id": "PYbGbVqmwQp7",
        "outputId": "438f5c0f-666e-49f3-cde3-b880c0eb6715"
      },
      "execution_count": null,
      "outputs": [
        {
          "output_type": "execute_result",
          "data": {
            "text/plain": [
              "('\"In 1974, the teenager Martha Moxley (Maggie Grace) moves to the high-class area of Belle Haven, Greenwich, Connecticut. On the Mischief Night, eve of Halloween, she was murdered in the backyard of her house and her murder remained unsolved. Twenty-two years later, the writer Mark Fuhrman (Christopher Meloni), who is a former LA detective that has fallen in disgrace for perjury in O.J. Simpson trial and moved to Idaho, decides to investigate the case with his partner Stephen Weeks (Andrew Mitchell) with the purpose of writing a book. The locals squirm and do not welcome them, but with the support of the retired detective Steve Carroll (Robert Forster) that was in charge of the investigation in the 70\\'s, they discover the criminal and a net of power and money to cover the murder.<br /><br />\"\"Murder in Greenwich\"\" is a good TV movie, with the true story of a murder of a fifteen years old girl that was committed by a wealthy teenager whose mother was a Kennedy. The powerful and rich family used their influence to cover the murder for more than twenty years. However, a snoopy detective and convicted perjurer in disgrace was able to disclose how the hideous crime was committed. The screenplay shows the investigation of Mark and the last days of Martha in parallel, but there is a lack of the emotion in the dramatization. My vote is seven.<br /><br />Title (Brazil): Not Available\"',\n",
              " 1)"
            ]
          },
          "metadata": {},
          "execution_count": 15
        }
      ]
    },
    {
      "cell_type": "code",
      "source": [
        "def get_minibatch(doc_stream, size):\n",
        "    docs, y = [], []\n",
        "    try:\n",
        "        for _ in range(size):\n",
        "            text, label = next(doc_stream)\n",
        "            docs.append(text)\n",
        "            y.append(label)\n",
        "    except StopIteration:\n",
        "        return None, None\n",
        "    return docs, y"
      ],
      "metadata": {
        "id": "o-6iIwtxwTpN"
      },
      "execution_count": null,
      "outputs": []
    },
    {
      "cell_type": "code",
      "source": [
        "from sklearn.feature_extraction.text import HashingVectorizer\n",
        "from sklearn.linear_model import SGDClassifier\n",
        "vect = HashingVectorizer(decode_error='ignore', \n",
        "                         n_features=2**21,\n",
        "                         preprocessor=None, \n",
        "                         tokenizer=tokenizer)\n",
        "clf = SGDClassifier(loss='log', random_state=1)\n",
        "\n",
        "\n",
        "doc_stream = stream_docs(path='movie_data.csv')"
      ],
      "metadata": {
        "id": "lRKz5l2fwmtP"
      },
      "execution_count": null,
      "outputs": []
    },
    {
      "cell_type": "code",
      "source": [
        "!pip install pyprind"
      ],
      "metadata": {
        "colab": {
          "base_uri": "https://localhost:8080/"
        },
        "id": "rqfuqiaTxkNM",
        "outputId": "61284cef-0220-4176-9830-9ed76455631b"
      },
      "execution_count": null,
      "outputs": [
        {
          "output_type": "stream",
          "name": "stdout",
          "text": [
            "Looking in indexes: https://pypi.org/simple, https://us-python.pkg.dev/colab-wheels/public/simple/\n",
            "Requirement already satisfied: pyprind in /usr/local/lib/python3.7/dist-packages (2.11.3)\n"
          ]
        }
      ]
    },
    {
      "cell_type": "code",
      "source": [
        "import pyprind\n",
        "pbar = pyprind.ProgBar(45)\n",
        "\n",
        "classes = np.array([0, 1])\n",
        "for _ in range(45):\n",
        "    X_train, y_train = get_minibatch(doc_stream, size=1000)\n",
        "    if not X_train:\n",
        "        break\n",
        "    X_train = vect.transform(X_train)\n",
        "    clf.partial_fit(X_train, y_train, classes=classes)\n",
        "    pbar.update()"
      ],
      "metadata": {
        "colab": {
          "base_uri": "https://localhost:8080/"
        },
        "id": "iwtDT2LdxiBJ",
        "outputId": "a2351d2c-504c-4421-e69c-51f7b5fac9bd"
      },
      "execution_count": null,
      "outputs": [
        {
          "output_type": "stream",
          "name": "stderr",
          "text": [
            "0% [##############################] 100% | ETA: 00:00:00\n",
            "Total time elapsed: 00:00:57\n"
          ]
        }
      ]
    },
    {
      "cell_type": "code",
      "source": [
        "X_test, y_test = get_minibatch(doc_stream, size=5000)\n",
        "X_test = vect.transform(X_test)\n",
        "print('Accuracy: %.3f' % clf.score(X_test, y_test))"
      ],
      "metadata": {
        "colab": {
          "base_uri": "https://localhost:8080/"
        },
        "id": "o-rPvL6OxyF9",
        "outputId": "be268e31-24eb-4d73-d280-a8a286c82be3"
      },
      "execution_count": null,
      "outputs": [
        {
          "output_type": "stream",
          "name": "stdout",
          "text": [
            "Accuracy: 0.868\n"
          ]
        }
      ]
    },
    {
      "cell_type": "code",
      "source": [
        "clf = clf.partial_fit(X_test, y_test)"
      ],
      "metadata": {
        "id": "Dp-SQFYwyQgT"
      },
      "execution_count": null,
      "outputs": []
    },
    {
      "cell_type": "code",
      "source": [
        "clf.get_params"
      ],
      "metadata": {
        "colab": {
          "base_uri": "https://localhost:8080/"
        },
        "id": "hBYyxSwcykvv",
        "outputId": "8697e42f-7838-4cef-e3fc-9e7e75ce1e4b"
      },
      "execution_count": null,
      "outputs": [
        {
          "output_type": "execute_result",
          "data": {
            "text/plain": [
              "<bound method BaseEstimator.get_params of SGDClassifier(loss='log', random_state=1)>"
            ]
          },
          "metadata": {},
          "execution_count": 32
        }
      ]
    },
    {
      "cell_type": "markdown",
      "source": [
        "# Topic modeling with Latent Dirichlet Allocation"
      ],
      "metadata": {
        "id": "izpRpkgVzi6J"
      }
    },
    {
      "cell_type": "code",
      "source": [
        "import pandas as pd\n",
        "from sklearn.feature_extraction.text import CountVectorizer\n",
        "df= pd.read_csv('movie_data.csv',encoding='utf-8')\n",
        "count=CountVectorizer(stop_words='english', max_df=.1, max_features=5000)\n",
        "X=count.fit_transform(df['review'].values)\n",
        "# max_df=.1 mean exclude work that occur too frequently acrros docs. "
      ],
      "metadata": {
        "id": "8j83awsAylwQ"
      },
      "execution_count": null,
      "outputs": []
    },
    {
      "cell_type": "code",
      "source": [
        "from sklearn.decomposition import LatentDirichletAllocation\n",
        "lda= LatentDirichletAllocation(n_components=10,random_state=123,learning_method='batch')\n",
        "X_topics=lda.fit_transform(X)"
      ],
      "metadata": {
        "id": "4_JWcKbVXsBf"
      },
      "execution_count": null,
      "outputs": []
    },
    {
      "cell_type": "code",
      "source": [
        "n_top_word=5\n",
        "k=lda.components_\n",
        "feature_name=count.get_feature_names()\n",
        "feature_name[:10]"
      ],
      "metadata": {
        "colab": {
          "base_uri": "https://localhost:8080/"
        },
        "id": "jU3FwjUfX_iW",
        "outputId": "471bf7ff-0424-4711-9f09-e125f7e55df3"
      },
      "execution_count": null,
      "outputs": [
        {
          "output_type": "stream",
          "name": "stderr",
          "text": [
            "/usr/local/lib/python3.7/dist-packages/sklearn/utils/deprecation.py:87: FutureWarning: Function get_feature_names is deprecated; get_feature_names is deprecated in 1.0 and will be removed in 1.2. Please use get_feature_names_out instead.\n",
            "  warnings.warn(msg, category=FutureWarning)\n"
          ]
        },
        {
          "output_type": "execute_result",
          "data": {
            "text/plain": [
              "['00', '000', '100', '11', '12', '13', '13th', '14', '15', '16']"
            ]
          },
          "metadata": {},
          "execution_count": 4
        }
      ]
    },
    {
      "cell_type": "markdown",
      "source": [],
      "metadata": {
        "id": "EpdvtIAUb5z5"
      }
    },
    {
      "cell_type": "code",
      "source": [
        "for top_idx, topic in enumerate(lda.components_):\n",
        "  print('Topic ',top_idx+1)\n",
        "  print(\"  \".join(feature_name[i] for i in topic.argsort()[:-n_top_word-1:-1]))\n"
      ],
      "metadata": {
        "colab": {
          "base_uri": "https://localhost:8080/"
        },
        "id": "C3Et8SiUY1HB",
        "outputId": "2011c8d1-c9ab-4209-9ebf-f149011d6f40"
      },
      "execution_count": null,
      "outputs": [
        {
          "output_type": "stream",
          "name": "stdout",
          "text": [
            "Topic  1\n",
            "worst  minutes  awful  script  stupid\n",
            "Topic  2\n",
            "family  mother  father  children  girl\n",
            "Topic  3\n",
            "american  war  dvd  music  tv\n",
            "Topic  4\n",
            "human  audience  cinema  art  sense\n",
            "Topic  5\n",
            "police  guy  car  dead  murder\n",
            "Topic  6\n",
            "horror  house  sex  girl  woman\n",
            "Topic  7\n",
            "role  performance  comedy  actor  performances\n",
            "Topic  8\n",
            "series  episode  war  episodes  tv\n",
            "Topic  9\n",
            "book  version  original  read  novel\n",
            "Topic  10\n",
            "action  fight  guy  guys  cool\n"
          ]
        }
      ]
    },
    {
      "cell_type": "code",
      "source": [
        "k[0].shape"
      ],
      "metadata": {
        "colab": {
          "base_uri": "https://localhost:8080/"
        },
        "id": "q7ldh_8hdAD7",
        "outputId": "efd31a2e-1368-42f1-bfd0-85d6e85a5bf2"
      },
      "execution_count": null,
      "outputs": [
        {
          "output_type": "execute_result",
          "data": {
            "text/plain": [
              "(5000,)"
            ]
          },
          "metadata": {},
          "execution_count": 6
        }
      ]
    },
    {
      "cell_type": "code",
      "source": [
        "X_topics.shape\n",
        "# 50000 example, each example have 10 col, represent probs that topic appear"
      ],
      "metadata": {
        "colab": {
          "base_uri": "https://localhost:8080/"
        },
        "id": "sbpHNZzmearG",
        "outputId": "da78085f-0cd5-4856-f92a-6fa59a48630f"
      },
      "execution_count": null,
      "outputs": [
        {
          "output_type": "execute_result",
          "data": {
            "text/plain": [
              "(50000, 10)"
            ]
          },
          "metadata": {},
          "execution_count": 7
        }
      ]
    },
    {
      "cell_type": "code",
      "source": [
        "horror=X_topics[:,5].argsort()[::-1]\n",
        "# select docs have highest in horror probs\n",
        "print(df['review'].loc[horror[1]])"
      ],
      "metadata": {
        "colab": {
          "base_uri": "https://localhost:8080/"
        },
        "id": "OHL-cpMHepI6",
        "outputId": "92e9d3b6-d7a6-4111-af9b-875465d74c1e"
      },
      "execution_count": null,
      "outputs": [
        {
          "output_type": "stream",
          "name": "stdout",
          "text": [
            "Okay, what the hell kind of TRASH have I been watching now? \"The Witches' Mountain\" has got to be one of the most incoherent and insane Spanish exploitation flicks ever and yet, at the same time, it's also strangely compelling. There's absolutely nothing that makes sense here and I even doubt there ever was a script to work with, but somehow I couldn't turn it off. The scratching your head with confusion starts right away, with an opening sequence about an angry little girl that killed her mother's cat. So you think this film revolves on children possessed by evil forces? Heck no, because after this intro, the girl and her wickedness simply aren't mentioned anymore. Then cut to a guy, with the most impressively trimmed mustache you'll ever see, who breaks up with his girlfriend in a rather unsubtle way. When she asks him to spend his vacation with her, he promptly phones his employer requesting him any type of assignment! Great move. The movie finally starts now, as he travels to an isolated mountain area to photograph some peaks. Though not before he picks up a new girl (Patty Shepard) and photographs her topless! Throughout their journey, all kind of strange events occur that  you guessed it  are never explained. The girl wakes up in the middle of the forest, loud petrifying music plays everywhere and someone even steals the jeep! Really, car jacking witches? Apparently a coven of silent witches owns the mountains and they practice voodoo on trespassers. That's as close as I get describing the plot, but there's a good chance I'm way off More important here is the atmosphere! \"The Witches' Mountain\" is occasionally very creepy, with its spooky music and interesting cinematography. The supportive characters all look uncanny and the ravishing Patty Shepard plays a good heroine. This is the type of European horror film that could have been legendary, if only someone had bothered to write a structured screenplay.\n"
          ]
        }
      ]
    },
    {
      "cell_type": "code",
      "source": [],
      "metadata": {
        "id": "EafLnEgcfjLb"
      },
      "execution_count": null,
      "outputs": []
    },
    {
      "cell_type": "markdown",
      "source": [
        "# save model"
      ],
      "metadata": {
        "id": "JMpk4Z9rlNQG"
      }
    },
    {
      "cell_type": "code",
      "source": [
        "import pickle\n",
        "import os\n",
        "dest = os.path.join('movieclassifier', 'pkl_objects')\n",
        "dest"
      ],
      "metadata": {
        "colab": {
          "base_uri": "https://localhost:8080/",
          "height": 35
        },
        "id": "h6EP-yAolLf6",
        "outputId": "d4fc9fa5-41b3-439b-af40-362daba414ac"
      },
      "execution_count": null,
      "outputs": [
        {
          "output_type": "execute_result",
          "data": {
            "text/plain": [
              "'movieclassifier/pkl_objects'"
            ],
            "application/vnd.google.colaboratory.intrinsic+json": {
              "type": "string"
            }
          },
          "metadata": {},
          "execution_count": 33
        }
      ]
    },
    {
      "cell_type": "code",
      "source": [
        "if not os.path.exists(dest):\n",
        "  os.makedirs(dest)"
      ],
      "metadata": {
        "id": "SqeC91DqlYCa"
      },
      "execution_count": null,
      "outputs": []
    },
    {
      "cell_type": "code",
      "source": [
        "pickle.dump(stop,open(os.path.join(dest, 'stopwords.pkl'), 'wb'),protocol=4)\n",
        "pickle.dump(clf,open(os.path.join(dest, 'classifier.pkl'), 'wb'),protocol=4)"
      ],
      "metadata": {
        "id": "zwRDYcDYlhk0"
      },
      "execution_count": null,
      "outputs": []
    }
  ]
}