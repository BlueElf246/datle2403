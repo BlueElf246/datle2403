{
  "nbformat": 4,
  "nbformat_minor": 0,
  "metadata": {
    "colab": {
      "provenance": [],
      "authorship_tag": "ABX9TyPvEHW0B3m+G/JjgnWv6clh",
      "include_colab_link": true
    },
    "kernelspec": {
      "name": "python3",
      "display_name": "Python 3"
    },
    "language_info": {
      "name": "python"
    }
  },
  "cells": [
    {
      "cell_type": "markdown",
      "metadata": {
        "id": "view-in-github",
        "colab_type": "text"
      },
      "source": [
        "<a href=\"https://colab.research.google.com/github/datle2403/datle2403/blob/main/Adaline_advanced.ipynb\" target=\"_parent\"><img src=\"https://colab.research.google.com/assets/colab-badge.svg\" alt=\"Open In Colab\"/></a>"
      ]
    },
    {
      "cell_type": "code",
      "source": [
        "# shuffle the data\n",
        "# sgd adaline\n",
        "# fit_partial: not reinitialized weight "
      ],
      "metadata": {
        "id": "MWYPjTxXDKdh"
      },
      "execution_count": null,
      "outputs": []
    },
    {
      "cell_type": "code",
      "execution_count": null,
      "metadata": {
        "id": "Y7MWhSVgDC1v"
      },
      "outputs": [],
      "source": [
        "import numpy as np\n",
        "from sklearn.base import BaseEstimator, TransformerMixin\n",
        "class adaline(BaseEstimator, TransformerMixin):\n",
        "  def __init__(self,iter=50,lr=0.001,random_state=1,shuffle=True):\n",
        "    self.shuffle=shuffle\n",
        "    self.iter=iter\n",
        "    self.lr=lr\n",
        "    self.random_state=random_state\n",
        "    self.initialize_weight=False\n",
        "  def net_input(self,X):\n",
        "    return self.w_[0] + np.dot(X,self.w_[1:])\n",
        "  def linear_activation_function(self,z):\n",
        "    return z\n",
        "  def fit(self,X,y):\n",
        "    self.error_=[]\n",
        "    self.create_weight(X.shape[1])\n",
        "    for _ in range(self.iter):\n",
        "      cost=[]\n",
        "      if self.shuffle:\n",
        "        self._shuffle(X,y)\n",
        "      for x,y_target in zip(X,y):\n",
        "        cost.append(self.update_weight(x,y_target))\n",
        "      avg_cost=sum(cost)/len(y)\n",
        "      self.error_.append(avg_cost)\n",
        "    return self\n",
        "  def predict(self,X):\n",
        "    return np.where(self.net_input(X)>0.0,1,-1)\n",
        "  def cost_function(self,X,y):\n",
        "    return 1/2*np.sum((y-self.net_input(X))**2)\n",
        "  def create_weight(self,m):\n",
        "    self.rgen = np.random.RandomState(self.random_state)\n",
        "    self.w_ = self.rgen.normal(loc=0.0, scale=0.01, size=1 + m)\n",
        "    self.initialize_weight=True\n",
        "  def _shuffle(self,X,y):\n",
        "    r=self.rgen.permutation(len(y))\n",
        "    return X[r],y[r]\n",
        "  def update_weight(self,xi,target):\n",
        "    Z=self.net_input(xi)\n",
        "    A=self.linear_activation_function(Z)\n",
        "    update=self.lr*(target-A)\n",
        "    self.w_[0]+=np.sum(update)\n",
        "    self.w_[1:]+=np.dot(xi.T,update)\n",
        "    error=self.cost_function(xi,target)\n",
        "    return error\n",
        "  def partial_fit(self,X,y):\n",
        "    \"\"\"Fit training data without reinitializing the weights\"\"\"\n",
        "    if not self.initialize_weight:\n",
        "      self.create_weight(X.shape[1])\n",
        "    if y.ravel().shape[0]>1:\n",
        "      for xi, target in zip(X, y):\n",
        "            self.update_weights(xi, target)\n",
        "    else:\n",
        "      self.update_weight(X,y)\n",
        "    return self\n"
      ]
    },
    {
      "cell_type": "code",
      "source": [
        "import pandas as pd\n",
        "import matplotlib.pyplot as plt\n",
        "#load dataset\n",
        "df=pd.read_csv('Iris.csv')\n",
        "X=df.iloc[:100,[1,3]].values\n",
        "y=df.iloc[:100,5].values\n",
        "y=np.where(y=='Iris-setosa',-1,1)\n",
        "X_std = np.copy(X)\n",
        "X_std[:,0] = (X[:,0] - X[:,0].mean()) / X[:,0].std()\n",
        "X_std[:,1] = (X[:,1] - X[:,1].mean()) / X[:,1].std()\n",
        "ada_sgd = adaline(iter=15, lr=0.01, random_state=1)\n",
        "ada_sgd.fit(X_std, y)\n",
        "ada_sgd.predict(X_std)\n",
        "ada_sgd.error_"
      ],
      "metadata": {
        "colab": {
          "base_uri": "https://localhost:8080/"
        },
        "id": "W9hvxdvuIHFv",
        "outputId": "4086b61b-0d41-45ac-b476-95d025edd1c7"
      },
      "execution_count": null,
      "outputs": [
        {
          "output_type": "execute_result",
          "data": {
            "text/plain": [
              "[0.19447020651917138,\n",
              " 0.06839371835284758,\n",
              " 0.05263515485568057,\n",
              " 0.043532448191064575,\n",
              " 0.037256205344234974,\n",
              " 0.0328966609148155,\n",
              " 0.02989255077961617,\n",
              " 0.027837008993548063,\n",
              " 0.026437468957432233,\n",
              " 0.025488197386452374,\n",
              " 0.024846582556764116,\n",
              " 0.024414537715050488,\n",
              " 0.02412488869484881,\n",
              " 0.023931751967044584,\n",
              " 0.023803846949539118]"
            ]
          },
          "metadata": {},
          "execution_count": 20
        }
      ]
    },
    {
      "cell_type": "code",
      "source": [
        "#add grid search\n",
        "from sklearn.model_selection import GridSearchCV\n",
        "iter=[x for x in range(0,100)]\n",
        "param_grid = [\n",
        "    {'iter': iter},\n",
        "    {'lr':[0.1,0.01,0.001,0.0001]}\n",
        "  ]\n",
        "grid_search = GridSearchCV(ada_sgd, param_grid, cv=5,\n",
        "                           scoring='neg_mean_squared_error',\n",
        "                           return_train_score=True,refit=True)\n",
        "grid_search.fit(X_std,y)"
      ],
      "metadata": {
        "colab": {
          "base_uri": "https://localhost:8080/"
        },
        "id": "qDnlpPHMJvy7",
        "outputId": "22440a8b-a093-42eb-9cd8-04176e17b923"
      },
      "execution_count": null,
      "outputs": [
        {
          "output_type": "execute_result",
          "data": {
            "text/plain": [
              "GridSearchCV(cv=5, estimator=adaline(iter=15, lr=0.01),\n",
              "             param_grid=[{'iter': [0, 1, 2, 3, 4, 5, 6, 7, 8, 9, 10, 11, 12, 13,\n",
              "                                   14, 15, 16, 17, 18, 19, 20, 21, 22, 23, 24,\n",
              "                                   25, 26, 27, 28, 29, ...]},\n",
              "                         {'lr': [0.1, 0.01, 0.001, 0.0001]}],\n",
              "             return_train_score=True, scoring='neg_mean_squared_error')"
            ]
          },
          "metadata": {},
          "execution_count": 21
        }
      ]
    },
    {
      "cell_type": "code",
      "source": [
        "grid_search.best_params_"
      ],
      "metadata": {
        "colab": {
          "base_uri": "https://localhost:8080/"
        },
        "id": "DoBgUZcdSr0a",
        "outputId": "48b8ca9e-a5e8-41f7-923d-bc1d6ed7c0c1"
      },
      "execution_count": null,
      "outputs": [
        {
          "output_type": "execute_result",
          "data": {
            "text/plain": [
              "{'iter': 8}"
            ]
          },
          "metadata": {},
          "execution_count": 26
        }
      ]
    },
    {
      "cell_type": "code",
      "source": [],
      "metadata": {
        "colab": {
          "base_uri": "https://localhost:8080/"
        },
        "id": "ziWxpFHyTH0-",
        "outputId": "fe3db8c5-1767-4ca9-ba43-4ffcaa393538"
      },
      "execution_count": null,
      "outputs": [
        {
          "output_type": "execute_result",
          "data": {
            "text/plain": [
              "adaline(iter=8, lr=0.01)"
            ]
          },
          "metadata": {},
          "execution_count": 24
        }
      ]
    },
    {
      "cell_type": "code",
      "source": [],
      "metadata": {
        "id": "-3-84g70TMQH"
      },
      "execution_count": null,
      "outputs": []
    }
  ]
}