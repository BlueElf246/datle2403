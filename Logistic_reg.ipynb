{
  "nbformat": 4,
  "nbformat_minor": 0,
  "metadata": {
    "colab": {
      "provenance": [],
      "authorship_tag": "ABX9TyNnfhh4pNvUlP/p7eX5bVBC",
      "include_colab_link": true
    },
    "kernelspec": {
      "name": "python3",
      "display_name": "Python 3"
    },
    "language_info": {
      "name": "python"
    }
  },
  "cells": [
    {
      "cell_type": "markdown",
      "metadata": {
        "id": "view-in-github",
        "colab_type": "text"
      },
      "source": [
        "<a href=\"https://colab.research.google.com/github/datle2403/datle2403/blob/main/Logistic_reg.ipynb\" target=\"_parent\"><img src=\"https://colab.research.google.com/assets/colab-badge.svg\" alt=\"Open In Colab\"/></a>"
      ]
    },
    {
      "cell_type": "code",
      "execution_count": 1,
      "metadata": {
        "id": "NA-LRrjRR1Xz"
      },
      "outputs": [],
      "source": [
        "from sklearn import datasets\n",
        "import numpy as np\n",
        "iris=datasets.load_iris()\n",
        "X=iris.data[:,[2,3]]\n",
        "y=iris.target"
      ]
    },
    {
      "cell_type": "code",
      "source": [
        "from sklearn.model_selection import train_test_split\n",
        "X_train,X_test,y_train,y_test=train_test_split(X,y,test_size=0.3,random_state=1,stratify=y)\n"
      ],
      "metadata": {
        "id": "khtBkq0aSNuU"
      },
      "execution_count": 2,
      "outputs": []
    },
    {
      "cell_type": "code",
      "source": [
        "np.bincount(y_train)"
      ],
      "metadata": {
        "colab": {
          "base_uri": "https://localhost:8080/"
        },
        "id": "n5YUPGReSb_E",
        "outputId": "5179584e-cde6-4a24-a8d5-819964d39a38"
      },
      "execution_count": 3,
      "outputs": [
        {
          "output_type": "execute_result",
          "data": {
            "text/plain": [
              "array([35, 35, 35])"
            ]
          },
          "metadata": {},
          "execution_count": 3
        }
      ]
    },
    {
      "cell_type": "code",
      "source": [
        "from sklearn.preprocessing import StandardScaler\n",
        "sc=StandardScaler()\n",
        "sc.fit(X_train)\n",
        "X_train_std= sc.transform(X_train)\n",
        "X_test_std= sc.transform(X_test)\n",
        "#Note that we used the same scaling parameters to \n",
        "# standardize the test dataset so that both the values \n",
        "# in the training and test dataset are comparable to each other."
      ],
      "metadata": {
        "id": "brC7ZbMGTMlr"
      },
      "execution_count": 4,
      "outputs": []
    },
    {
      "cell_type": "code",
      "source": [
        "X_test_std.mean()"
      ],
      "metadata": {
        "colab": {
          "base_uri": "https://localhost:8080/"
        },
        "id": "FH4U5H-qUA32",
        "outputId": "a2e2e69e-97fc-457c-9cbd-a2903fd5ba2d"
      },
      "execution_count": 5,
      "outputs": [
        {
          "output_type": "execute_result",
          "data": {
            "text/plain": [
              "-0.024516396323407026"
            ]
          },
          "metadata": {},
          "execution_count": 5
        }
      ]
    },
    {
      "cell_type": "code",
      "source": [
        "X_train_std.mean()"
      ],
      "metadata": {
        "colab": {
          "base_uri": "https://localhost:8080/"
        },
        "id": "LfyMw6MRUcYX",
        "outputId": "68ba663c-6e33-4c00-c99f-ccc8bf9420ed"
      },
      "execution_count": 6,
      "outputs": [
        {
          "output_type": "execute_result",
          "data": {
            "text/plain": [
              "1.0150610510858574e-16"
            ]
          },
          "metadata": {},
          "execution_count": 6
        }
      ]
    },
    {
      "cell_type": "code",
      "source": [
        "from sklearn.linear_model import Perceptron\n",
        "ppn=Perceptron(eta0=0.1,random_state=1)\n",
        "ppn.fit(X_train_std,y_train)\n"
      ],
      "metadata": {
        "colab": {
          "base_uri": "https://localhost:8080/"
        },
        "id": "B3QfegwoUfRx",
        "outputId": "fea8b443-0a9e-47b3-e222-9d1eda2664f4"
      },
      "execution_count": 7,
      "outputs": [
        {
          "output_type": "execute_result",
          "data": {
            "text/plain": [
              "Perceptron(eta0=0.1, random_state=1)"
            ]
          },
          "metadata": {},
          "execution_count": 7
        }
      ]
    },
    {
      "cell_type": "code",
      "source": [
        "y_pred=ppn.predict(X_test_std)"
      ],
      "metadata": {
        "id": "h8svebqQVf8Z"
      },
      "execution_count": 8,
      "outputs": []
    },
    {
      "cell_type": "code",
      "source": [
        "np.sum(y_pred!=y_test)"
      ],
      "metadata": {
        "colab": {
          "base_uri": "https://localhost:8080/"
        },
        "id": "j3oEhNpHViZA",
        "outputId": "dbb2f708-8137-4ac3-cc33-a4bee8f40236"
      },
      "execution_count": 9,
      "outputs": [
        {
          "output_type": "execute_result",
          "data": {
            "text/plain": [
              "1"
            ]
          },
          "metadata": {},
          "execution_count": 9
        }
      ]
    },
    {
      "cell_type": "code",
      "source": [
        "from sklearn.metrics import accuracy_score\n",
        "s=accuracy_score(y_test,y_pred) # 1- num_of_missclassify/total"
      ],
      "metadata": {
        "id": "GMhsjphGVr5Y"
      },
      "execution_count": 10,
      "outputs": []
    },
    {
      "cell_type": "code",
      "source": [
        "s"
      ],
      "metadata": {
        "colab": {
          "base_uri": "https://localhost:8080/"
        },
        "id": "ZeCaHt7kWPmk",
        "outputId": "e65c1bf9-900e-471f-f69f-0fce76f936c3"
      },
      "execution_count": 11,
      "outputs": [
        {
          "output_type": "execute_result",
          "data": {
            "text/plain": [
              "0.9777777777777777"
            ]
          },
          "metadata": {},
          "execution_count": 11
        }
      ]
    },
    {
      "cell_type": "code",
      "source": [
        "# create region line\n",
        "from matplotlib.colors import ListedColormap\n",
        "import  matplotlib.pyplot as plt\n",
        "from matplotlib.colors import ListedColormap\n",
        "import matplotlib.pyplot as plt\n",
        "def plot_decision_regions(X, y, classifier, test_idx=None,\n",
        "                          resolution=0.02):\n",
        "    # setup marker generator and color map\n",
        "    markers = ('s', 'x', 'o', '^', 'v')\n",
        "    colors = ('red', 'blue', 'lightgreen', 'gray', 'cyan')\n",
        "    cmap = ListedColormap(colors[:len(np.unique(y))])\n",
        "    # plot the decision surface\n",
        "    x1_min, x1_max = X[:, 0].min() - 1, X[:, 0].max() + 1\n",
        "    x2_min, x2_max = X[:, 1].min() - 1, X[:, 1].max() + 1\n",
        "    xx1, xx2 = np.meshgrid(np.arange(x1_min, x1_max, resolution),\n",
        "                           np.arange(x2_min, x2_max, resolution))\n",
        "    Z = classifier.predict(np.array([xx1.ravel(), xx2.ravel()]).T)\n",
        "    Z = Z.reshape(xx1.shape)\n",
        "    plt.contourf(xx1, xx2, Z, alpha=0.3, cmap=cmap)\n",
        "    plt.xlim(xx1.min(), xx1.max())\n",
        "    plt.ylim(xx2.min(), xx2.max())\n",
        "    for idx, cl in enumerate(np.unique(y)):\n",
        "      plt.scatter(x=X[y == cl, 0], y=X[y == cl, 1],\n",
        "                  alpha=0.8, c=colors[idx],\n",
        "                  marker=markers[idx], label=cl,\n",
        "                  edgecolor='black')\n",
        "    # highlight test examples\n",
        "    if test_idx:\n",
        "        # plot all examples\n",
        "        X_test, y_test = X[test_idx, :], y[test_idx]\n",
        "        plt.scatter(X_test[:, 0], X_test[:, 1],\n",
        "                    c='', edgecolor='black', alpha=1.0,\n",
        "                    linewidth=1, marker='o',\n",
        "                    s=100, label='test set')"
      ],
      "metadata": {
        "id": "YigK8D_LWQfA"
      },
      "execution_count": 12,
      "outputs": []
    },
    {
      "cell_type": "code",
      "source": [
        "X_combined_std=np.vstack((X_train_std,X_test_std))\n",
        "y_combined_std=np.hstack((y_train,y_test))\n",
        "plot_decision_regions(X_combined_std,y_combined_std,ppn,test_idx=range(105,150))\n",
        "plt.xlabel('petal length [standardized]')\n",
        "plt.ylabel('petal width [standardized]')\n",
        "plt.legend(loc='upper left')\n",
        "plt.tight_layout()\n",
        "plt.show()"
      ],
      "metadata": {
        "colab": {
          "base_uri": "https://localhost:8080/",
          "height": 334
        },
        "id": "GWZbsLbxW1cD",
        "outputId": "c9a1820c-c0af-437e-bf80-f6fddae71ebd"
      },
      "execution_count": 13,
      "outputs": [
        {
          "output_type": "stream",
          "name": "stderr",
          "text": [
            "/usr/local/lib/python3.7/dist-packages/ipykernel_launcher.py:34: MatplotlibDeprecationWarning: Using a string of single character colors as a color sequence is deprecated. Use an explicit list instead.\n"
          ]
        },
        {
          "output_type": "display_data",
          "data": {
            "text/plain": [
              "<Figure size 432x288 with 1 Axes>"
            ],
            "image/png": "[encoded data removed]"
          },
          "metadata": {
            "needs_background": "light"
          }
        }
      ]
    },
    {
      "cell_type": "code",
      "source": [
        "def sigmoid(z):\n",
        "  return 1.0/(1.0+np.exp(-z))\n",
        "x=np.arange(-7,7,0.1)\n",
        "y=sigmoid(x)\n",
        "plt.plot(x,y)\n",
        "plt.axvline(0.0,color='k')\n",
        "plt.yticks([0.0,0.5,1.0])\n",
        "ax = plt.gca()\n",
        "ax.yaxis.grid(True)"
      ],
      "metadata": {
        "colab": {
          "base_uri": "https://localhost:8080/",
          "height": 265
        },
        "id": "V61ta8jTW-7v",
        "outputId": "4c4f9c8f-8ccd-41c3-fb3c-7622abea7736"
      },
      "execution_count": 18,
      "outputs": [
        {
          "output_type": "display_data",
          "data": {
            "text/plain": [
              "<Figure size 432x288 with 1 Axes>"
            ],
            "image/png": "[encoded data removed]"
          },
          "metadata": {
            "needs_background": "light"
          }
        }
      ]
    },
    {
      "cell_type": "code",
      "source": [
        "def cost_1(z):\n",
        "  return -np.log(sigmoid(z))\n",
        "def cost_0(z):\n",
        "  return -np.log(1-sigmoid(z))\n",
        "x=np.arange(-10,10,0.1)\n",
        "# x goes from 0 to 0.99\n",
        "y=[cost_1(m) for m in x]\n",
        "print(min(y))\n",
        "plt.plot(x,y)\n",
        "y1=[cost_0(m) for m in x ]\n",
        "plt.plot(x,y1)"
      ],
      "metadata": {
        "colab": {
          "base_uri": "https://localhost:8080/",
          "height": 300
        },
        "id": "piLZxMrykiYX",
        "outputId": "881756a7-9827-42dd-a573-1e33afd40611"
      },
      "execution_count": 25,
      "outputs": [
        {
          "output_type": "stream",
          "name": "stdout",
          "text": [
            "5.01734233489918e-05\n"
          ]
        },
        {
          "output_type": "execute_result",
          "data": {
            "text/plain": [
              "[<matplotlib.lines.Line2D at 0x7f71b3363090>]"
            ]
          },
          "metadata": {},
          "execution_count": 25
        },
        {
          "output_type": "display_data",
          "data": {
            "text/plain": [
              "<Figure size 432x288 with 1 Axes>"
            ],
            "image/png": "[encoded data removed]"
          },
          "metadata": {
            "needs_background": "light"
          }
        }
      ]
    },
    {
      "cell_type": "code",
      "source": [
        "from operator import xor\n",
        "import numpy as np\n",
        "class Logistic_reg():\n",
        "  def __init__(self,lr,iter,randomstate):\n",
        "    self.lr=lr\n",
        "    self.iter=iter\n",
        "    self.random_state=randomstate\n",
        "  def initialize_weight(self,X):\n",
        "    rgen=np.random.RandomState(self.random_state).normal(size=X.shape[1]+1,loc=0.0,scale=0.01)\n",
        "    return rgen\n",
        "  def net_input(self,X):\n",
        "    return np.dot(X,self.W[1:])+self.W[0]\n",
        "  def sigmoid(self,z):\n",
        "    return 1.0/(1.0+np.exp(-z)) \n",
        "  def cost_function(self,X,y):\n",
        "    Z=self.net_input(X)\n",
        "    a=self.sigmoid(Z)\n",
        "    return -y*np.log(a)-(1-y)*np.log(1-a)\n",
        "  def update_weight(self,X,y_target):\n",
        "    Z=self.net_input(X)\n",
        "    A=self.sigmoid(Z)\n",
        "    update=self.lr*((-y_target*(1/A)+(1-y_target)*(1/(1-A)))*A*(1-A))\n",
        "    self.W[1:]-=np.dot(X.T,update)\n",
        "    self.W[0]-=np.sum(update)\n",
        "  def fit(self,X,y):\n",
        "    self.error=[]\n",
        "    self.W=self.initialize_weight(X)\n",
        "    for _ in range(self.iter):\n",
        "      cost=[]\n",
        "      for x,y_target in zip(X,y):\n",
        "        self.update_weight(x,y_target)\n",
        "        cost.append(self.cost_function(x,y_target))\n",
        "      avg_cost=sum(cost)/len(y)\n",
        "      self.error.append(avg_cost)\n",
        "  def predict(self, X):\n",
        "    \"\"\"Return class label after unit step\"\"\"\n",
        "    return np.where(self.net_input(X) >= 0.0, 1, 0)\n",
        "import pandas as pd\n",
        "import matplotlib.pyplot as plt\n",
        "#load dataset\n",
        "df=pd.read_csv('Iris.csv')\n",
        "X=df.iloc[:100,[1,3]].values\n",
        "y=df.iloc[:100,5].values\n",
        "y=np.where(y=='Iris-setosa',0,1)\n",
        "X_std = np.copy(X)\n",
        "X_std[:,0] = (X[:,0] - X[:,0].mean()) / X[:,0].std()\n",
        "X_std[:,1] = (X[:,1] - X[:,1].mean()) / X[:,1].std()\n",
        "from sklearn.model_selection import train_test_split\n",
        "X_train,X_test,y_train,y_test=train_test_split(X_std,y,test_size=0.3,random_state=1,stratify=y)\n",
        "ada_sgd = Logistic_reg(iter=100, lr=0.01, randomstate=1)\n",
        "ada_sgd.fit(X_train, y_train)\n",
        "print(ada_sgd.error)\n",
        "plt.plot(range(1, len(ada_sgd.error) + 1), ada_sgd.error, marker='o')\n",
        "y_pred=ada_sgd.predict(X_test)\n",
        "from sklearn.metrics import accuracy_score\n",
        "s=accuracy_score(y_test,y_pred) # 1- num_of_missclassify/total"
      ],
      "metadata": {
        "colab": {
          "base_uri": "https://localhost:8080/",
          "height": 302
        },
        "id": "PoUOwTOfrGrX",
        "outputId": "0d196cfa-8d2d-43ac-94f5-44c3246f71e8"
      },
      "execution_count": 56,
      "outputs": [
        {
          "output_type": "stream",
          "name": "stdout",
          "text": [
            "[0.5915331515515313, 0.4469962795516352, 0.35889435067712355, 0.30083579696406, 0.2599670173795526, 0.22967909971712588, 0.20631948656953497, 0.18773046357826245, 0.17256309591824856, 0.15993323869663292, 0.14923803587010906, 0.14005253020902245, 0.1320685834489627, 0.12505728339906064, 0.11884496992364227, 0.11329746500249055, 0.10830941348633163, 0.10379690319541315, 0.09969224528003708, 0.0959402114198567, 0.09249527437692667, 0.08931955281079475, 0.08638125898584818, 0.08365351123360186, 0.08111341477864681, 0.07874134260850835, 0.0765203672645955, 0.07443580776444116, 0.0724748652591605, 0.07062632773659981, 0.06888032892791866, 0.06722815011911613, 0.06566205618758517, 0.06417515913811692, 0.06276130388505673, 0.06141497214622351, 0.06013120117159564, 0.05890551469189959, 0.057733863987339075, 0.056612577380213254, 0.0555383167733526, 0.054508040108755575, 0.05351896882230928, 0.05256855953220967, 0.05165447932920448, 0.050774584142636504, 0.04992689974253586, 0.049109605008649776, 0.048321017155399, 0.04755957864973481, 0.04682384559866793, 0.04611247741637279, 0.045424227608458136, 0.04475793553421817, 0.04411251902721866, 0.04348696777107611, 0.042880337341264396, 0.0422917438356619, 0.04172035902667226, 0.04116540597640326, 0.040626155063802634, 0.0401019203790185, 0.03959205644574241, 0.039095955237031584, 0.0386130434542116, 0.03814278004202159, 0.037684653916261274, 0.037238181882898486, 0.03680290672995521, 0.03637839547555145, 0.03596423775729999, 0.035560044349832856, 0.03516544579864207, 0.03478009115965222, 0.03440364683503364, 0.034035795496730414, 0.03367623509003505, 0.03332467791030085, 0.03298084974655983, 0.03264448908641664, 0.03231534637712698, 0.03199318333824784, 0.03167777232167887, 0.03136889571529688, 0.031066345386732357, 0.030769922164147756, 0.030479435351154445, 0.030194702273258964, 0.029915547853455043, 0.02964180421478223, 0.029373310307858183, 0.029109911561558156, 0.028851459555167987, 0.0285978117104737, 0.028348831002376965, 0.028104385686737867, 0.027864349044251596, 0.027628599139258345, 0.027397018592472445, 0.027169494366695277]\n"
          ]
        },
        {
          "output_type": "display_data",
          "data": {
            "text/plain": [
              "<Figure size 432x288 with 1 Axes>"
            ],
            "image/png": "[encoded data removed]"
          },
          "metadata": {
            "needs_background": "light"
          }
        }
      ]
    },
    {
      "cell_type": "code",
      "source": [
        "s"
      ],
      "metadata": {
        "colab": {
          "base_uri": "https://localhost:8080/"
        },
        "id": "TOv7aZt8-lmJ",
        "outputId": "9c6cd009-f099-4f0d-950c-f8c09c31d74c"
      },
      "execution_count": 57,
      "outputs": [
        {
          "output_type": "execute_result",
          "data": {
            "text/plain": [
              "1.0"
            ]
          },
          "metadata": {},
          "execution_count": 57
        }
      ]
    },
    {
      "cell_type": "code",
      "source": [
        "plot_decision_regions(X_test, y_test, ada_sgd, test_idx=None,resolution=0.02)"
      ],
      "metadata": {
        "colab": {
          "base_uri": "https://localhost:8080/",
          "height": 265
        },
        "id": "uBXmDfge-x21",
        "outputId": "ade3a3c2-3ec5-4177-d116-7294fe75c4ee"
      },
      "execution_count": 59,
      "outputs": [
        {
          "output_type": "display_data",
          "data": {
            "text/plain": [
              "<Figure size 432x288 with 1 Axes>"
            ],
            "image/png": "[encoded data removed]"
          },
          "metadata": {
            "needs_background": "light"
          }
        }
      ]
    },
    {
      "cell_type": "code",
      "source": [],
      "metadata": {
        "id": "G5Bx07zGATpO"
      },
      "execution_count": null,
      "outputs": []
    }
  ]
}