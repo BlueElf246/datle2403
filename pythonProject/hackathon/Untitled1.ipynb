{
 "cells": [
  {
   "cell_type": "code",
   "execution_count": 1,
   "id": "d2e646cc",
   "metadata": {},
   "outputs": [
    {
     "name": "stdout",
     "output_type": "stream",
     "text": [
      "-1    169994\n",
      " 1     27654\n",
      " 6     21870\n",
      " 7     17849\n",
      " 3      3080\n",
      " 8      2922\n",
      " 2      2116\n",
      " 4      2023\n",
      " 5        51\n",
      "Name: company_type, dtype: int64\n",
      "Công nhân                                               11728\n",
      "Giáo viên                                               10537\n",
      "Nhân viên                                                9306\n",
      "Công nhân vận hành máy may                               7122\n",
      "Công nhân sản xuất                                       5505\n",
      "                                                        ...  \n",
      "Tổ trưởng tổ thiết kế thuộc phòng kỹ thuật công nghệ        1\n",
      "Kỹ sư lâm nghiệp phòng kế hoạch kỹ thuật                    1\n",
      "Cấp dương ( HĐLĐ)                                           1\n",
      "Cấp dưỡng (HĐLĐ)                                            1\n",
      "Công nhân làm đường, xí nghiệp xây lắp 3                    1\n",
      "Name: job/role, Length: 28355, dtype: int64\n",
      "8.0      31361\n",
      "7.0      31227\n",
      "9.0      27122\n",
      "6.0      27020\n",
      "5.0      20710\n",
      "         ...  \n",
      "53.0        34\n",
      "56.0        33\n",
      "58.0        25\n",
      "57.0        24\n",
      "331.0        1\n",
      "Name: employee_lv, Length: 62, dtype: int64\n",
      "Vĩnh Phúc                       43098\n",
      "Bắc Ninh                         9158\n",
      "Bắc Giang                        8267\n",
      "Hà Nội                           7929\n",
      "tỉnh Nghệ An                     7705\n",
      "                                ...  \n",
      "tỉnh Sông Bé                        1\n",
      "T                                   1\n",
      "TP Bắc ninh; 0966348499             1\n",
      "Bình Phước .                        1\n",
      "37 DưƠNG Bá CUNG P. AN LạC A        1\n",
      "Name: address, Length: 1644, dtype: int64\n"
     ]
    }
   ],
   "source": [
    "import pandas as pd\n",
    "import matplotlib.pyplot as plt\n",
    "train_work=pd.read_csv(\"uet-hackathon-2022-data-science/work_train.csv\")\n",
    "test_work=pd.read_csv(\"uet-hackathon-2022-data-science/work_test.csv\")\n",
    "train_info=pd.read_csv(\"uet-hackathon-2022-data-science/info_train.csv\")\n",
    "test_info=pd.read_csv(\"uet-hackathon-2022-data-science/info_test.csv\")\n",
    "y_train=pd.read_csv(\"uet-hackathon-2022-data-science/label_train.csv\")\n",
    "\n",
    "\n",
    "df=train_work\n",
    "df = df.drop(columns=['id', 'id_bh','id_management','id_office','from_date','to_date'])\n",
    "print(df['company_type'].value_counts())\n",
    "print(df['job/role'].value_counts())\n",
    "print(df['employee_lv'].value_counts())\n",
    "print(df['address'].value_counts())"
   ]
  },
  {
   "cell_type": "code",
   "execution_count": 2,
   "id": "ab234d8a",
   "metadata": {},
   "outputs": [
    {
     "name": "stdout",
     "output_type": "stream",
     "text": [
      "Công nhân                                               11728\n",
      "Giáo viên                                               10537\n",
      "Nhân viên                                                9306\n",
      "Công nhân vận hành máy may                               7122\n",
      "Công nhân sản xuất                                       5505\n",
      "                                                        ...  \n",
      "Tổ trưởng tổ thiết kế thuộc phòng kỹ thuật công nghệ        1\n",
      "Kỹ sư lâm nghiệp phòng kế hoạch kỹ thuật                    1\n",
      "Cấp dương ( HĐLĐ)                                           1\n",
      "Cấp dưỡng (HĐLĐ)                                            1\n",
      "Công nhân làm đường, xí nghiệp xây lắp 3                    1\n",
      "Name: job/role, Length: 28355, dtype: int64\n"
     ]
    }
   ],
   "source": [
    "print(df['job/role'].value_counts())"
   ]
  },
  {
   "cell_type": "code",
   "execution_count": 3,
   "id": "f54c0b73",
   "metadata": {},
   "outputs": [
    {
     "data": {
      "text/plain": [
       "20"
      ]
     },
     "execution_count": 3,
     "metadata": {},
     "output_type": "execute_result"
    }
   ],
   "source": [
    "import pandas as pd\n",
    "pd.get_option(\"display.max_columns\")"
   ]
  },
  {
   "cell_type": "code",
   "execution_count": 4,
   "id": "3014574c",
   "metadata": {},
   "outputs": [],
   "source": [
    "pd.set_option(\"display.max_columns\", None)"
   ]
  },
  {
   "cell_type": "code",
   "execution_count": 5,
   "id": "1d848a5a",
   "metadata": {},
   "outputs": [
    {
     "name": "stdout",
     "output_type": "stream",
     "text": [
      "Công nhân                                               11728\n",
      "Giáo viên                                               10537\n",
      "Nhân viên                                                9306\n",
      "Công nhân vận hành máy may                               7122\n",
      "Công nhân sản xuất                                       5505\n",
      "                                                        ...  \n",
      "Tổ trưởng tổ thiết kế thuộc phòng kỹ thuật công nghệ        1\n",
      "Kỹ sư lâm nghiệp phòng kế hoạch kỹ thuật                    1\n",
      "Cấp dương ( HĐLĐ)                                           1\n",
      "Cấp dưỡng (HĐLĐ)                                            1\n",
      "Công nhân làm đường, xí nghiệp xây lắp 3                    1\n",
      "Name: job/role, Length: 28355, dtype: int64\n"
     ]
    }
   ],
   "source": [
    "print(df['job/role'].value_counts())"
   ]
  },
  {
   "cell_type": "code",
   "execution_count": 6,
   "id": "3746794c",
   "metadata": {},
   "outputs": [
    {
     "data": {
      "text/plain": [
       "0                   Giám đốc\n",
       "1                   Giám đốc\n",
       "2           Nhân viên lễ tân\n",
       "3           Nhân viên lễ tân\n",
       "4                        NaN\n",
       "                 ...        \n",
       "247554    Công nhân ĐM rôbốt\n",
       "247555                   NaN\n",
       "247556               Phụ kho\n",
       "247557               Phụ kho\n",
       "247558               Phụ kho\n",
       "Name: job/role, Length: 247559, dtype: object"
      ]
     },
     "execution_count": 6,
     "metadata": {},
     "output_type": "execute_result"
    }
   ],
   "source": [
    "df['job/role']"
   ]
  },
  {
   "cell_type": "code",
   "execution_count": 7,
   "id": "4593d8f0",
   "metadata": {},
   "outputs": [],
   "source": [
    "pd.set_option(\"display.max_columns\", None)"
   ]
  },
  {
   "cell_type": "code",
   "execution_count": 8,
   "id": "8c184009",
   "metadata": {},
   "outputs": [
    {
     "name": "stdout",
     "output_type": "stream",
     "text": [
      "Công nhân                                               11728\n",
      "Giáo viên                                               10537\n",
      "Nhân viên                                                9306\n",
      "Công nhân vận hành máy may                               7122\n",
      "Công nhân sản xuất                                       5505\n",
      "                                                        ...  \n",
      "Tổ trưởng tổ thiết kế thuộc phòng kỹ thuật công nghệ        1\n",
      "Kỹ sư lâm nghiệp phòng kế hoạch kỹ thuật                    1\n",
      "Cấp dương ( HĐLĐ)                                           1\n",
      "Cấp dưỡng (HĐLĐ)                                            1\n",
      "Công nhân làm đường, xí nghiệp xây lắp 3                    1\n",
      "Name: job/role, Length: 28355, dtype: int64\n"
     ]
    }
   ],
   "source": [
    "print(df['job/role'].value_counts())"
   ]
  },
  {
   "cell_type": "code",
   "execution_count": 9,
   "id": "bec2621a",
   "metadata": {},
   "outputs": [
    {
     "ename": "ValueError",
     "evalue": "Cannot mask with non-boolean array containing NA / NaN values",
     "output_type": "error",
     "traceback": [
      "\u001b[0;31m---------------------------------------------------------------------------\u001b[0m",
      "\u001b[0;31mValueError\u001b[0m                                Traceback (most recent call last)",
      "\u001b[0;32m/var/folders/_n/xwqq4x6s5s78z3rwtzp9hgtr0000gp/T/ipykernel_69690/1259065833.py\u001b[0m in \u001b[0;36m<module>\u001b[0;34m\u001b[0m\n\u001b[0;32m----> 1\u001b[0;31m \u001b[0mdf\u001b[0m\u001b[0;34m[\u001b[0m\u001b[0mdf\u001b[0m\u001b[0;34m[\u001b[0m\u001b[0;34m'job/role'\u001b[0m\u001b[0;34m]\u001b[0m\u001b[0;34m.\u001b[0m\u001b[0mstr\u001b[0m\u001b[0;34m.\u001b[0m\u001b[0mcontains\u001b[0m\u001b[0;34m(\u001b[0m\u001b[0;34m'Công nhân'\u001b[0m\u001b[0;34m)\u001b[0m\u001b[0;34m]\u001b[0m\u001b[0;34m\u001b[0m\u001b[0;34m\u001b[0m\u001b[0m\n\u001b[0m",
      "\u001b[0;32m~/opt/anaconda3/envs/tensorflow/lib/python3.8/site-packages/pandas/core/frame.py\u001b[0m in \u001b[0;36m__getitem__\u001b[0;34m(self, key)\u001b[0m\n\u001b[1;32m   3493\u001b[0m \u001b[0;34m\u001b[0m\u001b[0m\n\u001b[1;32m   3494\u001b[0m         \u001b[0;31m# Do we have a (boolean) 1d indexer?\u001b[0m\u001b[0;34m\u001b[0m\u001b[0;34m\u001b[0m\u001b[0;34m\u001b[0m\u001b[0m\n\u001b[0;32m-> 3495\u001b[0;31m         \u001b[0;32mif\u001b[0m \u001b[0mcom\u001b[0m\u001b[0;34m.\u001b[0m\u001b[0mis_bool_indexer\u001b[0m\u001b[0;34m(\u001b[0m\u001b[0mkey\u001b[0m\u001b[0;34m)\u001b[0m\u001b[0;34m:\u001b[0m\u001b[0;34m\u001b[0m\u001b[0;34m\u001b[0m\u001b[0m\n\u001b[0m\u001b[1;32m   3496\u001b[0m             \u001b[0;32mreturn\u001b[0m \u001b[0mself\u001b[0m\u001b[0;34m.\u001b[0m\u001b[0m_getitem_bool_array\u001b[0m\u001b[0;34m(\u001b[0m\u001b[0mkey\u001b[0m\u001b[0;34m)\u001b[0m\u001b[0;34m\u001b[0m\u001b[0;34m\u001b[0m\u001b[0m\n\u001b[1;32m   3497\u001b[0m \u001b[0;34m\u001b[0m\u001b[0m\n",
      "\u001b[0;32m~/opt/anaconda3/envs/tensorflow/lib/python3.8/site-packages/pandas/core/common.py\u001b[0m in \u001b[0;36mis_bool_indexer\u001b[0;34m(key)\u001b[0m\n\u001b[1;32m    142\u001b[0m                     \u001b[0;31m# Don't raise on e.g. [\"A\", \"B\", np.nan], see\u001b[0m\u001b[0;34m\u001b[0m\u001b[0;34m\u001b[0m\u001b[0;34m\u001b[0m\u001b[0m\n\u001b[1;32m    143\u001b[0m                     \u001b[0;31m#  test_loc_getitem_list_of_labels_categoricalindex_with_na\u001b[0m\u001b[0;34m\u001b[0m\u001b[0;34m\u001b[0m\u001b[0;34m\u001b[0m\u001b[0m\n\u001b[0;32m--> 144\u001b[0;31m                     \u001b[0;32mraise\u001b[0m \u001b[0mValueError\u001b[0m\u001b[0;34m(\u001b[0m\u001b[0mna_msg\u001b[0m\u001b[0;34m)\u001b[0m\u001b[0;34m\u001b[0m\u001b[0;34m\u001b[0m\u001b[0m\n\u001b[0m\u001b[1;32m    145\u001b[0m                 \u001b[0;32mreturn\u001b[0m \u001b[0;32mFalse\u001b[0m\u001b[0;34m\u001b[0m\u001b[0;34m\u001b[0m\u001b[0m\n\u001b[1;32m    146\u001b[0m             \u001b[0;32mreturn\u001b[0m \u001b[0;32mTrue\u001b[0m\u001b[0;34m\u001b[0m\u001b[0;34m\u001b[0m\u001b[0m\n",
      "\u001b[0;31mValueError\u001b[0m: Cannot mask with non-boolean array containing NA / NaN values"
     ]
    }
   ],
   "source": [
    "df[df['job/role'].str.contains('Công nhân')]"
   ]
  },
  {
   "cell_type": "code",
   "execution_count": 10,
   "id": "d8e99e03",
   "metadata": {},
   "outputs": [
    {
     "data": {
      "text/plain": [
       "company_type        0\n",
       "job/role        33457\n",
       "employee_lv         5\n",
       "address         64031\n",
       "dtype: int64"
      ]
     },
     "execution_count": 10,
     "metadata": {},
     "output_type": "execute_result"
    }
   ],
   "source": [
    "df.isnull().sum()"
   ]
  },
  {
   "cell_type": "code",
   "execution_count": 11,
   "id": "218630db",
   "metadata": {},
   "outputs": [],
   "source": [
    "df[\"job/role\"].fillna('Công nhân', inplace = True)"
   ]
  },
  {
   "cell_type": "code",
   "execution_count": 13,
   "id": "2970a0a7",
   "metadata": {},
   "outputs": [
    {
     "data": {
      "text/html": [
       "<div>\n",
       "<style scoped>\n",
       "    .dataframe tbody tr th:only-of-type {\n",
       "        vertical-align: middle;\n",
       "    }\n",
       "\n",
       "    .dataframe tbody tr th {\n",
       "        vertical-align: top;\n",
       "    }\n",
       "\n",
       "    .dataframe thead th {\n",
       "        text-align: right;\n",
       "    }\n",
       "</style>\n",
       "<table border=\"1\" class=\"dataframe\">\n",
       "  <thead>\n",
       "    <tr style=\"text-align: right;\">\n",
       "      <th></th>\n",
       "      <th>company_type</th>\n",
       "      <th>job/role</th>\n",
       "      <th>employee_lv</th>\n",
       "      <th>address</th>\n",
       "    </tr>\n",
       "  </thead>\n",
       "  <tbody>\n",
       "    <tr>\n",
       "      <th>0</th>\n",
       "      <td>-1</td>\n",
       "      <td>Giám đốc</td>\n",
       "      <td>7.0</td>\n",
       "      <td>Hà Nội</td>\n",
       "    </tr>\n",
       "    <tr>\n",
       "      <th>1</th>\n",
       "      <td>-1</td>\n",
       "      <td>Giám đốc</td>\n",
       "      <td>10.0</td>\n",
       "      <td>Hà Nội</td>\n",
       "    </tr>\n",
       "    <tr>\n",
       "      <th>2</th>\n",
       "      <td>-1</td>\n",
       "      <td>Nhân viên lễ tân</td>\n",
       "      <td>7.0</td>\n",
       "      <td>Hà Nội</td>\n",
       "    </tr>\n",
       "    <tr>\n",
       "      <th>3</th>\n",
       "      <td>-1</td>\n",
       "      <td>Nhân viên lễ tân</td>\n",
       "      <td>8.0</td>\n",
       "      <td>Hà Nội</td>\n",
       "    </tr>\n",
       "    <tr>\n",
       "      <th>4</th>\n",
       "      <td>-1</td>\n",
       "      <td>Công nhân</td>\n",
       "      <td>-1.0</td>\n",
       "      <td>NaN</td>\n",
       "    </tr>\n",
       "    <tr>\n",
       "      <th>5</th>\n",
       "      <td>-1</td>\n",
       "      <td>Nhân viên Sales Admin</td>\n",
       "      <td>8.0</td>\n",
       "      <td>Hà Nội</td>\n",
       "    </tr>\n",
       "    <tr>\n",
       "      <th>6</th>\n",
       "      <td>-1</td>\n",
       "      <td>Nhân viên Sales Admin</td>\n",
       "      <td>9.0</td>\n",
       "      <td>Việt Nam</td>\n",
       "    </tr>\n",
       "    <tr>\n",
       "      <th>7</th>\n",
       "      <td>-1</td>\n",
       "      <td>Công nhân</td>\n",
       "      <td>9.0</td>\n",
       "      <td>NaN</td>\n",
       "    </tr>\n",
       "    <tr>\n",
       "      <th>8</th>\n",
       "      <td>-1</td>\n",
       "      <td>Nhân viên Sales Admin</td>\n",
       "      <td>9.0</td>\n",
       "      <td>Hà Nội</td>\n",
       "    </tr>\n",
       "    <tr>\n",
       "      <th>9</th>\n",
       "      <td>-1</td>\n",
       "      <td>Kế toán</td>\n",
       "      <td>1.0</td>\n",
       "      <td>NaN</td>\n",
       "    </tr>\n",
       "  </tbody>\n",
       "</table>\n",
       "</div>"
      ],
      "text/plain": [
       "   company_type               job/role  employee_lv   address\n",
       "0            -1               Giám đốc          7.0    Hà Nội\n",
       "1            -1               Giám đốc         10.0    Hà Nội\n",
       "2            -1       Nhân viên lễ tân          7.0    Hà Nội\n",
       "3            -1       Nhân viên lễ tân          8.0    Hà Nội\n",
       "4            -1              Công nhân         -1.0       NaN\n",
       "5            -1  Nhân viên Sales Admin          8.0    Hà Nội\n",
       "6            -1  Nhân viên Sales Admin          9.0  Việt Nam\n",
       "7            -1              Công nhân          9.0       NaN\n",
       "8            -1  Nhân viên Sales Admin          9.0    Hà Nội\n",
       "9            -1                Kế toán          1.0       NaN"
      ]
     },
     "execution_count": 13,
     "metadata": {},
     "output_type": "execute_result"
    }
   ],
   "source": [
    "df.head(10)"
   ]
  },
  {
   "cell_type": "code",
   "execution_count": 14,
   "id": "2508894d",
   "metadata": {},
   "outputs": [
    {
     "data": {
      "text/plain": [
       "Vĩnh Phúc                       43098\n",
       "Bắc Ninh                         9158\n",
       "Bắc Giang                        8267\n",
       "Hà Nội                           7929\n",
       "tỉnh Nghệ An                     7705\n",
       "                                ...  \n",
       "tỉnh Sông Bé                        1\n",
       "T                                   1\n",
       "TP Bắc ninh; 0966348499             1\n",
       "Bình Phước .                        1\n",
       "37 DưƠNG Bá CUNG P. AN LạC A        1\n",
       "Name: address, Length: 1644, dtype: int64"
      ]
     },
     "execution_count": 14,
     "metadata": {},
     "output_type": "execute_result"
    }
   ],
   "source": [
    "df['address'].value_counts()"
   ]
  },
  {
   "cell_type": "code",
   "execution_count": 15,
   "id": "5681f4da",
   "metadata": {},
   "outputs": [],
   "source": [
    "df[\"address\"].fillna('Vĩnh Phúc', inplace = True)"
   ]
  },
  {
   "cell_type": "code",
   "execution_count": 16,
   "id": "963d9bc4",
   "metadata": {},
   "outputs": [
    {
     "data": {
      "text/plain": [
       "8.0      31361\n",
       "7.0      31227\n",
       "9.0      27122\n",
       "6.0      27020\n",
       "5.0      20710\n",
       "         ...  \n",
       "53.0        34\n",
       "56.0        33\n",
       "58.0        25\n",
       "57.0        24\n",
       "331.0        1\n",
       "Name: employee_lv, Length: 62, dtype: int64"
      ]
     },
     "execution_count": 16,
     "metadata": {},
     "output_type": "execute_result"
    }
   ],
   "source": [
    "df['employee_lv'].value_counts()"
   ]
  },
  {
   "cell_type": "code",
   "execution_count": 17,
   "id": "94bea9bf",
   "metadata": {},
   "outputs": [],
   "source": [
    "df[\"employee_lv\"].fillna('8.0', inplace = True)"
   ]
  },
  {
   "cell_type": "code",
   "execution_count": 18,
   "id": "98287814",
   "metadata": {},
   "outputs": [
    {
     "data": {
      "text/plain": [
       "company_type    0\n",
       "job/role        0\n",
       "employee_lv     0\n",
       "address         0\n",
       "dtype: int64"
      ]
     },
     "execution_count": 18,
     "metadata": {},
     "output_type": "execute_result"
    }
   ],
   "source": [
    "df.isnull().sum()"
   ]
  },
  {
   "cell_type": "code",
   "execution_count": 25,
   "id": "5f1af63d",
   "metadata": {},
   "outputs": [
    {
     "data": {
      "text/plain": [
       "0         False\n",
       "1         False\n",
       "2         False\n",
       "3         False\n",
       "4          True\n",
       "          ...  \n",
       "247554     True\n",
       "247555     True\n",
       "247556    False\n",
       "247557    False\n",
       "247558    False\n",
       "Name: job/role, Length: 247559, dtype: bool"
      ]
     },
     "execution_count": 25,
     "metadata": {},
     "output_type": "execute_result"
    }
   ],
   "source": [
    "df['job/role'].str.startswith('Công')"
   ]
  },
  {
   "cell_type": "code",
   "execution_count": null,
   "id": "50e76c7b",
   "metadata": {},
   "outputs": [],
   "source": []
  }
 ],
 "metadata": {
  "kernelspec": {
   "display_name": "Python 3.7 (tensorflow)",
   "language": "python",
   "name": "tensorflow"
  },
  "language_info": {
   "codemirror_mode": {
    "name": "ipython",
    "version": 3
   },
   "file_extension": ".py",
   "mimetype": "text/x-python",
   "name": "python",
   "nbconvert_exporter": "python",
   "pygments_lexer": "ipython3",
   "version": "3.8.12"
  }
 },
 "nbformat": 4,
 "nbformat_minor": 5
}
