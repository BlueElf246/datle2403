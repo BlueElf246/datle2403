{
 "cells": [
  {
   "cell_type": "code",
   "execution_count": 1,
   "id": "37b99d09",
   "metadata": {},
   "outputs": [],
   "source": [
    "import tensorflow as tf"
   ]
  },
  {
   "cell_type": "code",
   "execution_count": 2,
   "id": "2f543712",
   "metadata": {},
   "outputs": [],
   "source": [
    "import numpy as np"
   ]
  },
  {
   "cell_type": "code",
   "execution_count": 3,
   "id": "324e73e2",
   "metadata": {},
   "outputs": [
    {
     "name": "stdout",
     "output_type": "stream",
     "text": [
      "[0.         0.10204082 0.20408163 0.30612245 0.40816327 0.51020408\n",
      " 0.6122449  0.71428571 0.81632653 0.91836735 1.02040816 1.12244898\n",
      " 1.2244898  1.32653061 1.42857143 1.53061224 1.63265306 1.73469388\n",
      " 1.83673469 1.93877551 2.04081633 2.14285714 2.24489796 2.34693878\n",
      " 2.44897959 2.55102041 2.65306122 2.75510204 2.85714286 2.95918367\n",
      " 3.06122449 3.16326531 3.26530612 3.36734694 3.46938776 3.57142857\n",
      " 3.67346939 3.7755102  3.87755102 3.97959184 4.08163265 4.18367347\n",
      " 4.28571429 4.3877551  4.48979592 4.59183673 4.69387755 4.79591837\n",
      " 4.89795918 5.        ]\n"
     ]
    }
   ],
   "source": [
    "x=np.linspace(0,5,50)\n",
    "print(x)"
   ]
  },
  {
   "cell_type": "code",
   "execution_count": null,
   "id": "960a8638",
   "metadata": {},
   "outputs": [],
   "source": [
    "X= np.random.random((10,3))"
   ]
  }
 ],
 "metadata": {
  "kernelspec": {
   "display_name": "Python 3.7 (tensorflow)",
   "language": "python",
   "name": "tensorflow"
  },
  "language_info": {
   "codemirror_mode": {
    "name": "ipython",
    "version": 3
   },
   "file_extension": ".py",
   "mimetype": "text/x-python",
   "name": "python",
   "nbconvert_exporter": "python",
   "pygments_lexer": "ipython3",
   "version": "3.8.12"
  }
 },
 "nbformat": 4,
 "nbformat_minor": 5
}
