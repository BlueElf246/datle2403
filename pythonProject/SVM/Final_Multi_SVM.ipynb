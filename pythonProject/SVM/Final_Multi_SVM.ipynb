{
  "nbformat": 4,
  "nbformat_minor": 0,
  "metadata": {
    "colab": {
      "provenance": [],
      "authorship_tag": "ABX9TyMfaiskXE0zlFz0kYg1mM5A",
      "include_colab_link": true
    },
    "kernelspec": {
      "name": "python3",
      "display_name": "Python 3"
    },
    "language_info": {
      "name": "python"
    }
  },
  "cells": [
    {
      "cell_type": "markdown",
      "metadata": {
        "id": "view-in-github",
        "colab_type": "text"
      },
      "source": [
        "<a href=\"https://colab.research.google.com/github/datle2403/datle2403/blob/master/pythonProject/SVM/Final_Multi_SVM.ipynb\" target=\"_parent\"><img src=\"https://colab.research.google.com/assets/colab-badge.svg\" alt=\"Open In Colab\"/></a>"
      ]
    },
    {
      "cell_type": "code",
      "execution_count": 1,
      "metadata": {
        "id": "ApCz5IsZJ3-k"
      },
      "outputs": [],
      "source": [
        "import numpy as np\n",
        "import matplotlib.pyplot as plt\n",
        "def svm_loss_vectorized(W, X, y, reg):\n",
        "    d, C = W.shape \n",
        "    _, N = X.shape \n",
        "    loss = 0 \n",
        "    dW = np.zeros_like(W)\n",
        "    \n",
        "    Z = W.T.dot(X)     \n",
        "    \n",
        "    correct_class_score = np.choose(y, Z).reshape(N,1).T\n",
        "    margins = np.maximum(0, Z - correct_class_score + 1) \n",
        "    margins[y, np.arange(margins.shape[1])] = 0\n",
        "    loss = np.sum(margins, axis = (0, 1))\n",
        "    loss /= N \n",
        "    loss += 0.5 * reg * np.sum(W * W)\n",
        "    \n",
        "    F = (margins > 0).astype(int)\n",
        "    F[y, np.arange(F.shape[1])] = np.sum(-F, axis = 0)\n",
        "    dW = X.dot(F.T)/N + reg*W\n",
        "    return loss, dW\n"
      ]
    },
    {
      "cell_type": "code",
      "source": [
        "def multiclass_svm_GD(X, y, Winit, reg, lr=.1, \\\n",
        "        batch_size = 100, num_iters = 1000, print_every = 100):\n",
        "    W = Winit \n",
        "    loss_history = np.zeros((num_iters))\n",
        "    for it in range(num_iters):\n",
        "        # randomly pick a batch of X\n",
        "        idx = np.random.choice(X.shape[1], batch_size)\n",
        "        X_batch = X[:, idx]\n",
        "        y_batch = y[idx]\n",
        "\n",
        "        loss_history[it], dW = \\\n",
        "            svm_loss_vectorized(W, X_batch, y_batch, reg)\n",
        "\n",
        "        W -= lr*dW \n",
        "        if it % print_every == 1:\n",
        "            print ('it %d/%d, loss = %f' \\\n",
        "                %(it, num_iters, loss_history[it]))\n",
        "\n",
        "    return W, loss_history \n",
        "def predict(X,W):\n",
        "  Z = W.T.dot(X)\n",
        "  result=np.argmax(Z,axis=1)\n",
        "def run(X,y):\n",
        "  Winit=None\n",
        "  reg=.1\n",
        "  W, loss_history =multiclass_svm_GD(X, y, Winit, reg, lr=.1, \\\n",
        "        batch_size = 100, num_iters = 1000, print_every = 100)\n",
        "  predict(X,W)\n"
      ],
      "metadata": {
        "id": "gNOaXOkcKKjj"
      },
      "execution_count": 2,
      "outputs": []
    },
    {
      "cell_type": "code",
      "source": [],
      "metadata": {
        "id": "sYpJJMXMLhTK"
      },
      "execution_count": null,
      "outputs": []
    }
  ]
}