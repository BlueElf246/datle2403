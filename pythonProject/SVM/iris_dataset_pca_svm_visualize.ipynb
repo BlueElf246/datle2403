{
  "nbformat": 4,
  "nbformat_minor": 0,
  "metadata": {
    "colab": {
      "provenance": [],
      "collapsed_sections": [],
      "authorship_tag": "ABX9TyMJMwVlh4V2s0TZtUyLiBxN",
      "include_colab_link": true
    },
    "kernelspec": {
      "name": "python3",
      "display_name": "Python 3"
    },
    "language_info": {
      "name": "python"
    }
  },
  "cells": [
    {
      "cell_type": "markdown",
      "metadata": {
        "id": "view-in-github",
        "colab_type": "text"
      },
      "source": [
        "<a href=\"https://colab.research.google.com/github/datle2403/datle2403/blob/master/pythonProject/SVM/iris_dataset_pca_svm_visualize.ipynb\" target=\"_parent\"><img src=\"https://colab.research.google.com/assets/colab-badge.svg\" alt=\"Open In Colab\"/></a>"
      ]
    },
    {
      "cell_type": "code",
      "execution_count": 262,
      "metadata": {
        "id": "n_hGXaPokRlm"
      },
      "outputs": [],
      "source": [
        "import numpy as np\n",
        "import matplotlib.pyplot as plt\n",
        "import pandas as pd\n",
        "np.random.seed(1)"
      ]
    },
    {
      "cell_type": "code",
      "source": [
        "df=pd.read_csv('Iris.csv')\n",
        "label=df['Species'].to_numpy()"
      ],
      "metadata": {
        "id": "Xz4bWkS1kcwC"
      },
      "execution_count": 263,
      "outputs": []
    },
    {
      "cell_type": "code",
      "source": [
        "df.info()"
      ],
      "metadata": {
        "colab": {
          "base_uri": "https://localhost:8080/"
        },
        "id": "9ji20Kg4lng6",
        "outputId": "1f8b1721-2972-4482-b2e9-37305962dd38"
      },
      "execution_count": 264,
      "outputs": [
        {
          "output_type": "stream",
          "name": "stdout",
          "text": [
            "<class 'pandas.core.frame.DataFrame'>\n",
            "RangeIndex: 150 entries, 0 to 149\n",
            "Data columns (total 6 columns):\n",
            " #   Column         Non-Null Count  Dtype  \n",
            "---  ------         --------------  -----  \n",
            " 0   Id             150 non-null    int64  \n",
            " 1   SepalLengthCm  150 non-null    float64\n",
            " 2   SepalWidthCm   150 non-null    float64\n",
            " 3   PetalLengthCm  150 non-null    float64\n",
            " 4   PetalWidthCm   150 non-null    float64\n",
            " 5   Species        150 non-null    object \n",
            "dtypes: float64(4), int64(1), object(1)\n",
            "memory usage: 7.2+ KB\n"
          ]
        }
      ]
    },
    {
      "cell_type": "code",
      "source": [
        "#drop Id column\n",
        "#df.drop('Id',axis=1,inplace=True)\n",
        "df"
      ],
      "metadata": {
        "colab": {
          "base_uri": "https://localhost:8080/",
          "height": 424
        },
        "id": "RBZGboHQloFT",
        "outputId": "4c5a4056-be33-486c-8331-aa385564df81"
      },
      "execution_count": 265,
      "outputs": [
        {
          "output_type": "execute_result",
          "data": {
            "text/plain": [
              "      Id  SepalLengthCm  SepalWidthCm  PetalLengthCm  PetalWidthCm  \\\n",
              "0      1            5.1           3.5            1.4           0.2   \n",
              "1      2            4.9           3.0            1.4           0.2   \n",
              "2      3            4.7           3.2            1.3           0.2   \n",
              "3      4            4.6           3.1            1.5           0.2   \n",
              "4      5            5.0           3.6            1.4           0.2   \n",
              "..   ...            ...           ...            ...           ...   \n",
              "145  146            6.7           3.0            5.2           2.3   \n",
              "146  147            6.3           2.5            5.0           1.9   \n",
              "147  148            6.5           3.0            5.2           2.0   \n",
              "148  149            6.2           3.4            5.4           2.3   \n",
              "149  150            5.9           3.0            5.1           1.8   \n",
              "\n",
              "            Species  \n",
              "0       Iris-setosa  \n",
              "1       Iris-setosa  \n",
              "2       Iris-setosa  \n",
              "3       Iris-setosa  \n",
              "4       Iris-setosa  \n",
              "..              ...  \n",
              "145  Iris-virginica  \n",
              "146  Iris-virginica  \n",
              "147  Iris-virginica  \n",
              "148  Iris-virginica  \n",
              "149  Iris-virginica  \n",
              "\n",
              "[150 rows x 6 columns]"
            ],
            "text/html": [
              "\n",
              "  <div id=\"df-2f6f091e-736e-4856-b6ea-739473e853f3\">\n",
              "    <div class=\"colab-df-container\">\n",
              "      <div>\n",
              "<style scoped>\n",
              "    .dataframe tbody tr th:only-of-type {\n",
              "        vertical-align: middle;\n",
              "    }\n",
              "\n",
              "    .dataframe tbody tr th {\n",
              "        vertical-align: top;\n",
              "    }\n",
              "\n",
              "    .dataframe thead th {\n",
              "        text-align: right;\n",
              "    }\n",
              "</style>\n",
              "<table border=\"1\" class=\"dataframe\">\n",
              "  <thead>\n",
              "    <tr style=\"text-align: right;\">\n",
              "      <th></th>\n",
              "      <th>Id</th>\n",
              "      <th>SepalLengthCm</th>\n",
              "      <th>SepalWidthCm</th>\n",
              "      <th>PetalLengthCm</th>\n",
              "      <th>PetalWidthCm</th>\n",
              "      <th>Species</th>\n",
              "    </tr>\n",
              "  </thead>\n",
              "  <tbody>\n",
              "    <tr>\n",
              "      <th>0</th>\n",
              "      <td>1</td>\n",
              "      <td>5.1</td>\n",
              "      <td>3.5</td>\n",
              "      <td>1.4</td>\n",
              "      <td>0.2</td>\n",
              "      <td>Iris-setosa</td>\n",
              "    </tr>\n",
              "    <tr>\n",
              "      <th>1</th>\n",
              "      <td>2</td>\n",
              "      <td>4.9</td>\n",
              "      <td>3.0</td>\n",
              "      <td>1.4</td>\n",
              "      <td>0.2</td>\n",
              "      <td>Iris-setosa</td>\n",
              "    </tr>\n",
              "    <tr>\n",
              "      <th>2</th>\n",
              "      <td>3</td>\n",
              "      <td>4.7</td>\n",
              "      <td>3.2</td>\n",
              "      <td>1.3</td>\n",
              "      <td>0.2</td>\n",
              "      <td>Iris-setosa</td>\n",
              "    </tr>\n",
              "    <tr>\n",
              "      <th>3</th>\n",
              "      <td>4</td>\n",
              "      <td>4.6</td>\n",
              "      <td>3.1</td>\n",
              "      <td>1.5</td>\n",
              "      <td>0.2</td>\n",
              "      <td>Iris-setosa</td>\n",
              "    </tr>\n",
              "    <tr>\n",
              "      <th>4</th>\n",
              "      <td>5</td>\n",
              "      <td>5.0</td>\n",
              "      <td>3.6</td>\n",
              "      <td>1.4</td>\n",
              "      <td>0.2</td>\n",
              "      <td>Iris-setosa</td>\n",
              "    </tr>\n",
              "    <tr>\n",
              "      <th>...</th>\n",
              "      <td>...</td>\n",
              "      <td>...</td>\n",
              "      <td>...</td>\n",
              "      <td>...</td>\n",
              "      <td>...</td>\n",
              "      <td>...</td>\n",
              "    </tr>\n",
              "    <tr>\n",
              "      <th>145</th>\n",
              "      <td>146</td>\n",
              "      <td>6.7</td>\n",
              "      <td>3.0</td>\n",
              "      <td>5.2</td>\n",
              "      <td>2.3</td>\n",
              "      <td>Iris-virginica</td>\n",
              "    </tr>\n",
              "    <tr>\n",
              "      <th>146</th>\n",
              "      <td>147</td>\n",
              "      <td>6.3</td>\n",
              "      <td>2.5</td>\n",
              "      <td>5.0</td>\n",
              "      <td>1.9</td>\n",
              "      <td>Iris-virginica</td>\n",
              "    </tr>\n",
              "    <tr>\n",
              "      <th>147</th>\n",
              "      <td>148</td>\n",
              "      <td>6.5</td>\n",
              "      <td>3.0</td>\n",
              "      <td>5.2</td>\n",
              "      <td>2.0</td>\n",
              "      <td>Iris-virginica</td>\n",
              "    </tr>\n",
              "    <tr>\n",
              "      <th>148</th>\n",
              "      <td>149</td>\n",
              "      <td>6.2</td>\n",
              "      <td>3.4</td>\n",
              "      <td>5.4</td>\n",
              "      <td>2.3</td>\n",
              "      <td>Iris-virginica</td>\n",
              "    </tr>\n",
              "    <tr>\n",
              "      <th>149</th>\n",
              "      <td>150</td>\n",
              "      <td>5.9</td>\n",
              "      <td>3.0</td>\n",
              "      <td>5.1</td>\n",
              "      <td>1.8</td>\n",
              "      <td>Iris-virginica</td>\n",
              "    </tr>\n",
              "  </tbody>\n",
              "</table>\n",
              "<p>150 rows × 6 columns</p>\n",
              "</div>\n",
              "      <button class=\"colab-df-convert\" onclick=\"convertToInteractive('df-2f6f091e-736e-4856-b6ea-739473e853f3')\"\n",
              "              title=\"Convert this dataframe to an interactive table.\"\n",
              "              style=\"display:none;\">\n",
              "        \n",
              "  <svg xmlns=\"http://www.w3.org/2000/svg\" height=\"24px\"viewBox=\"0 0 24 24\"\n",
              "       width=\"24px\">\n",
              "    <path d=\"M0 0h24v24H0V0z\" fill=\"none\"/>\n",
              "    <path d=\"M18.56 5.44l.94 2.06.94-2.06 2.06-.94-2.06-.94-.94-2.06-.94 2.06-2.06.94zm-11 1L8.5 8.5l.94-2.06 2.06-.94-2.06-.94L8.5 2.5l-.94 2.06-2.06.94zm10 10l.94 2.06.94-2.06 2.06-.94-2.06-.94-.94-2.06-.94 2.06-2.06.94z\"/><path d=\"M17.41 7.96l-1.37-1.37c-.4-.4-.92-.59-1.43-.59-.52 0-1.04.2-1.43.59L10.3 9.45l-7.72 7.72c-.78.78-.78 2.05 0 2.83L4 21.41c.39.39.9.59 1.41.59.51 0 1.02-.2 1.41-.59l7.78-7.78 2.81-2.81c.8-.78.8-2.07 0-2.86zM5.41 20L4 18.59l7.72-7.72 1.47 1.35L5.41 20z\"/>\n",
              "  </svg>\n",
              "      </button>\n",
              "      \n",
              "  <style>\n",
              "    .colab-df-container {\n",
              "      display:flex;\n",
              "      flex-wrap:wrap;\n",
              "      gap: 12px;\n",
              "    }\n",
              "\n",
              "    .colab-df-convert {\n",
              "      background-color: #E8F0FE;\n",
              "      border: none;\n",
              "      border-radius: 50%;\n",
              "      cursor: pointer;\n",
              "      display: none;\n",
              "      fill: #1967D2;\n",
              "      height: 32px;\n",
              "      padding: 0 0 0 0;\n",
              "      width: 32px;\n",
              "    }\n",
              "\n",
              "    .colab-df-convert:hover {\n",
              "      background-color: #E2EBFA;\n",
              "      box-shadow: 0px 1px 2px rgba(60, 64, 67, 0.3), 0px 1px 3px 1px rgba(60, 64, 67, 0.15);\n",
              "      fill: #174EA6;\n",
              "    }\n",
              "\n",
              "    [theme=dark] .colab-df-convert {\n",
              "      background-color: #3B4455;\n",
              "      fill: #D2E3FC;\n",
              "    }\n",
              "\n",
              "    [theme=dark] .colab-df-convert:hover {\n",
              "      background-color: #434B5C;\n",
              "      box-shadow: 0px 1px 3px 1px rgba(0, 0, 0, 0.15);\n",
              "      filter: drop-shadow(0px 1px 2px rgba(0, 0, 0, 0.3));\n",
              "      fill: #FFFFFF;\n",
              "    }\n",
              "  </style>\n",
              "\n",
              "      <script>\n",
              "        const buttonEl =\n",
              "          document.querySelector('#df-2f6f091e-736e-4856-b6ea-739473e853f3 button.colab-df-convert');\n",
              "        buttonEl.style.display =\n",
              "          google.colab.kernel.accessAllowed ? 'block' : 'none';\n",
              "\n",
              "        async function convertToInteractive(key) {\n",
              "          const element = document.querySelector('#df-2f6f091e-736e-4856-b6ea-739473e853f3');\n",
              "          const dataTable =\n",
              "            await google.colab.kernel.invokeFunction('convertToInteractive',\n",
              "                                                     [key], {});\n",
              "          if (!dataTable) return;\n",
              "\n",
              "          const docLinkHtml = 'Like what you see? Visit the ' +\n",
              "            '<a target=\"_blank\" href=https://colab.research.google.com/notebooks/data_table.ipynb>data table notebook</a>'\n",
              "            + ' to learn more about interactive tables.';\n",
              "          element.innerHTML = '';\n",
              "          dataTable['output_type'] = 'display_data';\n",
              "          await google.colab.output.renderOutput(dataTable, element);\n",
              "          const docLink = document.createElement('div');\n",
              "          docLink.innerHTML = docLinkHtml;\n",
              "          element.appendChild(docLink);\n",
              "        }\n",
              "      </script>\n",
              "    </div>\n",
              "  </div>\n",
              "  "
            ]
          },
          "metadata": {},
          "execution_count": 265
        }
      ]
    },
    {
      "cell_type": "code",
      "source": [
        "train_set=df.iloc[:,[0,1,2,3]]\n",
        "#convert to numpy\n",
        "train_set=train_set.to_numpy()\n",
        "train_set.shape\n",
        "# 150 datapoint, each datapoint has 4 features"
      ],
      "metadata": {
        "colab": {
          "base_uri": "https://localhost:8080/"
        },
        "id": "0v3y-lYYmcMS",
        "outputId": "4e199692-074d-4871-a57f-ff35438e21e8"
      },
      "execution_count": 266,
      "outputs": [
        {
          "output_type": "execute_result",
          "data": {
            "text/plain": [
              "(150, 4)"
            ]
          },
          "metadata": {},
          "execution_count": 266
        }
      ]
    },
    {
      "cell_type": "code",
      "source": [
        "# Reduce dimension into 2 dim and visualize\n",
        "from sklearn.decomposition import PCA\n",
        "from sklearn.model_selection import train_test_split\n",
        "from sklearn.preprocessing import StandardScaler\n",
        "f = plt.figure()\n",
        "f.set_figwidth(3)\n",
        "f.set_figheight(3)\n",
        "def standardized(dataset):\n",
        "    scaler = StandardScaler()\n",
        "    scaler.fit(dataset)\n",
        "    dataset = scaler.transform(dataset)\n",
        "    return dataset\n",
        "def pca(data,num):\n",
        "    pca = PCA(n_components=num) # 95% of variance equal to 330 Principal component\n",
        "    pca.fit(data)\n",
        "    data = pca.transform(data)\n",
        "    print(np.sum(pca.explained_variance_ratio_) )\n",
        "    return data\n",
        "def split(data):\n",
        "    data=np.array(data).T\n",
        "    x=data[0]\n",
        "    y=data[1]\n",
        "    return x,y\n",
        "def present(x,y):\n",
        "    plt.plot(x, y, 'o')\n",
        "def run(x):\n",
        "    x=standardized(x)\n",
        "    data=pca(x,2)\n",
        "    x,y=split(data)\n",
        "    return data"
      ],
      "metadata": {
        "id": "fy5yrK-3nF4P",
        "colab": {
          "base_uri": "https://localhost:8080/",
          "height": 34
        },
        "outputId": "c01e2bb4-a044-416c-a966-b1a95d98d547"
      },
      "execution_count": 294,
      "outputs": [
        {
          "output_type": "display_data",
          "data": {
            "text/plain": [
              "<Figure size 216x216 with 0 Axes>"
            ]
          },
          "metadata": {}
        }
      ]
    },
    {
      "cell_type": "code",
      "source": [
        "data=run(train_set)\n",
        "data.shape"
      ],
      "metadata": {
        "colab": {
          "base_uri": "https://localhost:8080/"
        },
        "id": "7c1qNmqHp44_",
        "outputId": "99a3df43-3414-422b-da1d-ac9e4f28e1ed"
      },
      "execution_count": 268,
      "outputs": [
        {
          "output_type": "stream",
          "name": "stdout",
          "text": [
            "0.9318211437893082\n"
          ]
        },
        {
          "output_type": "execute_result",
          "data": {
            "text/plain": [
              "(150, 2)"
            ]
          },
          "metadata": {},
          "execution_count": 268
        }
      ]
    },
    {
      "cell_type": "code",
      "source": [
        "label=label.reshape(150,1)"
      ],
      "metadata": {
        "id": "ZMTXhS0DsXqe"
      },
      "execution_count": 269,
      "outputs": []
    },
    {
      "cell_type": "code",
      "source": [
        "#add label and visualize\n",
        "import seaborn as sns\n",
        "data_label=np.hstack((data,label))\n",
        "sns.scatterplot(x=data_label[:,0], y=data_label[:,1], hue=data_label[:,2], ec=None)"
      ],
      "metadata": {
        "colab": {
          "base_uri": "https://localhost:8080/",
          "height": 282
        },
        "id": "KjTOpCtIp7To",
        "outputId": "5a8929b0-5ed2-4bfd-96bc-63392b69cb9e"
      },
      "execution_count": 270,
      "outputs": [
        {
          "output_type": "execute_result",
          "data": {
            "text/plain": [
              "<matplotlib.axes._subplots.AxesSubplot at 0x7f3618cb7490>"
            ]
          },
          "metadata": {},
          "execution_count": 270
        },
        {
          "output_type": "display_data",
          "data": {
            "text/plain": [
              "<Figure size 432x288 with 1 Axes>"
            ],
            "image/png": "[encoded data removed]"
          },
          "metadata": {
            "needs_background": "light"
          }
        }
      ]
    },
    {
      "cell_type": "code",
      "source": [
        "X=data\n",
        "y=label.reshape(150,)\n",
        "for x in range(len(y)):\n",
        "  if y[x]=='Iris-setosa':\n",
        "    y[x]=0\n",
        "  elif y[x]=='Iris-versicolor':\n",
        "    y[x]=1\n",
        "  elif y[x]=='Iris-virginica':\n",
        "    y[x]=2\n",
        "y=y.astype('int64')\n",
        "y"
      ],
      "metadata": {
        "id": "algKzrpZr7t1",
        "colab": {
          "base_uri": "https://localhost:8080/"
        },
        "outputId": "8a01b3de-270a-4d76-a78d-6b1d0b921b84"
      },
      "execution_count": 271,
      "outputs": [
        {
          "output_type": "execute_result",
          "data": {
            "text/plain": [
              "array([0, 0, 0, 0, 0, 0, 0, 0, 0, 0, 0, 0, 0, 0, 0, 0, 0, 0, 0, 0, 0, 0,\n",
              "       0, 0, 0, 0, 0, 0, 0, 0, 0, 0, 0, 0, 0, 0, 0, 0, 0, 0, 0, 0, 0, 0,\n",
              "       0, 0, 0, 0, 0, 0, 1, 1, 1, 1, 1, 1, 1, 1, 1, 1, 1, 1, 1, 1, 1, 1,\n",
              "       1, 1, 1, 1, 1, 1, 1, 1, 1, 1, 1, 1, 1, 1, 1, 1, 1, 1, 1, 1, 1, 1,\n",
              "       1, 1, 1, 1, 1, 1, 1, 1, 1, 1, 1, 1, 2, 2, 2, 2, 2, 2, 2, 2, 2, 2,\n",
              "       2, 2, 2, 2, 2, 2, 2, 2, 2, 2, 2, 2, 2, 2, 2, 2, 2, 2, 2, 2, 2, 2,\n",
              "       2, 2, 2, 2, 2, 2, 2, 2, 2, 2, 2, 2, 2, 2, 2, 2, 2, 2])"
            ]
          },
          "metadata": {},
          "execution_count": 271
        }
      ]
    },
    {
      "cell_type": "code",
      "source": [
        "def svm_loss_vectorized(W, X, y, reg):\n",
        "    d, C = W.shape \n",
        "    _, N = X.shape \n",
        "    loss = 0 \n",
        "    dW = np.zeros_like(W)\n",
        "    \n",
        "    Z = W.T.dot(X)     \n",
        "    \n",
        "    correct_class_score = np.choose(y, Z).reshape(N,1).T\n",
        "    margins = np.maximum(0, Z - correct_class_score + 1) \n",
        "    margins[y, np.arange(margins.shape[1])] = 0.\n",
        "    loss = np.sum(margins, axis = (0, 1))\n",
        "    loss /= N \n",
        "    loss += 0.5 * reg * np.sum(W * W)\n",
        "    \n",
        "    F = (margins > 0).astype(int)\n",
        "    F[y, np.arange(F.shape[1])] = np.sum(-F, axis = 0)\n",
        "    dW = X.dot(F.T)/N + reg*W\n",
        "    return loss, dW"
      ],
      "metadata": {
        "id": "f-wYzf7CL8ju"
      },
      "execution_count": 272,
      "outputs": []
    },
    {
      "cell_type": "code",
      "source": [
        "def multiclass_svm_GD(X, y, Winit, reg, lr=.1, \\\n",
        "        batch_size = 100, num_iters = 1000, print_every = 100):\n",
        "    W = Winit \n",
        "    loss_history = np.zeros((num_iters))\n",
        "    for it in range(num_iters):\n",
        "        # randomly pick a batch of X\n",
        "        idx = np.random.choice(X.shape[1], batch_size)\n",
        "        X_batch = X[:, idx]\n",
        "        y_batch = y[idx]\n",
        "\n",
        "        loss_history[it], dW = \\\n",
        "            svm_loss_vectorized(W, X_batch, y_batch, reg)\n",
        "\n",
        "        W -= lr*dW \n",
        "        # if True:\n",
        "        #     print ('it %d/%d, loss = %f' \\\n",
        "        #         %(it, num_iters, loss_history[it]))\n",
        "\n",
        "    return W, loss_history \n",
        "def predict(X,W):\n",
        "  Z = W.T.dot(X)\n",
        "  Z=Z.T\n",
        "  r=[]\n",
        "  for x in Z:\n",
        "    r.append(np.argmax(x,axis=0))\n",
        "  count=0\n",
        "  for m in range(0,150):\n",
        "    if r[m]==y[m]:\n",
        "      count+=1\n",
        "  score=(count/150)\n",
        "  return score,r\n",
        "def run(X,y,Winit,iter,reg,lr):\n",
        "  W, loss_history =multiclass_svm_GD(X, y, Winit, reg, lr=lr, \\\n",
        "        batch_size = 1, num_iters =iter, print_every = 10)\n",
        "  score,r=predict(X,W)\n",
        "  return [score,loss_history,r,W]"
      ],
      "metadata": {
        "id": "T-U05-XtNzCq"
      },
      "execution_count": 273,
      "outputs": []
    },
    {
      "cell_type": "code",
      "source": [
        "def highest(X,y,W,iter,reg,lr):\n",
        "  score=[]\n",
        "  w=0\n",
        "  for x in range(1,iter):\n",
        "    m=run(X,y,W,iter,reg,lr)\n",
        "    score.append((m,x))\n",
        "  max=0\n",
        "  g=np.array(score)\n",
        "  for x in range(0,iter-1):\n",
        "    if max < g[x][0][0]:\n",
        "      max=g[x][0][0]\n",
        "  for x in range(0,iter-1):\n",
        "    if max == g[x][0][0]:\n",
        "      print(f'max score is {g[x][0][0]}')\n",
        "      #print(f'predict label {g[x][0][2]}')\n",
        "      w=g[x][0][3]\n",
        "      print(f'loss history if iter ={g[x][1]} is: ')\n",
        "      # for j in g[x][0][1]:\n",
        "      #   print(j)\n",
        "  return w\n",
        "  "
      ],
      "metadata": {
        "id": "_OQ65BY1leMT"
      },
      "execution_count": 274,
      "outputs": []
    },
    {
      "cell_type": "code",
      "source": [
        "X"
      ],
      "metadata": {
        "colab": {
          "base_uri": "https://localhost:8080/"
        },
        "id": "I3umj0T_8U35",
        "outputId": "e37d3654-3aee-41c5-afb2-6e87cabcac9e"
      },
      "execution_count": 283,
      "outputs": [
        {
          "output_type": "execute_result",
          "data": {
            "text/plain": [
              "array([[-2.5010211 ,  0.45186775,  1.        ],\n",
              "       [-2.27994463, -0.69669785,  1.        ],\n",
              "       [-2.5594354 , -0.3834877 ,  1.        ],\n",
              "       [-2.47606034, -0.63624267,  1.        ],\n",
              "       [-2.57940725,  0.61105046,  1.        ],\n",
              "       [-2.41608653,  1.45442473,  1.        ],\n",
              "       [-2.67128549, -0.01125485,  1.        ],\n",
              "       [-2.37428299,  0.19666591,  1.        ],\n",
              "       [-2.43743351, -1.1596121 ,  1.        ],\n",
              "       [-2.21120456, -0.481981  ,  1.        ],\n",
              "       [-2.28528115,  1.02936615,  1.        ],\n",
              "       [-2.41535954,  0.09918841,  1.        ],\n",
              "       [-2.20214837, -0.74540999,  1.        ],\n",
              "       [-2.60291405, -1.01131174,  1.        ],\n",
              "       [-2.28337369,  1.85118404,  1.        ],\n",
              "       [-2.50047816,  2.64889214,  1.        ],\n",
              "       [-2.40871586,  1.44192887,  1.        ],\n",
              "       [-2.28383758,  0.45540953,  1.        ],\n",
              "       [-1.99504834,  1.40079155,  1.        ],\n",
              "       [-2.42525831,  1.08758281,  1.        ],\n",
              "       [-1.89068452,  0.41078364,  1.        ],\n",
              "       [-2.33295341,  0.87864626,  1.        ],\n",
              "       [-2.73354511,  0.39599747,  1.        ],\n",
              "       [-1.97380689,  0.04904379,  1.        ],\n",
              "       [-2.14940814,  0.11298753,  1.        ],\n",
              "       [-1.84401842, -0.63330002,  1.        ],\n",
              "       [-2.09825851,  0.20432127,  1.        ],\n",
              "       [-2.06005835,  0.5121937 ,  1.        ],\n",
              "       [-2.01381891,  0.29935191,  1.        ],\n",
              "       [-2.11462698, -0.36677182,  1.        ],\n",
              "       [-1.97236333, -0.52491284,  1.        ],\n",
              "       [-1.81673393,  0.40568159,  1.        ],\n",
              "       [-2.39670423,  1.76935482,  1.        ],\n",
              "       [-2.29576981,  2.12823113,  1.        ],\n",
              "       [-1.89181702, -0.4767725 ,  1.        ],\n",
              "       [-1.98293105, -0.22729774,  1.        ],\n",
              "       [-1.82345599,  0.6596866 ,  1.        ],\n",
              "       [-1.85349052, -0.47614748,  1.        ],\n",
              "       [-2.15421233, -0.94770557,  1.        ],\n",
              "       [-1.9027327 ,  0.25433667,  1.        ],\n",
              "       [-2.08602527,  0.40550057,  1.        ],\n",
              "       [-1.58587429, -2.36154932,  1.        ],\n",
              "       [-2.23661813, -0.52816574,  1.        ],\n",
              "       [-1.94782888,  0.41721628,  1.        ],\n",
              "       [-1.97271093,  1.10757891,  1.        ],\n",
              "       [-1.78055683, -0.73853477,  1.        ],\n",
              "       [-2.04702982,  1.09690489,  1.        ],\n",
              "       [-2.01398214, -0.42141938,  1.        ],\n",
              "       [-1.86254636,  0.98627919,  1.        ],\n",
              "       [-1.80424801, -0.00763395,  1.        ],\n",
              "       [ 0.62853528,  0.92529641,  1.        ],\n",
              "       [ 0.19832531,  0.61208767,  1.        ],\n",
              "       [ 0.72468585,  0.67274977,  1.        ],\n",
              "       [ 0.09360327, -1.74919418,  1.        ],\n",
              "       [ 0.59969163, -0.16999947,  1.        ],\n",
              "       [ 0.0773031 , -0.58151906,  1.        ],\n",
              "       [ 0.19929459,  0.77887253,  1.        ],\n",
              "       [-0.5314839 , -1.87090915,  1.        ],\n",
              "       [ 0.64677399,  0.091191  ,  1.        ],\n",
              "       [-0.31825205, -1.06723973,  1.        ],\n",
              "       [-0.09682763, -2.6492994 ,  1.        ],\n",
              "       [ 0.04604695, -0.07064549,  1.        ],\n",
              "       [ 0.58900797, -1.70165296,  1.        ],\n",
              "       [ 0.43027017, -0.15908979,  1.        ],\n",
              "       [-0.23681519, -0.45456674,  1.        ],\n",
              "       [ 0.59884904,  0.55496594,  1.        ],\n",
              "       [ 0.02159156, -0.21152473,  1.        ],\n",
              "       [ 0.22693743, -0.75215594,  1.        ],\n",
              "       [ 0.9575793 , -1.57991067,  1.        ],\n",
              "       [ 0.19394779, -1.27984729,  1.        ],\n",
              "       [ 0.22725843,  0.37211743,  1.        ],\n",
              "       [ 0.36619835, -0.3926546 ,  1.        ],\n",
              "       [ 1.00431371, -0.88522612,  1.        ],\n",
              "       [ 0.62477908, -0.36635963,  1.        ],\n",
              "       [ 0.62584361, -0.01857401,  1.        ],\n",
              "       [ 0.73062369,  0.29669222,  1.        ],\n",
              "       [ 1.13553535, -0.00501056,  1.        ],\n",
              "       [ 1.01864872,  0.37029417,  1.        ],\n",
              "       [ 0.49258851, -0.21436237,  1.        ],\n",
              "       [ 0.18452331, -1.03219437,  1.        ],\n",
              "       [ 0.30520798, -1.54160956,  1.        ],\n",
              "       [ 0.28469352, -1.54509812,  1.        ],\n",
              "       [ 0.35199002, -0.75642464,  1.        ],\n",
              "       [ 0.88971358, -0.60984575,  1.        ],\n",
              "       [ 0.12608207, -0.30978237,  1.        ],\n",
              "       [ 0.24824753,  0.83386219,  1.        ],\n",
              "       [ 0.96700445,  0.57043177,  1.        ],\n",
              "       [ 1.16300422, -1.31929199,  1.        ],\n",
              "       [ 0.16949275, -0.22172885,  1.        ],\n",
              "       [ 0.42001352, -1.32298747,  1.        ],\n",
              "       [ 0.49919497, -1.0986383 ,  1.        ],\n",
              "       [ 0.68794035,  0.05240006,  1.        ],\n",
              "       [ 0.5797889 , -0.95999757,  1.        ],\n",
              "       [ 0.0579223 , -2.02175827,  1.        ],\n",
              "       [ 0.47969741, -0.84484162,  1.        ],\n",
              "       [ 0.35494547, -0.16556969,  1.        ],\n",
              "       [ 0.43447487, -0.37471459,  1.        ],\n",
              "       [ 0.79421163, -0.11578995,  1.        ],\n",
              "       [-0.04884362, -1.56209691,  1.        ],\n",
              "       [ 0.50626531, -0.5871397 ,  1.        ],\n",
              "       [ 1.19418614,  0.83609917,  1.        ],\n",
              "       [ 0.99420409, -0.70810339,  1.        ],\n",
              "       [ 1.88858294,  0.61279028,  1.        ],\n",
              "       [ 1.36636839, -0.01547635,  1.        ],\n",
              "       [ 1.50443843,  0.30348679,  1.        ],\n",
              "       [ 2.47361046,  0.89431299,  1.        ],\n",
              "       [ 0.4272413 , -1.60698447,  1.        ],\n",
              "       [ 2.27784271,  0.5212741 ,  1.        ],\n",
              "       [ 2.01477844, -0.64043828,  1.        ],\n",
              "       [ 1.70680224,  1.92876575,  1.        ],\n",
              "       [ 1.21455391,  0.697565  ,  1.        ],\n",
              "       [ 1.56494457, -0.39260292,  1.        ],\n",
              "       [ 1.69497533,  0.44707445,  1.        ],\n",
              "       [ 1.18499368, -1.17901056,  1.        ],\n",
              "       [ 1.09353171, -0.49604173,  1.        ],\n",
              "       [ 1.28227709,  0.65499662,  1.        ],\n",
              "       [ 1.55787456,  0.29489617,  1.        ],\n",
              "       [ 2.18890952,  2.62633973,  1.        ],\n",
              "       [ 3.06931171,  0.12170304,  1.        ],\n",
              "       [ 1.65011115, -1.65280859,  1.        ],\n",
              "       [ 1.79298573,  0.92584531,  1.        ],\n",
              "       [ 0.99091177, -0.60398491,  1.        ],\n",
              "       [ 2.920326  ,  0.53384907,  1.        ],\n",
              "       [ 1.52235648, -0.45589431,  1.        ],\n",
              "       [ 1.65186532,  1.03402415,  1.        ],\n",
              "       [ 2.14493589,  1.09098935,  1.        ],\n",
              "       [ 1.39790487, -0.30061683,  1.        ],\n",
              "       [ 1.24772828,  0.070991  ,  1.        ],\n",
              "       [ 1.81524408, -0.1686172 ,  1.        ],\n",
              "       [ 2.26296577,  0.66572244,  1.        ],\n",
              "       [ 2.63458747,  0.36032276,  1.        ],\n",
              "       [ 2.39336517,  2.72017356,  1.        ],\n",
              "       [ 1.86634608, -0.16778384,  1.        ],\n",
              "       [ 1.64993752, -0.23706388,  1.        ],\n",
              "       [ 1.83720211, -0.73908527,  1.        ],\n",
              "       [ 2.75315995,  0.93308257,  1.        ],\n",
              "       [ 1.45419044,  1.03816505,  1.        ],\n",
              "       [ 1.69667193,  0.45762066,  1.        ],\n",
              "       [ 1.29223457,  0.01858196,  1.        ],\n",
              "       [ 2.00260426,  0.70935984,  1.        ],\n",
              "       [ 1.95649117,  0.61495422,  1.        ],\n",
              "       [ 1.92828538,  0.69868582,  1.        ],\n",
              "       [ 1.51799964, -0.69956145,  1.        ],\n",
              "       [ 2.09066792,  0.88702705,  1.        ],\n",
              "       [ 1.90737534,  1.03819095,  1.        ],\n",
              "       [ 1.95396273,  0.39185509,  1.        ],\n",
              "       [ 1.98299077, -0.86611207,  1.        ],\n",
              "       [ 1.85404522,  0.29026401,  1.        ],\n",
              "       [ 1.47818228,  0.98226745,  1.        ],\n",
              "       [ 1.46990071, -0.01903948,  1.        ]])"
            ]
          },
          "metadata": {},
          "execution_count": 283
        }
      ]
    },
    {
      "cell_type": "code",
      "source": [
        "W=np.random.randn(3, 3)*0.0001 # 3 feature, with 1 feature is b\n",
        "one=np.empty((150,1))\n",
        "one.fill(1)\n",
        "X=np.hstack((X,one))\n",
        "w_visualize=highest(X.T,y,W,30,0.1,0.01)"
      ],
      "metadata": {
        "colab": {
          "base_uri": "https://localhost:8080/"
        },
        "id": "b7y0rhv1l55O",
        "outputId": "a9adf7b8-5e5e-46ce-cb4e-59ffd504d867"
      },
      "execution_count": 275,
      "outputs": [
        {
          "output_type": "stream",
          "name": "stdout",
          "text": [
            "max score is 0.9466666666666667\n",
            "loss history if iter =28 is: \n"
          ]
        },
        {
          "output_type": "stream",
          "name": "stderr",
          "text": [
            "/usr/local/lib/python3.7/dist-packages/ipykernel_launcher.py:8: VisibleDeprecationWarning: Creating an ndarray from ragged nested sequences (which is a list-or-tuple of lists-or-tuples-or ndarrays with different lengths or shapes) is deprecated. If you meant to do this, you must specify 'dtype=object' when creating the ndarray.\n",
            "  \n"
          ]
        }
      ]
    },
    {
      "cell_type": "code",
      "source": [
        "x1=standardized(train_set)\n",
        "one=np.empty((150,1))\n",
        "one.fill(1)\n",
        "x1=np.hstack((x1,one))\n",
        "W0=np.random.randn(5, 3)*0.00001 # 5 feature, 3 class\n",
        "highest(x1.T,y,W0,30,0.1,0.01)"
      ],
      "metadata": {
        "colab": {
          "base_uri": "https://localhost:8080/"
        },
        "id": "zQTPKcJvmZCN",
        "outputId": "12668eec-aec6-4d47-a784-47d5bf37fb5f"
      },
      "execution_count": 244,
      "outputs": [
        {
          "output_type": "stream",
          "name": "stdout",
          "text": [
            "max score is 0.98\n",
            "loss history if iter =23 is: \n",
            "max score is 0.98\n",
            "loss history if iter =24 is: \n",
            "max score is 0.98\n",
            "loss history if iter =26 is: \n",
            "max score is 0.98\n",
            "loss history if iter =28 is: \n"
          ]
        },
        {
          "output_type": "stream",
          "name": "stderr",
          "text": [
            "/usr/local/lib/python3.7/dist-packages/ipykernel_launcher.py:7: VisibleDeprecationWarning: Creating an ndarray from ragged nested sequences (which is a list-or-tuple of lists-or-tuples-or ndarrays with different lengths or shapes) is deprecated. If you meant to do this, you must specify 'dtype=object' when creating the ndarray.\n",
            "  import sys\n"
          ]
        }
      ]
    },
    {
      "cell_type": "code",
      "source": [
        "w_visualize"
      ],
      "metadata": {
        "colab": {
          "base_uri": "https://localhost:8080/"
        },
        "id": "F1kpYmm06UoT",
        "outputId": "0608c1b8-73ab-402f-dd46-ad1d48f338c0"
      },
      "execution_count": 278,
      "outputs": [
        {
          "output_type": "execute_result",
          "data": {
            "text/plain": [
              "array([[-0.95227268,  0.10723032,  0.84506265],\n",
              "       [-0.02040024, -0.2001125 ,  0.22040767],\n",
              "       [-0.25218252,  0.70327581, -0.45103873]])"
            ]
          },
          "metadata": {},
          "execution_count": 278
        }
      ]
    },
    {
      "cell_type": "code",
      "source": [
        "#visualize w\n",
        "w_visualize.shape # 3x3, 3 feature, 3 class\n",
        "# each column is a class\n",
        "w_bar_00=w_visualize[:,0]\n",
        "w_bar_11=w_visualize[:,1]\n",
        "w_bar_22=w_visualize[:,2]\n",
        "w00=w_bar_00[:2]\n",
        "b00=w_bar_00[-1]\n",
        "w11=w_bar_11[:2]\n",
        "b11=w_bar_11[-1]\n",
        "w22=w_bar_22[:2]\n",
        "b22=w_bar_22[-1]\n"
      ],
      "metadata": {
        "id": "QQvOjoFnTPsX"
      },
      "execution_count": 312,
      "outputs": []
    },
    {
      "cell_type": "code",
      "source": [
        "# fig = plt.figure()\n",
        "\n",
        "# fig.set_figheight(15)\n",
        "# fig.set_figwidth(15)\n",
        "sns.set(rc={'figure.figsize':(10,10)})\n",
        "plt.xlim(-5, 5)\n",
        "plt.ylim(-5, 5)\n",
        "def present(w1,w0,b,c):\n",
        "  x1 = np.arange(-3, 3, 0.1)\n",
        "  y1 = -w0/w1*x1 - b/w1\n",
        "  # x_points = np.linspace(-3, 3)    # generating x-points from -1 to 1\n",
        "  # y_points = -(w0/ w1) * x_points - b / w1  # getting\n",
        "  plt.plot(x1, y1,color=c)\n",
        "present(w00[1],w00[0],b00,'blue')\n",
        "present(w11[1],w11[0],b11,'orange')\n",
        "present(w22[1],w22[0],b22,'green')\n",
        "sns.scatterplot(x=data_label[:,0], y=data_label[:,1], hue=data_label[:,2], ec=None)"
      ],
      "metadata": {
        "colab": {
          "base_uri": "https://localhost:8080/",
          "height": 611
        },
        "id": "VfxY0Z3v5qjI",
        "outputId": "204841a7-7e61-4dc8-9216-cd7d4ed12516"
      },
      "execution_count": 314,
      "outputs": [
        {
          "output_type": "execute_result",
          "data": {
            "text/plain": [
              "<matplotlib.axes._subplots.AxesSubplot at 0x7f3616904950>"
            ]
          },
          "metadata": {},
          "execution_count": 314
        },
        {
          "output_type": "display_data",
          "data": {
            "text/plain": [
              "<Figure size 720x720 with 1 Axes>"
            ],
            "image/png": "[encoded data removed]"
          },
          "metadata": {}
        }
      ]
    },
    {
      "cell_type": "code",
      "source": [],
      "metadata": {
        "id": "Lcw1y4dm8i_h"
      },
      "execution_count": null,
      "outputs": []
    }
  ]
}