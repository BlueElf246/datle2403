{
  "nbformat": 4,
  "nbformat_minor": 0,
  "metadata": {
    "colab": {
      "provenance": [],
      "collapsed_sections": [],
      "authorship_tag": "ABX9TyPw0nOFL+HYfatK4hl4nfWf",
      "include_colab_link": true
    },
    "kernelspec": {
      "name": "python3",
      "display_name": "Python 3"
    },
    "language_info": {
      "name": "python"
    }
  },
  "cells": [
    {
      "cell_type": "markdown",
      "metadata": {
        "id": "view-in-github",
        "colab_type": "text"
      },
      "source": [
        "<a href=\"https://colab.research.google.com/github/datle2403/datle2403/blob/master/pythonProject/SVM/Multi_SVM_test.ipynb\" target=\"_parent\"><img src=\"https://colab.research.google.com/assets/colab-badge.svg\" alt=\"Open In Colab\"/></a>"
      ]
    },
    {
      "cell_type": "code",
      "execution_count": 85,
      "metadata": {
        "id": "kURgLWtZrtdh"
      },
      "outputs": [],
      "source": [
        "import numpy as np\n",
        "from random import shuffle\n",
        "np.random.seed(1)\n",
        "# naive way to calculate loss and grad\n",
        "def svm_loss_naive(W, X, y, reg):\n",
        "    d, C = W.shape \n",
        "    _, N = X.shape \n",
        "    \n",
        "    ## naive loss and grad\n",
        "    loss = 0 \n",
        "    dW = np.zeros_like(W)\n",
        "    for n in range(N):\n",
        "        xn = X[:, n]\n",
        "        score = W.T.dot(xn)\n",
        "        for j in range(C):\n",
        "            if j == y[n]:\n",
        "                continue \n",
        "            margin = 1 - score[y[n]] + score[j]\n",
        "            print(margin)\n",
        "            if margin > 0:\n",
        "                loss += margin \n",
        "                dW[:, j] += xn \n",
        "                dW[:, y[n]] -= xn\n",
        "    \n",
        "    loss /= N \n",
        "    loss += 0.5*reg*np.sum(W * W) \n",
        "    \n",
        "    dW /= N \n",
        "    dW += reg*W\n",
        "    return loss, dW\n",
        "    \n",
        "# random, small data\n",
        "N, C, d = 10, 3, 5\n",
        "reg = .1 \n",
        "W = np.random.randn(d, C)\n",
        "X = np.random.randn(d, N)\n",
        "y = np.random.randint(C, size = N)\n",
        "\n",
        "# sanity check\n",
        "#print (svm_loss_naive(W, X, y, 0))\n",
        "#print (svm_loss_naive(W, X, y, .1)[0])"
      ]
    },
    {
      "cell_type": "code",
      "source": [
        "def loss_function(W, X, y, reg):\n",
        "  total=0\n",
        "  dW=np.zeros_like(W)\n",
        "  for x in range(X.shape[1]):\n",
        "    loss=0\n",
        "    W_t=W.T\n",
        "    X_t=X.T[x].reshape(X.shape[0],1)\n",
        "    score=np.dot(W_t,X_t)\n",
        "    for z_score in range (W.shape[1]):\n",
        "      if z_score==y[x]:\n",
        "        continue\n",
        "      margin=np.maximum(0,1-score[y[x]]+score[z_score])[0]\n",
        "      if margin>0:\n",
        "        loss+=margin\n",
        "        dW[:,z_score]+=X.T[x]\n",
        "        dW[:,y[x]]-=X.T[x]\n",
        "    total+=loss\n",
        "  total/=N\n",
        "  total+=(reg/2)*np.sum(W * W)\n",
        "  dW /= N \n",
        "  dW += reg*W\n",
        "  return total,dW\n",
        "loss_function(W, X, y, 0)\n",
        "print (loss_function(W, X, y, .1)[0])"
      ],
      "metadata": {
        "colab": {
          "base_uri": "https://localhost:8080/"
        },
        "id": "xGx0Yi3KgyMl",
        "outputId": "40effa04-e8c5-4a11-9a66-032d727c2c92"
      },
      "execution_count": 84,
      "outputs": [
        {
          "output_type": "stream",
          "name": "stdout",
          "text": [
            "2.732456384363057\n"
          ]
        }
      ]
    },
    {
      "cell_type": "code",
      "source": [
        "W.shape"
      ],
      "metadata": {
        "colab": {
          "base_uri": "https://localhost:8080/"
        },
        "id": "O2Po-KVw1fvr",
        "outputId": "1d56da4d-adac-4220-d9c7-a04be80c45d5"
      },
      "execution_count": 87,
      "outputs": [
        {
          "output_type": "execute_result",
          "data": {
            "text/plain": [
              "(5, 3)"
            ]
          },
          "metadata": {},
          "execution_count": 87
        }
      ]
    },
    {
      "cell_type": "code",
      "source": [
        "def loss_gradient(W, X, y, reg):\n",
        "  d, C = W.shape #d: data features, C: num of class\n",
        "  _, N = X.shape # N: num of data_points\n",
        "  loss = 0 \n",
        "  dW = np.zeros_like(W)\n",
        "  Z=np.dot(W.T,X)\n",
        "  y_v=np.zeros_like(Z.T)\n",
        "  one=np.full(Z.shape, 1)\n",
        "  for x in range(Z.shape[1]):\n",
        "    k=Z[:,x]\n",
        "    y_val=k[y[x]]\n",
        "    m=np.full(k.shape, y_val)\n",
        "    y_v[x]=m\n",
        "  y_v=y_v.T\n",
        "  margin=np.maximum(0,one-y_v+Z)\n",
        "  margin[y, np.arange(margin.shape[1])] = 0\n",
        "  loss=np.sum(margin,axis=(0,1))\n",
        "  loss/=N\n",
        "  loss+=(reg/2)*np.sum(W*W)\n",
        "  F = (margin > 0).astype(int)\n",
        "  F[y, np.arange(F.shape[1])] = np.sum(-F, axis = 0)\n",
        "  dW = X.dot(F.T)/N + reg*W\n",
        "  return loss, dW\n",
        "loss_gradient(W, X, y, .1)\n",
        "    "
      ],
      "metadata": {
        "colab": {
          "base_uri": "https://localhost:8080/"
        },
        "id": "wdMnGecZyaRV",
        "outputId": "606c4d71-be64-4b85-efc5-d5bad15a24e2"
      },
      "execution_count": 102,
      "outputs": [
        {
          "output_type": "execute_result",
          "data": {
            "text/plain": [
              "(2.732456384363057, array([[ 0.16473429, -0.42195177,  0.3056592 ],\n",
              "        [-0.26799842,  0.07033599, -0.05324754],\n",
              "        [ 0.20300352,  0.02970681, -0.10244593],\n",
              "        [ 0.16419905,  0.40894064, -0.65788001],\n",
              "        [ 0.1097203 , -0.20233699,  0.13534648]]))"
            ]
          },
          "metadata": {},
          "execution_count": 102
        }
      ]
    },
    {
      "cell_type": "code",
      "source": [
        "def svm_loss_vectorized(W, X, y, reg):\n",
        "    d, C = W.shape \n",
        "    _, N = X.shape \n",
        "    loss = 0 \n",
        "    dW = np.zeros_like(W)\n",
        "    \n",
        "    Z = W.T.dot(X)     \n",
        "    \n",
        "    correct_class_score = np.choose(y, Z).reshape(N,1).T\n",
        "    margins = np.maximum(0, Z - correct_class_score + 1) \n",
        "    margins[y, np.arange(margins.shape[1])] = 0\n",
        "    loss = np.sum(margins, axis = (0, 1))\n",
        "    loss /= N \n",
        "    loss += 0.5 * reg * np.sum(W * W)\n",
        "    \n",
        "    F = (margins > 0).astype(int)\n",
        "    F[y, np.arange(F.shape[1])] = np.sum(-F, axis = 0)\n",
        "    dW = X.dot(F.T)/N + reg*W\n",
        "    return loss, dW\n",
        "svm_loss_vectorized(W, X, y, .1)\n"
      ],
      "metadata": {
        "colab": {
          "base_uri": "https://localhost:8080/"
        },
        "id": "IYvpPRb35eYE",
        "outputId": "58b289b1-65cf-40cb-cd62-80e0f666ca05"
      },
      "execution_count": 104,
      "outputs": [
        {
          "output_type": "execute_result",
          "data": {
            "text/plain": [
              "(2.732456384363057, array([[ 0.16473429, -0.42195177,  0.3056592 ],\n",
              "        [-0.26799842,  0.07033599, -0.05324754],\n",
              "        [ 0.20300352,  0.02970681, -0.10244593],\n",
              "        [ 0.16419905,  0.40894064, -0.65788001],\n",
              "        [ 0.1097203 , -0.20233699,  0.13534648]]))"
            ]
          },
          "metadata": {},
          "execution_count": 104
        }
      ]
    },
    {
      "cell_type": "code",
      "source": [
        "def multiclass_svm_GD(X, y, Winit, reg, lr=.1, \\\n",
        "        batch_size = 100, num_iters = 1000, print_every = 100):\n",
        "    W = Winit \n",
        "    loss_history = np.zeros((num_iters))\n",
        "    for it in range(num_iters):\n",
        "        # randomly pick a batch of X\n",
        "        idx = np.random.choice(X.shape[1], batch_size)\n",
        "        X_batch = X[:, idx]\n",
        "        y_batch = y[idx]\n",
        "\n",
        "        loss_history[it], dW = \\\n",
        "            svm_loss_vectorized(W, X_batch, y_batch, reg)\n",
        "\n",
        "        W -= lr*dW \n",
        "        if it % print_every == 1:\n",
        "            print ('it %d/%d, loss = %f' \\\n",
        "                %(it, num_iters, loss_history[it]))\n",
        "\n",
        "    return W, loss_history \n",
        "\n",
        "N, C, d = 49000, 10, 3073\n",
        "reg = .1 \n",
        "W = np.random.randn(d, C)\n",
        "X = np.random.randn(d, N)\n",
        "y = np.random.randint(C, size = N)\n",
        "\n",
        "W, loss_history = multiclass_svm_GD(X, y, W, reg)"
      ],
      "metadata": {
        "colab": {
          "base_uri": "https://localhost:8080/"
        },
        "id": "5n4Wr2s-5xXy",
        "outputId": "10a49f86-6255-4255-bc7e-3116f073da94"
      },
      "execution_count": 106,
      "outputs": [
        {
          "output_type": "stream",
          "name": "stdout",
          "text": [
            "it 1/1000, loss = 1750.647495\n",
            "it 101/1000, loss = 241.986769\n",
            "it 201/1000, loss = 65.299006\n",
            "it 301/1000, loss = 41.633488\n",
            "it 401/1000, loss = 44.655925\n",
            "it 501/1000, loss = 36.225107\n",
            "it 601/1000, loss = 40.578468\n",
            "it 701/1000, loss = 46.293795\n",
            "it 801/1000, loss = 39.804542\n",
            "it 901/1000, loss = 44.903964\n"
          ]
        }
      ]
    },
    {
      "cell_type": "code",
      "source": [],
      "metadata": {
        "id": "pfwR0zqW-sRM"
      },
      "execution_count": null,
      "outputs": []
    }
  ]
}