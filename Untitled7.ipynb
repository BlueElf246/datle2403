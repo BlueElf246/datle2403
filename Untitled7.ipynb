{
  "nbformat": 4,
  "nbformat_minor": 0,
  "metadata": {
    "colab": {
      "provenance": [],
      "authorship_tag": "ABX9TyNWksIsIWMpT9wcg9ybSeth",
      "include_colab_link": true
    },
    "kernelspec": {
      "name": "python3",
      "display_name": "Python 3"
    },
    "language_info": {
      "name": "python"
    }
  },
  "cells": [
    {
      "cell_type": "markdown",
      "metadata": {
        "id": "view-in-github",
        "colab_type": "text"
      },
      "source": [
        "<a href=\"https://colab.research.google.com/github/datle2403/datle2403/blob/main/Untitled7.ipynb\" target=\"_parent\"><img src=\"https://colab.research.google.com/assets/colab-badge.svg\" alt=\"Open In Colab\"/></a>"
      ]
    },
    {
      "cell_type": "code",
      "execution_count": 29,
      "metadata": {
        "id": "jDvZ8Kk3tlKj"
      },
      "outputs": [],
      "source": [
        "import numpy as np\n",
        "class Perceptron:\n",
        "  def __init__(self,i_iter,lr,random_state):\n",
        "    self.iter=iter\n",
        "    self.lr=lr\n",
        "    self.random_state=random_state\n",
        "    self.error_=[]\n",
        "  def net_input(self,X):\n",
        "    return np.dot(X,self.w_[1:])+w[0]\n",
        "  def fit(self,X,y):\n",
        "    self.w_=np.random.RandomState(self.random_state).normal(size=shape[X]+1,loc=0.0,scale=0.01)\n",
        "    for _ in range(self.iter):\n",
        "      error=0\n",
        "      for x,y_true in zip(X,y):\n",
        "        update=self.lr*(y_true-self.net_input(x))\n",
        "        self.w_[0]+=update\n",
        "        self.w_[1:]+=update*x\n",
        "        error+=int(update!=0.0)\n",
        "      self.error_.append(error)\n",
        "    return self\n",
        "  def predict(self,X):\n",
        "    return np.where(self.net_input(X)>0.0,1,-1)\n",
        "\n",
        "\n",
        "\n",
        "      \n",
        "\n",
        "\n",
        "\n"
      ]
    },
    {
      "cell_type": "code",
      "source": [
        "import pandas as pd\n",
        "#load dataset\n",
        "df=pd.read_csv('Iris.csv')\n",
        "df.info()"
      ],
      "metadata": {
        "colab": {
          "base_uri": "https://localhost:8080/"
        },
        "id": "OIy--ZMpyw2z",
        "outputId": "2ead5668-08e3-4140-9e78-bd8165f1203a"
      },
      "execution_count": 3,
      "outputs": [
        {
          "output_type": "stream",
          "name": "stdout",
          "text": [
            "<class 'pandas.core.frame.DataFrame'>\n",
            "RangeIndex: 150 entries, 0 to 149\n",
            "Data columns (total 6 columns):\n",
            " #   Column         Non-Null Count  Dtype  \n",
            "---  ------         --------------  -----  \n",
            " 0   Id             150 non-null    int64  \n",
            " 1   SepalLengthCm  150 non-null    float64\n",
            " 2   SepalWidthCm   150 non-null    float64\n",
            " 3   PetalLengthCm  150 non-null    float64\n",
            " 4   PetalWidthCm   150 non-null    float64\n",
            " 5   Species        150 non-null    object \n",
            "dtypes: float64(4), int64(1), object(1)\n",
            "memory usage: 7.2+ KB\n"
          ]
        }
      ]
    },
    {
      "cell_type": "code",
      "source": [
        "\n",
        "X=df.iloc[:100,[1,3]].values\n",
        "y=df.iloc[:100,5].values\n",
        "y=np.where(y=='Iris-setosa',-1,1)"
      ],
      "metadata": {
        "id": "e5YRxZOsy2Qu"
      },
      "execution_count": 41,
      "outputs": []
    },
    {
      "cell_type": "code",
      "source": [
        "X.shape"
      ],
      "metadata": {
        "colab": {
          "base_uri": "https://localhost:8080/"
        },
        "id": "U76t9IIO0vWT",
        "outputId": "9404206f-e4c3-4345-b1ff-eac0d9b8c72d"
      },
      "execution_count": 42,
      "outputs": [
        {
          "output_type": "execute_result",
          "data": {
            "text/plain": [
              "(100, 2)"
            ]
          },
          "metadata": {},
          "execution_count": 42
        }
      ]
    },
    {
      "cell_type": "code",
      "source": [
        "y.shape"
      ],
      "metadata": {
        "colab": {
          "base_uri": "https://localhost:8080/"
        },
        "id": "ySgjOZ5W2LT1",
        "outputId": "0e74026a-bb75-4596-e597-3007f7a0247b"
      },
      "execution_count": 45,
      "outputs": [
        {
          "output_type": "execute_result",
          "data": {
            "text/plain": [
              "(100,)"
            ]
          },
          "metadata": {},
          "execution_count": 45
        }
      ]
    },
    {
      "cell_type": "code",
      "source": [
        "import matplotlib.pyplot as plt\n",
        "plt.scatter(X[:50,0],X[:50,1],color='red')\n",
        "plt.scatter(X[50:,0],X[50:,1],color='blue')"
      ],
      "metadata": {
        "colab": {
          "base_uri": "https://localhost:8080/",
          "height": 282
        },
        "id": "pZnmKmam2ioL",
        "outputId": "f3ea1e90-cd2b-4289-8c0d-889711a880d1"
      },
      "execution_count": 47,
      "outputs": [
        {
          "output_type": "execute_result",
          "data": {
            "text/plain": [
              "<matplotlib.collections.PathCollection at 0x7f1ba0c495d0>"
            ]
          },
          "metadata": {},
          "execution_count": 47
        },
        {
          "output_type": "display_data",
          "data": {
            "text/plain": [
              "<Figure size 432x288 with 1 Axes>"
            ],
            "image/png": "[encoded data removed]"
          },
          "metadata": {
            "needs_background": "light"
          }
        }
      ]
    },
    {
      "cell_type": "code",
      "source": [],
      "metadata": {
        "id": "C1fVRIIY3Hgo"
      },
      "execution_count": null,
      "outputs": []
    }
  ]
}