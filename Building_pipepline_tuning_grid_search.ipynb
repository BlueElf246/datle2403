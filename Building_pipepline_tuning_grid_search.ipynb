{
  "nbformat": 4,
  "nbformat_minor": 0,
  "metadata": {
    "colab": {
      "provenance": [],
      "authorship_tag": "ABX9TyNdkySkKmO4hZrSoY8rU0sn",
      "include_colab_link": true
    },
    "kernelspec": {
      "name": "python3",
      "display_name": "Python 3"
    },
    "language_info": {
      "name": "python"
    }
  },
  "cells": [
    {
      "cell_type": "markdown",
      "metadata": {
        "id": "view-in-github",
        "colab_type": "text"
      },
      "source": [
        "<a href=\"https://colab.research.google.com/github/datle2403/datle2403/blob/main/Building_pipepline_tuning_grid_search.ipynb\" target=\"_parent\"><img src=\"https://colab.research.google.com/assets/colab-badge.svg\" alt=\"Open In Colab\"/></a>"
      ]
    },
    {
      "cell_type": "code",
      "execution_count": 1,
      "metadata": {
        "id": "Ulvk2MnuoT1C"
      },
      "outputs": [],
      "source": [
        "import pandas as pd\n",
        "import matplotlib.pyplot as plt\n",
        "import numpy as np\n",
        "from sklearn.model_selection import train_test_split\n",
        "from sklearn.impute import SimpleImputer\n",
        "from sklearn.preprocessing import OneHotEncoder"
      ]
    },
    {
      "cell_type": "code",
      "source": [
        "# import dataset\n",
        "df=pd.read_csv('housing.csv')\n",
        "housing_y=df['median_house_value']\n",
        "housing=df.drop('median_house_value',axis=1)"
      ],
      "metadata": {
        "id": "DQojlEFvpNtU"
      },
      "execution_count": 2,
      "outputs": []
    },
    {
      "cell_type": "code",
      "source": [
        "# building pipeline\n",
        "\n",
        "# adding attribute\n",
        "from sklearn.base import BaseEstimator, TransformerMixin\n",
        "\n",
        "# column index\n",
        "rooms_ix, bedrooms_ix, population_ix, households_ix = 3, 4, 5, 6\n",
        "\n",
        "class CombinedAttributesAdder(BaseEstimator, TransformerMixin):\n",
        "    def __init__(self, add_bedrooms_per_room=True): # no *args or **kargs\n",
        "        self.add_bedrooms_per_room = add_bedrooms_per_room\n",
        "    def fit(self, X, y=None):\n",
        "        return self  # nothing else to do\n",
        "    def transform(self, X):\n",
        "        rooms_per_household = X[:, rooms_ix] / X[:, households_ix]\n",
        "        population_per_household = X[:, population_ix] / X[:, households_ix]\n",
        "        if self.add_bedrooms_per_room:\n",
        "            bedrooms_per_room = X[:, bedrooms_ix] / X[:, rooms_ix]\n",
        "            return np.c_[X, rooms_per_household, population_per_household,\n",
        "                         bedrooms_per_room]\n",
        "        else:\n",
        "            return np.c_[X, rooms_per_household, population_per_household]\n"
      ],
      "metadata": {
        "id": "cyq1Z7ZKpWzU"
      },
      "execution_count": 3,
      "outputs": []
    },
    {
      "cell_type": "code",
      "source": [
        "housing_num = housing.drop(\"ocean_proximity\", axis=1)"
      ],
      "metadata": {
        "id": "94EiSBXNpkuk"
      },
      "execution_count": 4,
      "outputs": []
    },
    {
      "cell_type": "code",
      "source": [
        "# pipeline for numerical attribute\n",
        "from sklearn.pipeline import Pipeline\n",
        "from sklearn.preprocessing import StandardScaler\n",
        "import numpy as np\n",
        "num_pipeline = Pipeline([\n",
        "        ('imputer', SimpleImputer(strategy=\"median\")),\n",
        "        ('attribs_adder', CombinedAttributesAdder()),\n",
        "        ('std_scaler', StandardScaler()),\n",
        "    ])\n",
        "\n",
        "housing_num_tr = num_pipeline.fit_transform(housing_num)"
      ],
      "metadata": {
        "id": "5V2t6tEzpudE"
      },
      "execution_count": 5,
      "outputs": []
    },
    {
      "cell_type": "code",
      "source": [
        "# full-pipeline for num, cat attribute\n",
        "from sklearn.compose import ColumnTransformer\n",
        "num_attribs = list(housing_num)\n",
        "cat_attribs = [\"ocean_proximity\"]\n",
        "\n",
        "full_pipeline = ColumnTransformer([\n",
        "        (\"num\", num_pipeline, num_attribs),\n",
        "        (\"cat\", OneHotEncoder(), cat_attribs),\n",
        "    ])\n",
        "housing_prepared = full_pipeline.fit_transform(housing)"
      ],
      "metadata": {
        "id": "brYRG8TVp6LX"
      },
      "execution_count": 6,
      "outputs": []
    },
    {
      "cell_type": "code",
      "source": [
        "#finding feature_importance\n",
        "#using randome_forest to find\n",
        "from sklearn.ensemble import RandomForestRegressor\n",
        "from sklearn.model_selection import GridSearchCV\n",
        "\n",
        "param_grid = [\n",
        "    # try 12 (3×4) combinations of hyperparameters\n",
        "    {'n_estimators': [3, 10, 30], 'max_features': [2, 4, 6, 8]},\n",
        "    # then try 6 (2×3) combinations with bootstrap set as False\n",
        "    {'bootstrap': [False], 'n_estimators': [3, 10], 'max_features': [2, 3, 4]},\n",
        "  ]\n",
        "\n",
        "forest_reg = RandomForestRegressor(random_state=42)\n",
        "# train across 5 folds, that's a total of (12+6)*5=90 rounds of training \n",
        "grid_search = GridSearchCV(forest_reg, param_grid, cv=5,\n",
        "                           scoring='neg_mean_squared_error',\n",
        "                           return_train_score=True)\n",
        "grid_search.fit(housing_prepared, housing_y)"
      ],
      "metadata": {
        "colab": {
          "base_uri": "https://localhost:8080/"
        },
        "id": "uvafytQNqDaj",
        "outputId": "496f239a-3370-45ce-8e41-626803a65e0d"
      },
      "execution_count": 7,
      "outputs": [
        {
          "output_type": "execute_result",
          "data": {
            "text/plain": [
              "GridSearchCV(cv=5, estimator=RandomForestRegressor(random_state=42),\n",
              "             param_grid=[{'max_features': [2, 4, 6, 8],\n",
              "                          'n_estimators': [3, 10, 30]},\n",
              "                         {'bootstrap': [False], 'max_features': [2, 3, 4],\n",
              "                          'n_estimators': [3, 10]}],\n",
              "             return_train_score=True, scoring='neg_mean_squared_error')"
            ]
          },
          "metadata": {},
          "execution_count": 7
        }
      ]
    },
    {
      "cell_type": "code",
      "source": [
        "grid_search.best_estimator_"
      ],
      "metadata": {
        "colab": {
          "base_uri": "https://localhost:8080/"
        },
        "id": "kl17WNYvq_ce",
        "outputId": "7c9ea2c2-64aa-42f2-f012-0d9c2d471d42"
      },
      "execution_count": 8,
      "outputs": [
        {
          "output_type": "execute_result",
          "data": {
            "text/plain": [
              "RandomForestRegressor(max_features=4, n_estimators=30, random_state=42)"
            ]
          },
          "metadata": {},
          "execution_count": 8
        }
      ]
    },
    {
      "cell_type": "code",
      "source": [
        "cvres = grid_search.cv_results_\n",
        "for mean_score, params in zip(cvres[\"mean_test_score\"], cvres[\"params\"]):\n",
        "    print(np.sqrt(-mean_score), params)"
      ],
      "metadata": {
        "id": "PPSFJeHjrSZo"
      },
      "execution_count": null,
      "outputs": []
    },
    {
      "cell_type": "code",
      "source": [
        "feature_importances = grid_search.best_estimator_.feature_importances_\n",
        "feature_importances"
      ],
      "metadata": {
        "colab": {
          "base_uri": "https://localhost:8080/"
        },
        "id": "LTMPlz2ArZ6z",
        "outputId": "e2325c86-124b-4ca0-cfd9-3803d7641ac4"
      },
      "execution_count": 12,
      "outputs": [
        {
          "output_type": "execute_result",
          "data": {
            "text/plain": [
              "array([8.43135600e-02, 7.87572836e-02, 4.19832331e-02, 2.13368817e-02,\n",
              "       1.99793382e-02, 2.28926908e-02, 1.95652588e-02, 2.62745343e-01,\n",
              "       7.38458374e-02, 1.04520261e-01, 9.58811994e-02, 1.75096163e-02,\n",
              "       1.35901503e-01, 2.02492170e-04, 8.67515221e-03, 1.18903497e-02])"
            ]
          },
          "metadata": {},
          "execution_count": 12
        }
      ]
    },
    {
      "cell_type": "code",
      "source": [
        "from sklearn.base import BaseEstimator, TransformerMixin\n",
        "# feature selector function, k: number of important feature\n",
        "def indices_of_top_k(arr, k):\n",
        "    return np.sort(np.argpartition(np.array(arr), -k)[-k:])\n",
        "\n",
        "class TopFeatureSelector(BaseEstimator, TransformerMixin):\n",
        "    def __init__(self, feature_importances, k):\n",
        "        self.feature_importances = feature_importances\n",
        "        self.k = k\n",
        "    def fit(self, X, y=None):\n",
        "        self.feature_indices_ = indices_of_top_k(self.feature_importances, self.k)\n",
        "        return self\n",
        "    def transform(self, X):\n",
        "        return X[:, self.feature_indices_]"
      ],
      "metadata": {
        "id": "eMBllxH4sGAN"
      },
      "execution_count": 13,
      "outputs": []
    },
    {
      "cell_type": "code",
      "source": [
        "k=5"
      ],
      "metadata": {
        "id": "WxeuWGRftBRm"
      },
      "execution_count": 14,
      "outputs": []
    },
    {
      "cell_type": "code",
      "source": [
        "preparation_and_feature_selection_pipeline = Pipeline([\n",
        "    ('preparation', full_pipeline),\n",
        "    ('feature_selection', TopFeatureSelector(feature_importances, k))\n",
        "])"
      ],
      "metadata": {
        "id": "dhLQ6kYTs_Pk"
      },
      "execution_count": 15,
      "outputs": []
    },
    {
      "cell_type": "code",
      "source": [
        "housing_prepared_top_k_features = preparation_and_feature_selection_pipeline.fit_transform(housing)"
      ],
      "metadata": {
        "id": "URLA6_mNtCPI"
      },
      "execution_count": 16,
      "outputs": []
    },
    {
      "cell_type": "code",
      "source": [
        "housing_prepared_top_k_features[:5]"
      ],
      "metadata": {
        "colab": {
          "base_uri": "https://localhost:8080/"
        },
        "id": "na8jmwK6tKg9",
        "outputId": "d1b4ca29-7498-4650-b695-47ac4f23db86"
      },
      "execution_count": 17,
      "outputs": [
        {
          "output_type": "execute_result",
          "data": {
            "text/plain": [
              "array([[-1.32783522,  2.34476576, -0.04959654, -1.02998783,  0.        ],\n",
              "       [-1.32284391,  2.33223796, -0.09251223, -0.8888972 ,  0.        ],\n",
              "       [-1.33282653,  1.7826994 , -0.02584253, -1.29168566,  0.        ],\n",
              "       [-1.33781784,  0.93296751, -0.0503293 , -0.4496128 ,  0.        ],\n",
              "       [-1.33781784, -0.012881  , -0.08561576, -0.63908657,  0.        ]])"
            ]
          },
          "metadata": {},
          "execution_count": 17
        }
      ]
    },
    {
      "cell_type": "code",
      "source": [
        "housing_prepared_top_k_features.shape"
      ],
      "metadata": {
        "colab": {
          "base_uri": "https://localhost:8080/"
        },
        "id": "NQaX9TkvtM3Z",
        "outputId": "5c828205-fd69-45f3-b6c4-9965781a4803"
      },
      "execution_count": 18,
      "outputs": [
        {
          "output_type": "execute_result",
          "data": {
            "text/plain": [
              "(20640, 5)"
            ]
          },
          "metadata": {},
          "execution_count": 18
        }
      ]
    },
    {
      "cell_type": "code",
      "source": [
        "grid_search.fit(housing_prepared_top_k_features, housing_y)"
      ],
      "metadata": {
        "id": "aJeqzZtKtQ_k"
      },
      "execution_count": null,
      "outputs": []
    },
    {
      "cell_type": "code",
      "source": [
        "cvres = grid_search.cv_results_\n",
        "for mean_score, params in zip(cvres[\"mean_test_score\"], cvres[\"params\"]):\n",
        "    print(np.sqrt(-mean_score), params)"
      ],
      "metadata": {
        "colab": {
          "base_uri": "https://localhost:8080/"
        },
        "id": "0eIyGCqtto0f",
        "outputId": "a81be145-c577-4fb6-b35c-bbf71a12d1db"
      },
      "execution_count": 20,
      "outputs": [
        {
          "output_type": "stream",
          "name": "stdout",
          "text": [
            "76131.32579175218 {'max_features': 2, 'n_estimators': 3}\n",
            "70034.4453949059 {'max_features': 2, 'n_estimators': 10}\n",
            "68306.59097617044 {'max_features': 2, 'n_estimators': 30}\n",
            "78846.4218189802 {'max_features': 4, 'n_estimators': 3}\n",
            "71181.34984673388 {'max_features': 4, 'n_estimators': 10}\n",
            "69580.08596898144 {'max_features': 4, 'n_estimators': 30}\n",
            "nan {'max_features': 6, 'n_estimators': 3}\n",
            "nan {'max_features': 6, 'n_estimators': 10}\n",
            "nan {'max_features': 6, 'n_estimators': 30}\n",
            "nan {'max_features': 8, 'n_estimators': 3}\n",
            "nan {'max_features': 8, 'n_estimators': 10}\n",
            "nan {'max_features': 8, 'n_estimators': 30}\n",
            "77954.85987457915 {'bootstrap': False, 'max_features': 2, 'n_estimators': 3}\n",
            "71009.49256964032 {'bootstrap': False, 'max_features': 2, 'n_estimators': 10}\n",
            "78496.39509032253 {'bootstrap': False, 'max_features': 3, 'n_estimators': 3}\n",
            "72906.73428115713 {'bootstrap': False, 'max_features': 3, 'n_estimators': 10}\n",
            "79227.37739320414 {'bootstrap': False, 'max_features': 4, 'n_estimators': 3}\n",
            "74476.14301531254 {'bootstrap': False, 'max_features': 4, 'n_estimators': 10}\n"
          ]
        }
      ]
    },
    {
      "cell_type": "code",
      "source": [
        "grid_search.best_params_"
      ],
      "metadata": {
        "colab": {
          "base_uri": "https://localhost:8080/"
        },
        "id": "DYb9sCmJxOl0",
        "outputId": "e773a646-1eeb-41f2-eedf-728777864d19"
      },
      "execution_count": 22,
      "outputs": [
        {
          "output_type": "execute_result",
          "data": {
            "text/plain": [
              "{'max_features': 2, 'n_estimators': 30}"
            ]
          },
          "metadata": {},
          "execution_count": 22
        }
      ]
    },
    {
      "cell_type": "code",
      "source": [
        "from sklearn.linear_model import LinearRegression\n",
        "preparation_and_feature_selection_pipeline = Pipeline([\n",
        "    ('preparation', full_pipeline),\n",
        "    ('feature_selection', TopFeatureSelector(feature_importances, k)),\n",
        "    (\"forest_reg\", RandomForestRegressor(**grid_search.best_params_))\n",
        "])\n",
        "print(preparation_and_feature_selection_pipeline.fit(housing,housing_y))\n",
        "preparation_and_feature_selection_pipeline.predict(housing)"
      ],
      "metadata": {
        "colab": {
          "base_uri": "https://localhost:8080/"
        },
        "id": "Il5gBUzstyJi",
        "outputId": "4214274e-d549-4012-ff72-d65aafcd0b36"
      },
      "execution_count": 25,
      "outputs": [
        {
          "output_type": "stream",
          "name": "stdout",
          "text": [
            "Pipeline(steps=[('preparation',\n",
            "                 ColumnTransformer(transformers=[('num',\n",
            "                                                  Pipeline(steps=[('imputer',\n",
            "                                                                   SimpleImputer(strategy='median')),\n",
            "                                                                  ('attribs_adder',\n",
            "                                                                   CombinedAttributesAdder()),\n",
            "                                                                  ('std_scaler',\n",
            "                                                                   StandardScaler())]),\n",
            "                                                  ['longitude', 'latitude',\n",
            "                                                   'housing_median_age',\n",
            "                                                   'total_rooms',\n",
            "                                                   'total_bedrooms',\n",
            "                                                   'population', 'households',\n",
            "                                                   'median_income']),\n",
            "                                                 ('cat', OneHotEncoder(...\n",
            "                 TopFeatureSelector(feature_importances=array([8.43135600e-02, 7.87572836e-02, 4.19832331e-02, 2.13368817e-02,\n",
            "       1.99793382e-02, 2.28926908e-02, 1.95652588e-02, 2.62745343e-01,\n",
            "       7.38458374e-02, 1.04520261e-01, 9.58811994e-02, 1.75096163e-02,\n",
            "       1.35901503e-01, 2.02492170e-04, 8.67515221e-03, 1.18903497e-02]),\n",
            "                                    k=5)),\n",
            "                ('forest_reg',\n",
            "                 RandomForestRegressor(max_features=2, n_estimators=30))])\n"
          ]
        },
        {
          "output_type": "execute_result",
          "data": {
            "text/plain": [
              "array([458440.2       , 407733.6       , 359660.06666667, ...,\n",
              "        93953.33333333,  94790.        ,  91076.66666667])"
            ]
          },
          "metadata": {},
          "execution_count": 25
        }
      ]
    },
    {
      "cell_type": "code",
      "source": [
        "some_data = housing.iloc[:4]\n",
        "some_labels = housing_y.iloc[:4]\n",
        "\n",
        "print(\"Predictions:\\t\", preparation_and_feature_selection_pipeline.predict(some_data))\n",
        "print(\"Labels:\\t\\t\", list(some_labels))"
      ],
      "metadata": {
        "colab": {
          "base_uri": "https://localhost:8080/"
        },
        "id": "Gkjt-vwLvklm",
        "outputId": "1d403c69-e6d1-495d-fa5d-588b11e20d82"
      },
      "execution_count": 27,
      "outputs": [
        {
          "output_type": "stream",
          "name": "stdout",
          "text": [
            "Predictions:\t [458440.2        407733.6        359660.06666667 341116.66666667]\n",
            "Labels:\t\t [452600.0, 358500.0, 352100.0, 341300.0]\n"
          ]
        }
      ]
    },
    {
      "cell_type": "code",
      "source": [],
      "metadata": {
        "id": "mHgtlnxSyVqg"
      },
      "execution_count": null,
      "outputs": []
    }
  ]
}