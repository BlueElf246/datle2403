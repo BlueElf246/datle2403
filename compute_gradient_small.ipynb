{
  "nbformat": 4,
  "nbformat_minor": 0,
  "metadata": {
    "colab": {
      "provenance": [],
      "authorship_tag": "ABX9TyNJUv5IXDKSHjenpuv9OCpY",
      "include_colab_link": true
    },
    "kernelspec": {
      "name": "python3",
      "display_name": "Python 3"
    },
    "language_info": {
      "name": "python"
    }
  },
  "cells": [
    {
      "cell_type": "markdown",
      "metadata": {
        "id": "view-in-github",
        "colab_type": "text"
      },
      "source": [
        "<a href=\"https://colab.research.google.com/github/datle2403/datle2403/blob/main/compute_gradient_small.ipynb\" target=\"_parent\"><img src=\"https://colab.research.google.com/assets/colab-badge.svg\" alt=\"Open In Colab\"/></a>"
      ]
    },
    {
      "cell_type": "code",
      "execution_count": 21,
      "metadata": {
        "id": "fehDSRj3hv3x"
      },
      "outputs": [],
      "source": [
        "import math\n",
        "\n",
        "def sigmoid(x):\n",
        "  return 1 / (1 + math.exp(-x))\n",
        "def prime(x):\n",
        "  return sigmoid(x)*(1-sigmoid(x))"
      ]
    },
    {
      "cell_type": "code",
      "source": [
        "\n",
        "\n",
        "b1,w1,b2,w2,x,y=2,5,1,7,1,0"
      ],
      "metadata": {
        "id": "0Km_g_nLkEjd"
      },
      "execution_count": 28,
      "outputs": []
    },
    {
      "cell_type": "code",
      "source": [
        "def feedfoward(x,y):\n",
        "  z1=w1*x+b1\n",
        "  a1=sigmoid(z1)\n",
        "  z2=a1*w2+b2\n",
        "  a2=sigmoid(z2)\n",
        "  L=(y-a2)**2\n",
        "  return z1,a1,z2,a2,L\n",
        "z1,a1,z2,a2,L=feedfoward(1,0)\n",
        "print(L)"
      ],
      "metadata": {
        "colab": {
          "base_uri": "https://localhost:8080/"
        },
        "id": "Wzeq0DEyh7qd",
        "outputId": "f26c838e-a122-43db-d248-309e49501e6c"
      },
      "execution_count": 29,
      "outputs": [
        {
          "output_type": "stream",
          "name": "stdout",
          "text": [
            "0.9993251241261643\n"
          ]
        }
      ]
    },
    {
      "cell_type": "code",
      "source": [
        "def backward(z1,a1,z2,a2,L,x,y):\n",
        "  d_L_a2=-2*(y-a2)\n",
        "  d_a2_z2=prime(z2)\n",
        "  d_z2_a1=w2\n",
        "  d_a1_z1=prime(z1)\n",
        "  d_z1_w1=x\n",
        "  d_z2_w2=a1\n",
        "  d_z1_b1=1\n",
        "  d_z2_b2=1\n",
        "  d_L_w1=d_L_a2 * d_a2_z2 *d_z2_a1*d_a1_z1*d_z1_w1\n",
        "  d_L_w2=d_L_a2 * d_a2_z2 *d_z2_w2\n",
        "  d_L_b1=d_L_a2 * d_a2_z2 *d_z2_a1*d_a1_z1*d_z1_b1\n",
        "  d_L_b2=d_L_a2 * d_a2_z2 *d_z2_b2\n",
        "  return d_L_b1, d_L_w1, d_L_b2, d_L_w2\n",
        "backward(z1,a1,z2,a2,L,x,y)"
      ],
      "metadata": {
        "colab": {
          "base_uri": "https://localhost:8080/"
        },
        "id": "AhDEPPi9k3C0",
        "outputId": "e1e4cf90-608b-4a69-ed9f-06641a0fb31b"
      },
      "execution_count": 30,
      "outputs": [
        {
          "output_type": "execute_result",
          "data": {
            "text/plain": [
              "(4.2978274785397325e-06,\n",
              " 4.2978274785397325e-06,\n",
              " 0.0006745342423200449,\n",
              " 0.0006739197070929151)"
            ]
          },
          "metadata": {},
          "execution_count": 30
        }
      ]
    },
    {
      "cell_type": "code",
      "source": [],
      "metadata": {
        "id": "SN-eEYDAoW6-"
      },
      "execution_count": 19,
      "outputs": []
    }
  ]
}